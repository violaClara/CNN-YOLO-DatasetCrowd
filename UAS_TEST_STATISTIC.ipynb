{
  "nbformat": 4,
  "nbformat_minor": 0,
  "metadata": {
    "colab": {
      "provenance": []
    },
    "kernelspec": {
      "name": "python3",
      "display_name": "Python 3"
    },
    "language_info": {
      "name": "python"
    }
  },
  "cells": [
    {
      "cell_type": "markdown",
      "source": [
        "#Download Files in: https://drive.google.com/drive/u/0/folders/1Jd2ri1rkF1wt9lkkUQevO2t5irfnqh4z"
      ],
      "metadata": {
        "id": "CXslHcvfe24o"
      }
    },
    {
      "cell_type": "markdown",
      "source": [
        "#kelompok 1 UAS VISKOM"
      ],
      "metadata": {
        "id": "_TDJAWCCfS6b"
      }
    },
    {
      "cell_type": "code",
      "source": [
        "# Install the Ultralytics library using pip\n",
        "!pip install ultralytics"
      ],
      "metadata": {
        "colab": {
          "base_uri": "https://localhost:8080/"
        },
        "collapsed": true,
        "id": "-GpCcFth_q2p",
        "outputId": "1fa7ab40-6696-409d-ae6b-b8796af928d1"
      },
      "execution_count": null,
      "outputs": [
        {
          "output_type": "stream",
          "name": "stdout",
          "text": [
            "Collecting ultralytics\n",
            "  Downloading ultralytics-8.2.50-py3-none-any.whl (799 kB)\n",
            "\u001b[2K     \u001b[90m━━━━━━━━━━━━━━━━━━━━━━━━━━━━━━━━━━━━━━━━\u001b[0m \u001b[32m799.4/799.4 kB\u001b[0m \u001b[31m3.8 MB/s\u001b[0m eta \u001b[36m0:00:00\u001b[0m\n",
            "\u001b[?25hRequirement already satisfied: numpy<2.0.0,>=1.23.0 in /usr/local/lib/python3.10/dist-packages (from ultralytics) (1.25.2)\n",
            "Requirement already satisfied: matplotlib>=3.3.0 in /usr/local/lib/python3.10/dist-packages (from ultralytics) (3.7.1)\n",
            "Requirement already satisfied: opencv-python>=4.6.0 in /usr/local/lib/python3.10/dist-packages (from ultralytics) (4.8.0.76)\n",
            "Requirement already satisfied: pillow>=7.1.2 in /usr/local/lib/python3.10/dist-packages (from ultralytics) (9.4.0)\n",
            "Requirement already satisfied: pyyaml>=5.3.1 in /usr/local/lib/python3.10/dist-packages (from ultralytics) (6.0.1)\n",
            "Requirement already satisfied: requests>=2.23.0 in /usr/local/lib/python3.10/dist-packages (from ultralytics) (2.31.0)\n",
            "Requirement already satisfied: scipy>=1.4.1 in /usr/local/lib/python3.10/dist-packages (from ultralytics) (1.11.4)\n",
            "Requirement already satisfied: torch>=1.8.0 in /usr/local/lib/python3.10/dist-packages (from ultralytics) (2.3.0+cu121)\n",
            "Requirement already satisfied: torchvision>=0.9.0 in /usr/local/lib/python3.10/dist-packages (from ultralytics) (0.18.0+cu121)\n",
            "Requirement already satisfied: tqdm>=4.64.0 in /usr/local/lib/python3.10/dist-packages (from ultralytics) (4.66.4)\n",
            "Requirement already satisfied: psutil in /usr/local/lib/python3.10/dist-packages (from ultralytics) (5.9.5)\n",
            "Requirement already satisfied: py-cpuinfo in /usr/local/lib/python3.10/dist-packages (from ultralytics) (9.0.0)\n",
            "Requirement already satisfied: pandas>=1.1.4 in /usr/local/lib/python3.10/dist-packages (from ultralytics) (2.0.3)\n",
            "Requirement already satisfied: seaborn>=0.11.0 in /usr/local/lib/python3.10/dist-packages (from ultralytics) (0.13.1)\n",
            "Collecting ultralytics-thop>=2.0.0 (from ultralytics)\n",
            "  Downloading ultralytics_thop-2.0.0-py3-none-any.whl (25 kB)\n",
            "Requirement already satisfied: contourpy>=1.0.1 in /usr/local/lib/python3.10/dist-packages (from matplotlib>=3.3.0->ultralytics) (1.2.1)\n",
            "Requirement already satisfied: cycler>=0.10 in /usr/local/lib/python3.10/dist-packages (from matplotlib>=3.3.0->ultralytics) (0.12.1)\n",
            "Requirement already satisfied: fonttools>=4.22.0 in /usr/local/lib/python3.10/dist-packages (from matplotlib>=3.3.0->ultralytics) (4.53.0)\n",
            "Requirement already satisfied: kiwisolver>=1.0.1 in /usr/local/lib/python3.10/dist-packages (from matplotlib>=3.3.0->ultralytics) (1.4.5)\n",
            "Requirement already satisfied: packaging>=20.0 in /usr/local/lib/python3.10/dist-packages (from matplotlib>=3.3.0->ultralytics) (24.1)\n",
            "Requirement already satisfied: pyparsing>=2.3.1 in /usr/local/lib/python3.10/dist-packages (from matplotlib>=3.3.0->ultralytics) (3.1.2)\n",
            "Requirement already satisfied: python-dateutil>=2.7 in /usr/local/lib/python3.10/dist-packages (from matplotlib>=3.3.0->ultralytics) (2.8.2)\n",
            "Requirement already satisfied: pytz>=2020.1 in /usr/local/lib/python3.10/dist-packages (from pandas>=1.1.4->ultralytics) (2023.4)\n",
            "Requirement already satisfied: tzdata>=2022.1 in /usr/local/lib/python3.10/dist-packages (from pandas>=1.1.4->ultralytics) (2024.1)\n",
            "Requirement already satisfied: charset-normalizer<4,>=2 in /usr/local/lib/python3.10/dist-packages (from requests>=2.23.0->ultralytics) (3.3.2)\n",
            "Requirement already satisfied: idna<4,>=2.5 in /usr/local/lib/python3.10/dist-packages (from requests>=2.23.0->ultralytics) (3.7)\n",
            "Requirement already satisfied: urllib3<3,>=1.21.1 in /usr/local/lib/python3.10/dist-packages (from requests>=2.23.0->ultralytics) (2.0.7)\n",
            "Requirement already satisfied: certifi>=2017.4.17 in /usr/local/lib/python3.10/dist-packages (from requests>=2.23.0->ultralytics) (2024.6.2)\n",
            "Requirement already satisfied: filelock in /usr/local/lib/python3.10/dist-packages (from torch>=1.8.0->ultralytics) (3.15.4)\n",
            "Requirement already satisfied: typing-extensions>=4.8.0 in /usr/local/lib/python3.10/dist-packages (from torch>=1.8.0->ultralytics) (4.12.2)\n",
            "Requirement already satisfied: sympy in /usr/local/lib/python3.10/dist-packages (from torch>=1.8.0->ultralytics) (1.12.1)\n",
            "Requirement already satisfied: networkx in /usr/local/lib/python3.10/dist-packages (from torch>=1.8.0->ultralytics) (3.3)\n",
            "Requirement already satisfied: jinja2 in /usr/local/lib/python3.10/dist-packages (from torch>=1.8.0->ultralytics) (3.1.4)\n",
            "Requirement already satisfied: fsspec in /usr/local/lib/python3.10/dist-packages (from torch>=1.8.0->ultralytics) (2023.6.0)\n",
            "Collecting nvidia-cuda-nvrtc-cu12==12.1.105 (from torch>=1.8.0->ultralytics)\n",
            "  Using cached nvidia_cuda_nvrtc_cu12-12.1.105-py3-none-manylinux1_x86_64.whl (23.7 MB)\n",
            "Collecting nvidia-cuda-runtime-cu12==12.1.105 (from torch>=1.8.0->ultralytics)\n",
            "  Using cached nvidia_cuda_runtime_cu12-12.1.105-py3-none-manylinux1_x86_64.whl (823 kB)\n",
            "Collecting nvidia-cuda-cupti-cu12==12.1.105 (from torch>=1.8.0->ultralytics)\n",
            "  Using cached nvidia_cuda_cupti_cu12-12.1.105-py3-none-manylinux1_x86_64.whl (14.1 MB)\n",
            "Collecting nvidia-cudnn-cu12==8.9.2.26 (from torch>=1.8.0->ultralytics)\n",
            "  Using cached nvidia_cudnn_cu12-8.9.2.26-py3-none-manylinux1_x86_64.whl (731.7 MB)\n",
            "Collecting nvidia-cublas-cu12==12.1.3.1 (from torch>=1.8.0->ultralytics)\n",
            "  Using cached nvidia_cublas_cu12-12.1.3.1-py3-none-manylinux1_x86_64.whl (410.6 MB)\n",
            "Collecting nvidia-cufft-cu12==11.0.2.54 (from torch>=1.8.0->ultralytics)\n",
            "  Using cached nvidia_cufft_cu12-11.0.2.54-py3-none-manylinux1_x86_64.whl (121.6 MB)\n",
            "Collecting nvidia-curand-cu12==10.3.2.106 (from torch>=1.8.0->ultralytics)\n",
            "  Using cached nvidia_curand_cu12-10.3.2.106-py3-none-manylinux1_x86_64.whl (56.5 MB)\n",
            "Collecting nvidia-cusolver-cu12==11.4.5.107 (from torch>=1.8.0->ultralytics)\n",
            "  Using cached nvidia_cusolver_cu12-11.4.5.107-py3-none-manylinux1_x86_64.whl (124.2 MB)\n",
            "Collecting nvidia-cusparse-cu12==12.1.0.106 (from torch>=1.8.0->ultralytics)\n",
            "  Using cached nvidia_cusparse_cu12-12.1.0.106-py3-none-manylinux1_x86_64.whl (196.0 MB)\n",
            "Collecting nvidia-nccl-cu12==2.20.5 (from torch>=1.8.0->ultralytics)\n",
            "  Using cached nvidia_nccl_cu12-2.20.5-py3-none-manylinux2014_x86_64.whl (176.2 MB)\n",
            "Collecting nvidia-nvtx-cu12==12.1.105 (from torch>=1.8.0->ultralytics)\n",
            "  Using cached nvidia_nvtx_cu12-12.1.105-py3-none-manylinux1_x86_64.whl (99 kB)\n",
            "Requirement already satisfied: triton==2.3.0 in /usr/local/lib/python3.10/dist-packages (from torch>=1.8.0->ultralytics) (2.3.0)\n",
            "Collecting nvidia-nvjitlink-cu12 (from nvidia-cusolver-cu12==11.4.5.107->torch>=1.8.0->ultralytics)\n",
            "  Downloading nvidia_nvjitlink_cu12-12.5.82-py3-none-manylinux2014_x86_64.whl (21.3 MB)\n",
            "\u001b[2K     \u001b[90m━━━━━━━━━━━━━━━━━━━━━━━━━━━━━━━━━━━━━━━━\u001b[0m \u001b[32m21.3/21.3 MB\u001b[0m \u001b[31m29.4 MB/s\u001b[0m eta \u001b[36m0:00:00\u001b[0m\n",
            "\u001b[?25hRequirement already satisfied: six>=1.5 in /usr/local/lib/python3.10/dist-packages (from python-dateutil>=2.7->matplotlib>=3.3.0->ultralytics) (1.16.0)\n",
            "Requirement already satisfied: MarkupSafe>=2.0 in /usr/local/lib/python3.10/dist-packages (from jinja2->torch>=1.8.0->ultralytics) (2.1.5)\n",
            "Requirement already satisfied: mpmath<1.4.0,>=1.1.0 in /usr/local/lib/python3.10/dist-packages (from sympy->torch>=1.8.0->ultralytics) (1.3.0)\n",
            "Installing collected packages: nvidia-nvtx-cu12, nvidia-nvjitlink-cu12, nvidia-nccl-cu12, nvidia-curand-cu12, nvidia-cufft-cu12, nvidia-cuda-runtime-cu12, nvidia-cuda-nvrtc-cu12, nvidia-cuda-cupti-cu12, nvidia-cublas-cu12, nvidia-cusparse-cu12, nvidia-cudnn-cu12, nvidia-cusolver-cu12, ultralytics-thop, ultralytics\n",
            "Successfully installed nvidia-cublas-cu12-12.1.3.1 nvidia-cuda-cupti-cu12-12.1.105 nvidia-cuda-nvrtc-cu12-12.1.105 nvidia-cuda-runtime-cu12-12.1.105 nvidia-cudnn-cu12-8.9.2.26 nvidia-cufft-cu12-11.0.2.54 nvidia-curand-cu12-10.3.2.106 nvidia-cusolver-cu12-11.4.5.107 nvidia-cusparse-cu12-12.1.0.106 nvidia-nccl-cu12-2.20.5 nvidia-nvjitlink-cu12-12.5.82 nvidia-nvtx-cu12-12.1.105 ultralytics-8.2.50 ultralytics-thop-2.0.0\n"
          ]
        }
      ]
    },
    {
      "cell_type": "code",
      "source": [
        "import cv2\n",
        "from PIL import Image\n",
        "\n",
        "from ultralytics import YOLO"
      ],
      "metadata": {
        "id": "bWdgXSY6-xo-"
      },
      "execution_count": null,
      "outputs": []
    },
    {
      "cell_type": "markdown",
      "source": [
        "#MODEL - Download in Drive Kelompok1"
      ],
      "metadata": {
        "id": "cpF6zcHUk2p-"
      }
    },
    {
      "cell_type": "code",
      "source": [
        "model1 = YOLO(\"best.pt\")\n",
        "model1.classes = [0]\n",
        "model2 = YOLO(\"best_model2.pt\")\n",
        "model2.classes = [0]\n",
        "model3= YOLO(\"yolov8n.pt\")\n",
        "model3.classes = [0]"
      ],
      "metadata": {
        "id": "SsXcxb3F-0V7"
      },
      "execution_count": null,
      "outputs": []
    },
    {
      "cell_type": "markdown",
      "source": [
        "#Get Data Test"
      ],
      "metadata": {
        "id": "vMHh20SBdKvK"
      }
    },
    {
      "cell_type": "code",
      "source": [
        "!git clone https://github.com/violaClara/CNN-YOLO-DatasetCrowd.git"
      ],
      "metadata": {
        "colab": {
          "base_uri": "https://localhost:8080/"
        },
        "id": "ROId04i0dKLi",
        "outputId": "6e470a2d-4d9a-43f3-cb97-3bbc03d50a4d"
      },
      "execution_count": null,
      "outputs": [
        {
          "output_type": "stream",
          "name": "stdout",
          "text": [
            "Cloning into 'CNN-YOLO-DatasetCrowd'...\n",
            "remote: Enumerating objects: 9107, done.\u001b[K\n",
            "remote: Counting objects: 100% (1442/1442), done.\u001b[K\n",
            "remote: Compressing objects: 100% (1357/1357), done.\u001b[K\n",
            "remote: Total 9107 (delta 5), reused 1434 (delta 1), pack-reused 7665\u001b[K\n",
            "Receiving objects: 100% (9107/9107), 638.99 MiB | 29.71 MiB/s, done.\n",
            "Resolving deltas: 100% (41/41), done.\n",
            "Updating files: 100% (9978/9978), done.\n"
          ]
        }
      ]
    },
    {
      "cell_type": "markdown",
      "source": [
        "#Evaluate Model (Test Bunch)"
      ],
      "metadata": {
        "id": "IF_Kq6kLWgUE"
      }
    },
    {
      "cell_type": "code",
      "source": [
        "# Evaluate the model on the test set\n",
        "data_evaluate='/content/CNN-YOLO-DatasetCrowd/data.yaml'\n",
        "metrics1 = model1.val(data=data_evaluate, split='test')\n",
        "metrics2 = model2.val(data=data_evaluate, split='test')\n",
        "metrics3 = model3.val(data=data_evaluate, split='test')"
      ],
      "metadata": {
        "colab": {
          "base_uri": "https://localhost:8080/"
        },
        "id": "S6FvmhUIWfEo",
        "outputId": "214f66b7-5c7d-46dc-92ed-8ebfc4ed7d89"
      },
      "execution_count": null,
      "outputs": [
        {
          "output_type": "stream",
          "name": "stdout",
          "text": [
            "Ultralytics YOLOv8.2.49 🚀 Python-3.10.12 torch-2.3.0+cu121 CPU (Intel Xeon 2.20GHz)\n",
            "Downloading https://ultralytics.com/assets/Arial.ttf to '/root/.config/Ultralytics/Arial.ttf'...\n"
          ]
        },
        {
          "output_type": "stream",
          "name": "stderr",
          "text": [
            "100%|██████████| 755k/755k [00:00<00:00, 31.4MB/s]\n",
            "\u001b[34m\u001b[1mval: \u001b[0mScanning /content/CNN-YOLO-DatasetCrowd/test/labels... 436 images, 0 backgrounds, 0 corrupt: 100%|██████████| 436/436 [00:00<00:00, 790.09it/s]"
          ]
        },
        {
          "output_type": "stream",
          "name": "stdout",
          "text": [
            "\u001b[34m\u001b[1mval: \u001b[0mWARNING ⚠️ /content/CNN-YOLO-DatasetCrowd/test/images/img_1248_jpg.rf.677fef2882f44d48c56a07162cb85175.jpg: 1 duplicate labels removed\n",
            "\u001b[34m\u001b[1mval: \u001b[0mWARNING ⚠️ /content/CNN-YOLO-DatasetCrowd/test/images/img_529_jpg.rf.8622c1a359153857b6936bd8dafe5bac.jpg: 1 duplicate labels removed\n",
            "\u001b[34m\u001b[1mval: \u001b[0mNew cache created: /content/CNN-YOLO-DatasetCrowd/test/labels.cache\n"
          ]
        },
        {
          "output_type": "stream",
          "name": "stderr",
          "text": [
            "\n",
            "                 Class     Images  Instances      Box(P          R      mAP50  mAP50-95): 100%|██████████| 28/28 [03:22<00:00,  7.24s/it]\n"
          ]
        },
        {
          "output_type": "stream",
          "name": "stdout",
          "text": [
            "                   all        436      72247     0.0165    0.00407     0.0132    0.00732\n",
            "Speed: 14.0ms preprocess, 403.7ms inference, 0.0ms loss, 6.9ms postprocess per image\n",
            "Results saved to \u001b[1mruns/detect/val\u001b[0m\n",
            "Ultralytics YOLOv8.2.49 🚀 Python-3.10.12 torch-2.3.0+cu121 CPU (Intel Xeon 2.20GHz)\n"
          ]
        },
        {
          "output_type": "stream",
          "name": "stderr",
          "text": [
            "\u001b[34m\u001b[1mval: \u001b[0mScanning /content/CNN-YOLO-DatasetCrowd/test/labels.cache... 436 images, 0 backgrounds, 0 corrupt: 100%|██████████| 436/436 [00:00<?, ?it/s]"
          ]
        },
        {
          "output_type": "stream",
          "name": "stdout",
          "text": [
            "\u001b[34m\u001b[1mval: \u001b[0mWARNING ⚠️ /content/CNN-YOLO-DatasetCrowd/test/images/img_1248_jpg.rf.677fef2882f44d48c56a07162cb85175.jpg: 1 duplicate labels removed\n",
            "\u001b[34m\u001b[1mval: \u001b[0mWARNING ⚠️ /content/CNN-YOLO-DatasetCrowd/test/images/img_529_jpg.rf.8622c1a359153857b6936bd8dafe5bac.jpg: 1 duplicate labels removed\n"
          ]
        },
        {
          "output_type": "stream",
          "name": "stderr",
          "text": [
            "\n",
            "                 Class     Images  Instances      Box(P          R      mAP50  mAP50-95):  14%|█▍        | 4/28 [00:55<06:02, 15.12s/it]"
          ]
        },
        {
          "output_type": "stream",
          "name": "stdout",
          "text": [
            "WARNING ⚠️ NMS time limit 2.800s exceeded\n"
          ]
        },
        {
          "output_type": "stream",
          "name": "stderr",
          "text": [
            "\r                 Class     Images  Instances      Box(P          R      mAP50  mAP50-95):  18%|█▊        | 5/28 [01:18<06:55, 18.07s/it]"
          ]
        },
        {
          "output_type": "stream",
          "name": "stdout",
          "text": [
            "WARNING ⚠️ NMS time limit 2.800s exceeded\n"
          ]
        },
        {
          "output_type": "stream",
          "name": "stderr",
          "text": [
            "                 Class     Images  Instances      Box(P          R      mAP50  mAP50-95): 100%|██████████| 28/28 [03:02<00:00,  6.51s/it]\n"
          ]
        },
        {
          "output_type": "stream",
          "name": "stdout",
          "text": [
            "                   all        436      72247      0.527      0.321      0.374      0.143\n",
            "Speed: 7.8ms preprocess, 277.3ms inference, 0.0ms loss, 43.2ms postprocess per image\n",
            "Results saved to \u001b[1mruns/detect/val2\u001b[0m\n",
            "Ultralytics YOLOv8.2.49 🚀 Python-3.10.12 torch-2.3.0+cu121 CPU (Intel Xeon 2.20GHz)\n"
          ]
        },
        {
          "output_type": "stream",
          "name": "stderr",
          "text": [
            "\u001b[34m\u001b[1mval: \u001b[0mScanning /content/CNN-YOLO-DatasetCrowd/test/labels.cache... 436 images, 0 backgrounds, 0 corrupt: 100%|██████████| 436/436 [00:00<?, ?it/s]"
          ]
        },
        {
          "output_type": "stream",
          "name": "stdout",
          "text": [
            "\u001b[34m\u001b[1mval: \u001b[0mWARNING ⚠️ /content/CNN-YOLO-DatasetCrowd/test/images/img_1248_jpg.rf.677fef2882f44d48c56a07162cb85175.jpg: 1 duplicate labels removed\n",
            "\u001b[34m\u001b[1mval: \u001b[0mWARNING ⚠️ /content/CNN-YOLO-DatasetCrowd/test/images/img_529_jpg.rf.8622c1a359153857b6936bd8dafe5bac.jpg: 1 duplicate labels removed\n"
          ]
        },
        {
          "output_type": "stream",
          "name": "stderr",
          "text": [
            "\n",
            "                 Class     Images  Instances      Box(P          R      mAP50  mAP50-95): 100%|██████████| 28/28 [03:58<00:00,  8.52s/it]\n"
          ]
        },
        {
          "output_type": "stream",
          "name": "stdout",
          "text": [
            "                   all        436      72247     0.0549     0.0379     0.0334     0.0143\n",
            "                person        436      72247     0.0549     0.0379     0.0334     0.0143\n",
            "Speed: 11.6ms preprocess, 455.5ms inference, 0.0ms loss, 20.9ms postprocess per image\n",
            "Results saved to \u001b[1mruns/detect/val3\u001b[0m\n"
          ]
        }
      ]
    },
    {
      "cell_type": "code",
      "source": [
        "import matplotlib.pyplot as plt\n",
        "# Membaca gambar\n",
        "precision_1 = cv2.imread('/content/CNN-YOLO-DatasetCrowd/Evaluation/Val1/P_curve.png')\n",
        "precision_2 = cv2.imread('/content/CNN-YOLO-DatasetCrowd/Evaluation/Val2/P_curve.png')\n",
        "precision_3 = cv2.imread('/content/CNN-YOLO-DatasetCrowd/Evaluation/Val3/P_curve.png')\n",
        "\n",
        "# Membuat figure dan axis untuk tiga gambar\n",
        "fig, axs = plt.subplots(1, 3, figsize=(18, 6))\n",
        "\n",
        "# Menampilkan gambar pertama\n",
        "axs[0].imshow(cv2.cvtColor(precision_1, cv2.COLOR_BGR2RGB))\n",
        "axs[0].axis('off')\n",
        "axs[0].set_title('Precision Model 1')\n",
        "\n",
        "# Menampilkan gambar kedua\n",
        "axs[1].imshow(cv2.cvtColor(precision_2, cv2.COLOR_BGR2RGB))\n",
        "axs[1].axis('off')\n",
        "axs[1].set_title('Precision Model 2')\n",
        "\n",
        "# Menampilkan gambar ketiga\n",
        "axs[2].imshow(cv2.cvtColor(precision_3, cv2.COLOR_BGR2RGB))\n",
        "axs[2].axis('off')\n",
        "axs[2].set_title('Precision Model 3')\n",
        "\n",
        "# Menampilkan figure\n",
        "plt.show()\n",
        "\n",
        "\n"
      ],
      "metadata": {
        "id": "Rhj2Fn9jdcld",
        "colab": {
          "base_uri": "https://localhost:8080/",
          "height": 225
        },
        "outputId": "17b76f97-4c28-4426-be9f-2a9cc397c109"
      },
      "execution_count": null,
      "outputs": [
        {
          "output_type": "display_data",
          "data": {
            "text/plain": [
              "<Figure size 1800x600 with 3 Axes>"
            ],
            "image/png": "[encoded data removed]"
          },
          "metadata": {}
        }
      ]
    },
    {
      "cell_type": "markdown",
      "source": [
        "#TEST SINGLE IMAGE"
      ],
      "metadata": {
        "id": "dXl8xhhK_MWt"
      }
    },
    {
      "cell_type": "code",
      "execution_count": null,
      "metadata": {
        "colab": {
          "base_uri": "https://localhost:8080/"
        },
        "id": "lxJUiCKS49o8",
        "outputId": "392ed001-5284-49a5-a6c7-361a519d3b72"
      },
      "outputs": [
        {
          "output_type": "stream",
          "name": "stdout",
          "text": [
            "\n",
            "0: 480x640 11 persons, 208.5ms\n",
            "Speed: 7.0ms preprocess, 208.5ms inference, 1.6ms postprocess per image at shape (1, 3, 480, 640)\n",
            "Results saved to \u001b[1mruns/detect/predict4\u001b[0m\n",
            "1 label saved to runs/detect/predict4/labels\n",
            "\n",
            "0: 384x512 11 0s, 125.9ms\n",
            "Speed: 2.8ms preprocess, 125.9ms inference, 1.1ms postprocess per image at shape (1, 3, 384, 512)\n",
            "Results saved to \u001b[1mruns/detect/predict5\u001b[0m\n",
            "1 label saved to runs/detect/predict5/labels\n",
            "\n",
            "0: 480x640 11 persons, 184.3ms\n",
            "Speed: 4.0ms preprocess, 184.3ms inference, 1.9ms postprocess per image at shape (1, 3, 480, 640)\n",
            "Results saved to \u001b[1mruns/detect/predict6\u001b[0m\n",
            "1 label saved to runs/detect/predict6/labels\n"
          ]
        }
      ],
      "source": [
        "#\n",
        "im2 = cv2.imread(\"camera_img.jpg\")\n",
        "results1 = model1.predict(source=im2, save=True, save_txt=True, classes=0)  # save predictions as labels\n",
        "results2 = model2.predict(source=im2, save=True, save_txt=True,  classes=0)  # save predictions as labels\n",
        "results3 = model3.predict(source=im2, save=True, save_txt=True,  classes=0)  # save predictions as labels"
      ]
    },
    {
      "cell_type": "code",
      "source": [
        "import matplotlib.pyplot as plt\n",
        "\n",
        "# Path ke gambar yang disimpan\n",
        "image_path1 = 'runs/detect/predict/image0.jpg'\n",
        "# Path ke gambar yang disimpan\n",
        "image_path2 = 'runs/detect/predict2/image0.jpg'\n",
        "# Path ke gambar yang disimpan\n",
        "image_path3 = 'runs/detect/predict3/image0.jpg'\n",
        "\n",
        "# Path ke file txt yang berisi deteksi\n",
        "txt_path1 = 'runs/detect/predict/labels/image0.txt'\n",
        "txt_path2 = 'runs/detect/predict2/labels/image0.txt'\n",
        "txt_path3 = 'runs/detect/predict3/labels/image0.txt'\n",
        "\n",
        "# Membaca gambar\n",
        "image1 = cv2.imread(image_path1)\n",
        "image2 = cv2.imread(image_path2)\n",
        "image3 = cv2.imread(image_path3)\n",
        "\n",
        "def count_person_detections(txt_path):\n",
        "    count = 0\n",
        "    with open(txt_path, 'r') as file:\n",
        "        lines = file.readlines()\n",
        "        for line in lines:\n",
        "            class_id = int(line.split()[0])\n",
        "            if class_id == 0:  # Assuming class_id 0 is for \"person\"\n",
        "                count += 1\n",
        "    return count\n",
        "\n",
        "# Menghitung jumlah orang yang terdeteksi\n",
        "count1 = count_person_detections(txt_path1)\n",
        "count2 = count_person_detections(txt_path2)\n",
        "count3 = count_person_detections(txt_path3)\n",
        "\n",
        "# Membuat figure dan axis untuk tiga gambar\n",
        "fig, axs = plt.subplots(1, 3, figsize=(18, 6))\n",
        "\n",
        "# Menampilkan gambar pertama\n",
        "axs[0].imshow(cv2.cvtColor(image1, cv2.COLOR_BGR2RGB))\n",
        "axs[0].axis('off')\n",
        "axs[0].set_title(f'Image 1 - Detected People: {count1}')\n",
        "\n",
        "# Menampilkan gambar kedua\n",
        "axs[1].imshow(cv2.cvtColor(image2, cv2.COLOR_BGR2RGB))\n",
        "axs[1].axis('off')\n",
        "axs[1].set_title(f'Image 2 - Detected People: {count2}')\n",
        "\n",
        "# Menampilkan gambar ketiga\n",
        "axs[2].imshow(cv2.cvtColor(image3, cv2.COLOR_BGR2RGB))\n",
        "axs[2].axis('off')\n",
        "axs[2].set_title(f'Image 3 - Detected People: {count3}')\n",
        "\n",
        "# Menampilkan figure\n",
        "plt.show()\n"
      ],
      "metadata": {
        "colab": {
          "base_uri": "https://localhost:8080/",
          "height": 332
        },
        "id": "0D3aFBBoAYoX",
        "outputId": "9a81c0c5-e994-4738-f27c-8197835858d8"
      },
      "execution_count": null,
      "outputs": [
        {
          "output_type": "error",
          "ename": "FileNotFoundError",
          "evalue": "[Errno 2] No such file or directory: 'runs/detect/predict/labels/image0.txt'",
          "traceback": [
            "\u001b[0;31m---------------------------------------------------------------------------\u001b[0m",
            "\u001b[0;31mFileNotFoundError\u001b[0m                         Traceback (most recent call last)",
            "\u001b[0;32m<ipython-input-40-fe5bc4e36a12>\u001b[0m in \u001b[0;36m<cell line: 31>\u001b[0;34m()\u001b[0m\n\u001b[1;32m     29\u001b[0m \u001b[0;34m\u001b[0m\u001b[0m\n\u001b[1;32m     30\u001b[0m \u001b[0;31m# Menghitung jumlah orang yang terdeteksi\u001b[0m\u001b[0;34m\u001b[0m\u001b[0;34m\u001b[0m\u001b[0m\n\u001b[0;32m---> 31\u001b[0;31m \u001b[0mcount1\u001b[0m \u001b[0;34m=\u001b[0m \u001b[0mcount_person_detections\u001b[0m\u001b[0;34m(\u001b[0m\u001b[0mtxt_path1\u001b[0m\u001b[0;34m)\u001b[0m\u001b[0;34m\u001b[0m\u001b[0;34m\u001b[0m\u001b[0m\n\u001b[0m\u001b[1;32m     32\u001b[0m \u001b[0mcount2\u001b[0m \u001b[0;34m=\u001b[0m \u001b[0mcount_person_detections\u001b[0m\u001b[0;34m(\u001b[0m\u001b[0mtxt_path2\u001b[0m\u001b[0;34m)\u001b[0m\u001b[0;34m\u001b[0m\u001b[0;34m\u001b[0m\u001b[0m\n\u001b[1;32m     33\u001b[0m \u001b[0mcount3\u001b[0m \u001b[0;34m=\u001b[0m \u001b[0mcount_person_detections\u001b[0m\u001b[0;34m(\u001b[0m\u001b[0mtxt_path3\u001b[0m\u001b[0;34m)\u001b[0m\u001b[0;34m\u001b[0m\u001b[0;34m\u001b[0m\u001b[0m\n",
            "\u001b[0;32m<ipython-input-40-fe5bc4e36a12>\u001b[0m in \u001b[0;36mcount_person_detections\u001b[0;34m(txt_path)\u001b[0m\n\u001b[1;32m     20\u001b[0m \u001b[0;32mdef\u001b[0m \u001b[0mcount_person_detections\u001b[0m\u001b[0;34m(\u001b[0m\u001b[0mtxt_path\u001b[0m\u001b[0;34m)\u001b[0m\u001b[0;34m:\u001b[0m\u001b[0;34m\u001b[0m\u001b[0;34m\u001b[0m\u001b[0m\n\u001b[1;32m     21\u001b[0m     \u001b[0mcount\u001b[0m \u001b[0;34m=\u001b[0m \u001b[0;36m0\u001b[0m\u001b[0;34m\u001b[0m\u001b[0;34m\u001b[0m\u001b[0m\n\u001b[0;32m---> 22\u001b[0;31m     \u001b[0;32mwith\u001b[0m \u001b[0mopen\u001b[0m\u001b[0;34m(\u001b[0m\u001b[0mtxt_path\u001b[0m\u001b[0;34m,\u001b[0m \u001b[0;34m'r'\u001b[0m\u001b[0;34m)\u001b[0m \u001b[0;32mas\u001b[0m \u001b[0mfile\u001b[0m\u001b[0;34m:\u001b[0m\u001b[0;34m\u001b[0m\u001b[0;34m\u001b[0m\u001b[0m\n\u001b[0m\u001b[1;32m     23\u001b[0m         \u001b[0mlines\u001b[0m \u001b[0;34m=\u001b[0m \u001b[0mfile\u001b[0m\u001b[0;34m.\u001b[0m\u001b[0mreadlines\u001b[0m\u001b[0;34m(\u001b[0m\u001b[0;34m)\u001b[0m\u001b[0;34m\u001b[0m\u001b[0;34m\u001b[0m\u001b[0m\n\u001b[1;32m     24\u001b[0m         \u001b[0;32mfor\u001b[0m \u001b[0mline\u001b[0m \u001b[0;32min\u001b[0m \u001b[0mlines\u001b[0m\u001b[0;34m:\u001b[0m\u001b[0;34m\u001b[0m\u001b[0;34m\u001b[0m\u001b[0m\n",
            "\u001b[0;31mFileNotFoundError\u001b[0m: [Errno 2] No such file or directory: 'runs/detect/predict/labels/image0.txt'"
          ]
        }
      ]
    },
    {
      "cell_type": "markdown",
      "source": [
        "#Execute this to try new image"
      ],
      "metadata": {
        "id": "KruhboGbPJmb"
      }
    },
    {
      "cell_type": "code",
      "source": [
        "import shutil\n",
        "\n",
        "folder_path = 'runs'\n",
        "shutil.rmtree(folder_path)"
      ],
      "metadata": {
        "id": "Deyrv9R5beP2"
      },
      "execution_count": null,
      "outputs": []
    }
  ]
}