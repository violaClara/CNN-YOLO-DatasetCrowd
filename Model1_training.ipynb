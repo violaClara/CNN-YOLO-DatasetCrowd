{
  "cells": [
    {
      "cell_type": "code",
      "execution_count": null,
      "metadata": {
        "colab": {
          "base_uri": "https://localhost:8080/"
        },
        "id": "-66t5wNC4DOM",
        "outputId": "385c88e8-6fc3-4c5f-d3b6-e443c998b625"
      },
      "outputs": [
        {
          "output_type": "stream",
          "name": "stdout",
          "text": [
            "Requirement already satisfied: pip in /usr/local/lib/python3.10/dist-packages (23.1.2)\n",
            "Collecting pip\n",
            "  Downloading pip-24.1.1-py3-none-any.whl (1.8 MB)\n",
            "\u001b[2K     \u001b[90m━━━━━━━━━━━━━━━━━━━━━━━━━━━━━━━━━━━━━━━━\u001b[0m \u001b[32m1.8/1.8 MB\u001b[0m \u001b[31m18.9 MB/s\u001b[0m eta \u001b[36m0:00:00\u001b[0m\n",
            "\u001b[?25hInstalling collected packages: pip\n",
            "  Attempting uninstall: pip\n",
            "    Found existing installation: pip 23.1.2\n",
            "    Uninstalling pip-23.1.2:\n",
            "      Successfully uninstalled pip-23.1.2\n",
            "Successfully installed pip-24.1.1\n"
          ]
        }
      ],
      "source": [
        "\n",
        "!pip install --upgrade pip"
      ]
    },
    {
      "cell_type": "code",
      "execution_count": null,
      "metadata": {
        "colab": {
          "base_uri": "https://localhost:8080/"
        },
        "id": "b3JAjq2Xcksg",
        "outputId": "eac377a0-2228-4a83-b904-b2e2e7b935eb"
      },
      "outputs": [
        {
          "output_type": "stream",
          "name": "stdout",
          "text": [
            "True\n"
          ]
        }
      ],
      "source": [
        "import torch\n",
        "print(torch.cuda.is_available())\n",
        "torch.cuda.empty_cache()"
      ]
    },
    {
      "cell_type": "code",
      "execution_count": null,
      "metadata": {
        "colab": {
          "base_uri": "https://localhost:8080/"
        },
        "id": "96yvi3tm4OFr",
        "outputId": "18f31507-1d7a-49a8-dc05-b1c6724b1370"
      },
      "outputs": [
        {
          "output_type": "stream",
          "name": "stdout",
          "text": [
            "Collecting ultralytics\n",
            "  Downloading ultralytics-8.2.49-py3-none-any.whl (796 kB)\n",
            "\u001b[?25l     \u001b[90m━━━━━━━━━━━━━━━━━━━━━━━━━━━━━━━━━━━━━━━━\u001b[0m \u001b[32m0.0/796.9 kB\u001b[0m \u001b[31m?\u001b[0m eta \u001b[36m-:--:--\u001b[0m\r\u001b[2K     \u001b[91m━━━━━━━\u001b[0m\u001b[91m╸\u001b[0m\u001b[90m━━━━━━━━━━━━━━━━━━━━━━━━━━━━━━━━\u001b[0m \u001b[32m153.6/796.9 kB\u001b[0m \u001b[31m4.6 MB/s\u001b[0m eta \u001b[36m0:00:01\u001b[0m\r\u001b[2K     \u001b[91m━━━━━━━━━━━━━━━━━━━━━\u001b[0m\u001b[91m╸\u001b[0m\u001b[90m━━━━━━━━━━━━━━━━━━\u001b[0m \u001b[32m430.1/796.9 kB\u001b[0m \u001b[31m6.1 MB/s\u001b[0m eta \u001b[36m0:00:01\u001b[0m\r\u001b[2K     \u001b[91m━━━━━━━━━━━━━━━━━━━━━━━━━━━━━━━━━━━━━━━\u001b[0m\u001b[91m╸\u001b[0m \u001b[32m788.5/796.9 kB\u001b[0m \u001b[31m7.6 MB/s\u001b[0m eta \u001b[36m0:00:01\u001b[0m\r\u001b[2K     \u001b[90m━━━━━━━━━━━━━━━━━━━━━━━━━━━━━━━━━━━━━━━━\u001b[0m \u001b[32m796.9/796.9 kB\u001b[0m \u001b[31m6.6 MB/s\u001b[0m eta \u001b[36m0:00:00\u001b[0m\n",
            "\u001b[?25hRequirement already satisfied: numpy<2.0.0,>=1.23.0 in /usr/local/lib/python3.10/dist-packages (from ultralytics) (1.25.2)\n",
            "Requirement already satisfied: matplotlib>=3.3.0 in /usr/local/lib/python3.10/dist-packages (from ultralytics) (3.7.1)\n",
            "Requirement already satisfied: opencv-python>=4.6.0 in /usr/local/lib/python3.10/dist-packages (from ultralytics) (4.8.0.76)\n",
            "Requirement already satisfied: pillow>=7.1.2 in /usr/local/lib/python3.10/dist-packages (from ultralytics) (9.4.0)\n",
            "Requirement already satisfied: pyyaml>=5.3.1 in /usr/local/lib/python3.10/dist-packages (from ultralytics) (6.0.1)\n",
            "Requirement already satisfied: requests>=2.23.0 in /usr/local/lib/python3.10/dist-packages (from ultralytics) (2.31.0)\n",
            "Requirement already satisfied: scipy>=1.4.1 in /usr/local/lib/python3.10/dist-packages (from ultralytics) (1.11.4)\n",
            "Requirement already satisfied: torch>=1.8.0 in /usr/local/lib/python3.10/dist-packages (from ultralytics) (2.3.0+cu121)\n",
            "Requirement already satisfied: torchvision>=0.9.0 in /usr/local/lib/python3.10/dist-packages (from ultralytics) (0.18.0+cu121)\n",
            "Requirement already satisfied: tqdm>=4.64.0 in /usr/local/lib/python3.10/dist-packages (from ultralytics) (4.66.4)\n",
            "Requirement already satisfied: psutil in /usr/local/lib/python3.10/dist-packages (from ultralytics) (5.9.5)\n",
            "Requirement already satisfied: py-cpuinfo in /usr/local/lib/python3.10/dist-packages (from ultralytics) (9.0.0)\n",
            "Requirement already satisfied: pandas>=1.1.4 in /usr/local/lib/python3.10/dist-packages (from ultralytics) (2.0.3)\n",
            "Requirement already satisfied: seaborn>=0.11.0 in /usr/local/lib/python3.10/dist-packages (from ultralytics) (0.13.1)\n",
            "Collecting ultralytics-thop>=2.0.0 (from ultralytics)\n",
            "  Downloading ultralytics_thop-2.0.0-py3-none-any.whl (25 kB)\n",
            "Requirement already satisfied: contourpy>=1.0.1 in /usr/local/lib/python3.10/dist-packages (from matplotlib>=3.3.0->ultralytics) (1.2.1)\n",
            "Requirement already satisfied: cycler>=0.10 in /usr/local/lib/python3.10/dist-packages (from matplotlib>=3.3.0->ultralytics) (0.12.1)\n",
            "Requirement already satisfied: fonttools>=4.22.0 in /usr/local/lib/python3.10/dist-packages (from matplotlib>=3.3.0->ultralytics) (4.53.0)\n",
            "Requirement already satisfied: kiwisolver>=1.0.1 in /usr/local/lib/python3.10/dist-packages (from matplotlib>=3.3.0->ultralytics) (1.4.5)\n",
            "Requirement already satisfied: packaging>=20.0 in /usr/local/lib/python3.10/dist-packages (from matplotlib>=3.3.0->ultralytics) (24.1)\n",
            "Requirement already satisfied: pyparsing>=2.3.1 in /usr/local/lib/python3.10/dist-packages (from matplotlib>=3.3.0->ultralytics) (3.1.2)\n",
            "Requirement already satisfied: python-dateutil>=2.7 in /usr/local/lib/python3.10/dist-packages (from matplotlib>=3.3.0->ultralytics) (2.8.2)\n",
            "Requirement already satisfied: pytz>=2020.1 in /usr/local/lib/python3.10/dist-packages (from pandas>=1.1.4->ultralytics) (2023.4)\n",
            "Requirement already satisfied: tzdata>=2022.1 in /usr/local/lib/python3.10/dist-packages (from pandas>=1.1.4->ultralytics) (2024.1)\n",
            "Requirement already satisfied: charset-normalizer<4,>=2 in /usr/local/lib/python3.10/dist-packages (from requests>=2.23.0->ultralytics) (3.3.2)\n",
            "Requirement already satisfied: idna<4,>=2.5 in /usr/local/lib/python3.10/dist-packages (from requests>=2.23.0->ultralytics) (3.7)\n",
            "Requirement already satisfied: urllib3<3,>=1.21.1 in /usr/local/lib/python3.10/dist-packages (from requests>=2.23.0->ultralytics) (2.0.7)\n",
            "Requirement already satisfied: certifi>=2017.4.17 in /usr/local/lib/python3.10/dist-packages (from requests>=2.23.0->ultralytics) (2024.6.2)\n",
            "Requirement already satisfied: filelock in /usr/local/lib/python3.10/dist-packages (from torch>=1.8.0->ultralytics) (3.15.4)\n",
            "Requirement already satisfied: typing-extensions>=4.8.0 in /usr/local/lib/python3.10/dist-packages (from torch>=1.8.0->ultralytics) (4.12.2)\n",
            "Requirement already satisfied: sympy in /usr/local/lib/python3.10/dist-packages (from torch>=1.8.0->ultralytics) (1.12.1)\n",
            "Requirement already satisfied: networkx in /usr/local/lib/python3.10/dist-packages (from torch>=1.8.0->ultralytics) (3.3)\n",
            "Requirement already satisfied: jinja2 in /usr/local/lib/python3.10/dist-packages (from torch>=1.8.0->ultralytics) (3.1.4)\n",
            "Requirement already satisfied: fsspec in /usr/local/lib/python3.10/dist-packages (from torch>=1.8.0->ultralytics) (2023.6.0)\n",
            "Collecting nvidia-cuda-nvrtc-cu12==12.1.105 (from torch>=1.8.0->ultralytics)\n",
            "  Using cached nvidia_cuda_nvrtc_cu12-12.1.105-py3-none-manylinux1_x86_64.whl (23.7 MB)\n",
            "Collecting nvidia-cuda-runtime-cu12==12.1.105 (from torch>=1.8.0->ultralytics)\n",
            "  Using cached nvidia_cuda_runtime_cu12-12.1.105-py3-none-manylinux1_x86_64.whl (823 kB)\n",
            "Collecting nvidia-cuda-cupti-cu12==12.1.105 (from torch>=1.8.0->ultralytics)\n",
            "  Using cached nvidia_cuda_cupti_cu12-12.1.105-py3-none-manylinux1_x86_64.whl (14.1 MB)\n",
            "Collecting nvidia-cudnn-cu12==8.9.2.26 (from torch>=1.8.0->ultralytics)\n",
            "  Using cached nvidia_cudnn_cu12-8.9.2.26-py3-none-manylinux1_x86_64.whl (731.7 MB)\n",
            "Collecting nvidia-cublas-cu12==12.1.3.1 (from torch>=1.8.0->ultralytics)\n",
            "  Using cached nvidia_cublas_cu12-12.1.3.1-py3-none-manylinux1_x86_64.whl (410.6 MB)\n",
            "Collecting nvidia-cufft-cu12==11.0.2.54 (from torch>=1.8.0->ultralytics)\n",
            "  Using cached nvidia_cufft_cu12-11.0.2.54-py3-none-manylinux1_x86_64.whl (121.6 MB)\n",
            "Collecting nvidia-curand-cu12==10.3.2.106 (from torch>=1.8.0->ultralytics)\n",
            "  Using cached nvidia_curand_cu12-10.3.2.106-py3-none-manylinux1_x86_64.whl (56.5 MB)\n",
            "Collecting nvidia-cusolver-cu12==11.4.5.107 (from torch>=1.8.0->ultralytics)\n",
            "  Using cached nvidia_cusolver_cu12-11.4.5.107-py3-none-manylinux1_x86_64.whl (124.2 MB)\n",
            "Collecting nvidia-cusparse-cu12==12.1.0.106 (from torch>=1.8.0->ultralytics)\n",
            "  Using cached nvidia_cusparse_cu12-12.1.0.106-py3-none-manylinux1_x86_64.whl (196.0 MB)\n",
            "Collecting nvidia-nccl-cu12==2.20.5 (from torch>=1.8.0->ultralytics)\n",
            "  Using cached nvidia_nccl_cu12-2.20.5-py3-none-manylinux2014_x86_64.whl (176.2 MB)\n",
            "Collecting nvidia-nvtx-cu12==12.1.105 (from torch>=1.8.0->ultralytics)\n",
            "  Using cached nvidia_nvtx_cu12-12.1.105-py3-none-manylinux1_x86_64.whl (99 kB)\n",
            "Requirement already satisfied: triton==2.3.0 in /usr/local/lib/python3.10/dist-packages (from torch>=1.8.0->ultralytics) (2.3.0)\n",
            "Collecting nvidia-nvjitlink-cu12 (from nvidia-cusolver-cu12==11.4.5.107->torch>=1.8.0->ultralytics)\n",
            "  Downloading nvidia_nvjitlink_cu12-12.5.82-py3-none-manylinux2014_x86_64.whl (21.3 MB)\n",
            "\u001b[2K     \u001b[90m━━━━━━━━━━━━━━━━━━━━━━━━━━━━━━━━━━━━━━━━\u001b[0m \u001b[32m21.3/21.3 MB\u001b[0m \u001b[31m59.1 MB/s\u001b[0m eta \u001b[36m0:00:00\u001b[0m\n",
            "\u001b[?25hRequirement already satisfied: six>=1.5 in /usr/local/lib/python3.10/dist-packages (from python-dateutil>=2.7->matplotlib>=3.3.0->ultralytics) (1.16.0)\n",
            "Requirement already satisfied: MarkupSafe>=2.0 in /usr/local/lib/python3.10/dist-packages (from jinja2->torch>=1.8.0->ultralytics) (2.1.5)\n",
            "Requirement already satisfied: mpmath<1.4.0,>=1.1.0 in /usr/local/lib/python3.10/dist-packages (from sympy->torch>=1.8.0->ultralytics) (1.3.0)\n",
            "Installing collected packages: nvidia-nvtx-cu12, nvidia-nvjitlink-cu12, nvidia-nccl-cu12, nvidia-curand-cu12, nvidia-cufft-cu12, nvidia-cuda-runtime-cu12, nvidia-cuda-nvrtc-cu12, nvidia-cuda-cupti-cu12, nvidia-cublas-cu12, nvidia-cusparse-cu12, nvidia-cudnn-cu12, nvidia-cusolver-cu12, ultralytics-thop, ultralytics\n",
            "Successfully installed nvidia-cublas-cu12-12.1.3.1 nvidia-cuda-cupti-cu12-12.1.105 nvidia-cuda-nvrtc-cu12-12.1.105 nvidia-cuda-runtime-cu12-12.1.105 nvidia-cudnn-cu12-8.9.2.26 nvidia-cufft-cu12-11.0.2.54 nvidia-curand-cu12-10.3.2.106 nvidia-cusolver-cu12-11.4.5.107 nvidia-cusparse-cu12-12.1.0.106 nvidia-nccl-cu12-2.20.5 nvidia-nvjitlink-cu12-12.5.82 nvidia-nvtx-cu12-12.1.105 ultralytics-8.2.49 ultralytics-thop-2.0.0\n"
          ]
        }
      ],
      "source": [
        "# Install YOLOv8\n",
        "!pip install ultralytics"
      ]
    },
    {
      "cell_type": "code",
      "execution_count": null,
      "metadata": {
        "colab": {
          "base_uri": "https://localhost:8080/"
        },
        "id": "IybIM_rK4SkY",
        "outputId": "ac7f8db8-aa9b-4f95-893f-cdb9983f2957"
      },
      "outputs": [
        {
          "output_type": "stream",
          "name": "stdout",
          "text": [
            "Downloading https://github.com/ultralytics/assets/releases/download/v8.2.0/yolov8n.pt to 'yolov8n.pt'...\n"
          ]
        },
        {
          "output_type": "stream",
          "name": "stderr",
          "text": [
            "100%|██████████| 6.25M/6.25M [00:00<00:00, 340MB/s]\n"
          ]
        },
        {
          "output_type": "stream",
          "name": "stdout",
          "text": [
            "Cloning into 'CNN-YOLO-DatasetCrowd'...\n",
            "remote: Enumerating objects: 9067, done.\u001b[K\n",
            "remote: Counting objects: 100% (1402/1402), done.\u001b[K\n",
            "remote: Compressing objects: 100% (1318/1318), done.\u001b[K\n",
            "remote: Total 9067 (delta 4), reused 1394 (delta 0), pack-reused 7665\u001b[K\n",
            "Receiving objects: 100% (9067/9067), 610.10 MiB | 16.25 MiB/s, done.\n",
            "Resolving deltas: 100% (40/40), done.\n",
            "Updating files: 100% (9941/9941), done.\n",
            "Ultralytics YOLOv8.2.48 🚀 Python-3.10.12 torch-2.3.0+cu121 CUDA:0 (Tesla T4, 15102MiB)\n",
            "\u001b[34m\u001b[1mengine/trainer: \u001b[0mtask=detect, mode=train, model=yolov8n.pt, data=/content/CNN-YOLO-DatasetCrowd/data.yaml, epochs=20, time=None, patience=100, batch=8, imgsz=512, save=True, save_period=-1, cache=False, device=None, workers=4, project=None, name=train, exist_ok=False, pretrained=True, optimizer=auto, verbose=True, seed=0, deterministic=True, single_cls=False, rect=False, cos_lr=False, close_mosaic=10, resume=False, amp=True, fraction=1.0, profile=False, freeze=None, multi_scale=False, overlap_mask=True, mask_ratio=4, dropout=0.0, val=True, split=val, save_json=False, save_hybrid=False, conf=None, iou=0.7, max_det=300, half=False, dnn=False, plots=True, source=None, vid_stride=1, stream_buffer=False, visualize=False, augment=False, agnostic_nms=False, classes=None, retina_masks=False, embed=None, show=False, save_frames=False, save_txt=False, save_conf=False, save_crop=False, show_labels=True, show_conf=True, show_boxes=True, line_width=None, format=torchscript, keras=False, optimize=False, int8=False, dynamic=False, simplify=False, opset=None, workspace=4, nms=False, lr0=0.01, lrf=0.01, momentum=0.937, weight_decay=0.0005, warmup_epochs=3.0, warmup_momentum=0.8, warmup_bias_lr=0.1, box=7.5, cls=0.5, dfl=1.5, pose=12.0, kobj=1.0, label_smoothing=0.0, nbs=64, hsv_h=0.015, hsv_s=0.7, hsv_v=0.4, degrees=0.0, translate=0.1, scale=0.5, shear=0.0, perspective=0.0, flipud=0.0, fliplr=0.5, bgr=0.0, mosaic=1.0, mixup=0.0, copy_paste=0.0, auto_augment=randaugment, erasing=0.4, crop_fraction=1.0, cfg=None, tracker=botsort.yaml, save_dir=runs/detect/train\n",
            "Downloading https://ultralytics.com/assets/Arial.ttf to '/root/.config/Ultralytics/Arial.ttf'...\n"
          ]
        },
        {
          "output_type": "stream",
          "name": "stderr",
          "text": [
            "100%|██████████| 755k/755k [00:00<00:00, 92.7MB/s]\n"
          ]
        },
        {
          "output_type": "stream",
          "name": "stdout",
          "text": [
            "Overriding model.yaml nc=80 with nc=1\n",
            "\n",
            "                   from  n    params  module                                       arguments                     \n",
            "  0                  -1  1       464  ultralytics.nn.modules.conv.Conv             [3, 16, 3, 2]                 \n",
            "  1                  -1  1      4672  ultralytics.nn.modules.conv.Conv             [16, 32, 3, 2]                \n",
            "  2                  -1  1      7360  ultralytics.nn.modules.block.C2f             [32, 32, 1, True]             \n",
            "  3                  -1  1     18560  ultralytics.nn.modules.conv.Conv             [32, 64, 3, 2]                \n",
            "  4                  -1  2     49664  ultralytics.nn.modules.block.C2f             [64, 64, 2, True]             \n",
            "  5                  -1  1     73984  ultralytics.nn.modules.conv.Conv             [64, 128, 3, 2]               \n",
            "  6                  -1  2    197632  ultralytics.nn.modules.block.C2f             [128, 128, 2, True]           \n",
            "  7                  -1  1    295424  ultralytics.nn.modules.conv.Conv             [128, 256, 3, 2]              \n",
            "  8                  -1  1    460288  ultralytics.nn.modules.block.C2f             [256, 256, 1, True]           \n",
            "  9                  -1  1    164608  ultralytics.nn.modules.block.SPPF            [256, 256, 5]                 \n",
            " 10                  -1  1         0  torch.nn.modules.upsampling.Upsample         [None, 2, 'nearest']          \n",
            " 11             [-1, 6]  1         0  ultralytics.nn.modules.conv.Concat           [1]                           \n",
            " 12                  -1  1    148224  ultralytics.nn.modules.block.C2f             [384, 128, 1]                 \n",
            " 13                  -1  1         0  torch.nn.modules.upsampling.Upsample         [None, 2, 'nearest']          \n",
            " 14             [-1, 4]  1         0  ultralytics.nn.modules.conv.Concat           [1]                           \n",
            " 15                  -1  1     37248  ultralytics.nn.modules.block.C2f             [192, 64, 1]                  \n",
            " 16                  -1  1     36992  ultralytics.nn.modules.conv.Conv             [64, 64, 3, 2]                \n",
            " 17            [-1, 12]  1         0  ultralytics.nn.modules.conv.Concat           [1]                           \n",
            " 18                  -1  1    123648  ultralytics.nn.modules.block.C2f             [192, 128, 1]                 \n",
            " 19                  -1  1    147712  ultralytics.nn.modules.conv.Conv             [128, 128, 3, 2]              \n",
            " 20             [-1, 9]  1         0  ultralytics.nn.modules.conv.Concat           [1]                           \n",
            " 21                  -1  1    493056  ultralytics.nn.modules.block.C2f             [384, 256, 1]                 \n",
            " 22        [15, 18, 21]  1    751507  ultralytics.nn.modules.head.Detect           [1, [64, 128, 256]]           \n",
            "Model summary: 225 layers, 3011043 parameters, 3011027 gradients, 8.2 GFLOPs\n",
            "\n",
            "Transferred 319/355 items from pretrained weights\n",
            "\u001b[34m\u001b[1mTensorBoard: \u001b[0mStart with 'tensorboard --logdir runs/detect/train', view at http://localhost:6006/\n",
            "Freezing layer 'model.22.dfl.conv.weight'\n",
            "\u001b[34m\u001b[1mAMP: \u001b[0mrunning Automatic Mixed Precision (AMP) checks with YOLOv8n...\n",
            "\u001b[34m\u001b[1mAMP: \u001b[0mchecks passed ✅\n"
          ]
        },
        {
          "output_type": "stream",
          "name": "stderr",
          "text": [
            "\u001b[34m\u001b[1mtrain: \u001b[0mScanning /content/CNN-YOLO-DatasetCrowd/train/labels... 3649 images, 9 backgrounds, 0 corrupt: 100%|██████████| 3649/3649 [00:02<00:00, 1266.44it/s]"
          ]
        },
        {
          "output_type": "stream",
          "name": "stdout",
          "text": [
            "\u001b[34m\u001b[1mtrain: \u001b[0mWARNING ⚠️ /content/CNN-YOLO-DatasetCrowd/train/images/img_1248_jpg.rf.f612c06e499635dc1a57f6a1a2c31175.jpg: 1 duplicate labels removed\n",
            "\u001b[34m\u001b[1mtrain: \u001b[0mWARNING ⚠️ /content/CNN-YOLO-DatasetCrowd/train/images/img_407_jpg.rf.0091f81400c8238b5aa4b82cb898aeb4.jpg: 1 duplicate labels removed\n",
            "\u001b[34m\u001b[1mtrain: \u001b[0mWARNING ⚠️ /content/CNN-YOLO-DatasetCrowd/train/images/img_407_jpg.rf.53c9e6221e062c99963ce2ab2c95bf15.jpg: 1 duplicate labels removed\n",
            "\u001b[34m\u001b[1mtrain: \u001b[0mWARNING ⚠️ /content/CNN-YOLO-DatasetCrowd/train/images/img_407_jpg.rf.a7927d1d1bff866acb4e06d753374b47.jpg: 1 duplicate labels removed\n",
            "\u001b[34m\u001b[1mtrain: \u001b[0mWARNING ⚠️ /content/CNN-YOLO-DatasetCrowd/train/images/img_434_jpg.rf.17cc57870bbd1f5197114e812ea48481.jpg: 1 duplicate labels removed\n",
            "\u001b[34m\u001b[1mtrain: \u001b[0mWARNING ⚠️ /content/CNN-YOLO-DatasetCrowd/train/images/img_434_jpg.rf.24ffa93730c2468dfb8f94f502b24d26.jpg: 1 duplicate labels removed\n",
            "\u001b[34m\u001b[1mtrain: \u001b[0mWARNING ⚠️ /content/CNN-YOLO-DatasetCrowd/train/images/img_434_jpg.rf.cf0a9f2d142e5c9b9543230e2243205a.jpg: 1 duplicate labels removed\n",
            "\u001b[34m\u001b[1mtrain: \u001b[0mWARNING ⚠️ /content/CNN-YOLO-DatasetCrowd/train/images/img_434_jpg.rf.f53e0d281630f23a6a801007837e6daf.jpg: 1 duplicate labels removed\n",
            "\u001b[34m\u001b[1mtrain: \u001b[0mWARNING ⚠️ /content/CNN-YOLO-DatasetCrowd/train/images/img_436_jpg.rf.61a8ffbca25a2c77387d67045b0439ca.jpg: 1 duplicate labels removed\n",
            "\u001b[34m\u001b[1mtrain: \u001b[0mWARNING ⚠️ /content/CNN-YOLO-DatasetCrowd/train/images/img_436_jpg.rf.66bbe4fa9adba0a8572fa6c5dc27874e.jpg: 1 duplicate labels removed\n",
            "\u001b[34m\u001b[1mtrain: \u001b[0mWARNING ⚠️ /content/CNN-YOLO-DatasetCrowd/train/images/img_469_jpg.rf.094f76d2fea36050c537dbd16e6776fe.jpg: 1 duplicate labels removed\n",
            "\u001b[34m\u001b[1mtrain: \u001b[0mWARNING ⚠️ /content/CNN-YOLO-DatasetCrowd/train/images/img_469_jpg.rf.7463fd513fea610fcb5b139a0cc2c036.jpg: 1 duplicate labels removed\n",
            "\u001b[34m\u001b[1mtrain: \u001b[0mWARNING ⚠️ /content/CNN-YOLO-DatasetCrowd/train/images/img_469_jpg.rf.83e4b6c75f98aab5542a16d5606cdf45.jpg: 1 duplicate labels removed\n",
            "\u001b[34m\u001b[1mtrain: \u001b[0mWARNING ⚠️ /content/CNN-YOLO-DatasetCrowd/train/images/img_469_jpg.rf.e50b34cce53e86447031da2be95870e4.jpg: 1 duplicate labels removed\n",
            "\u001b[34m\u001b[1mtrain: \u001b[0mWARNING ⚠️ /content/CNN-YOLO-DatasetCrowd/train/images/img_472_jpg.rf.451b42df4ec0cbe960ce8545a32c8582.jpg: 3 duplicate labels removed\n",
            "\u001b[34m\u001b[1mtrain: \u001b[0mWARNING ⚠️ /content/CNN-YOLO-DatasetCrowd/train/images/img_472_jpg.rf.71eda13b67e55b5e94f0ba9052d01455.jpg: 3 duplicate labels removed\n",
            "\u001b[34m\u001b[1mtrain: \u001b[0mWARNING ⚠️ /content/CNN-YOLO-DatasetCrowd/train/images/img_472_jpg.rf.b642347c69a3401cac85c0226d6f94b3.jpg: 3 duplicate labels removed\n",
            "\u001b[34m\u001b[1mtrain: \u001b[0mWARNING ⚠️ /content/CNN-YOLO-DatasetCrowd/train/images/img_472_jpg.rf.c5970efdddb494de03e0a764fc05c8a1.jpg: 3 duplicate labels removed\n",
            "\u001b[34m\u001b[1mtrain: \u001b[0mWARNING ⚠️ /content/CNN-YOLO-DatasetCrowd/train/images/img_472_jpg.rf.f6babbe5f07f302708c758b99e20667c.jpg: 3 duplicate labels removed\n",
            "\u001b[34m\u001b[1mtrain: \u001b[0mWARNING ⚠️ /content/CNN-YOLO-DatasetCrowd/train/images/img_476_jpg.rf.0df10de1146d5d4014b47101bfae1c8a.jpg: 1 duplicate labels removed\n",
            "\u001b[34m\u001b[1mtrain: \u001b[0mWARNING ⚠️ /content/CNN-YOLO-DatasetCrowd/train/images/img_476_jpg.rf.42b103d5933d5ae30a3b5aa9d76950aa.jpg: 1 duplicate labels removed\n",
            "\u001b[34m\u001b[1mtrain: \u001b[0mWARNING ⚠️ /content/CNN-YOLO-DatasetCrowd/train/images/img_476_jpg.rf.69cbecd60906699721f9ad11f5ee0983.jpg: 1 duplicate labels removed\n",
            "\u001b[34m\u001b[1mtrain: \u001b[0mWARNING ⚠️ /content/CNN-YOLO-DatasetCrowd/train/images/img_476_jpg.rf.9050c3adeddbfd434258fbe9fb918d16.jpg: 1 duplicate labels removed\n",
            "\u001b[34m\u001b[1mtrain: \u001b[0mWARNING ⚠️ /content/CNN-YOLO-DatasetCrowd/train/images/img_529_jpg.rf.1d5e34bc68ccfe151b1486bcbd35fc32.jpg: 1 duplicate labels removed\n",
            "\u001b[34m\u001b[1mtrain: \u001b[0mWARNING ⚠️ /content/CNN-YOLO-DatasetCrowd/train/images/img_529_jpg.rf.598bc36c18709958ea9787796832bfb3.jpg: 1 duplicate labels removed\n",
            "\u001b[34m\u001b[1mtrain: \u001b[0mWARNING ⚠️ /content/CNN-YOLO-DatasetCrowd/train/images/img_529_jpg.rf.9f548008e6d57ec61732722f205b004e.jpg: 1 duplicate labels removed\n",
            "\u001b[34m\u001b[1mtrain: \u001b[0mWARNING ⚠️ /content/CNN-YOLO-DatasetCrowd/train/images/img_529_jpg.rf.a410c7ff75ae77c3d75f6c8a86aa4e57.jpg: 1 duplicate labels removed\n"
          ]
        },
        {
          "output_type": "stream",
          "name": "stderr",
          "text": [
            "\n"
          ]
        },
        {
          "output_type": "stream",
          "name": "stdout",
          "text": [
            "\u001b[34m\u001b[1mtrain: \u001b[0mNew cache created: /content/CNN-YOLO-DatasetCrowd/train/labels.cache\n",
            "\u001b[34m\u001b[1malbumentations: \u001b[0mBlur(p=0.01, blur_limit=(3, 7)), MedianBlur(p=0.01, blur_limit=(3, 7)), ToGray(p=0.01), CLAHE(p=0.01, clip_limit=(1, 4.0), tile_grid_size=(8, 8))\n"
          ]
        },
        {
          "output_type": "stream",
          "name": "stderr",
          "text": [
            "/usr/lib/python3.10/multiprocessing/popen_fork.py:66: RuntimeWarning: os.fork() was called. os.fork() is incompatible with multithreaded code, and JAX is multithreaded, so this will likely lead to a deadlock.\n",
            "  self.pid = os.fork()\n",
            "\u001b[34m\u001b[1mval: \u001b[0mScanning /content/CNN-YOLO-DatasetCrowd/valid/labels... 884 images, 0 backgrounds, 0 corrupt: 100%|██████████| 884/884 [00:01<00:00, 691.51it/s]"
          ]
        },
        {
          "output_type": "stream",
          "name": "stdout",
          "text": [
            "\u001b[34m\u001b[1mval: \u001b[0mWARNING ⚠️ /content/CNN-YOLO-DatasetCrowd/valid/images/img_1248_jpg.rf.f5071a1c20118ca17541998c4e8ffc2f.jpg: 1 duplicate labels removed\n",
            "\u001b[34m\u001b[1mval: \u001b[0mWARNING ⚠️ /content/CNN-YOLO-DatasetCrowd/valid/images/img_434_jpg.rf.5a4ae5c185c88c91f91dee12ed942a4f.jpg: 1 duplicate labels removed\n",
            "\u001b[34m\u001b[1mval: \u001b[0mWARNING ⚠️ /content/CNN-YOLO-DatasetCrowd/valid/images/img_436_jpg.rf.47ec601eb5a775e399d300e2eacfb63d.jpg: 1 duplicate labels removed\n",
            "\u001b[34m\u001b[1mval: \u001b[0mWARNING ⚠️ /content/CNN-YOLO-DatasetCrowd/valid/images/img_469_jpg.rf.70de792333442982760711f27570411c.jpg: 1 duplicate labels removed\n",
            "\u001b[34m\u001b[1mval: \u001b[0mWARNING ⚠️ /content/CNN-YOLO-DatasetCrowd/valid/images/img_469_jpg.rf.ceab157db2108fc2fe16f13caca826b0.jpg: 1 duplicate labels removed\n",
            "\u001b[34m\u001b[1mval: \u001b[0mWARNING ⚠️ /content/CNN-YOLO-DatasetCrowd/valid/images/img_472_jpg.rf.58633ebbeabddd2bec4303073a8a02e5.jpg: 3 duplicate labels removed\n",
            "\u001b[34m\u001b[1mval: \u001b[0mWARNING ⚠️ /content/CNN-YOLO-DatasetCrowd/valid/images/img_476_jpg.rf.97ac5f7dcca719bc7a6e9de2f0d83a86.jpg: 1 duplicate labels removed\n",
            "\u001b[34m\u001b[1mval: \u001b[0mWARNING ⚠️ /content/CNN-YOLO-DatasetCrowd/valid/images/img_476_jpg.rf.c60f9d75453a0860dbe11dea827def2d.jpg: 1 duplicate labels removed\n",
            "\u001b[34m\u001b[1mval: \u001b[0mWARNING ⚠️ /content/CNN-YOLO-DatasetCrowd/valid/images/img_529_jpg.rf.0d2b4a945349dbbb4e252ffe3a17f2f5.jpg: 1 duplicate labels removed\n"
          ]
        },
        {
          "output_type": "stream",
          "name": "stderr",
          "text": [
            "\n"
          ]
        },
        {
          "output_type": "stream",
          "name": "stdout",
          "text": [
            "\u001b[34m\u001b[1mval: \u001b[0mNew cache created: /content/CNN-YOLO-DatasetCrowd/valid/labels.cache\n",
            "Plotting labels to runs/detect/train/labels.jpg... \n",
            "\u001b[34m\u001b[1moptimizer:\u001b[0m 'optimizer=auto' found, ignoring 'lr0=0.01' and 'momentum=0.937' and determining best 'optimizer', 'lr0' and 'momentum' automatically... \n",
            "\u001b[34m\u001b[1moptimizer:\u001b[0m AdamW(lr=0.002, momentum=0.9) with parameter groups 57 weight(decay=0.0), 64 weight(decay=0.0005), 63 bias(decay=0.0)\n",
            "\u001b[34m\u001b[1mTensorBoard: \u001b[0mmodel graph visualization added ✅\n",
            "Image sizes 512 train, 512 val\n",
            "Using 2 dataloader workers\n",
            "Logging results to \u001b[1mruns/detect/train\u001b[0m\n",
            "Starting training for 20 epochs...\n",
            "\n",
            "      Epoch    GPU_mem   box_loss   cls_loss   dfl_loss  Instances       Size\n"
          ]
        },
        {
          "output_type": "stream",
          "name": "stderr",
          "text": [
            "       1/20      6.45G      2.849      1.898      1.349       2410        512: 100%|█████████▉| 456/457 [02:06<00:00,  5.46it/s]/usr/local/lib/python3.10/dist-packages/torch/autograd/graph.py:744: UserWarning: Plan failed with a cudnnException: CUDNN_BACKEND_EXECUTION_PLAN_DESCRIPTOR: cudnnFinalize Descriptor Failed cudnn_status: CUDNN_STATUS_NOT_SUPPORTED (Triggered internally at ../aten/src/ATen/native/cudnn/Conv_v8.cpp:919.)\n",
            "  return Variable._execution_engine.run_backward(  # Calls into the C++ engine to run the backward pass\n",
            "       1/20      6.45G       2.85      1.899       1.35         97        512: 100%|██████████| 457/457 [02:07<00:00,  3.60it/s]\n",
            "                 Class     Images  Instances      Box(P          R      mAP50  mAP50-95):  98%|█████████▊| 55/56 [00:17<00:00,  3.44it/s]/usr/local/lib/python3.10/dist-packages/torch/nn/modules/conv.py:456: UserWarning: Plan failed with a cudnnException: CUDNN_BACKEND_EXECUTION_PLAN_DESCRIPTOR: cudnnFinalize Descriptor Failed cudnn_status: CUDNN_STATUS_NOT_SUPPORTED (Triggered internally at ../aten/src/ATen/native/cudnn/Conv_v8.cpp:919.)\n",
            "  return F.conv2d(input, weight, bias, self.stride,\n",
            "                 Class     Images  Instances      Box(P          R      mAP50  mAP50-95): 100%|██████████| 56/56 [00:17<00:00,  3.15it/s]\n"
          ]
        },
        {
          "output_type": "stream",
          "name": "stdout",
          "text": [
            "                   all        884     152595      0.322      0.215      0.207     0.0709\n",
            "\n",
            "      Epoch    GPU_mem   box_loss   cls_loss   dfl_loss  Instances       Size\n"
          ]
        },
        {
          "output_type": "stream",
          "name": "stderr",
          "text": [
            "       2/20      5.58G      2.615      1.513      1.252        131        512: 100%|██████████| 457/457 [01:34<00:00,  4.83it/s]\n",
            "                 Class     Images  Instances      Box(P          R      mAP50  mAP50-95): 100%|██████████| 56/56 [00:16<00:00,  3.33it/s]\n"
          ]
        },
        {
          "output_type": "stream",
          "name": "stdout",
          "text": [
            "                   all        884     152595      0.376      0.234      0.234     0.0831\n",
            "\n",
            "      Epoch    GPU_mem   box_loss   cls_loss   dfl_loss  Instances       Size\n"
          ]
        },
        {
          "output_type": "stream",
          "name": "stderr",
          "text": [
            "       3/20      5.71G      2.566      1.474      1.236         83        512: 100%|██████████| 457/457 [01:33<00:00,  4.90it/s]\n",
            "                 Class     Images  Instances      Box(P          R      mAP50  mAP50-95): 100%|██████████| 56/56 [00:16<00:00,  3.40it/s]\n"
          ]
        },
        {
          "output_type": "stream",
          "name": "stdout",
          "text": [
            "                   all        884     152595      0.415      0.233      0.252     0.0895\n",
            "\n",
            "      Epoch    GPU_mem   box_loss   cls_loss   dfl_loss  Instances       Size\n"
          ]
        },
        {
          "output_type": "stream",
          "name": "stderr",
          "text": [
            "       4/20      6.64G      2.525      1.432      1.225        166        512: 100%|██████████| 457/457 [01:34<00:00,  4.83it/s]\n",
            "                 Class     Images  Instances      Box(P          R      mAP50  mAP50-95): 100%|██████████| 56/56 [00:16<00:00,  3.31it/s]\n"
          ]
        },
        {
          "output_type": "stream",
          "name": "stdout",
          "text": [
            "                   all        884     152595      0.409      0.255       0.27     0.0942\n",
            "\n",
            "      Epoch    GPU_mem   box_loss   cls_loss   dfl_loss  Instances       Size\n"
          ]
        },
        {
          "output_type": "stream",
          "name": "stderr",
          "text": [
            "       5/20      5.55G      2.502      1.402      1.215        236        512: 100%|██████████| 457/457 [01:32<00:00,  4.94it/s]\n",
            "                 Class     Images  Instances      Box(P          R      mAP50  mAP50-95): 100%|██████████| 56/56 [00:16<00:00,  3.34it/s]\n"
          ]
        },
        {
          "output_type": "stream",
          "name": "stdout",
          "text": [
            "                   all        884     152595      0.443      0.268       0.29      0.103\n",
            "\n",
            "      Epoch    GPU_mem   box_loss   cls_loss   dfl_loss  Instances       Size\n"
          ]
        },
        {
          "output_type": "stream",
          "name": "stderr",
          "text": [
            "       6/20      4.21G      2.473      1.388        1.2        439        512: 100%|██████████| 457/457 [01:32<00:00,  4.94it/s]\n",
            "                 Class     Images  Instances      Box(P          R      mAP50  mAP50-95): 100%|██████████| 56/56 [00:16<00:00,  3.34it/s]\n"
          ]
        },
        {
          "output_type": "stream",
          "name": "stdout",
          "text": [
            "                   all        884     152595       0.43      0.268      0.292      0.105\n",
            "\n",
            "      Epoch    GPU_mem   box_loss   cls_loss   dfl_loss  Instances       Size\n"
          ]
        },
        {
          "output_type": "stream",
          "name": "stderr",
          "text": [
            "       7/20      6.55G      2.453      1.356      1.199         70        512: 100%|██████████| 457/457 [01:34<00:00,  4.86it/s]\n",
            "                 Class     Images  Instances      Box(P          R      mAP50  mAP50-95): 100%|██████████| 56/56 [00:17<00:00,  3.16it/s]\n"
          ]
        },
        {
          "output_type": "stream",
          "name": "stdout",
          "text": [
            "                   all        884     152595      0.464      0.267      0.302      0.111\n",
            "\n",
            "      Epoch    GPU_mem   box_loss   cls_loss   dfl_loss  Instances       Size\n"
          ]
        },
        {
          "output_type": "stream",
          "name": "stderr",
          "text": [
            "       8/20      4.01G      2.432      1.331      1.185        227        512: 100%|██████████| 457/457 [01:33<00:00,  4.90it/s]\n",
            "                 Class     Images  Instances      Box(P          R      mAP50  mAP50-95): 100%|██████████| 56/56 [00:17<00:00,  3.22it/s]\n"
          ]
        },
        {
          "output_type": "stream",
          "name": "stdout",
          "text": [
            "                   all        884     152595      0.452      0.275      0.298      0.104\n",
            "\n",
            "      Epoch    GPU_mem   box_loss   cls_loss   dfl_loss  Instances       Size\n"
          ]
        },
        {
          "output_type": "stream",
          "name": "stderr",
          "text": [
            "       9/20      4.75G      2.393      1.318      1.176         15        512: 100%|██████████| 457/457 [01:32<00:00,  4.96it/s]\n",
            "                 Class     Images  Instances      Box(P          R      mAP50  mAP50-95): 100%|██████████| 56/56 [00:16<00:00,  3.34it/s]\n"
          ]
        },
        {
          "output_type": "stream",
          "name": "stdout",
          "text": [
            "                   all        884     152595      0.496      0.283      0.322      0.119\n",
            "\n",
            "      Epoch    GPU_mem   box_loss   cls_loss   dfl_loss  Instances       Size\n"
          ]
        },
        {
          "output_type": "stream",
          "name": "stderr",
          "text": [
            "      10/20      10.7G      2.386      1.291      1.174        158        512: 100%|██████████| 457/457 [01:34<00:00,  4.86it/s]\n",
            "                 Class     Images  Instances      Box(P          R      mAP50  mAP50-95): 100%|██████████| 56/56 [00:16<00:00,  3.37it/s]\n"
          ]
        },
        {
          "output_type": "stream",
          "name": "stdout",
          "text": [
            "                   all        884     152595      0.511      0.269      0.314      0.117\n",
            "Closing dataloader mosaic\n",
            "\u001b[34m\u001b[1malbumentations: \u001b[0mBlur(p=0.01, blur_limit=(3, 7)), MedianBlur(p=0.01, blur_limit=(3, 7)), ToGray(p=0.01), CLAHE(p=0.01, clip_limit=(1, 4.0), tile_grid_size=(8, 8))\n"
          ]
        },
        {
          "output_type": "stream",
          "name": "stderr",
          "text": [
            "/usr/lib/python3.10/multiprocessing/popen_fork.py:66: RuntimeWarning: os.fork() was called. os.fork() is incompatible with multithreaded code, and JAX is multithreaded, so this will likely lead to a deadlock.\n",
            "  self.pid = os.fork()\n"
          ]
        },
        {
          "output_type": "stream",
          "name": "stdout",
          "text": [
            "\n",
            "      Epoch    GPU_mem   box_loss   cls_loss   dfl_loss  Instances       Size\n"
          ]
        },
        {
          "output_type": "stream",
          "name": "stderr",
          "text": [
            "      11/20      6.12G      2.343      1.305      1.197         30        512: 100%|██████████| 457/457 [01:46<00:00,  4.30it/s]\n",
            "                 Class     Images  Instances      Box(P          R      mAP50  mAP50-95): 100%|██████████| 56/56 [00:17<00:00,  3.17it/s]\n"
          ]
        },
        {
          "output_type": "stream",
          "name": "stdout",
          "text": [
            "                   all        884     152595       0.49      0.287      0.328      0.121\n",
            "\n",
            "      Epoch    GPU_mem   box_loss   cls_loss   dfl_loss  Instances       Size\n"
          ]
        },
        {
          "output_type": "stream",
          "name": "stderr",
          "text": [
            "      12/20      5.46G      2.323      1.278      1.191         75        512: 100%|██████████| 457/457 [01:28<00:00,  5.15it/s]\n",
            "                 Class     Images  Instances      Box(P          R      mAP50  mAP50-95): 100%|██████████| 56/56 [00:17<00:00,  3.23it/s]\n"
          ]
        },
        {
          "output_type": "stream",
          "name": "stdout",
          "text": [
            "                   all        884     152595      0.483      0.288      0.326      0.119\n",
            "\n",
            "      Epoch    GPU_mem   box_loss   cls_loss   dfl_loss  Instances       Size\n"
          ]
        },
        {
          "output_type": "stream",
          "name": "stderr",
          "text": [
            "      13/20      6.07G        2.3      1.267       1.18          6        512: 100%|██████████| 457/457 [01:27<00:00,  5.20it/s]\n",
            "                 Class     Images  Instances      Box(P          R      mAP50  mAP50-95): 100%|██████████| 56/56 [00:17<00:00,  3.21it/s]\n"
          ]
        },
        {
          "output_type": "stream",
          "name": "stdout",
          "text": [
            "                   all        884     152595      0.529        0.3      0.345      0.129\n",
            "\n",
            "      Epoch    GPU_mem   box_loss   cls_loss   dfl_loss  Instances       Size\n"
          ]
        },
        {
          "output_type": "stream",
          "name": "stderr",
          "text": [
            "      14/20      7.18G      2.295      1.287      1.174          1        512: 100%|██████████| 457/457 [01:29<00:00,  5.12it/s]\n",
            "                 Class     Images  Instances      Box(P          R      mAP50  mAP50-95): 100%|██████████| 56/56 [00:17<00:00,  3.23it/s]\n"
          ]
        },
        {
          "output_type": "stream",
          "name": "stdout",
          "text": [
            "                   all        884     152595      0.524      0.298      0.345       0.13\n",
            "\n",
            "      Epoch    GPU_mem   box_loss   cls_loss   dfl_loss  Instances       Size\n"
          ]
        },
        {
          "output_type": "stream",
          "name": "stderr",
          "text": [
            "      15/20      3.98G      2.275      1.232      1.168        449        512: 100%|██████████| 457/457 [01:28<00:00,  5.17it/s]\n",
            "                 Class     Images  Instances      Box(P          R      mAP50  mAP50-95): 100%|██████████| 56/56 [00:16<00:00,  3.44it/s]\n"
          ]
        },
        {
          "output_type": "stream",
          "name": "stdout",
          "text": [
            "                   all        884     152595      0.489       0.29      0.331      0.121\n",
            "\n",
            "      Epoch    GPU_mem   box_loss   cls_loss   dfl_loss  Instances       Size\n"
          ]
        },
        {
          "output_type": "stream",
          "name": "stderr",
          "text": [
            "      16/20      5.78G      2.266      1.224      1.167         89        512: 100%|██████████| 457/457 [01:28<00:00,  5.19it/s]\n",
            "                 Class     Images  Instances      Box(P          R      mAP50  mAP50-95): 100%|██████████| 56/56 [00:16<00:00,  3.41it/s]\n"
          ]
        },
        {
          "output_type": "stream",
          "name": "stdout",
          "text": [
            "                   all        884     152595      0.538      0.307      0.358      0.136\n",
            "\n",
            "      Epoch    GPU_mem   box_loss   cls_loss   dfl_loss  Instances       Size\n"
          ]
        },
        {
          "output_type": "stream",
          "name": "stderr",
          "text": [
            "      17/20      6.03G      2.252      1.206       1.16        144        512: 100%|██████████| 457/457 [01:28<00:00,  5.18it/s]\n",
            "                 Class     Images  Instances      Box(P          R      mAP50  mAP50-95): 100%|██████████| 56/56 [00:16<00:00,  3.42it/s]\n"
          ]
        },
        {
          "output_type": "stream",
          "name": "stdout",
          "text": [
            "                   all        884     152595      0.527      0.308      0.357      0.135\n",
            "\n",
            "      Epoch    GPU_mem   box_loss   cls_loss   dfl_loss  Instances       Size\n"
          ]
        },
        {
          "output_type": "stream",
          "name": "stderr",
          "text": [
            "      18/20      5.83G      2.226      1.192       1.16         20        512: 100%|██████████| 457/457 [01:25<00:00,  5.32it/s]\n",
            "                 Class     Images  Instances      Box(P          R      mAP50  mAP50-95): 100%|██████████| 56/56 [00:16<00:00,  3.39it/s]\n"
          ]
        },
        {
          "output_type": "stream",
          "name": "stdout",
          "text": [
            "                   all        884     152595      0.547      0.306      0.364       0.14\n",
            "\n",
            "      Epoch    GPU_mem   box_loss   cls_loss   dfl_loss  Instances       Size\n"
          ]
        },
        {
          "output_type": "stream",
          "name": "stderr",
          "text": [
            "      19/20      5.58G      2.215       1.18      1.149         28        512: 100%|██████████| 457/457 [01:26<00:00,  5.29it/s]\n",
            "                 Class     Images  Instances      Box(P          R      mAP50  mAP50-95): 100%|██████████| 56/56 [00:16<00:00,  3.34it/s]\n"
          ]
        },
        {
          "output_type": "stream",
          "name": "stdout",
          "text": [
            "                   all        884     152595      0.542      0.308      0.362      0.138\n",
            "\n",
            "      Epoch    GPU_mem   box_loss   cls_loss   dfl_loss  Instances       Size\n"
          ]
        },
        {
          "output_type": "stream",
          "name": "stderr",
          "text": [
            "      20/20      5.73G      2.206      1.169      1.148        134        512: 100%|██████████| 457/457 [01:25<00:00,  5.33it/s]\n",
            "                 Class     Images  Instances      Box(P          R      mAP50  mAP50-95): 100%|██████████| 56/56 [00:17<00:00,  3.24it/s]\n"
          ]
        },
        {
          "output_type": "stream",
          "name": "stdout",
          "text": [
            "                   all        884     152595      0.537      0.311      0.366       0.14\n",
            "\n",
            "20 epochs completed in 0.619 hours.\n",
            "Optimizer stripped from runs/detect/train/weights/last.pt, 6.2MB\n",
            "Optimizer stripped from runs/detect/train/weights/best.pt, 6.2MB\n",
            "\n",
            "Validating runs/detect/train/weights/best.pt...\n",
            "Ultralytics YOLOv8.2.48 🚀 Python-3.10.12 torch-2.3.0+cu121 CUDA:0 (Tesla T4, 15102MiB)\n",
            "Model summary (fused): 168 layers, 3005843 parameters, 0 gradients, 8.1 GFLOPs\n"
          ]
        },
        {
          "output_type": "stream",
          "name": "stderr",
          "text": [
            "                 Class     Images  Instances      Box(P          R      mAP50  mAP50-95): 100%|██████████| 56/56 [01:39<00:00,  1.78s/it]\n"
          ]
        },
        {
          "output_type": "stream",
          "name": "stdout",
          "text": [
            "                   all        884     152595      0.537      0.311      0.366       0.14\n",
            "Speed: 0.4ms preprocess, 3.3ms inference, 0.0ms loss, 5.4ms postprocess per image\n",
            "Results saved to \u001b[1mruns/detect/train\u001b[0m\n"
          ]
        },
        {
          "output_type": "execute_result",
          "data": {
            "text/plain": [
              "ultralytics.utils.metrics.DetMetrics object with attributes:\n",
              "\n",
              "ap_class_index: array([0])\n",
              "box: ultralytics.utils.metrics.Metric object\n",
              "confusion_matrix: <ultralytics.utils.metrics.ConfusionMatrix object at 0x790f03252b00>\n",
              "curves: ['Precision-Recall(B)', 'F1-Confidence(B)', 'Precision-Confidence(B)', 'Recall-Confidence(B)']\n",
              "curves_results: [[array([          0,    0.001001,    0.002002,    0.003003,    0.004004,    0.005005,    0.006006,    0.007007,    0.008008,    0.009009,     0.01001,    0.011011,    0.012012,    0.013013,    0.014014,    0.015015,    0.016016,    0.017017,    0.018018,    0.019019,     0.02002,    0.021021,    0.022022,    0.023023,\n",
              "          0.024024,    0.025025,    0.026026,    0.027027,    0.028028,    0.029029,     0.03003,    0.031031,    0.032032,    0.033033,    0.034034,    0.035035,    0.036036,    0.037037,    0.038038,    0.039039,     0.04004,    0.041041,    0.042042,    0.043043,    0.044044,    0.045045,    0.046046,    0.047047,\n",
              "          0.048048,    0.049049,     0.05005,    0.051051,    0.052052,    0.053053,    0.054054,    0.055055,    0.056056,    0.057057,    0.058058,    0.059059,     0.06006,    0.061061,    0.062062,    0.063063,    0.064064,    0.065065,    0.066066,    0.067067,    0.068068,    0.069069,     0.07007,    0.071071,\n",
              "          0.072072,    0.073073,    0.074074,    0.075075,    0.076076,    0.077077,    0.078078,    0.079079,     0.08008,    0.081081,    0.082082,    0.083083,    0.084084,    0.085085,    0.086086,    0.087087,    0.088088,    0.089089,     0.09009,    0.091091,    0.092092,    0.093093,    0.094094,    0.095095,\n",
              "          0.096096,    0.097097,    0.098098,    0.099099,      0.1001,      0.1011,      0.1021,      0.1031,      0.1041,     0.10511,     0.10611,     0.10711,     0.10811,     0.10911,     0.11011,     0.11111,     0.11211,     0.11311,     0.11411,     0.11512,     0.11612,     0.11712,     0.11812,     0.11912,\n",
              "           0.12012,     0.12112,     0.12212,     0.12312,     0.12412,     0.12513,     0.12613,     0.12713,     0.12813,     0.12913,     0.13013,     0.13113,     0.13213,     0.13313,     0.13413,     0.13514,     0.13614,     0.13714,     0.13814,     0.13914,     0.14014,     0.14114,     0.14214,     0.14314,\n",
              "           0.14414,     0.14515,     0.14615,     0.14715,     0.14815,     0.14915,     0.15015,     0.15115,     0.15215,     0.15315,     0.15415,     0.15516,     0.15616,     0.15716,     0.15816,     0.15916,     0.16016,     0.16116,     0.16216,     0.16316,     0.16416,     0.16517,     0.16617,     0.16717,\n",
              "           0.16817,     0.16917,     0.17017,     0.17117,     0.17217,     0.17317,     0.17417,     0.17518,     0.17618,     0.17718,     0.17818,     0.17918,     0.18018,     0.18118,     0.18218,     0.18318,     0.18418,     0.18519,     0.18619,     0.18719,     0.18819,     0.18919,     0.19019,     0.19119,\n",
              "           0.19219,     0.19319,     0.19419,      0.1952,      0.1962,      0.1972,      0.1982,      0.1992,      0.2002,      0.2012,      0.2022,      0.2032,      0.2042,     0.20521,     0.20621,     0.20721,     0.20821,     0.20921,     0.21021,     0.21121,     0.21221,     0.21321,     0.21421,     0.21522,\n",
              "           0.21622,     0.21722,     0.21822,     0.21922,     0.22022,     0.22122,     0.22222,     0.22322,     0.22422,     0.22523,     0.22623,     0.22723,     0.22823,     0.22923,     0.23023,     0.23123,     0.23223,     0.23323,     0.23423,     0.23524,     0.23624,     0.23724,     0.23824,     0.23924,\n",
              "           0.24024,     0.24124,     0.24224,     0.24324,     0.24424,     0.24525,     0.24625,     0.24725,     0.24825,     0.24925,     0.25025,     0.25125,     0.25225,     0.25325,     0.25425,     0.25526,     0.25626,     0.25726,     0.25826,     0.25926,     0.26026,     0.26126,     0.26226,     0.26326,\n",
              "           0.26426,     0.26527,     0.26627,     0.26727,     0.26827,     0.26927,     0.27027,     0.27127,     0.27227,     0.27327,     0.27427,     0.27528,     0.27628,     0.27728,     0.27828,     0.27928,     0.28028,     0.28128,     0.28228,     0.28328,     0.28428,     0.28529,     0.28629,     0.28729,\n",
              "           0.28829,     0.28929,     0.29029,     0.29129,     0.29229,     0.29329,     0.29429,      0.2953,      0.2963,      0.2973,      0.2983,      0.2993,      0.3003,      0.3013,      0.3023,      0.3033,      0.3043,     0.30531,     0.30631,     0.30731,     0.30831,     0.30931,     0.31031,     0.31131,\n",
              "           0.31231,     0.31331,     0.31431,     0.31532,     0.31632,     0.31732,     0.31832,     0.31932,     0.32032,     0.32132,     0.32232,     0.32332,     0.32432,     0.32533,     0.32633,     0.32733,     0.32833,     0.32933,     0.33033,     0.33133,     0.33233,     0.33333,     0.33433,     0.33534,\n",
              "           0.33634,     0.33734,     0.33834,     0.33934,     0.34034,     0.34134,     0.34234,     0.34334,     0.34434,     0.34535,     0.34635,     0.34735,     0.34835,     0.34935,     0.35035,     0.35135,     0.35235,     0.35335,     0.35435,     0.35536,     0.35636,     0.35736,     0.35836,     0.35936,\n",
              "           0.36036,     0.36136,     0.36236,     0.36336,     0.36436,     0.36537,     0.36637,     0.36737,     0.36837,     0.36937,     0.37037,     0.37137,     0.37237,     0.37337,     0.37437,     0.37538,     0.37638,     0.37738,     0.37838,     0.37938,     0.38038,     0.38138,     0.38238,     0.38338,\n",
              "           0.38438,     0.38539,     0.38639,     0.38739,     0.38839,     0.38939,     0.39039,     0.39139,     0.39239,     0.39339,     0.39439,      0.3954,      0.3964,      0.3974,      0.3984,      0.3994,      0.4004,      0.4014,      0.4024,      0.4034,      0.4044,     0.40541,     0.40641,     0.40741,\n",
              "           0.40841,     0.40941,     0.41041,     0.41141,     0.41241,     0.41341,     0.41441,     0.41542,     0.41642,     0.41742,     0.41842,     0.41942,     0.42042,     0.42142,     0.42242,     0.42342,     0.42442,     0.42543,     0.42643,     0.42743,     0.42843,     0.42943,     0.43043,     0.43143,\n",
              "           0.43243,     0.43343,     0.43443,     0.43544,     0.43644,     0.43744,     0.43844,     0.43944,     0.44044,     0.44144,     0.44244,     0.44344,     0.44444,     0.44545,     0.44645,     0.44745,     0.44845,     0.44945,     0.45045,     0.45145,     0.45245,     0.45345,     0.45445,     0.45546,\n",
              "           0.45646,     0.45746,     0.45846,     0.45946,     0.46046,     0.46146,     0.46246,     0.46346,     0.46446,     0.46547,     0.46647,     0.46747,     0.46847,     0.46947,     0.47047,     0.47147,     0.47247,     0.47347,     0.47447,     0.47548,     0.47648,     0.47748,     0.47848,     0.47948,\n",
              "           0.48048,     0.48148,     0.48248,     0.48348,     0.48448,     0.48549,     0.48649,     0.48749,     0.48849,     0.48949,     0.49049,     0.49149,     0.49249,     0.49349,     0.49449,      0.4955,      0.4965,      0.4975,      0.4985,      0.4995,      0.5005,      0.5015,      0.5025,      0.5035,\n",
              "            0.5045,     0.50551,     0.50651,     0.50751,     0.50851,     0.50951,     0.51051,     0.51151,     0.51251,     0.51351,     0.51451,     0.51552,     0.51652,     0.51752,     0.51852,     0.51952,     0.52052,     0.52152,     0.52252,     0.52352,     0.52452,     0.52553,     0.52653,     0.52753,\n",
              "           0.52853,     0.52953,     0.53053,     0.53153,     0.53253,     0.53353,     0.53453,     0.53554,     0.53654,     0.53754,     0.53854,     0.53954,     0.54054,     0.54154,     0.54254,     0.54354,     0.54454,     0.54555,     0.54655,     0.54755,     0.54855,     0.54955,     0.55055,     0.55155,\n",
              "           0.55255,     0.55355,     0.55455,     0.55556,     0.55656,     0.55756,     0.55856,     0.55956,     0.56056,     0.56156,     0.56256,     0.56356,     0.56456,     0.56557,     0.56657,     0.56757,     0.56857,     0.56957,     0.57057,     0.57157,     0.57257,     0.57357,     0.57457,     0.57558,\n",
              "           0.57658,     0.57758,     0.57858,     0.57958,     0.58058,     0.58158,     0.58258,     0.58358,     0.58458,     0.58559,     0.58659,     0.58759,     0.58859,     0.58959,     0.59059,     0.59159,     0.59259,     0.59359,     0.59459,      0.5956,      0.5966,      0.5976,      0.5986,      0.5996,\n",
              "            0.6006,      0.6016,      0.6026,      0.6036,      0.6046,     0.60561,     0.60661,     0.60761,     0.60861,     0.60961,     0.61061,     0.61161,     0.61261,     0.61361,     0.61461,     0.61562,     0.61662,     0.61762,     0.61862,     0.61962,     0.62062,     0.62162,     0.62262,     0.62362,\n",
              "           0.62462,     0.62563,     0.62663,     0.62763,     0.62863,     0.62963,     0.63063,     0.63163,     0.63263,     0.63363,     0.63463,     0.63564,     0.63664,     0.63764,     0.63864,     0.63964,     0.64064,     0.64164,     0.64264,     0.64364,     0.64464,     0.64565,     0.64665,     0.64765,\n",
              "           0.64865,     0.64965,     0.65065,     0.65165,     0.65265,     0.65365,     0.65465,     0.65566,     0.65666,     0.65766,     0.65866,     0.65966,     0.66066,     0.66166,     0.66266,     0.66366,     0.66466,     0.66567,     0.66667,     0.66767,     0.66867,     0.66967,     0.67067,     0.67167,\n",
              "           0.67267,     0.67367,     0.67467,     0.67568,     0.67668,     0.67768,     0.67868,     0.67968,     0.68068,     0.68168,     0.68268,     0.68368,     0.68468,     0.68569,     0.68669,     0.68769,     0.68869,     0.68969,     0.69069,     0.69169,     0.69269,     0.69369,     0.69469,      0.6957,\n",
              "            0.6967,      0.6977,      0.6987,      0.6997,      0.7007,      0.7017,      0.7027,      0.7037,      0.7047,     0.70571,     0.70671,     0.70771,     0.70871,     0.70971,     0.71071,     0.71171,     0.71271,     0.71371,     0.71471,     0.71572,     0.71672,     0.71772,     0.71872,     0.71972,\n",
              "           0.72072,     0.72172,     0.72272,     0.72372,     0.72472,     0.72573,     0.72673,     0.72773,     0.72873,     0.72973,     0.73073,     0.73173,     0.73273,     0.73373,     0.73473,     0.73574,     0.73674,     0.73774,     0.73874,     0.73974,     0.74074,     0.74174,     0.74274,     0.74374,\n",
              "           0.74474,     0.74575,     0.74675,     0.74775,     0.74875,     0.74975,     0.75075,     0.75175,     0.75275,     0.75375,     0.75475,     0.75576,     0.75676,     0.75776,     0.75876,     0.75976,     0.76076,     0.76176,     0.76276,     0.76376,     0.76476,     0.76577,     0.76677,     0.76777,\n",
              "           0.76877,     0.76977,     0.77077,     0.77177,     0.77277,     0.77377,     0.77477,     0.77578,     0.77678,     0.77778,     0.77878,     0.77978,     0.78078,     0.78178,     0.78278,     0.78378,     0.78478,     0.78579,     0.78679,     0.78779,     0.78879,     0.78979,     0.79079,     0.79179,\n",
              "           0.79279,     0.79379,     0.79479,      0.7958,      0.7968,      0.7978,      0.7988,      0.7998,      0.8008,      0.8018,      0.8028,      0.8038,      0.8048,     0.80581,     0.80681,     0.80781,     0.80881,     0.80981,     0.81081,     0.81181,     0.81281,     0.81381,     0.81481,     0.81582,\n",
              "           0.81682,     0.81782,     0.81882,     0.81982,     0.82082,     0.82182,     0.82282,     0.82382,     0.82482,     0.82583,     0.82683,     0.82783,     0.82883,     0.82983,     0.83083,     0.83183,     0.83283,     0.83383,     0.83483,     0.83584,     0.83684,     0.83784,     0.83884,     0.83984,\n",
              "           0.84084,     0.84184,     0.84284,     0.84384,     0.84484,     0.84585,     0.84685,     0.84785,     0.84885,     0.84985,     0.85085,     0.85185,     0.85285,     0.85385,     0.85485,     0.85586,     0.85686,     0.85786,     0.85886,     0.85986,     0.86086,     0.86186,     0.86286,     0.86386,\n",
              "           0.86486,     0.86587,     0.86687,     0.86787,     0.86887,     0.86987,     0.87087,     0.87187,     0.87287,     0.87387,     0.87487,     0.87588,     0.87688,     0.87788,     0.87888,     0.87988,     0.88088,     0.88188,     0.88288,     0.88388,     0.88488,     0.88589,     0.88689,     0.88789,\n",
              "           0.88889,     0.88989,     0.89089,     0.89189,     0.89289,     0.89389,     0.89489,      0.8959,      0.8969,      0.8979,      0.8989,      0.8999,      0.9009,      0.9019,      0.9029,      0.9039,      0.9049,     0.90591,     0.90691,     0.90791,     0.90891,     0.90991,     0.91091,     0.91191,\n",
              "           0.91291,     0.91391,     0.91491,     0.91592,     0.91692,     0.91792,     0.91892,     0.91992,     0.92092,     0.92192,     0.92292,     0.92392,     0.92492,     0.92593,     0.92693,     0.92793,     0.92893,     0.92993,     0.93093,     0.93193,     0.93293,     0.93393,     0.93493,     0.93594,\n",
              "           0.93694,     0.93794,     0.93894,     0.93994,     0.94094,     0.94194,     0.94294,     0.94394,     0.94494,     0.94595,     0.94695,     0.94795,     0.94895,     0.94995,     0.95095,     0.95195,     0.95295,     0.95395,     0.95495,     0.95596,     0.95696,     0.95796,     0.95896,     0.95996,\n",
              "           0.96096,     0.96196,     0.96296,     0.96396,     0.96496,     0.96597,     0.96697,     0.96797,     0.96897,     0.96997,     0.97097,     0.97197,     0.97297,     0.97397,     0.97497,     0.97598,     0.97698,     0.97798,     0.97898,     0.97998,     0.98098,     0.98198,     0.98298,     0.98398,\n",
              "           0.98498,     0.98599,     0.98699,     0.98799,     0.98899,     0.98999,     0.99099,     0.99199,     0.99299,     0.99399,     0.99499,       0.996,       0.997,       0.998,       0.999,           1]), array([[          1,     0.99057,     0.98561,     0.98213,     0.98213,     0.98213,     0.98213,     0.98213,     0.98103,     0.98103,     0.97958,     0.97945,     0.97778,     0.97712,      0.9771,     0.97497,     0.97463,     0.97463,     0.97463,     0.97463,     0.97391,     0.97384,     0.97378,\n",
              "            0.97349,     0.97329,     0.97329,     0.97329,     0.97268,     0.97261,     0.97261,     0.97261,     0.97261,     0.97261,     0.97229,     0.97215,     0.97215,     0.97215,     0.97186,     0.97138,     0.97135,     0.97135,     0.97111,     0.97075,     0.97008,     0.97008,     0.97008,\n",
              "            0.96996,     0.96963,      0.9693,     0.96884,      0.9688,     0.96867,     0.96863,     0.96863,      0.9682,     0.96805,     0.96783,     0.96783,     0.96769,     0.96739,     0.96735,     0.96727,     0.96717,     0.96701,     0.96612,     0.96581,     0.96536,     0.96463,      0.9645,\n",
              "            0.96381,     0.96327,     0.96286,     0.96286,     0.96246,     0.96242,     0.96242,     0.96242,     0.96242,     0.96229,     0.96211,     0.96202,     0.96188,      0.9618,     0.96171,     0.96125,      0.9605,     0.96012,     0.95965,     0.95884,     0.95829,     0.95813,     0.95718,\n",
              "            0.95689,     0.95613,     0.95559,     0.95493,      0.9544,     0.95362,     0.95359,     0.95308,     0.95287,     0.95227,     0.95118,     0.95064,      0.9504,     0.94951,     0.94913,     0.94859,     0.94782,      0.9469,     0.94625,     0.94578,     0.94456,     0.94406,     0.94334,\n",
              "            0.94289,     0.94216,     0.94176,     0.94072,     0.94037,     0.93977,      0.9389,     0.93843,     0.93714,     0.93642,     0.93516,     0.93431,     0.93342,      0.9327,     0.93177,      0.9304,     0.92949,     0.92832,     0.92684,      0.9259,     0.92571,     0.92474,     0.92358,\n",
              "            0.92231,     0.92145,     0.92018,     0.91886,     0.91771,     0.91701,     0.91574,     0.91461,     0.91391,     0.91326,     0.91228,     0.91073,     0.91025,     0.90893,     0.90804,     0.90693,     0.90545,     0.90425,     0.90302,     0.90193,     0.90046,     0.89892,     0.89762,\n",
              "            0.89612,     0.89514,     0.89381,     0.89236,     0.89115,     0.88956,     0.88817,     0.88649,     0.88456,     0.88332,     0.88217,     0.88058,     0.87887,      0.8772,     0.87592,     0.87482,     0.87318,     0.87146,     0.86966,     0.86841,     0.86619,     0.86473,     0.86203,\n",
              "            0.86075,     0.85957,      0.8577,     0.85609,     0.85419,     0.85174,      0.8499,     0.84823,     0.84622,     0.84451,     0.84231,      0.8407,     0.83825,     0.83601,     0.83416,     0.83216,     0.83004,     0.82831,     0.82609,     0.82423,     0.82271,     0.82021,     0.81829,\n",
              "            0.81608,     0.81395,     0.81207,     0.80997,     0.80771,     0.80567,     0.80336,     0.80099,     0.79888,     0.79607,     0.79346,     0.79126,     0.78898,     0.78702,     0.78475,     0.78205,     0.78026,     0.77811,      0.7761,     0.77351,      0.7722,     0.76925,     0.76706,\n",
              "             0.7646,     0.76233,     0.75969,     0.75695,      0.7541,      0.7514,     0.74915,     0.74646,     0.74363,     0.74093,     0.73831,     0.73553,     0.73332,     0.73008,     0.72759,     0.72498,     0.72189,     0.71941,      0.7165,      0.7136,     0.71104,      0.7091,     0.70591,\n",
              "            0.70281,     0.69986,     0.69712,     0.69397,     0.69121,     0.68839,      0.6861,     0.68263,      0.6796,     0.67634,     0.67352,     0.67076,     0.66842,     0.66591,     0.66362,     0.66062,     0.65824,     0.65574,     0.65251,     0.64899,     0.64602,     0.64308,      0.6405,\n",
              "            0.63737,     0.63447,      0.6321,     0.62859,     0.62617,     0.62356,     0.62055,     0.61764,      0.6152,     0.61195,     0.60907,     0.60588,     0.60309,     0.60064,     0.59782,     0.59553,     0.59279,     0.58982,     0.58656,     0.58362,      0.5811,     0.57841,     0.57583,\n",
              "            0.57327,     0.56993,     0.56711,     0.56413,     0.56122,      0.5578,     0.55521,     0.55197,     0.54875,      0.5456,     0.54182,     0.53898,     0.53661,     0.53377,     0.53042,     0.52735,     0.52444,     0.52102,     0.51815,      0.5158,     0.51246,     0.50949,     0.50605,\n",
              "            0.50248,     0.49939,      0.4967,     0.49303,     0.49002,     0.48638,     0.48316,      0.4801,      0.4773,     0.47379,     0.47096,     0.46721,     0.46471,     0.46143,     0.45859,     0.45505,     0.45178,     0.44843,     0.44575,     0.44254,     0.43947,     0.43634,     0.43287,\n",
              "            0.42986,      0.4264,     0.42314,     0.41972,     0.41652,      0.4134,     0.40964,     0.40632,     0.40314,     0.39976,     0.39661,     0.39331,     0.39051,     0.38709,     0.38338,     0.38012,     0.37703,     0.37319,     0.36978,     0.36575,     0.36203,     0.35748,     0.35319,\n",
              "              0.349,     0.34477,     0.34051,     0.33575,     0.33044,     0.32557,     0.32079,     0.31553,     0.30904,     0.30262,     0.29579,     0.28628,      0.2749,     0.25072,     0.23137,       0.231,     0.23062,     0.23025,     0.22987,      0.2295,     0.22912,     0.22875,     0.22837,\n",
              "              0.228,     0.22762,     0.22725,     0.22687,      0.2265,     0.22612,     0.22575,     0.22537,       0.225,     0.22462,     0.22425,     0.22387,      0.2235,     0.22312,     0.22275,     0.22237,       0.222,     0.22162,     0.22125,     0.22087,      0.2205,     0.22012,     0.21975,\n",
              "            0.21937,       0.219,     0.21862,     0.21825,     0.21787,      0.2175,     0.21712,     0.21675,     0.21637,       0.216,     0.21562,     0.21525,     0.21487,      0.2145,     0.21412,     0.21375,     0.21337,       0.213,     0.21262,     0.21225,     0.21187,      0.2115,     0.21112,\n",
              "            0.21075,     0.21037,        0.21,     0.20962,     0.20925,     0.20887,      0.2085,     0.20812,     0.20775,     0.20737,       0.207,     0.20662,     0.20625,     0.20587,      0.2055,     0.20512,     0.20475,     0.20437,       0.204,     0.20362,     0.20325,     0.20287,      0.2025,\n",
              "            0.20212,     0.20175,     0.20137,       0.201,     0.20062,     0.20025,     0.19987,      0.1995,     0.19912,     0.19875,     0.19837,       0.198,     0.19762,     0.19725,     0.19687,      0.1965,     0.19612,     0.19575,     0.19537,       0.195,     0.19462,     0.19425,     0.19387,\n",
              "             0.1935,     0.19312,     0.19275,     0.19237,       0.192,     0.19162,     0.19125,     0.19087,      0.1905,     0.19012,     0.18975,     0.18937,       0.189,     0.18862,     0.18825,     0.18787,      0.1875,     0.18712,     0.18675,     0.18637,       0.186,     0.18562,     0.18525,\n",
              "            0.18487,      0.1845,     0.18412,     0.18375,     0.18337,       0.183,     0.18262,     0.18225,     0.18187,      0.1815,     0.18112,     0.18075,     0.18037,        0.18,     0.17962,     0.17925,     0.17887,      0.1785,     0.17812,     0.17775,     0.17737,       0.177,     0.17662,\n",
              "            0.17625,     0.17587,      0.1755,     0.17512,     0.17475,     0.17437,       0.174,     0.17362,     0.17325,     0.17287,      0.1725,     0.17212,     0.17175,     0.17137,       0.171,     0.17062,     0.17025,     0.16987,      0.1695,     0.16912,     0.16875,     0.16837,       0.168,\n",
              "            0.16762,     0.16725,     0.16687,      0.1665,     0.16612,     0.16575,     0.16537,       0.165,     0.16462,     0.16425,     0.16387,      0.1635,     0.16312,     0.16275,     0.16237,       0.162,     0.16162,     0.16125,     0.16087,      0.1605,     0.16012,     0.15975,     0.15937,\n",
              "              0.159,     0.15862,     0.15825,     0.15787,      0.1575,     0.15712,     0.15675,     0.15637,       0.156,     0.15562,     0.15525,     0.15487,      0.1545,     0.15412,     0.15375,     0.15337,       0.153,     0.15262,     0.15225,     0.15187,      0.1515,     0.15112,     0.15075,\n",
              "            0.15037,        0.15,     0.14962,     0.14925,     0.14887,      0.1485,     0.14812,     0.14775,     0.14737,       0.147,     0.14662,     0.14625,     0.14587,      0.1455,     0.14512,     0.14475,     0.14437,       0.144,     0.14362,     0.14325,     0.14287,      0.1425,     0.14212,\n",
              "            0.14175,     0.14137,       0.141,     0.14062,     0.14025,     0.13987,      0.1395,     0.13912,     0.13875,     0.13837,       0.138,     0.13762,     0.13725,     0.13687,      0.1365,     0.13612,     0.13575,     0.13537,       0.135,     0.13462,     0.13425,     0.13387,      0.1335,\n",
              "            0.13312,     0.13275,     0.13237,       0.132,     0.13162,     0.13125,     0.13087,      0.1305,     0.13012,     0.12975,     0.12937,       0.129,     0.12862,     0.12825,     0.12787,      0.1275,     0.12712,     0.12675,     0.12637,       0.126,     0.12562,     0.12525,     0.12487,\n",
              "             0.1245,     0.12412,     0.12375,     0.12337,       0.123,     0.12262,     0.12225,     0.12187,      0.1215,     0.12112,     0.12075,     0.12037,        0.12,     0.11962,     0.11925,     0.11887,      0.1185,     0.11812,     0.11775,     0.11737,       0.117,     0.11662,     0.11625,\n",
              "            0.11587,      0.1155,     0.11512,     0.11475,     0.11437,       0.114,     0.11362,     0.11325,     0.11287,      0.1125,     0.11212,     0.11175,     0.11137,       0.111,     0.11062,     0.11025,     0.10987,      0.1095,     0.10912,     0.10875,     0.10837,       0.108,     0.10762,\n",
              "            0.10725,     0.10687,      0.1065,     0.10612,     0.10575,     0.10537,       0.105,     0.10462,     0.10425,     0.10387,      0.1035,     0.10312,     0.10275,     0.10237,       0.102,     0.10162,     0.10125,     0.10087,      0.1005,     0.10012,     0.09975,    0.099375,       0.099,\n",
              "           0.098625,     0.09825,    0.097875,      0.0975,    0.097125,     0.09675,    0.096375,       0.096,    0.095625,     0.09525,    0.094875,      0.0945,    0.094125,     0.09375,    0.093375,       0.093,    0.092625,     0.09225,    0.091875,      0.0915,    0.091125,     0.09075,    0.090375,\n",
              "               0.09,    0.089625,     0.08925,    0.088875,      0.0885,    0.088125,     0.08775,    0.087375,       0.087,    0.086625,     0.08625,    0.085875,      0.0855,    0.085125,     0.08475,    0.084375,       0.084,    0.083625,     0.08325,    0.082875,      0.0825,    0.082125,     0.08175,\n",
              "           0.081375,       0.081,    0.080625,     0.08025,    0.079875,      0.0795,    0.079125,     0.07875,    0.078375,       0.078,    0.077625,     0.07725,    0.076875,      0.0765,    0.076125,     0.07575,    0.075375,       0.075,    0.074625,     0.07425,    0.073875,      0.0735,    0.073125,\n",
              "            0.07275,    0.072375,       0.072,    0.071625,     0.07125,    0.070875,      0.0705,    0.070125,     0.06975,    0.069375,       0.069,    0.068625,     0.06825,    0.067875,      0.0675,    0.067125,     0.06675,    0.066375,       0.066,    0.065625,     0.06525,    0.064875,      0.0645,\n",
              "           0.064125,     0.06375,    0.063375,       0.063,    0.062625,     0.06225,    0.061875,      0.0615,    0.061125,     0.06075,    0.060375,        0.06,    0.059625,     0.05925,    0.058875,      0.0585,    0.058125,     0.05775,    0.057375,       0.057,    0.056625,     0.05625,    0.055875,\n",
              "             0.0555,    0.055125,     0.05475,    0.054375,       0.054,    0.053625,     0.05325,    0.052875,      0.0525,    0.052125,     0.05175,    0.051375,       0.051,    0.050625,     0.05025,    0.049875,      0.0495,    0.049125,     0.04875,    0.048375,       0.048,    0.047625,     0.04725,\n",
              "           0.046875,      0.0465,    0.046125,     0.04575,    0.045375,       0.045,    0.044625,     0.04425,    0.043875,      0.0435,    0.043125,     0.04275,    0.042375,       0.042,    0.041625,     0.04125,    0.040875,      0.0405,    0.040125,     0.03975,    0.039375,       0.039,    0.038625,\n",
              "            0.03825,    0.037875,      0.0375,    0.037125,     0.03675,    0.036375,       0.036,    0.035625,     0.03525,    0.034875,      0.0345,    0.034125,     0.03375,    0.033375,       0.033,    0.032625,     0.03225,    0.031875,      0.0315,    0.031125,     0.03075,    0.030375,        0.03,\n",
              "           0.029625,     0.02925,    0.028875,      0.0285,    0.028125,     0.02775,    0.027375,       0.027,    0.026625,     0.02625,    0.025875,      0.0255,    0.025125,     0.02475,    0.024375,       0.024,    0.023625,     0.02325,    0.022875,      0.0225,    0.022125,     0.02175,    0.021375,\n",
              "              0.021,    0.020625,     0.02025,    0.019875,      0.0195,    0.019125,     0.01875,    0.018375,       0.018,    0.017625,     0.01725,    0.016875,      0.0165,    0.016125,     0.01575,    0.015375,       0.015,    0.014625,     0.01425,    0.013875,      0.0135,    0.013125,     0.01275,\n",
              "           0.012375,       0.012,    0.011625,     0.01125,    0.010875,      0.0105,    0.010125,     0.00975,    0.009375,       0.009,    0.008625,     0.00825,    0.007875,      0.0075,    0.007125,     0.00675,    0.006375,       0.006,    0.005625,     0.00525,    0.004875,      0.0045,    0.004125,\n",
              "            0.00375,    0.003375,       0.003,    0.002625,     0.00225,    0.001875,      0.0015,    0.001125,     0.00075,    0.000375,           0]]), 'Recall', 'Precision'], [array([          0,    0.001001,    0.002002,    0.003003,    0.004004,    0.005005,    0.006006,    0.007007,    0.008008,    0.009009,     0.01001,    0.011011,    0.012012,    0.013013,    0.014014,    0.015015,    0.016016,    0.017017,    0.018018,    0.019019,     0.02002,    0.021021,    0.022022,    0.023023,\n",
              "          0.024024,    0.025025,    0.026026,    0.027027,    0.028028,    0.029029,     0.03003,    0.031031,    0.032032,    0.033033,    0.034034,    0.035035,    0.036036,    0.037037,    0.038038,    0.039039,     0.04004,    0.041041,    0.042042,    0.043043,    0.044044,    0.045045,    0.046046,    0.047047,\n",
              "          0.048048,    0.049049,     0.05005,    0.051051,    0.052052,    0.053053,    0.054054,    0.055055,    0.056056,    0.057057,    0.058058,    0.059059,     0.06006,    0.061061,    0.062062,    0.063063,    0.064064,    0.065065,    0.066066,    0.067067,    0.068068,    0.069069,     0.07007,    0.071071,\n",
              "          0.072072,    0.073073,    0.074074,    0.075075,    0.076076,    0.077077,    0.078078,    0.079079,     0.08008,    0.081081,    0.082082,    0.083083,    0.084084,    0.085085,    0.086086,    0.087087,    0.088088,    0.089089,     0.09009,    0.091091,    0.092092,    0.093093,    0.094094,    0.095095,\n",
              "          0.096096,    0.097097,    0.098098,    0.099099,      0.1001,      0.1011,      0.1021,      0.1031,      0.1041,     0.10511,     0.10611,     0.10711,     0.10811,     0.10911,     0.11011,     0.11111,     0.11211,     0.11311,     0.11411,     0.11512,     0.11612,     0.11712,     0.11812,     0.11912,\n",
              "           0.12012,     0.12112,     0.12212,     0.12312,     0.12412,     0.12513,     0.12613,     0.12713,     0.12813,     0.12913,     0.13013,     0.13113,     0.13213,     0.13313,     0.13413,     0.13514,     0.13614,     0.13714,     0.13814,     0.13914,     0.14014,     0.14114,     0.14214,     0.14314,\n",
              "           0.14414,     0.14515,     0.14615,     0.14715,     0.14815,     0.14915,     0.15015,     0.15115,     0.15215,     0.15315,     0.15415,     0.15516,     0.15616,     0.15716,     0.15816,     0.15916,     0.16016,     0.16116,     0.16216,     0.16316,     0.16416,     0.16517,     0.16617,     0.16717,\n",
              "           0.16817,     0.16917,     0.17017,     0.17117,     0.17217,     0.17317,     0.17417,     0.17518,     0.17618,     0.17718,     0.17818,     0.17918,     0.18018,     0.18118,     0.18218,     0.18318,     0.18418,     0.18519,     0.18619,     0.18719,     0.18819,     0.18919,     0.19019,     0.19119,\n",
              "           0.19219,     0.19319,     0.19419,      0.1952,      0.1962,      0.1972,      0.1982,      0.1992,      0.2002,      0.2012,      0.2022,      0.2032,      0.2042,     0.20521,     0.20621,     0.20721,     0.20821,     0.20921,     0.21021,     0.21121,     0.21221,     0.21321,     0.21421,     0.21522,\n",
              "           0.21622,     0.21722,     0.21822,     0.21922,     0.22022,     0.22122,     0.22222,     0.22322,     0.22422,     0.22523,     0.22623,     0.22723,     0.22823,     0.22923,     0.23023,     0.23123,     0.23223,     0.23323,     0.23423,     0.23524,     0.23624,     0.23724,     0.23824,     0.23924,\n",
              "           0.24024,     0.24124,     0.24224,     0.24324,     0.24424,     0.24525,     0.24625,     0.24725,     0.24825,     0.24925,     0.25025,     0.25125,     0.25225,     0.25325,     0.25425,     0.25526,     0.25626,     0.25726,     0.25826,     0.25926,     0.26026,     0.26126,     0.26226,     0.26326,\n",
              "           0.26426,     0.26527,     0.26627,     0.26727,     0.26827,     0.26927,     0.27027,     0.27127,     0.27227,     0.27327,     0.27427,     0.27528,     0.27628,     0.27728,     0.27828,     0.27928,     0.28028,     0.28128,     0.28228,     0.28328,     0.28428,     0.28529,     0.28629,     0.28729,\n",
              "           0.28829,     0.28929,     0.29029,     0.29129,     0.29229,     0.29329,     0.29429,      0.2953,      0.2963,      0.2973,      0.2983,      0.2993,      0.3003,      0.3013,      0.3023,      0.3033,      0.3043,     0.30531,     0.30631,     0.30731,     0.30831,     0.30931,     0.31031,     0.31131,\n",
              "           0.31231,     0.31331,     0.31431,     0.31532,     0.31632,     0.31732,     0.31832,     0.31932,     0.32032,     0.32132,     0.32232,     0.32332,     0.32432,     0.32533,     0.32633,     0.32733,     0.32833,     0.32933,     0.33033,     0.33133,     0.33233,     0.33333,     0.33433,     0.33534,\n",
              "           0.33634,     0.33734,     0.33834,     0.33934,     0.34034,     0.34134,     0.34234,     0.34334,     0.34434,     0.34535,     0.34635,     0.34735,     0.34835,     0.34935,     0.35035,     0.35135,     0.35235,     0.35335,     0.35435,     0.35536,     0.35636,     0.35736,     0.35836,     0.35936,\n",
              "           0.36036,     0.36136,     0.36236,     0.36336,     0.36436,     0.36537,     0.36637,     0.36737,     0.36837,     0.36937,     0.37037,     0.37137,     0.37237,     0.37337,     0.37437,     0.37538,     0.37638,     0.37738,     0.37838,     0.37938,     0.38038,     0.38138,     0.38238,     0.38338,\n",
              "           0.38438,     0.38539,     0.38639,     0.38739,     0.38839,     0.38939,     0.39039,     0.39139,     0.39239,     0.39339,     0.39439,      0.3954,      0.3964,      0.3974,      0.3984,      0.3994,      0.4004,      0.4014,      0.4024,      0.4034,      0.4044,     0.40541,     0.40641,     0.40741,\n",
              "           0.40841,     0.40941,     0.41041,     0.41141,     0.41241,     0.41341,     0.41441,     0.41542,     0.41642,     0.41742,     0.41842,     0.41942,     0.42042,     0.42142,     0.42242,     0.42342,     0.42442,     0.42543,     0.42643,     0.42743,     0.42843,     0.42943,     0.43043,     0.43143,\n",
              "           0.43243,     0.43343,     0.43443,     0.43544,     0.43644,     0.43744,     0.43844,     0.43944,     0.44044,     0.44144,     0.44244,     0.44344,     0.44444,     0.44545,     0.44645,     0.44745,     0.44845,     0.44945,     0.45045,     0.45145,     0.45245,     0.45345,     0.45445,     0.45546,\n",
              "           0.45646,     0.45746,     0.45846,     0.45946,     0.46046,     0.46146,     0.46246,     0.46346,     0.46446,     0.46547,     0.46647,     0.46747,     0.46847,     0.46947,     0.47047,     0.47147,     0.47247,     0.47347,     0.47447,     0.47548,     0.47648,     0.47748,     0.47848,     0.47948,\n",
              "           0.48048,     0.48148,     0.48248,     0.48348,     0.48448,     0.48549,     0.48649,     0.48749,     0.48849,     0.48949,     0.49049,     0.49149,     0.49249,     0.49349,     0.49449,      0.4955,      0.4965,      0.4975,      0.4985,      0.4995,      0.5005,      0.5015,      0.5025,      0.5035,\n",
              "            0.5045,     0.50551,     0.50651,     0.50751,     0.50851,     0.50951,     0.51051,     0.51151,     0.51251,     0.51351,     0.51451,     0.51552,     0.51652,     0.51752,     0.51852,     0.51952,     0.52052,     0.52152,     0.52252,     0.52352,     0.52452,     0.52553,     0.52653,     0.52753,\n",
              "           0.52853,     0.52953,     0.53053,     0.53153,     0.53253,     0.53353,     0.53453,     0.53554,     0.53654,     0.53754,     0.53854,     0.53954,     0.54054,     0.54154,     0.54254,     0.54354,     0.54454,     0.54555,     0.54655,     0.54755,     0.54855,     0.54955,     0.55055,     0.55155,\n",
              "           0.55255,     0.55355,     0.55455,     0.55556,     0.55656,     0.55756,     0.55856,     0.55956,     0.56056,     0.56156,     0.56256,     0.56356,     0.56456,     0.56557,     0.56657,     0.56757,     0.56857,     0.56957,     0.57057,     0.57157,     0.57257,     0.57357,     0.57457,     0.57558,\n",
              "           0.57658,     0.57758,     0.57858,     0.57958,     0.58058,     0.58158,     0.58258,     0.58358,     0.58458,     0.58559,     0.58659,     0.58759,     0.58859,     0.58959,     0.59059,     0.59159,     0.59259,     0.59359,     0.59459,      0.5956,      0.5966,      0.5976,      0.5986,      0.5996,\n",
              "            0.6006,      0.6016,      0.6026,      0.6036,      0.6046,     0.60561,     0.60661,     0.60761,     0.60861,     0.60961,     0.61061,     0.61161,     0.61261,     0.61361,     0.61461,     0.61562,     0.61662,     0.61762,     0.61862,     0.61962,     0.62062,     0.62162,     0.62262,     0.62362,\n",
              "           0.62462,     0.62563,     0.62663,     0.62763,     0.62863,     0.62963,     0.63063,     0.63163,     0.63263,     0.63363,     0.63463,     0.63564,     0.63664,     0.63764,     0.63864,     0.63964,     0.64064,     0.64164,     0.64264,     0.64364,     0.64464,     0.64565,     0.64665,     0.64765,\n",
              "           0.64865,     0.64965,     0.65065,     0.65165,     0.65265,     0.65365,     0.65465,     0.65566,     0.65666,     0.65766,     0.65866,     0.65966,     0.66066,     0.66166,     0.66266,     0.66366,     0.66466,     0.66567,     0.66667,     0.66767,     0.66867,     0.66967,     0.67067,     0.67167,\n",
              "           0.67267,     0.67367,     0.67467,     0.67568,     0.67668,     0.67768,     0.67868,     0.67968,     0.68068,     0.68168,     0.68268,     0.68368,     0.68468,     0.68569,     0.68669,     0.68769,     0.68869,     0.68969,     0.69069,     0.69169,     0.69269,     0.69369,     0.69469,      0.6957,\n",
              "            0.6967,      0.6977,      0.6987,      0.6997,      0.7007,      0.7017,      0.7027,      0.7037,      0.7047,     0.70571,     0.70671,     0.70771,     0.70871,     0.70971,     0.71071,     0.71171,     0.71271,     0.71371,     0.71471,     0.71572,     0.71672,     0.71772,     0.71872,     0.71972,\n",
              "           0.72072,     0.72172,     0.72272,     0.72372,     0.72472,     0.72573,     0.72673,     0.72773,     0.72873,     0.72973,     0.73073,     0.73173,     0.73273,     0.73373,     0.73473,     0.73574,     0.73674,     0.73774,     0.73874,     0.73974,     0.74074,     0.74174,     0.74274,     0.74374,\n",
              "           0.74474,     0.74575,     0.74675,     0.74775,     0.74875,     0.74975,     0.75075,     0.75175,     0.75275,     0.75375,     0.75475,     0.75576,     0.75676,     0.75776,     0.75876,     0.75976,     0.76076,     0.76176,     0.76276,     0.76376,     0.76476,     0.76577,     0.76677,     0.76777,\n",
              "           0.76877,     0.76977,     0.77077,     0.77177,     0.77277,     0.77377,     0.77477,     0.77578,     0.77678,     0.77778,     0.77878,     0.77978,     0.78078,     0.78178,     0.78278,     0.78378,     0.78478,     0.78579,     0.78679,     0.78779,     0.78879,     0.78979,     0.79079,     0.79179,\n",
              "           0.79279,     0.79379,     0.79479,      0.7958,      0.7968,      0.7978,      0.7988,      0.7998,      0.8008,      0.8018,      0.8028,      0.8038,      0.8048,     0.80581,     0.80681,     0.80781,     0.80881,     0.80981,     0.81081,     0.81181,     0.81281,     0.81381,     0.81481,     0.81582,\n",
              "           0.81682,     0.81782,     0.81882,     0.81982,     0.82082,     0.82182,     0.82282,     0.82382,     0.82482,     0.82583,     0.82683,     0.82783,     0.82883,     0.82983,     0.83083,     0.83183,     0.83283,     0.83383,     0.83483,     0.83584,     0.83684,     0.83784,     0.83884,     0.83984,\n",
              "           0.84084,     0.84184,     0.84284,     0.84384,     0.84484,     0.84585,     0.84685,     0.84785,     0.84885,     0.84985,     0.85085,     0.85185,     0.85285,     0.85385,     0.85485,     0.85586,     0.85686,     0.85786,     0.85886,     0.85986,     0.86086,     0.86186,     0.86286,     0.86386,\n",
              "           0.86486,     0.86587,     0.86687,     0.86787,     0.86887,     0.86987,     0.87087,     0.87187,     0.87287,     0.87387,     0.87487,     0.87588,     0.87688,     0.87788,     0.87888,     0.87988,     0.88088,     0.88188,     0.88288,     0.88388,     0.88488,     0.88589,     0.88689,     0.88789,\n",
              "           0.88889,     0.88989,     0.89089,     0.89189,     0.89289,     0.89389,     0.89489,      0.8959,      0.8969,      0.8979,      0.8989,      0.8999,      0.9009,      0.9019,      0.9029,      0.9039,      0.9049,     0.90591,     0.90691,     0.90791,     0.90891,     0.90991,     0.91091,     0.91191,\n",
              "           0.91291,     0.91391,     0.91491,     0.91592,     0.91692,     0.91792,     0.91892,     0.91992,     0.92092,     0.92192,     0.92292,     0.92392,     0.92492,     0.92593,     0.92693,     0.92793,     0.92893,     0.92993,     0.93093,     0.93193,     0.93293,     0.93393,     0.93493,     0.93594,\n",
              "           0.93694,     0.93794,     0.93894,     0.93994,     0.94094,     0.94194,     0.94294,     0.94394,     0.94494,     0.94595,     0.94695,     0.94795,     0.94895,     0.94995,     0.95095,     0.95195,     0.95295,     0.95395,     0.95495,     0.95596,     0.95696,     0.95796,     0.95896,     0.95996,\n",
              "           0.96096,     0.96196,     0.96296,     0.96396,     0.96496,     0.96597,     0.96697,     0.96797,     0.96897,     0.96997,     0.97097,     0.97197,     0.97297,     0.97397,     0.97497,     0.97598,     0.97698,     0.97798,     0.97898,     0.97998,     0.98098,     0.98198,     0.98298,     0.98398,\n",
              "           0.98498,     0.98599,     0.98699,     0.98799,     0.98899,     0.98999,     0.99099,     0.99199,     0.99299,     0.99399,     0.99499,       0.996,       0.997,       0.998,       0.999,           1]), array([[    0.28831,     0.28831,     0.29325,      0.2964,     0.29892,     0.30104,     0.30293,     0.30462,     0.30639,     0.30791,     0.30922,     0.31046,     0.31157,     0.31264,     0.31372,     0.31475,     0.31568,     0.31669,     0.31757,     0.31848,     0.31935,     0.32021,     0.32101,\n",
              "            0.32176,     0.32254,      0.3233,     0.32402,     0.32472,     0.32549,      0.3262,     0.32689,      0.3276,     0.32832,     0.32899,     0.32966,     0.33033,     0.33096,     0.33154,     0.33217,     0.33273,     0.33339,     0.33398,     0.33454,     0.33515,     0.33571,     0.33631,\n",
              "            0.33683,     0.33738,     0.33799,     0.33862,     0.33919,     0.33981,      0.3405,     0.34111,     0.34169,     0.34232,     0.34295,     0.34346,     0.34405,     0.34466,     0.34519,     0.34578,     0.34627,     0.34694,     0.34742,     0.34794,     0.34852,     0.34907,     0.34978,\n",
              "            0.35043,     0.35099,     0.35164,     0.35222,     0.35281,     0.35341,     0.35402,     0.35453,     0.35516,     0.35578,     0.35628,     0.35685,     0.35735,     0.35784,     0.35848,       0.359,     0.35972,     0.36031,     0.36083,     0.36137,     0.36189,     0.36262,     0.36314,\n",
              "            0.36369,     0.36414,     0.36474,     0.36524,     0.36586,     0.36633,     0.36678,     0.36714,     0.36767,     0.36821,      0.3687,      0.3692,     0.36948,     0.36996,     0.37042,     0.37091,     0.37137,     0.37187,     0.37229,     0.37268,     0.37311,     0.37348,     0.37387,\n",
              "             0.3742,      0.3747,     0.37504,     0.37556,     0.37589,     0.37639,     0.37675,     0.37712,     0.37758,     0.37797,     0.37848,     0.37891,     0.37931,     0.37981,     0.38022,     0.38052,     0.38096,      0.3815,     0.38184,      0.3822,     0.38256,     0.38322,     0.38354,\n",
              "            0.38387,     0.38429,     0.38463,     0.38496,      0.3853,     0.38554,     0.38592,     0.38628,     0.38665,     0.38697,     0.38727,     0.38766,     0.38807,     0.38825,     0.38854,      0.3888,     0.38892,     0.38923,     0.38958,     0.38985,     0.38996,     0.39027,     0.39052,\n",
              "            0.39074,     0.39098,     0.39113,     0.39152,     0.39177,     0.39193,     0.39206,     0.39241,     0.39251,     0.39268,     0.39277,     0.39311,     0.39317,     0.39339,     0.39346,     0.39363,     0.39364,     0.39366,     0.39376,     0.39388,      0.3939,     0.39397,     0.39407,\n",
              "            0.39407,     0.39391,     0.39382,      0.3938,     0.39388,     0.39401,     0.39397,     0.39403,     0.39395,     0.39383,     0.39378,     0.39374,     0.39357,     0.39354,     0.39332,     0.39325,     0.39313,     0.39285,      0.3927,     0.39243,     0.39229,     0.39204,     0.39191,\n",
              "            0.39169,     0.39155,     0.39124,     0.39068,      0.3906,     0.39011,     0.39004,     0.38959,     0.38948,      0.3891,     0.38898,      0.3886,     0.38828,      0.3878,     0.38769,     0.38721,     0.38696,     0.38658,     0.38633,      0.3857,     0.38551,     0.38507,     0.38477,\n",
              "            0.38424,     0.38401,     0.38374,     0.38329,     0.38302,     0.38256,     0.38215,     0.38142,     0.38121,     0.38091,     0.38007,     0.37979,     0.37896,     0.37866,     0.37839,     0.37778,     0.37746,     0.37714,     0.37649,     0.37617,     0.37527,     0.37497,     0.37461,\n",
              "            0.37383,     0.37348,     0.37302,     0.37229,     0.37187,     0.37144,     0.37048,     0.37003,     0.36911,     0.36869,     0.36831,     0.36786,     0.36691,     0.36646,     0.36596,     0.36498,      0.3646,     0.36414,     0.36301,     0.36259,     0.36214,     0.36164,     0.36052,\n",
              "            0.36008,     0.35951,     0.35904,     0.35802,      0.3575,     0.35693,     0.35588,     0.35538,     0.35494,     0.35434,     0.35322,     0.35267,     0.35211,     0.35166,     0.35054,     0.34984,     0.34936,      0.3487,      0.3476,      0.3469,     0.34621,      0.3456,     0.34517,\n",
              "            0.34385,      0.3432,     0.34258,     0.34197,     0.34081,     0.34021,      0.3397,     0.33914,     0.33854,     0.33733,     0.33668,     0.33611,     0.33551,     0.33418,     0.33357,     0.33297,     0.33231,     0.33166,       0.331,     0.33045,     0.32918,     0.32836,     0.32775,\n",
              "            0.32719,     0.32641,     0.32489,     0.32425,     0.32369,     0.32286,     0.32227,     0.32167,      0.3203,     0.31956,     0.31889,     0.31839,     0.31775,     0.31708,     0.31635,     0.31507,      0.3144,     0.31366,     0.31305,     0.31239,     0.31158,     0.31006,     0.30954,\n",
              "            0.30878,     0.30836,     0.30769,     0.30696,     0.30623,      0.3049,     0.30417,     0.30337,     0.30253,     0.30185,     0.30132,     0.30083,     0.30002,     0.29943,     0.29877,     0.29726,     0.29654,     0.29589,     0.29508,     0.29449,      0.2937,     0.29295,     0.29218,\n",
              "            0.29149,     0.29067,      0.2891,     0.28848,     0.28758,     0.28695,     0.28628,     0.28559,     0.28472,     0.28399,     0.28336,     0.28261,     0.28115,      0.2805,     0.27978,      0.2792,     0.27842,     0.27764,     0.27701,     0.27626,      0.2757,     0.27492,     0.27343,\n",
              "             0.2727,     0.27203,     0.27121,     0.27055,     0.26983,     0.26906,     0.26833,     0.26755,     0.26666,     0.26591,     0.26522,     0.26449,     0.26383,     0.26298,     0.26233,     0.26138,      0.2599,     0.25894,     0.25822,     0.25736,     0.25656,     0.25581,     0.25509,\n",
              "             0.2543,     0.25354,     0.25269,     0.25192,     0.25117,     0.25047,     0.24981,     0.24899,     0.24827,     0.24684,     0.24592,     0.24507,     0.24426,     0.24356,     0.24274,     0.24189,     0.24098,     0.24008,     0.23934,     0.23866,     0.23777,     0.23692,     0.23607,\n",
              "            0.23513,     0.23415,     0.23333,     0.23257,     0.23185,     0.23094,     0.23028,     0.22934,     0.22856,     0.22779,     0.22704,     0.22619,     0.22541,     0.22394,     0.22332,     0.22248,     0.22155,     0.22064,     0.21993,     0.21917,     0.21828,     0.21737,      0.2166,\n",
              "            0.21593,      0.2151,     0.21424,     0.21336,     0.21254,     0.21174,     0.21094,     0.21009,     0.20946,     0.20876,      0.2078,      0.2069,     0.20614,     0.20512,      0.2043,     0.20337,     0.20245,     0.20153,     0.20058,     0.19959,     0.19811,     0.19729,     0.19653,\n",
              "            0.19568,     0.19486,     0.19411,     0.19333,     0.19243,     0.19158,     0.19077,     0.18987,     0.18895,      0.1882,     0.18726,     0.18638,      0.1854,     0.18438,     0.18334,     0.18239,     0.18155,     0.18072,     0.17974,     0.17879,     0.17806,     0.17711,     0.17602,\n",
              "            0.17522,     0.17448,     0.17357,     0.17266,     0.17183,     0.17097,     0.17014,     0.16932,     0.16844,     0.16749,     0.16641,     0.16557,     0.16459,     0.16361,     0.16168,      0.1607,      0.1599,     0.15907,     0.15803,     0.15717,     0.15617,     0.15545,     0.15453,\n",
              "            0.15353,     0.15235,     0.15151,     0.15064,     0.14965,     0.14863,     0.14751,     0.14672,     0.14566,     0.14455,     0.14358,     0.14269,     0.14187,     0.14075,      0.1398,     0.13867,     0.13784,     0.13662,     0.13549,     0.13444,      0.1333,     0.13245,     0.13135,\n",
              "            0.13041,     0.12933,     0.12864,      0.1276,     0.12648,     0.12447,      0.1232,     0.12209,     0.12106,     0.11999,     0.11901,     0.11805,     0.11693,     0.11574,     0.11459,     0.11345,     0.11239,     0.11159,     0.11064,     0.10941,     0.10814,     0.10697,     0.10606,\n",
              "            0.10486,     0.10384,     0.10263,     0.10127,     0.10023,    0.098088,    0.097022,    0.096107,     0.09523,    0.094186,    0.092963,     0.09218,    0.091205,    0.090027,    0.089014,    0.087833,    0.086853,    0.085607,    0.084612,     0.08352,    0.082426,    0.080523,    0.079608,\n",
              "           0.078679,    0.077799,    0.076685,    0.075863,    0.074967,    0.073997,    0.072989,    0.072055,    0.071071,    0.068909,    0.068067,    0.067004,    0.066025,    0.065192,    0.064238,    0.063306,    0.062275,    0.061206,    0.060068,    0.059056,    0.057934,    0.057045,    0.055302,\n",
              "           0.054299,    0.053345,    0.052241,    0.051322,    0.050508,    0.049363,    0.048179,    0.047492,    0.046644,    0.045833,    0.044832,     0.04316,    0.042257,    0.041479,    0.040662,    0.039983,    0.039198,     0.03863,    0.037862,    0.036335,    0.035501,    0.034856,    0.034273,\n",
              "           0.033482,    0.032621,    0.031962,    0.031404,    0.030617,    0.029264,    0.028704,    0.028131,    0.027533,    0.026839,    0.026223,    0.025485,    0.024795,     0.02404,    0.022985,    0.022242,    0.021665,    0.021113,    0.020131,    0.019502,    0.018962,    0.018563,     0.01811,\n",
              "            0.01772,    0.017295,    0.016818,     0.01596,    0.015431,    0.014928,    0.014639,    0.014391,    0.013848,    0.013499,    0.012807,    0.012315,    0.011822,    0.011026,    0.010688,    0.010351,    0.010103,   0.0097209,   0.0094739,    0.009162,   0.0086487,   0.0082845,   0.0080602,\n",
              "          0.0078355,   0.0075621,   0.0072366,   0.0066832,   0.0065006,   0.0063129,   0.0061158,   0.0059462,   0.0055615,   0.0053787,    0.005059,   0.0049413,   0.0047836,   0.0046211,    0.004412,   0.0041311,   0.0039872,   0.0038277,   0.0036928,   0.0035358,   0.0034245,   0.0033327,   0.0031976,\n",
              "          0.0030904,   0.0030116,   0.0027565,   0.0026331,    0.002514,   0.0024222,   0.0022715,   0.0021534,   0.0020421,   0.0020332,   0.0019078,   0.0019011,   0.0017398,   0.0016587,    0.001641,   0.0015425,   0.0014516,   0.0014427,   0.0013779,   0.0013187,   0.0013008,   0.0012199,   0.0012065,\n",
              "          0.0011185,   0.0010756,   0.0010353,  0.00098914,  0.00095179,  0.00090356,  0.00089461,  0.00088566,  0.00087671,  0.00086777,   0.0008428,  0.00077045,  0.00074106,   0.0007272,  0.00070515,   0.0006962,  0.00069083,  0.00068635,  0.00068188,  0.00065511,  0.00064019,  0.00063571,  0.00063124,\n",
              "         0.00062799,  0.00062608,  0.00062416,  0.00062224,  0.00062032,   0.0006184,  0.00061649,  0.00060998,  0.00060103,  0.00059207,  0.00058312,  0.00056107,  0.00055212,  0.00054317,  0.00052187,  0.00051516,  0.00050844,  0.00050173,  0.00048366,  0.00048098,  0.00047829,   0.0004756,  0.00047292,\n",
              "         0.00047023,  0.00046755,  0.00046486,  0.00046218,  0.00045949,  0.00045407,  0.00044736,  0.00044375,  0.00044131,  0.00043887,  0.00043643,  0.00043398,  0.00043049,  0.00042511,  0.00041974,  0.00040313,  0.00039977,  0.00039641,   0.0003926,  0.00037645,  0.00036973,  0.00036469,  0.00036085,\n",
              "         0.00035702,  0.00035352,  0.00035173,  0.00034994,  0.00034815,  0.00034636,  0.00034456,  0.00034277,  0.00034098,  0.00032438,  0.00031542,  0.00030245,  0.00029521,   0.0002885,  0.00028458,  0.00028074,   0.0002769,  0.00026772,  0.00026152,  0.00026052,  0.00025953,  0.00025853,  0.00025754,\n",
              "         0.00025654,  0.00025555,  0.00025456,  0.00025356,  0.00025257,  0.00025157,  0.00025058,  0.00024958,  0.00024679,  0.00024142,  0.00023604,  0.00023067,   0.0002253,  0.00021802,  0.00020906,  0.00020011,  0.00018321,  0.00018097,  0.00017873,  0.00017649,  0.00017426,  0.00017202,  0.00015584,\n",
              "         0.00015047,   0.0001451,  0.00013307,  0.00012344,  0.00010756,  0.00010216,  9.9179e-05,  9.6193e-05,  9.3208e-05,  9.0888e-05,  8.9208e-05,  8.7529e-05,   8.585e-05,  8.4171e-05,  8.2492e-05,  8.0813e-05,  7.9133e-05,  7.7285e-05,  7.5366e-05,  7.3447e-05,  7.1528e-05,  6.9609e-05,   6.769e-05,\n",
              "         6.5771e-05,  5.3776e-05,  4.9404e-05,  4.6046e-05,  4.2687e-05,  3.9329e-05,   3.597e-05,  3.2612e-05,  2.9253e-05,  2.6017e-05,   2.395e-05,  2.1883e-05,  1.9817e-05,   1.775e-05,  1.5683e-05,  1.3616e-05,           0,           0,           0,           0,           0,           0,           0,\n",
              "                  0,           0,           0,           0,           0,           0,           0,           0,           0,           0,           0,           0,           0,           0,           0,           0,           0,           0,           0,           0,           0,           0,           0,\n",
              "                  0,           0,           0,           0,           0,           0,           0,           0,           0,           0,           0,           0,           0,           0,           0,           0,           0,           0,           0,           0,           0,           0,           0,\n",
              "                  0,           0,           0,           0,           0,           0,           0,           0,           0,           0,           0,           0,           0,           0,           0,           0,           0,           0,           0,           0,           0,           0,           0,\n",
              "                  0,           0,           0,           0,           0,           0,           0,           0,           0,           0,           0,           0,           0,           0,           0,           0,           0,           0,           0,           0,           0,           0,           0,\n",
              "                  0,           0,           0,           0,           0,           0,           0,           0,           0,           0,           0]]), 'Confidence', 'F1'], [array([          0,    0.001001,    0.002002,    0.003003,    0.004004,    0.005005,    0.006006,    0.007007,    0.008008,    0.009009,     0.01001,    0.011011,    0.012012,    0.013013,    0.014014,    0.015015,    0.016016,    0.017017,    0.018018,    0.019019,     0.02002,    0.021021,    0.022022,    0.023023,\n",
              "          0.024024,    0.025025,    0.026026,    0.027027,    0.028028,    0.029029,     0.03003,    0.031031,    0.032032,    0.033033,    0.034034,    0.035035,    0.036036,    0.037037,    0.038038,    0.039039,     0.04004,    0.041041,    0.042042,    0.043043,    0.044044,    0.045045,    0.046046,    0.047047,\n",
              "          0.048048,    0.049049,     0.05005,    0.051051,    0.052052,    0.053053,    0.054054,    0.055055,    0.056056,    0.057057,    0.058058,    0.059059,     0.06006,    0.061061,    0.062062,    0.063063,    0.064064,    0.065065,    0.066066,    0.067067,    0.068068,    0.069069,     0.07007,    0.071071,\n",
              "          0.072072,    0.073073,    0.074074,    0.075075,    0.076076,    0.077077,    0.078078,    0.079079,     0.08008,    0.081081,    0.082082,    0.083083,    0.084084,    0.085085,    0.086086,    0.087087,    0.088088,    0.089089,     0.09009,    0.091091,    0.092092,    0.093093,    0.094094,    0.095095,\n",
              "          0.096096,    0.097097,    0.098098,    0.099099,      0.1001,      0.1011,      0.1021,      0.1031,      0.1041,     0.10511,     0.10611,     0.10711,     0.10811,     0.10911,     0.11011,     0.11111,     0.11211,     0.11311,     0.11411,     0.11512,     0.11612,     0.11712,     0.11812,     0.11912,\n",
              "           0.12012,     0.12112,     0.12212,     0.12312,     0.12412,     0.12513,     0.12613,     0.12713,     0.12813,     0.12913,     0.13013,     0.13113,     0.13213,     0.13313,     0.13413,     0.13514,     0.13614,     0.13714,     0.13814,     0.13914,     0.14014,     0.14114,     0.14214,     0.14314,\n",
              "           0.14414,     0.14515,     0.14615,     0.14715,     0.14815,     0.14915,     0.15015,     0.15115,     0.15215,     0.15315,     0.15415,     0.15516,     0.15616,     0.15716,     0.15816,     0.15916,     0.16016,     0.16116,     0.16216,     0.16316,     0.16416,     0.16517,     0.16617,     0.16717,\n",
              "           0.16817,     0.16917,     0.17017,     0.17117,     0.17217,     0.17317,     0.17417,     0.17518,     0.17618,     0.17718,     0.17818,     0.17918,     0.18018,     0.18118,     0.18218,     0.18318,     0.18418,     0.18519,     0.18619,     0.18719,     0.18819,     0.18919,     0.19019,     0.19119,\n",
              "           0.19219,     0.19319,     0.19419,      0.1952,      0.1962,      0.1972,      0.1982,      0.1992,      0.2002,      0.2012,      0.2022,      0.2032,      0.2042,     0.20521,     0.20621,     0.20721,     0.20821,     0.20921,     0.21021,     0.21121,     0.21221,     0.21321,     0.21421,     0.21522,\n",
              "           0.21622,     0.21722,     0.21822,     0.21922,     0.22022,     0.22122,     0.22222,     0.22322,     0.22422,     0.22523,     0.22623,     0.22723,     0.22823,     0.22923,     0.23023,     0.23123,     0.23223,     0.23323,     0.23423,     0.23524,     0.23624,     0.23724,     0.23824,     0.23924,\n",
              "           0.24024,     0.24124,     0.24224,     0.24324,     0.24424,     0.24525,     0.24625,     0.24725,     0.24825,     0.24925,     0.25025,     0.25125,     0.25225,     0.25325,     0.25425,     0.25526,     0.25626,     0.25726,     0.25826,     0.25926,     0.26026,     0.26126,     0.26226,     0.26326,\n",
              "           0.26426,     0.26527,     0.26627,     0.26727,     0.26827,     0.26927,     0.27027,     0.27127,     0.27227,     0.27327,     0.27427,     0.27528,     0.27628,     0.27728,     0.27828,     0.27928,     0.28028,     0.28128,     0.28228,     0.28328,     0.28428,     0.28529,     0.28629,     0.28729,\n",
              "           0.28829,     0.28929,     0.29029,     0.29129,     0.29229,     0.29329,     0.29429,      0.2953,      0.2963,      0.2973,      0.2983,      0.2993,      0.3003,      0.3013,      0.3023,      0.3033,      0.3043,     0.30531,     0.30631,     0.30731,     0.30831,     0.30931,     0.31031,     0.31131,\n",
              "           0.31231,     0.31331,     0.31431,     0.31532,     0.31632,     0.31732,     0.31832,     0.31932,     0.32032,     0.32132,     0.32232,     0.32332,     0.32432,     0.32533,     0.32633,     0.32733,     0.32833,     0.32933,     0.33033,     0.33133,     0.33233,     0.33333,     0.33433,     0.33534,\n",
              "           0.33634,     0.33734,     0.33834,     0.33934,     0.34034,     0.34134,     0.34234,     0.34334,     0.34434,     0.34535,     0.34635,     0.34735,     0.34835,     0.34935,     0.35035,     0.35135,     0.35235,     0.35335,     0.35435,     0.35536,     0.35636,     0.35736,     0.35836,     0.35936,\n",
              "           0.36036,     0.36136,     0.36236,     0.36336,     0.36436,     0.36537,     0.36637,     0.36737,     0.36837,     0.36937,     0.37037,     0.37137,     0.37237,     0.37337,     0.37437,     0.37538,     0.37638,     0.37738,     0.37838,     0.37938,     0.38038,     0.38138,     0.38238,     0.38338,\n",
              "           0.38438,     0.38539,     0.38639,     0.38739,     0.38839,     0.38939,     0.39039,     0.39139,     0.39239,     0.39339,     0.39439,      0.3954,      0.3964,      0.3974,      0.3984,      0.3994,      0.4004,      0.4014,      0.4024,      0.4034,      0.4044,     0.40541,     0.40641,     0.40741,\n",
              "           0.40841,     0.40941,     0.41041,     0.41141,     0.41241,     0.41341,     0.41441,     0.41542,     0.41642,     0.41742,     0.41842,     0.41942,     0.42042,     0.42142,     0.42242,     0.42342,     0.42442,     0.42543,     0.42643,     0.42743,     0.42843,     0.42943,     0.43043,     0.43143,\n",
              "           0.43243,     0.43343,     0.43443,     0.43544,     0.43644,     0.43744,     0.43844,     0.43944,     0.44044,     0.44144,     0.44244,     0.44344,     0.44444,     0.44545,     0.44645,     0.44745,     0.44845,     0.44945,     0.45045,     0.45145,     0.45245,     0.45345,     0.45445,     0.45546,\n",
              "           0.45646,     0.45746,     0.45846,     0.45946,     0.46046,     0.46146,     0.46246,     0.46346,     0.46446,     0.46547,     0.46647,     0.46747,     0.46847,     0.46947,     0.47047,     0.47147,     0.47247,     0.47347,     0.47447,     0.47548,     0.47648,     0.47748,     0.47848,     0.47948,\n",
              "           0.48048,     0.48148,     0.48248,     0.48348,     0.48448,     0.48549,     0.48649,     0.48749,     0.48849,     0.48949,     0.49049,     0.49149,     0.49249,     0.49349,     0.49449,      0.4955,      0.4965,      0.4975,      0.4985,      0.4995,      0.5005,      0.5015,      0.5025,      0.5035,\n",
              "            0.5045,     0.50551,     0.50651,     0.50751,     0.50851,     0.50951,     0.51051,     0.51151,     0.51251,     0.51351,     0.51451,     0.51552,     0.51652,     0.51752,     0.51852,     0.51952,     0.52052,     0.52152,     0.52252,     0.52352,     0.52452,     0.52553,     0.52653,     0.52753,\n",
              "           0.52853,     0.52953,     0.53053,     0.53153,     0.53253,     0.53353,     0.53453,     0.53554,     0.53654,     0.53754,     0.53854,     0.53954,     0.54054,     0.54154,     0.54254,     0.54354,     0.54454,     0.54555,     0.54655,     0.54755,     0.54855,     0.54955,     0.55055,     0.55155,\n",
              "           0.55255,     0.55355,     0.55455,     0.55556,     0.55656,     0.55756,     0.55856,     0.55956,     0.56056,     0.56156,     0.56256,     0.56356,     0.56456,     0.56557,     0.56657,     0.56757,     0.56857,     0.56957,     0.57057,     0.57157,     0.57257,     0.57357,     0.57457,     0.57558,\n",
              "           0.57658,     0.57758,     0.57858,     0.57958,     0.58058,     0.58158,     0.58258,     0.58358,     0.58458,     0.58559,     0.58659,     0.58759,     0.58859,     0.58959,     0.59059,     0.59159,     0.59259,     0.59359,     0.59459,      0.5956,      0.5966,      0.5976,      0.5986,      0.5996,\n",
              "            0.6006,      0.6016,      0.6026,      0.6036,      0.6046,     0.60561,     0.60661,     0.60761,     0.60861,     0.60961,     0.61061,     0.61161,     0.61261,     0.61361,     0.61461,     0.61562,     0.61662,     0.61762,     0.61862,     0.61962,     0.62062,     0.62162,     0.62262,     0.62362,\n",
              "           0.62462,     0.62563,     0.62663,     0.62763,     0.62863,     0.62963,     0.63063,     0.63163,     0.63263,     0.63363,     0.63463,     0.63564,     0.63664,     0.63764,     0.63864,     0.63964,     0.64064,     0.64164,     0.64264,     0.64364,     0.64464,     0.64565,     0.64665,     0.64765,\n",
              "           0.64865,     0.64965,     0.65065,     0.65165,     0.65265,     0.65365,     0.65465,     0.65566,     0.65666,     0.65766,     0.65866,     0.65966,     0.66066,     0.66166,     0.66266,     0.66366,     0.66466,     0.66567,     0.66667,     0.66767,     0.66867,     0.66967,     0.67067,     0.67167,\n",
              "           0.67267,     0.67367,     0.67467,     0.67568,     0.67668,     0.67768,     0.67868,     0.67968,     0.68068,     0.68168,     0.68268,     0.68368,     0.68468,     0.68569,     0.68669,     0.68769,     0.68869,     0.68969,     0.69069,     0.69169,     0.69269,     0.69369,     0.69469,      0.6957,\n",
              "            0.6967,      0.6977,      0.6987,      0.6997,      0.7007,      0.7017,      0.7027,      0.7037,      0.7047,     0.70571,     0.70671,     0.70771,     0.70871,     0.70971,     0.71071,     0.71171,     0.71271,     0.71371,     0.71471,     0.71572,     0.71672,     0.71772,     0.71872,     0.71972,\n",
              "           0.72072,     0.72172,     0.72272,     0.72372,     0.72472,     0.72573,     0.72673,     0.72773,     0.72873,     0.72973,     0.73073,     0.73173,     0.73273,     0.73373,     0.73473,     0.73574,     0.73674,     0.73774,     0.73874,     0.73974,     0.74074,     0.74174,     0.74274,     0.74374,\n",
              "           0.74474,     0.74575,     0.74675,     0.74775,     0.74875,     0.74975,     0.75075,     0.75175,     0.75275,     0.75375,     0.75475,     0.75576,     0.75676,     0.75776,     0.75876,     0.75976,     0.76076,     0.76176,     0.76276,     0.76376,     0.76476,     0.76577,     0.76677,     0.76777,\n",
              "           0.76877,     0.76977,     0.77077,     0.77177,     0.77277,     0.77377,     0.77477,     0.77578,     0.77678,     0.77778,     0.77878,     0.77978,     0.78078,     0.78178,     0.78278,     0.78378,     0.78478,     0.78579,     0.78679,     0.78779,     0.78879,     0.78979,     0.79079,     0.79179,\n",
              "           0.79279,     0.79379,     0.79479,      0.7958,      0.7968,      0.7978,      0.7988,      0.7998,      0.8008,      0.8018,      0.8028,      0.8038,      0.8048,     0.80581,     0.80681,     0.80781,     0.80881,     0.80981,     0.81081,     0.81181,     0.81281,     0.81381,     0.81481,     0.81582,\n",
              "           0.81682,     0.81782,     0.81882,     0.81982,     0.82082,     0.82182,     0.82282,     0.82382,     0.82482,     0.82583,     0.82683,     0.82783,     0.82883,     0.82983,     0.83083,     0.83183,     0.83283,     0.83383,     0.83483,     0.83584,     0.83684,     0.83784,     0.83884,     0.83984,\n",
              "           0.84084,     0.84184,     0.84284,     0.84384,     0.84484,     0.84585,     0.84685,     0.84785,     0.84885,     0.84985,     0.85085,     0.85185,     0.85285,     0.85385,     0.85485,     0.85586,     0.85686,     0.85786,     0.85886,     0.85986,     0.86086,     0.86186,     0.86286,     0.86386,\n",
              "           0.86486,     0.86587,     0.86687,     0.86787,     0.86887,     0.86987,     0.87087,     0.87187,     0.87287,     0.87387,     0.87487,     0.87588,     0.87688,     0.87788,     0.87888,     0.87988,     0.88088,     0.88188,     0.88288,     0.88388,     0.88488,     0.88589,     0.88689,     0.88789,\n",
              "           0.88889,     0.88989,     0.89089,     0.89189,     0.89289,     0.89389,     0.89489,      0.8959,      0.8969,      0.8979,      0.8989,      0.8999,      0.9009,      0.9019,      0.9029,      0.9039,      0.9049,     0.90591,     0.90691,     0.90791,     0.90891,     0.90991,     0.91091,     0.91191,\n",
              "           0.91291,     0.91391,     0.91491,     0.91592,     0.91692,     0.91792,     0.91892,     0.91992,     0.92092,     0.92192,     0.92292,     0.92392,     0.92492,     0.92593,     0.92693,     0.92793,     0.92893,     0.92993,     0.93093,     0.93193,     0.93293,     0.93393,     0.93493,     0.93594,\n",
              "           0.93694,     0.93794,     0.93894,     0.93994,     0.94094,     0.94194,     0.94294,     0.94394,     0.94494,     0.94595,     0.94695,     0.94795,     0.94895,     0.94995,     0.95095,     0.95195,     0.95295,     0.95395,     0.95495,     0.95596,     0.95696,     0.95796,     0.95896,     0.95996,\n",
              "           0.96096,     0.96196,     0.96296,     0.96396,     0.96496,     0.96597,     0.96697,     0.96797,     0.96897,     0.96997,     0.97097,     0.97197,     0.97297,     0.97397,     0.97497,     0.97598,     0.97698,     0.97798,     0.97898,     0.97998,     0.98098,     0.98198,     0.98298,     0.98398,\n",
              "           0.98498,     0.98599,     0.98699,     0.98799,     0.98899,     0.98999,     0.99099,     0.99199,     0.99299,     0.99399,     0.99499,       0.996,       0.997,       0.998,       0.999,           1]), array([[    0.23168,     0.23168,     0.23814,     0.24234,     0.24574,     0.24863,     0.25126,     0.25361,     0.25611,     0.25827,     0.26015,     0.26193,     0.26354,     0.26511,     0.26673,     0.26825,     0.26963,     0.27115,     0.27248,     0.27387,      0.2752,     0.27652,     0.27777,\n",
              "            0.27894,     0.28015,     0.28135,     0.28253,     0.28368,      0.2849,     0.28608,     0.28722,     0.28841,     0.28955,     0.29067,     0.29181,     0.29292,     0.29399,     0.29497,     0.29605,     0.29701,     0.29812,     0.29915,      0.3002,     0.30129,     0.30228,     0.30336,\n",
              "            0.30438,     0.30535,     0.30647,      0.3076,     0.30865,     0.30976,     0.31103,     0.31218,     0.31331,     0.31449,     0.31568,     0.31667,     0.31785,     0.31907,     0.32013,     0.32134,     0.32236,     0.32369,      0.3247,     0.32583,       0.327,     0.32816,     0.32967,\n",
              "            0.33101,     0.33225,     0.33357,     0.33472,     0.33606,     0.33739,     0.33876,     0.33988,     0.34128,      0.3427,     0.34384,     0.34526,     0.34646,     0.34761,     0.34918,     0.35048,     0.35219,     0.35357,     0.35491,     0.35623,     0.35755,     0.35929,     0.36063,\n",
              "            0.36204,     0.36337,     0.36489,     0.36623,     0.36777,     0.36913,     0.37052,     0.37153,      0.3731,     0.37464,     0.37608,     0.37753,     0.37852,     0.38003,     0.38148,     0.38312,     0.38441,     0.38599,     0.38754,     0.38873,     0.39029,     0.39153,     0.39308,\n",
              "            0.39427,     0.39606,     0.39738,     0.39921,     0.40049,     0.40233,     0.40374,     0.40507,     0.40699,     0.40842,      0.4105,     0.41202,     0.41363,     0.41582,     0.41736,     0.41892,     0.42066,     0.42305,     0.42467,     0.42633,       0.428,     0.43085,     0.43257,\n",
              "             0.4344,     0.43623,       0.438,      0.4398,     0.44171,     0.44345,     0.44546,     0.44809,     0.45007,      0.4521,     0.45396,     0.45608,     0.45832,     0.46011,     0.46217,     0.46415,     0.46604,     0.46831,     0.47049,     0.47272,     0.47368,     0.47592,      0.4782,\n",
              "            0.48054,     0.48286,     0.48503,     0.48767,     0.49013,     0.49255,     0.49386,     0.49661,     0.49896,     0.50154,     0.50398,     0.50678,     0.50813,     0.51089,     0.51342,     0.51624,     0.51765,     0.52021,     0.52291,     0.52578,     0.52717,     0.53016,     0.53314,\n",
              "            0.53463,     0.53717,     0.53984,      0.5426,     0.54404,     0.54707,     0.54997,     0.55161,     0.55442,     0.55734,      0.5588,     0.56204,     0.56496,     0.56638,     0.56944,     0.57111,     0.57445,      0.5772,     0.57854,     0.58167,     0.58317,     0.58617,     0.58766,\n",
              "            0.59089,     0.59418,     0.59543,      0.5983,     0.59999,     0.60284,     0.60446,     0.60767,     0.60933,     0.61219,     0.61405,     0.61704,     0.61854,     0.62166,     0.62346,     0.62626,     0.62782,      0.6311,     0.63279,     0.63553,     0.63723,     0.64058,     0.64209,\n",
              "            0.64526,       0.647,     0.64851,     0.65192,     0.65348,     0.65688,     0.65828,     0.66121,     0.66278,     0.66427,     0.66706,     0.66848,     0.67124,     0.67284,      0.6745,     0.67766,     0.67953,      0.6812,     0.68473,     0.68647,      0.6896,     0.69119,     0.69291,\n",
              "            0.69613,     0.69784,     0.69953,     0.70316,     0.70511,     0.70681,     0.71011,     0.71162,       0.715,     0.71678,     0.71848,     0.72015,     0.72329,     0.72507,     0.72665,     0.72989,     0.73169,     0.73342,      0.7364,     0.73799,     0.73981,     0.74143,      0.7445,\n",
              "             0.7463,     0.74795,     0.74955,     0.75235,     0.75396,     0.75563,     0.75902,     0.76042,     0.76201,     0.76355,     0.76647,     0.76783,     0.76893,     0.77058,     0.77295,     0.77405,     0.77566,     0.77691,     0.77955,     0.78073,     0.78182,     0.78307,     0.78473,\n",
              "            0.78748,     0.78891,     0.79008,     0.79136,     0.79407,     0.79564,     0.79733,     0.79862,     0.80001,     0.80276,     0.80381,     0.80525,     0.80632,     0.80888,     0.81012,     0.81137,     0.81276,     0.81381,      0.8149,     0.81632,     0.81877,     0.82003,     0.82144,\n",
              "            0.82278,      0.8239,     0.82602,     0.82711,     0.82838,     0.82948,     0.83073,     0.83194,     0.83414,     0.83502,     0.83638,     0.83783,     0.83909,     0.84019,     0.84142,      0.8433,     0.84456,     0.84566,      0.8466,     0.84769,     0.84855,     0.85092,     0.85181,\n",
              "            0.85289,     0.85439,     0.85538,     0.85631,     0.85732,     0.85937,     0.86024,     0.86094,     0.86151,     0.86256,     0.86379,      0.8648,     0.86574,     0.86687,      0.8679,     0.86931,     0.87048,     0.87145,     0.87233,     0.87323,      0.8741,     0.87489,     0.87572,\n",
              "            0.87657,      0.8772,     0.87946,     0.88025,     0.88106,      0.8818,     0.88265,     0.88323,     0.88404,     0.88466,     0.88568,      0.8866,     0.88825,     0.88906,     0.88968,     0.89045,     0.89122,     0.89214,     0.89272,     0.89339,     0.89411,     0.89482,     0.89599,\n",
              "            0.89663,     0.89746,     0.89782,     0.89886,     0.89971,     0.90046,     0.90134,     0.90187,     0.90253,     0.90322,     0.90377,     0.90455,     0.90519,      0.9059,      0.9068,     0.90725,     0.90849,     0.90912,      0.9101,      0.9104,      0.9106,     0.91134,     0.91201,\n",
              "            0.91253,     0.91316,     0.91363,     0.91395,     0.91435,     0.91462,     0.91509,     0.91589,     0.91643,     0.91738,     0.91789,      0.9186,     0.91901,      0.9199,     0.92076,     0.92121,     0.92165,     0.92242,     0.92289,     0.92385,     0.92434,      0.9251,     0.92566,\n",
              "            0.92576,     0.92585,     0.92649,     0.92712,     0.92802,     0.92878,     0.92937,      0.9298,     0.93036,      0.9309,     0.93148,     0.93213,     0.93255,     0.93324,     0.93375,      0.9343,     0.93478,     0.93536,     0.93582,     0.93646,     0.93688,     0.93734,     0.93816,\n",
              "            0.93854,     0.93872,     0.93908,     0.93948,      0.9399,      0.9402,     0.94042,     0.94058,     0.94111,     0.94165,     0.94176,     0.94199,     0.94262,     0.94287,     0.94328,     0.94332,     0.94376,     0.94432,     0.94451,     0.94489,     0.94599,     0.94623,     0.94633,\n",
              "            0.94688,     0.94751,     0.94779,     0.94822,     0.94856,     0.94865,     0.94915,     0.94923,     0.94975,     0.95027,     0.95041,     0.95056,     0.95074,     0.95121,     0.95188,     0.95229,     0.95259,     0.95272,     0.95298,     0.95315,     0.95355,     0.95353,     0.95353,\n",
              "             0.9538,     0.95438,     0.95471,     0.95515,     0.95537,     0.95551,     0.95599,     0.95634,     0.95675,     0.95689,     0.95712,     0.95775,     0.95809,     0.95823,     0.95879,     0.95915,     0.95962,     0.95975,      0.9601,     0.96043,     0.96067,     0.96105,     0.96117,\n",
              "            0.96141,     0.96168,     0.96168,     0.96182,     0.96173,     0.96176,     0.96189,     0.96198,     0.96207,     0.96224,     0.96228,     0.96235,     0.96236,     0.96229,     0.96235,     0.96227,     0.96228,     0.96235,     0.96235,     0.96281,     0.96273,     0.96274,     0.96311,\n",
              "            0.96318,     0.96355,     0.96388,     0.96439,      0.9645,     0.96502,      0.9652,     0.96576,     0.96589,     0.96605,     0.96673,     0.96713,      0.9671,     0.96715,     0.96712,     0.96718,     0.96728,     0.96735,     0.96758,     0.96763,     0.96777,     0.96774,     0.96767,\n",
              "            0.96796,     0.96786,     0.96804,     0.96817,     0.96842,     0.96867,     0.96831,     0.96874,     0.96869,     0.96871,     0.96867,      0.9689,     0.96908,     0.96958,     0.96962,     0.96988,     0.97007,     0.96977,     0.96983,     0.96971,     0.96986,     0.97062,     0.97087,\n",
              "            0.97083,     0.97126,     0.97083,     0.97114,     0.97127,     0.97105,     0.97097,     0.97125,     0.97185,     0.97183,     0.97183,     0.97174,     0.97168,      0.9715,     0.97219,     0.97216,     0.97208,     0.97218,     0.97185,     0.97157,     0.97184,     0.97182,     0.97181,\n",
              "            0.97173,     0.97213,     0.97223,     0.97314,     0.97271,     0.97232,     0.97215,       0.972,     0.97253,     0.97336,     0.97358,     0.97313,     0.97342,      0.9738,     0.97358,     0.97374,     0.97384,     0.97409,     0.97453,      0.9738,     0.97388,      0.9734,     0.97295,\n",
              "            0.97232,     0.97234,     0.97292,     0.97439,     0.97454,     0.97505,     0.97585,     0.97668,     0.97707,     0.97649,     0.97682,      0.9767,     0.97656,     0.97737,     0.97796,      0.9789,     0.97892,     0.97896,     0.97856,     0.97979,     0.98054,     0.98079,     0.98032,\n",
              "            0.98059,     0.98012,     0.97956,     0.98004,     0.98018,     0.98203,     0.98168,     0.98137,     0.98065,     0.98015,      0.9791,     0.97827,     0.97844,     0.97917,     0.97852,     0.97904,     0.97853,      0.9777,     0.97713,     0.97637,     0.97643,     0.97541,     0.97938,\n",
              "             0.9788,      0.9797,     0.97881,     0.98083,      0.9803,     0.98172,     0.98114,     0.98272,     0.98382,     0.98327,     0.98473,     0.98437,     0.98387,     0.98331,     0.98253,     0.98442,     0.98386,     0.98651,     0.98603,     0.98542,     0.98867,     0.98836,     0.98787,\n",
              "            0.98746,     0.98713,     0.98596,     0.99016,     0.98969,     0.98931,      0.9886,     0.98799,     0.98734,     0.98728,     0.98646,     0.98641,     0.98517,     0.98446,     0.98429,      0.9833,     0.98228,     0.98217,     0.98134,     0.99017,     0.99003,     0.98938,     0.98926,\n",
              "            0.98842,     0.98797,      0.9875,     0.98693,     0.98642,     0.98571,     0.98557,     0.98542,     0.98528,     0.98513,     0.98469,     0.98328,     0.98263,      0.9823,     0.98176,     0.98153,     0.98139,     0.98127,     0.98115,     0.99208,           1,           1,           1,\n",
              "                  1,           1,           1,           1,           1,           1,           1,           1,           1,           1,           1,           1,           1,           1,           1,           1,           1,           1,           1,           1,           1,           1,           1,\n",
              "                  1,           1,           1,           1,           1,           1,           1,           1,           1,           1,           1,           1,           1,           1,           1,           1,           1,           1,           1,           1,           1,           1,           1,\n",
              "                  1,           1,           1,           1,           1,           1,           1,           1,           1,           1,           1,           1,           1,           1,           1,           1,           1,           1,           1,           1,           1,           1,           1,\n",
              "                  1,           1,           1,           1,           1,           1,           1,           1,           1,           1,           1,           1,           1,           1,           1,           1,           1,           1,           1,           1,           1,           1,           1,\n",
              "                  1,           1,           1,           1,           1,           1,           1,           1,           1,           1,           1,           1,           1,           1,           1,           1,           1,           1,           1,           1,           1,           1,           1,\n",
              "                  1,           1,           1,           1,           1,           1,           1,           1,           1,           1,           1,           1,           1,           1,           1,           1,           1,           1,           1,           1,           1,           1,           1,\n",
              "                  1,           1,           1,           1,           1,           1,           1,           1,           1,           1,           1,           1,           1,           1,           1,           1,           1,           1,           1,           1,           1,           1,           1,\n",
              "                  1,           1,           1,           1,           1,           1,           1,           1,           1,           1,           1,           1,           1,           1,           1,           1,           1,           1,           1,           1,           1,           1,           1,\n",
              "                  1,           1,           1,           1,           1,           1,           1,           1,           1,           1,           1,           1,           1,           1,           1,           1,           1,           1,           1,           1,           1,           1,           1,\n",
              "                  1,           1,           1,           1,           1,           1,           1,           1,           1,           1,           1,           1,           1,           1,           1,           1,           1,           1,           1,           1,           1,           1,           1,\n",
              "                  1,           1,           1,           1,           1,           1,           1,           1,           1,           1,           1]]), 'Confidence', 'Precision'], [array([          0,    0.001001,    0.002002,    0.003003,    0.004004,    0.005005,    0.006006,    0.007007,    0.008008,    0.009009,     0.01001,    0.011011,    0.012012,    0.013013,    0.014014,    0.015015,    0.016016,    0.017017,    0.018018,    0.019019,     0.02002,    0.021021,    0.022022,    0.023023,\n",
              "          0.024024,    0.025025,    0.026026,    0.027027,    0.028028,    0.029029,     0.03003,    0.031031,    0.032032,    0.033033,    0.034034,    0.035035,    0.036036,    0.037037,    0.038038,    0.039039,     0.04004,    0.041041,    0.042042,    0.043043,    0.044044,    0.045045,    0.046046,    0.047047,\n",
              "          0.048048,    0.049049,     0.05005,    0.051051,    0.052052,    0.053053,    0.054054,    0.055055,    0.056056,    0.057057,    0.058058,    0.059059,     0.06006,    0.061061,    0.062062,    0.063063,    0.064064,    0.065065,    0.066066,    0.067067,    0.068068,    0.069069,     0.07007,    0.071071,\n",
              "          0.072072,    0.073073,    0.074074,    0.075075,    0.076076,    0.077077,    0.078078,    0.079079,     0.08008,    0.081081,    0.082082,    0.083083,    0.084084,    0.085085,    0.086086,    0.087087,    0.088088,    0.089089,     0.09009,    0.091091,    0.092092,    0.093093,    0.094094,    0.095095,\n",
              "          0.096096,    0.097097,    0.098098,    0.099099,      0.1001,      0.1011,      0.1021,      0.1031,      0.1041,     0.10511,     0.10611,     0.10711,     0.10811,     0.10911,     0.11011,     0.11111,     0.11211,     0.11311,     0.11411,     0.11512,     0.11612,     0.11712,     0.11812,     0.11912,\n",
              "           0.12012,     0.12112,     0.12212,     0.12312,     0.12412,     0.12513,     0.12613,     0.12713,     0.12813,     0.12913,     0.13013,     0.13113,     0.13213,     0.13313,     0.13413,     0.13514,     0.13614,     0.13714,     0.13814,     0.13914,     0.14014,     0.14114,     0.14214,     0.14314,\n",
              "           0.14414,     0.14515,     0.14615,     0.14715,     0.14815,     0.14915,     0.15015,     0.15115,     0.15215,     0.15315,     0.15415,     0.15516,     0.15616,     0.15716,     0.15816,     0.15916,     0.16016,     0.16116,     0.16216,     0.16316,     0.16416,     0.16517,     0.16617,     0.16717,\n",
              "           0.16817,     0.16917,     0.17017,     0.17117,     0.17217,     0.17317,     0.17417,     0.17518,     0.17618,     0.17718,     0.17818,     0.17918,     0.18018,     0.18118,     0.18218,     0.18318,     0.18418,     0.18519,     0.18619,     0.18719,     0.18819,     0.18919,     0.19019,     0.19119,\n",
              "           0.19219,     0.19319,     0.19419,      0.1952,      0.1962,      0.1972,      0.1982,      0.1992,      0.2002,      0.2012,      0.2022,      0.2032,      0.2042,     0.20521,     0.20621,     0.20721,     0.20821,     0.20921,     0.21021,     0.21121,     0.21221,     0.21321,     0.21421,     0.21522,\n",
              "           0.21622,     0.21722,     0.21822,     0.21922,     0.22022,     0.22122,     0.22222,     0.22322,     0.22422,     0.22523,     0.22623,     0.22723,     0.22823,     0.22923,     0.23023,     0.23123,     0.23223,     0.23323,     0.23423,     0.23524,     0.23624,     0.23724,     0.23824,     0.23924,\n",
              "           0.24024,     0.24124,     0.24224,     0.24324,     0.24424,     0.24525,     0.24625,     0.24725,     0.24825,     0.24925,     0.25025,     0.25125,     0.25225,     0.25325,     0.25425,     0.25526,     0.25626,     0.25726,     0.25826,     0.25926,     0.26026,     0.26126,     0.26226,     0.26326,\n",
              "           0.26426,     0.26527,     0.26627,     0.26727,     0.26827,     0.26927,     0.27027,     0.27127,     0.27227,     0.27327,     0.27427,     0.27528,     0.27628,     0.27728,     0.27828,     0.27928,     0.28028,     0.28128,     0.28228,     0.28328,     0.28428,     0.28529,     0.28629,     0.28729,\n",
              "           0.28829,     0.28929,     0.29029,     0.29129,     0.29229,     0.29329,     0.29429,      0.2953,      0.2963,      0.2973,      0.2983,      0.2993,      0.3003,      0.3013,      0.3023,      0.3033,      0.3043,     0.30531,     0.30631,     0.30731,     0.30831,     0.30931,     0.31031,     0.31131,\n",
              "           0.31231,     0.31331,     0.31431,     0.31532,     0.31632,     0.31732,     0.31832,     0.31932,     0.32032,     0.32132,     0.32232,     0.32332,     0.32432,     0.32533,     0.32633,     0.32733,     0.32833,     0.32933,     0.33033,     0.33133,     0.33233,     0.33333,     0.33433,     0.33534,\n",
              "           0.33634,     0.33734,     0.33834,     0.33934,     0.34034,     0.34134,     0.34234,     0.34334,     0.34434,     0.34535,     0.34635,     0.34735,     0.34835,     0.34935,     0.35035,     0.35135,     0.35235,     0.35335,     0.35435,     0.35536,     0.35636,     0.35736,     0.35836,     0.35936,\n",
              "           0.36036,     0.36136,     0.36236,     0.36336,     0.36436,     0.36537,     0.36637,     0.36737,     0.36837,     0.36937,     0.37037,     0.37137,     0.37237,     0.37337,     0.37437,     0.37538,     0.37638,     0.37738,     0.37838,     0.37938,     0.38038,     0.38138,     0.38238,     0.38338,\n",
              "           0.38438,     0.38539,     0.38639,     0.38739,     0.38839,     0.38939,     0.39039,     0.39139,     0.39239,     0.39339,     0.39439,      0.3954,      0.3964,      0.3974,      0.3984,      0.3994,      0.4004,      0.4014,      0.4024,      0.4034,      0.4044,     0.40541,     0.40641,     0.40741,\n",
              "           0.40841,     0.40941,     0.41041,     0.41141,     0.41241,     0.41341,     0.41441,     0.41542,     0.41642,     0.41742,     0.41842,     0.41942,     0.42042,     0.42142,     0.42242,     0.42342,     0.42442,     0.42543,     0.42643,     0.42743,     0.42843,     0.42943,     0.43043,     0.43143,\n",
              "           0.43243,     0.43343,     0.43443,     0.43544,     0.43644,     0.43744,     0.43844,     0.43944,     0.44044,     0.44144,     0.44244,     0.44344,     0.44444,     0.44545,     0.44645,     0.44745,     0.44845,     0.44945,     0.45045,     0.45145,     0.45245,     0.45345,     0.45445,     0.45546,\n",
              "           0.45646,     0.45746,     0.45846,     0.45946,     0.46046,     0.46146,     0.46246,     0.46346,     0.46446,     0.46547,     0.46647,     0.46747,     0.46847,     0.46947,     0.47047,     0.47147,     0.47247,     0.47347,     0.47447,     0.47548,     0.47648,     0.47748,     0.47848,     0.47948,\n",
              "           0.48048,     0.48148,     0.48248,     0.48348,     0.48448,     0.48549,     0.48649,     0.48749,     0.48849,     0.48949,     0.49049,     0.49149,     0.49249,     0.49349,     0.49449,      0.4955,      0.4965,      0.4975,      0.4985,      0.4995,      0.5005,      0.5015,      0.5025,      0.5035,\n",
              "            0.5045,     0.50551,     0.50651,     0.50751,     0.50851,     0.50951,     0.51051,     0.51151,     0.51251,     0.51351,     0.51451,     0.51552,     0.51652,     0.51752,     0.51852,     0.51952,     0.52052,     0.52152,     0.52252,     0.52352,     0.52452,     0.52553,     0.52653,     0.52753,\n",
              "           0.52853,     0.52953,     0.53053,     0.53153,     0.53253,     0.53353,     0.53453,     0.53554,     0.53654,     0.53754,     0.53854,     0.53954,     0.54054,     0.54154,     0.54254,     0.54354,     0.54454,     0.54555,     0.54655,     0.54755,     0.54855,     0.54955,     0.55055,     0.55155,\n",
              "           0.55255,     0.55355,     0.55455,     0.55556,     0.55656,     0.55756,     0.55856,     0.55956,     0.56056,     0.56156,     0.56256,     0.56356,     0.56456,     0.56557,     0.56657,     0.56757,     0.56857,     0.56957,     0.57057,     0.57157,     0.57257,     0.57357,     0.57457,     0.57558,\n",
              "           0.57658,     0.57758,     0.57858,     0.57958,     0.58058,     0.58158,     0.58258,     0.58358,     0.58458,     0.58559,     0.58659,     0.58759,     0.58859,     0.58959,     0.59059,     0.59159,     0.59259,     0.59359,     0.59459,      0.5956,      0.5966,      0.5976,      0.5986,      0.5996,\n",
              "            0.6006,      0.6016,      0.6026,      0.6036,      0.6046,     0.60561,     0.60661,     0.60761,     0.60861,     0.60961,     0.61061,     0.61161,     0.61261,     0.61361,     0.61461,     0.61562,     0.61662,     0.61762,     0.61862,     0.61962,     0.62062,     0.62162,     0.62262,     0.62362,\n",
              "           0.62462,     0.62563,     0.62663,     0.62763,     0.62863,     0.62963,     0.63063,     0.63163,     0.63263,     0.63363,     0.63463,     0.63564,     0.63664,     0.63764,     0.63864,     0.63964,     0.64064,     0.64164,     0.64264,     0.64364,     0.64464,     0.64565,     0.64665,     0.64765,\n",
              "           0.64865,     0.64965,     0.65065,     0.65165,     0.65265,     0.65365,     0.65465,     0.65566,     0.65666,     0.65766,     0.65866,     0.65966,     0.66066,     0.66166,     0.66266,     0.66366,     0.66466,     0.66567,     0.66667,     0.66767,     0.66867,     0.66967,     0.67067,     0.67167,\n",
              "           0.67267,     0.67367,     0.67467,     0.67568,     0.67668,     0.67768,     0.67868,     0.67968,     0.68068,     0.68168,     0.68268,     0.68368,     0.68468,     0.68569,     0.68669,     0.68769,     0.68869,     0.68969,     0.69069,     0.69169,     0.69269,     0.69369,     0.69469,      0.6957,\n",
              "            0.6967,      0.6977,      0.6987,      0.6997,      0.7007,      0.7017,      0.7027,      0.7037,      0.7047,     0.70571,     0.70671,     0.70771,     0.70871,     0.70971,     0.71071,     0.71171,     0.71271,     0.71371,     0.71471,     0.71572,     0.71672,     0.71772,     0.71872,     0.71972,\n",
              "           0.72072,     0.72172,     0.72272,     0.72372,     0.72472,     0.72573,     0.72673,     0.72773,     0.72873,     0.72973,     0.73073,     0.73173,     0.73273,     0.73373,     0.73473,     0.73574,     0.73674,     0.73774,     0.73874,     0.73974,     0.74074,     0.74174,     0.74274,     0.74374,\n",
              "           0.74474,     0.74575,     0.74675,     0.74775,     0.74875,     0.74975,     0.75075,     0.75175,     0.75275,     0.75375,     0.75475,     0.75576,     0.75676,     0.75776,     0.75876,     0.75976,     0.76076,     0.76176,     0.76276,     0.76376,     0.76476,     0.76577,     0.76677,     0.76777,\n",
              "           0.76877,     0.76977,     0.77077,     0.77177,     0.77277,     0.77377,     0.77477,     0.77578,     0.77678,     0.77778,     0.77878,     0.77978,     0.78078,     0.78178,     0.78278,     0.78378,     0.78478,     0.78579,     0.78679,     0.78779,     0.78879,     0.78979,     0.79079,     0.79179,\n",
              "           0.79279,     0.79379,     0.79479,      0.7958,      0.7968,      0.7978,      0.7988,      0.7998,      0.8008,      0.8018,      0.8028,      0.8038,      0.8048,     0.80581,     0.80681,     0.80781,     0.80881,     0.80981,     0.81081,     0.81181,     0.81281,     0.81381,     0.81481,     0.81582,\n",
              "           0.81682,     0.81782,     0.81882,     0.81982,     0.82082,     0.82182,     0.82282,     0.82382,     0.82482,     0.82583,     0.82683,     0.82783,     0.82883,     0.82983,     0.83083,     0.83183,     0.83283,     0.83383,     0.83483,     0.83584,     0.83684,     0.83784,     0.83884,     0.83984,\n",
              "           0.84084,     0.84184,     0.84284,     0.84384,     0.84484,     0.84585,     0.84685,     0.84785,     0.84885,     0.84985,     0.85085,     0.85185,     0.85285,     0.85385,     0.85485,     0.85586,     0.85686,     0.85786,     0.85886,     0.85986,     0.86086,     0.86186,     0.86286,     0.86386,\n",
              "           0.86486,     0.86587,     0.86687,     0.86787,     0.86887,     0.86987,     0.87087,     0.87187,     0.87287,     0.87387,     0.87487,     0.87588,     0.87688,     0.87788,     0.87888,     0.87988,     0.88088,     0.88188,     0.88288,     0.88388,     0.88488,     0.88589,     0.88689,     0.88789,\n",
              "           0.88889,     0.88989,     0.89089,     0.89189,     0.89289,     0.89389,     0.89489,      0.8959,      0.8969,      0.8979,      0.8989,      0.8999,      0.9009,      0.9019,      0.9029,      0.9039,      0.9049,     0.90591,     0.90691,     0.90791,     0.90891,     0.90991,     0.91091,     0.91191,\n",
              "           0.91291,     0.91391,     0.91491,     0.91592,     0.91692,     0.91792,     0.91892,     0.91992,     0.92092,     0.92192,     0.92292,     0.92392,     0.92492,     0.92593,     0.92693,     0.92793,     0.92893,     0.92993,     0.93093,     0.93193,     0.93293,     0.93393,     0.93493,     0.93594,\n",
              "           0.93694,     0.93794,     0.93894,     0.93994,     0.94094,     0.94194,     0.94294,     0.94394,     0.94494,     0.94595,     0.94695,     0.94795,     0.94895,     0.94995,     0.95095,     0.95195,     0.95295,     0.95395,     0.95495,     0.95596,     0.95696,     0.95796,     0.95896,     0.95996,\n",
              "           0.96096,     0.96196,     0.96296,     0.96396,     0.96496,     0.96597,     0.96697,     0.96797,     0.96897,     0.96997,     0.97097,     0.97197,     0.97297,     0.97397,     0.97497,     0.97598,     0.97698,     0.97798,     0.97898,     0.97998,     0.98098,     0.98198,     0.98298,     0.98398,\n",
              "           0.98498,     0.98599,     0.98699,     0.98799,     0.98899,     0.98999,     0.99099,     0.99199,     0.99299,     0.99399,     0.99499,       0.996,       0.997,       0.998,       0.999,           1]), array([[    0.38157,     0.38157,     0.38157,     0.38153,     0.38147,     0.38143,     0.38136,      0.3813,     0.38123,     0.38119,     0.38109,     0.38105,     0.38102,     0.38094,     0.38082,     0.38077,     0.38071,     0.38064,     0.38054,     0.38043,     0.38036,      0.3803,      0.3802,\n",
              "             0.3801,     0.38003,     0.37994,      0.3798,     0.37964,     0.37956,     0.37942,     0.37928,     0.37913,     0.37906,     0.37893,     0.37879,     0.37868,     0.37856,     0.37845,     0.37832,     0.37823,     0.37813,     0.37797,     0.37774,     0.37759,     0.37745,     0.37729,\n",
              "            0.37703,     0.37691,     0.37672,     0.37659,     0.37643,     0.37633,     0.37615,     0.37594,     0.37574,     0.37556,     0.37537,     0.37519,     0.37495,      0.3747,     0.37451,     0.37425,     0.37402,     0.37378,     0.37356,     0.37328,     0.37308,     0.37282,     0.37251,\n",
              "            0.37228,     0.37197,     0.37177,     0.37166,     0.37133,     0.37103,     0.37072,      0.3705,     0.37022,      0.3699,     0.36966,     0.36925,     0.36895,     0.36869,      0.3683,     0.36793,     0.36757,     0.36731,     0.36695,     0.36666,     0.36635,     0.36601,     0.36569,\n",
              "            0.36535,     0.36492,     0.36459,     0.36426,     0.36397,     0.36357,     0.36311,     0.36284,      0.3624,       0.362,     0.36161,     0.36122,     0.36086,     0.36042,     0.35998,     0.35945,     0.35919,     0.35874,     0.35819,     0.35791,     0.35738,     0.35701,     0.35645,\n",
              "            0.35607,     0.35552,     0.35508,     0.35455,     0.35415,     0.35359,     0.35313,     0.35278,     0.35213,     0.35175,      0.3511,     0.35072,     0.35024,     0.34955,     0.34915,     0.34857,      0.3481,     0.34738,     0.34685,     0.34635,     0.34584,     0.34508,     0.34449,\n",
              "            0.34388,     0.34339,     0.34286,     0.34228,     0.34167,     0.34101,     0.34042,     0.33946,      0.3389,     0.33824,     0.33767,     0.33709,      0.3365,      0.3358,     0.33515,      0.3345,     0.33369,       0.333,     0.33241,      0.3317,     0.33139,     0.33074,     0.33001,\n",
              "            0.32921,     0.32847,      0.3277,     0.32704,     0.32629,     0.32544,     0.32506,     0.32435,      0.3235,     0.32264,     0.32177,     0.32109,     0.32063,     0.31983,     0.31894,     0.31809,     0.31757,     0.31664,     0.31577,     0.31489,     0.31441,     0.31345,     0.31254,\n",
              "            0.31203,     0.31098,     0.30997,     0.30905,     0.30869,     0.30787,     0.30691,     0.30647,     0.30553,      0.3045,     0.30401,       0.303,     0.30196,     0.30153,     0.30041,     0.29987,     0.29881,     0.29776,     0.29723,     0.29609,     0.29555,     0.29451,     0.29398,\n",
              "            0.29293,     0.29198,     0.29133,     0.29003,     0.28955,     0.28836,     0.28791,      0.2867,     0.28621,     0.28517,     0.28464,      0.2836,     0.28295,      0.2818,     0.28131,     0.28024,     0.27967,     0.27863,     0.27804,     0.27687,     0.27635,     0.27527,     0.27469,\n",
              "            0.27357,     0.27303,     0.27249,     0.27144,      0.2709,     0.26986,     0.26922,     0.26802,     0.26754,     0.26701,     0.26574,     0.26524,     0.26401,     0.26346,     0.26295,     0.26189,     0.26131,     0.26075,     0.25962,     0.25906,     0.25777,     0.25727,     0.25669,\n",
              "            0.25553,     0.25497,     0.25432,     0.25316,     0.25253,     0.25192,     0.25062,     0.25001,     0.24877,     0.24817,     0.24762,     0.24702,      0.2458,     0.24519,     0.24456,     0.24333,     0.24279,     0.24219,     0.24087,     0.24034,     0.23975,     0.23914,     0.23785,\n",
              "            0.23728,     0.23663,     0.23606,      0.2349,     0.23429,     0.23365,     0.23243,     0.23187,     0.23135,      0.2307,     0.22949,     0.22891,     0.22834,     0.22781,     0.22667,     0.22599,     0.22545,      0.2248,     0.22367,     0.22299,     0.22233,     0.22173,     0.22124,\n",
              "            0.21994,      0.2193,      0.2187,     0.21811,     0.21697,     0.21636,     0.21583,     0.21528,      0.2147,     0.21353,     0.21294,     0.21238,     0.21182,     0.21059,     0.21003,     0.20947,     0.20885,     0.20827,     0.20767,     0.20716,       0.206,     0.20528,     0.20472,\n",
              "            0.20419,     0.20352,     0.20221,     0.20165,     0.20114,     0.20044,     0.19991,     0.19938,      0.1982,     0.19759,       0.197,     0.19654,     0.19598,     0.19541,     0.19479,     0.19373,     0.19315,     0.19254,     0.19203,     0.19148,     0.19083,     0.18957,     0.18913,\n",
              "            0.18852,     0.18813,     0.18758,       0.187,     0.18641,     0.18533,     0.18474,     0.18412,     0.18348,     0.18293,     0.18249,     0.18209,     0.18145,     0.18097,     0.18045,     0.17929,     0.17871,      0.1782,     0.17758,     0.17711,      0.1765,     0.17593,     0.17534,\n",
              "            0.17481,     0.17419,     0.17298,     0.17251,     0.17183,     0.17135,     0.17085,     0.17033,     0.16968,     0.16914,     0.16866,      0.1681,       0.167,     0.16652,     0.16599,     0.16555,     0.16498,      0.1644,     0.16394,     0.16339,     0.16297,     0.16241,     0.16134,\n",
              "             0.1608,     0.16031,     0.15973,     0.15924,     0.15871,     0.15816,     0.15763,     0.15707,     0.15644,      0.1559,     0.15541,     0.15489,     0.15442,     0.15381,     0.15335,     0.15269,     0.15164,     0.15097,     0.15046,     0.14986,     0.14931,     0.14879,     0.14828,\n",
              "            0.14773,      0.1472,     0.14662,     0.14609,     0.14558,      0.1451,     0.14465,     0.14408,     0.14358,     0.14261,     0.14198,     0.14139,     0.14085,     0.14036,     0.13979,     0.13922,     0.13861,       0.138,      0.1375,     0.13703,     0.13643,     0.13586,     0.13529,\n",
              "            0.13467,     0.13402,     0.13347,     0.13296,     0.13248,     0.13187,     0.13142,      0.1308,     0.13028,     0.12978,     0.12928,     0.12871,      0.1282,     0.12724,     0.12683,     0.12628,     0.12567,     0.12507,     0.12461,     0.12411,     0.12353,     0.12294,     0.12244,\n",
              "              0.122,     0.12147,     0.12091,     0.12035,     0.11982,     0.11931,     0.11879,     0.11825,     0.11784,     0.11739,     0.11678,     0.11621,     0.11573,     0.11508,     0.11456,     0.11397,     0.11339,      0.1128,     0.11221,     0.11158,     0.11064,     0.11013,     0.10965,\n",
              "            0.10911,     0.10859,     0.10813,     0.10764,     0.10707,     0.10655,     0.10604,     0.10549,     0.10491,     0.10444,     0.10386,     0.10332,     0.10271,     0.10208,     0.10144,     0.10085,     0.10033,     0.09983,    0.099226,     0.09865,    0.098197,     0.09762,    0.096958,\n",
              "           0.096473,    0.096019,    0.095464,    0.094907,    0.094402,    0.093884,    0.093379,    0.092881,     0.09235,     0.09178,    0.091124,    0.090619,    0.090029,    0.089439,    0.088286,    0.087696,    0.087217,    0.086719,    0.086103,    0.085585,    0.084995,    0.084562,    0.084018,\n",
              "           0.083428,    0.082727,    0.082235,    0.081718,    0.081136,     0.08054,    0.079882,    0.079417,    0.078794,    0.078145,    0.077575,    0.077057,    0.076578,    0.075929,    0.075372,    0.074717,    0.074238,     0.07353,    0.072875,    0.072265,     0.07161,    0.071118,    0.070482,\n",
              "           0.069938,    0.069314,    0.068921,    0.068319,    0.067676,    0.066526,    0.065799,    0.065166,    0.064579,     0.06397,    0.063406,    0.062862,    0.062226,    0.061551,    0.060902,     0.06026,    0.059663,    0.059211,    0.058673,    0.057985,     0.05727,    0.056615,    0.056104,\n",
              "           0.055435,    0.054865,     0.05419,    0.053429,    0.052852,     0.05166,    0.051069,    0.050562,    0.050076,      0.0495,    0.048824,    0.048392,    0.047854,    0.047205,    0.046648,    0.045999,    0.045462,     0.04478,    0.044236,    0.043639,    0.043042,    0.042004,    0.041506,\n",
              "           0.041001,    0.040522,    0.039919,    0.039474,    0.038988,    0.038464,     0.03792,    0.037415,    0.036884,    0.035721,    0.035268,    0.034698,    0.034174,    0.033728,    0.033217,    0.032718,    0.032168,    0.031597,    0.030992,    0.030454,    0.029857,    0.029385,    0.028461,\n",
              "            0.02793,    0.027425,    0.026842,    0.026356,    0.025927,    0.025324,    0.024701,    0.024341,    0.023895,    0.023469,    0.022944,    0.022069,    0.021597,    0.021191,    0.020765,    0.020411,    0.020001,    0.019706,    0.019306,    0.018513,     0.01808,    0.017746,    0.017444,\n",
              "           0.017035,    0.016589,    0.016248,    0.015959,    0.015553,    0.014855,    0.014566,    0.014271,    0.013963,    0.013607,     0.01329,    0.012911,    0.012557,     0.01217,    0.011629,    0.011249,    0.010954,    0.010672,     0.01017,    0.009849,   0.0095736,   0.0093703,   0.0091397,\n",
              "          0.0089407,   0.0087243,   0.0084817,   0.0080457,   0.0077768,   0.0075211,   0.0073745,   0.0072488,   0.0069734,   0.0067963,   0.0064455,   0.0061964,   0.0059472,    0.005544,   0.0053734,   0.0052029,   0.0050776,   0.0048847,     0.00476,   0.0046026,   0.0043436,   0.0041599,   0.0040468,\n",
              "          0.0039335,   0.0037957,   0.0036317,    0.003353,   0.0032611,   0.0031667,   0.0030675,   0.0029821,   0.0027886,   0.0026967,    0.002536,   0.0024769,   0.0023976,    0.002316,    0.002211,   0.0020699,   0.0019977,   0.0019176,   0.0018499,   0.0017711,   0.0017152,   0.0016692,   0.0016014,\n",
              "          0.0015476,   0.0015081,   0.0013802,   0.0013183,   0.0012586,   0.0012126,    0.001137,   0.0010779,   0.0010221,   0.0010176,  0.00095484,  0.00095148,  0.00087065,  0.00083006,  0.00082117,  0.00077186,  0.00072635,  0.00072187,  0.00068945,   0.0006598,  0.00065083,  0.00061032,   0.0006036,\n",
              "         0.00055957,  0.00053811,  0.00051792,  0.00049482,  0.00047613,  0.00045199,  0.00044751,  0.00044303,  0.00043855,  0.00043407,  0.00042158,  0.00038538,  0.00037067,  0.00036374,   0.0003527,  0.00034823,  0.00034554,   0.0003433,  0.00034106,  0.00032766,   0.0003202,  0.00031796,  0.00031572,\n",
              "          0.0003141,  0.00031314,  0.00031218,  0.00031122,  0.00031026,   0.0003093,  0.00030834,  0.00030508,   0.0003006,  0.00029612,  0.00029165,  0.00028062,  0.00027614,  0.00027166,    0.000261,  0.00025764,  0.00025429,  0.00025093,  0.00024189,  0.00024055,   0.0002392,  0.00023786,  0.00023652,\n",
              "         0.00023517,  0.00023383,  0.00023249,  0.00023114,   0.0002298,  0.00022709,  0.00022373,  0.00022192,   0.0002207,  0.00021948,  0.00021826,  0.00021704,  0.00021529,   0.0002126,  0.00020992,   0.0002016,  0.00019992,  0.00019825,  0.00019634,  0.00018826,   0.0001849,  0.00018238,  0.00018046,\n",
              "         0.00017854,  0.00017679,  0.00017589,    0.000175,   0.0001741,  0.00017321,  0.00017231,  0.00017142,  0.00017052,  0.00016221,  0.00015774,  0.00015125,  0.00014763,  0.00014427,  0.00014231,  0.00014039,  0.00013847,  0.00013388,  0.00013078,  0.00013028,  0.00012978,  0.00012928,  0.00012879,\n",
              "         0.00012829,  0.00012779,  0.00012729,   0.0001268,   0.0001263,   0.0001258,   0.0001253,  0.00012481,  0.00012341,  0.00012072,  0.00011804,  0.00011535,  0.00011266,  0.00010902,  0.00010454,  0.00010006,  9.1614e-05,  9.0494e-05,  8.9375e-05,  8.8255e-05,  8.7136e-05,  8.6016e-05,  7.7928e-05,\n",
              "         7.5242e-05,  7.2555e-05,   6.654e-05,  6.1726e-05,  5.3784e-05,  5.1085e-05,  4.9592e-05,  4.8099e-05,  4.6606e-05,  4.5446e-05,  4.4606e-05,  4.3767e-05,  4.2927e-05,  4.2087e-05,  4.1248e-05,  4.0408e-05,  3.9568e-05,  3.8644e-05,  3.7684e-05,  3.6725e-05,  3.5765e-05,  3.4806e-05,  3.3846e-05,\n",
              "         3.2886e-05,  2.6889e-05,  2.4703e-05,  2.3023e-05,  2.1344e-05,  1.9665e-05,  1.7985e-05,  1.6306e-05,  1.4627e-05,  1.3009e-05,  1.1975e-05,  1.0942e-05,  9.9084e-06,   8.875e-06,  7.8415e-06,  6.8081e-06,           0,           0,           0,           0,           0,           0,           0,\n",
              "                  0,           0,           0,           0,           0,           0,           0,           0,           0,           0,           0,           0,           0,           0,           0,           0,           0,           0,           0,           0,           0,           0,           0,\n",
              "                  0,           0,           0,           0,           0,           0,           0,           0,           0,           0,           0,           0,           0,           0,           0,           0,           0,           0,           0,           0,           0,           0,           0,\n",
              "                  0,           0,           0,           0,           0,           0,           0,           0,           0,           0,           0,           0,           0,           0,           0,           0,           0,           0,           0,           0,           0,           0,           0,\n",
              "                  0,           0,           0,           0,           0,           0,           0,           0,           0,           0,           0,           0,           0,           0,           0,           0,           0,           0,           0,           0,           0,           0,           0,\n",
              "                  0,           0,           0,           0,           0,           0,           0,           0,           0,           0,           0]]), 'Confidence', 'Recall']]\n",
              "fitness: 0.16261895973600005\n",
              "keys: ['metrics/precision(B)', 'metrics/recall(B)', 'metrics/mAP50(B)', 'metrics/mAP50-95(B)']\n",
              "maps: array([    0.14005])\n",
              "names: {0: '0'}\n",
              "plot: True\n",
              "results_dict: {'metrics/precision(B)': 0.5371655444952614, 'metrics/recall(B)': 0.3109800452177332, 'metrics/mAP50(B)': 0.36575009088527227, 'metrics/mAP50-95(B)': 0.14004883405274757, 'fitness': 0.16261895973600005}\n",
              "save_dir: PosixPath('runs/detect/train')\n",
              "speed: {'preprocess': 0.35140039694255293, 'inference': 3.3452583653894488, 'loss': 0.0010038393115565788, 'postprocess': 5.37729640891649}\n",
              "task: 'detect'"
            ]
          },
          "metadata": {},
          "execution_count": 4
        }
      ],
      "source": [
        "from ultralytics import YOLO\n",
        "\n",
        "# Load the pre-trained YOLOv8 model\n",
        "model = YOLO('yolov8n.pt')\n",
        "\n",
        "# usage\n",
        "!git clone https://github.com/violaClara/CNN-YOLO-DatasetCrowd.git\n",
        "\n",
        "\n",
        "# Fine-tune the model with your custom dataset\n",
        "model.train(data='/content/CNN-YOLO-DatasetCrowd/data.yaml', epochs=20, batch=8, workers=4, imgsz=512)"
      ]
    },
    {
      "cell_type": "code",
      "execution_count": null,
      "metadata": {
        "colab": {
          "base_uri": "https://localhost:8080/"
        },
        "id": "b1-Kqi4D4gTt",
        "outputId": "5aeb8365-be18-4cad-e118-15aad992c1cf"
      },
      "outputs": [
        {
          "output_type": "stream",
          "name": "stdout",
          "text": [
            "Ultralytics YOLOv8.2.48 🚀 Python-3.10.12 torch-2.3.0+cu121 CUDA:0 (Tesla T4, 15102MiB)\n",
            "Model summary (fused): 168 layers, 3005843 parameters, 0 gradients, 8.1 GFLOPs\n"
          ]
        },
        {
          "output_type": "stream",
          "name": "stderr",
          "text": [
            "\u001b[34m\u001b[1mval: \u001b[0mScanning /content/CNN-YOLO-DatasetCrowd/valid/labels.cache... 884 images, 0 backgrounds, 0 corrupt: 100%|██████████| 884/884 [00:00<?, ?it/s]"
          ]
        },
        {
          "output_type": "stream",
          "name": "stdout",
          "text": [
            "\u001b[34m\u001b[1mval: \u001b[0mWARNING ⚠️ /content/CNN-YOLO-DatasetCrowd/valid/images/img_1248_jpg.rf.f5071a1c20118ca17541998c4e8ffc2f.jpg: 1 duplicate labels removed\n",
            "\u001b[34m\u001b[1mval: \u001b[0mWARNING ⚠️ /content/CNN-YOLO-DatasetCrowd/valid/images/img_434_jpg.rf.5a4ae5c185c88c91f91dee12ed942a4f.jpg: 1 duplicate labels removed\n",
            "\u001b[34m\u001b[1mval: \u001b[0mWARNING ⚠️ /content/CNN-YOLO-DatasetCrowd/valid/images/img_436_jpg.rf.47ec601eb5a775e399d300e2eacfb63d.jpg: 1 duplicate labels removed\n",
            "\u001b[34m\u001b[1mval: \u001b[0mWARNING ⚠️ /content/CNN-YOLO-DatasetCrowd/valid/images/img_469_jpg.rf.70de792333442982760711f27570411c.jpg: 1 duplicate labels removed\n",
            "\u001b[34m\u001b[1mval: \u001b[0mWARNING ⚠️ /content/CNN-YOLO-DatasetCrowd/valid/images/img_469_jpg.rf.ceab157db2108fc2fe16f13caca826b0.jpg: 1 duplicate labels removed\n",
            "\u001b[34m\u001b[1mval: \u001b[0mWARNING ⚠️ /content/CNN-YOLO-DatasetCrowd/valid/images/img_472_jpg.rf.58633ebbeabddd2bec4303073a8a02e5.jpg: 3 duplicate labels removed\n",
            "\u001b[34m\u001b[1mval: \u001b[0mWARNING ⚠️ /content/CNN-YOLO-DatasetCrowd/valid/images/img_476_jpg.rf.97ac5f7dcca719bc7a6e9de2f0d83a86.jpg: 1 duplicate labels removed\n",
            "\u001b[34m\u001b[1mval: \u001b[0mWARNING ⚠️ /content/CNN-YOLO-DatasetCrowd/valid/images/img_476_jpg.rf.c60f9d75453a0860dbe11dea827def2d.jpg: 1 duplicate labels removed\n",
            "\u001b[34m\u001b[1mval: \u001b[0mWARNING ⚠️ /content/CNN-YOLO-DatasetCrowd/valid/images/img_529_jpg.rf.0d2b4a945349dbbb4e252ffe3a17f2f5.jpg: 1 duplicate labels removed\n"
          ]
        },
        {
          "output_type": "stream",
          "name": "stderr",
          "text": [
            "\n",
            "/usr/lib/python3.10/multiprocessing/popen_fork.py:66: RuntimeWarning: os.fork() was called. os.fork() is incompatible with multithreaded code, and JAX is multithreaded, so this will likely lead to a deadlock.\n",
            "  self.pid = os.fork()\n",
            "                 Class     Images  Instances      Box(P          R      mAP50  mAP50-95): 100%|██████████| 56/56 [01:53<00:00,  2.03s/it]\n"
          ]
        },
        {
          "output_type": "stream",
          "name": "stdout",
          "text": [
            "                   all        884     152595      0.538      0.311      0.366       0.14\n",
            "Speed: 0.5ms preprocess, 5.1ms inference, 0.0ms loss, 8.5ms postprocess per image\n",
            "Results saved to \u001b[1mruns/detect/val\u001b[0m\n",
            "ultralytics.utils.metrics.DetMetrics object with attributes:\n",
            "\n",
            "ap_class_index: array([0])\n",
            "box: ultralytics.utils.metrics.Metric object\n",
            "confusion_matrix: <ultralytics.utils.metrics.ConfusionMatrix object at 0x790f001faf80>\n",
            "curves: ['Precision-Recall(B)', 'F1-Confidence(B)', 'Precision-Confidence(B)', 'Recall-Confidence(B)']\n",
            "curves_results: [[array([          0,    0.001001,    0.002002,    0.003003,    0.004004,    0.005005,    0.006006,    0.007007,    0.008008,    0.009009,     0.01001,    0.011011,    0.012012,    0.013013,    0.014014,    0.015015,    0.016016,    0.017017,    0.018018,    0.019019,     0.02002,    0.021021,    0.022022,    0.023023,\n",
            "          0.024024,    0.025025,    0.026026,    0.027027,    0.028028,    0.029029,     0.03003,    0.031031,    0.032032,    0.033033,    0.034034,    0.035035,    0.036036,    0.037037,    0.038038,    0.039039,     0.04004,    0.041041,    0.042042,    0.043043,    0.044044,    0.045045,    0.046046,    0.047047,\n",
            "          0.048048,    0.049049,     0.05005,    0.051051,    0.052052,    0.053053,    0.054054,    0.055055,    0.056056,    0.057057,    0.058058,    0.059059,     0.06006,    0.061061,    0.062062,    0.063063,    0.064064,    0.065065,    0.066066,    0.067067,    0.068068,    0.069069,     0.07007,    0.071071,\n",
            "          0.072072,    0.073073,    0.074074,    0.075075,    0.076076,    0.077077,    0.078078,    0.079079,     0.08008,    0.081081,    0.082082,    0.083083,    0.084084,    0.085085,    0.086086,    0.087087,    0.088088,    0.089089,     0.09009,    0.091091,    0.092092,    0.093093,    0.094094,    0.095095,\n",
            "          0.096096,    0.097097,    0.098098,    0.099099,      0.1001,      0.1011,      0.1021,      0.1031,      0.1041,     0.10511,     0.10611,     0.10711,     0.10811,     0.10911,     0.11011,     0.11111,     0.11211,     0.11311,     0.11411,     0.11512,     0.11612,     0.11712,     0.11812,     0.11912,\n",
            "           0.12012,     0.12112,     0.12212,     0.12312,     0.12412,     0.12513,     0.12613,     0.12713,     0.12813,     0.12913,     0.13013,     0.13113,     0.13213,     0.13313,     0.13413,     0.13514,     0.13614,     0.13714,     0.13814,     0.13914,     0.14014,     0.14114,     0.14214,     0.14314,\n",
            "           0.14414,     0.14515,     0.14615,     0.14715,     0.14815,     0.14915,     0.15015,     0.15115,     0.15215,     0.15315,     0.15415,     0.15516,     0.15616,     0.15716,     0.15816,     0.15916,     0.16016,     0.16116,     0.16216,     0.16316,     0.16416,     0.16517,     0.16617,     0.16717,\n",
            "           0.16817,     0.16917,     0.17017,     0.17117,     0.17217,     0.17317,     0.17417,     0.17518,     0.17618,     0.17718,     0.17818,     0.17918,     0.18018,     0.18118,     0.18218,     0.18318,     0.18418,     0.18519,     0.18619,     0.18719,     0.18819,     0.18919,     0.19019,     0.19119,\n",
            "           0.19219,     0.19319,     0.19419,      0.1952,      0.1962,      0.1972,      0.1982,      0.1992,      0.2002,      0.2012,      0.2022,      0.2032,      0.2042,     0.20521,     0.20621,     0.20721,     0.20821,     0.20921,     0.21021,     0.21121,     0.21221,     0.21321,     0.21421,     0.21522,\n",
            "           0.21622,     0.21722,     0.21822,     0.21922,     0.22022,     0.22122,     0.22222,     0.22322,     0.22422,     0.22523,     0.22623,     0.22723,     0.22823,     0.22923,     0.23023,     0.23123,     0.23223,     0.23323,     0.23423,     0.23524,     0.23624,     0.23724,     0.23824,     0.23924,\n",
            "           0.24024,     0.24124,     0.24224,     0.24324,     0.24424,     0.24525,     0.24625,     0.24725,     0.24825,     0.24925,     0.25025,     0.25125,     0.25225,     0.25325,     0.25425,     0.25526,     0.25626,     0.25726,     0.25826,     0.25926,     0.26026,     0.26126,     0.26226,     0.26326,\n",
            "           0.26426,     0.26527,     0.26627,     0.26727,     0.26827,     0.26927,     0.27027,     0.27127,     0.27227,     0.27327,     0.27427,     0.27528,     0.27628,     0.27728,     0.27828,     0.27928,     0.28028,     0.28128,     0.28228,     0.28328,     0.28428,     0.28529,     0.28629,     0.28729,\n",
            "           0.28829,     0.28929,     0.29029,     0.29129,     0.29229,     0.29329,     0.29429,      0.2953,      0.2963,      0.2973,      0.2983,      0.2993,      0.3003,      0.3013,      0.3023,      0.3033,      0.3043,     0.30531,     0.30631,     0.30731,     0.30831,     0.30931,     0.31031,     0.31131,\n",
            "           0.31231,     0.31331,     0.31431,     0.31532,     0.31632,     0.31732,     0.31832,     0.31932,     0.32032,     0.32132,     0.32232,     0.32332,     0.32432,     0.32533,     0.32633,     0.32733,     0.32833,     0.32933,     0.33033,     0.33133,     0.33233,     0.33333,     0.33433,     0.33534,\n",
            "           0.33634,     0.33734,     0.33834,     0.33934,     0.34034,     0.34134,     0.34234,     0.34334,     0.34434,     0.34535,     0.34635,     0.34735,     0.34835,     0.34935,     0.35035,     0.35135,     0.35235,     0.35335,     0.35435,     0.35536,     0.35636,     0.35736,     0.35836,     0.35936,\n",
            "           0.36036,     0.36136,     0.36236,     0.36336,     0.36436,     0.36537,     0.36637,     0.36737,     0.36837,     0.36937,     0.37037,     0.37137,     0.37237,     0.37337,     0.37437,     0.37538,     0.37638,     0.37738,     0.37838,     0.37938,     0.38038,     0.38138,     0.38238,     0.38338,\n",
            "           0.38438,     0.38539,     0.38639,     0.38739,     0.38839,     0.38939,     0.39039,     0.39139,     0.39239,     0.39339,     0.39439,      0.3954,      0.3964,      0.3974,      0.3984,      0.3994,      0.4004,      0.4014,      0.4024,      0.4034,      0.4044,     0.40541,     0.40641,     0.40741,\n",
            "           0.40841,     0.40941,     0.41041,     0.41141,     0.41241,     0.41341,     0.41441,     0.41542,     0.41642,     0.41742,     0.41842,     0.41942,     0.42042,     0.42142,     0.42242,     0.42342,     0.42442,     0.42543,     0.42643,     0.42743,     0.42843,     0.42943,     0.43043,     0.43143,\n",
            "           0.43243,     0.43343,     0.43443,     0.43544,     0.43644,     0.43744,     0.43844,     0.43944,     0.44044,     0.44144,     0.44244,     0.44344,     0.44444,     0.44545,     0.44645,     0.44745,     0.44845,     0.44945,     0.45045,     0.45145,     0.45245,     0.45345,     0.45445,     0.45546,\n",
            "           0.45646,     0.45746,     0.45846,     0.45946,     0.46046,     0.46146,     0.46246,     0.46346,     0.46446,     0.46547,     0.46647,     0.46747,     0.46847,     0.46947,     0.47047,     0.47147,     0.47247,     0.47347,     0.47447,     0.47548,     0.47648,     0.47748,     0.47848,     0.47948,\n",
            "           0.48048,     0.48148,     0.48248,     0.48348,     0.48448,     0.48549,     0.48649,     0.48749,     0.48849,     0.48949,     0.49049,     0.49149,     0.49249,     0.49349,     0.49449,      0.4955,      0.4965,      0.4975,      0.4985,      0.4995,      0.5005,      0.5015,      0.5025,      0.5035,\n",
            "            0.5045,     0.50551,     0.50651,     0.50751,     0.50851,     0.50951,     0.51051,     0.51151,     0.51251,     0.51351,     0.51451,     0.51552,     0.51652,     0.51752,     0.51852,     0.51952,     0.52052,     0.52152,     0.52252,     0.52352,     0.52452,     0.52553,     0.52653,     0.52753,\n",
            "           0.52853,     0.52953,     0.53053,     0.53153,     0.53253,     0.53353,     0.53453,     0.53554,     0.53654,     0.53754,     0.53854,     0.53954,     0.54054,     0.54154,     0.54254,     0.54354,     0.54454,     0.54555,     0.54655,     0.54755,     0.54855,     0.54955,     0.55055,     0.55155,\n",
            "           0.55255,     0.55355,     0.55455,     0.55556,     0.55656,     0.55756,     0.55856,     0.55956,     0.56056,     0.56156,     0.56256,     0.56356,     0.56456,     0.56557,     0.56657,     0.56757,     0.56857,     0.56957,     0.57057,     0.57157,     0.57257,     0.57357,     0.57457,     0.57558,\n",
            "           0.57658,     0.57758,     0.57858,     0.57958,     0.58058,     0.58158,     0.58258,     0.58358,     0.58458,     0.58559,     0.58659,     0.58759,     0.58859,     0.58959,     0.59059,     0.59159,     0.59259,     0.59359,     0.59459,      0.5956,      0.5966,      0.5976,      0.5986,      0.5996,\n",
            "            0.6006,      0.6016,      0.6026,      0.6036,      0.6046,     0.60561,     0.60661,     0.60761,     0.60861,     0.60961,     0.61061,     0.61161,     0.61261,     0.61361,     0.61461,     0.61562,     0.61662,     0.61762,     0.61862,     0.61962,     0.62062,     0.62162,     0.62262,     0.62362,\n",
            "           0.62462,     0.62563,     0.62663,     0.62763,     0.62863,     0.62963,     0.63063,     0.63163,     0.63263,     0.63363,     0.63463,     0.63564,     0.63664,     0.63764,     0.63864,     0.63964,     0.64064,     0.64164,     0.64264,     0.64364,     0.64464,     0.64565,     0.64665,     0.64765,\n",
            "           0.64865,     0.64965,     0.65065,     0.65165,     0.65265,     0.65365,     0.65465,     0.65566,     0.65666,     0.65766,     0.65866,     0.65966,     0.66066,     0.66166,     0.66266,     0.66366,     0.66466,     0.66567,     0.66667,     0.66767,     0.66867,     0.66967,     0.67067,     0.67167,\n",
            "           0.67267,     0.67367,     0.67467,     0.67568,     0.67668,     0.67768,     0.67868,     0.67968,     0.68068,     0.68168,     0.68268,     0.68368,     0.68468,     0.68569,     0.68669,     0.68769,     0.68869,     0.68969,     0.69069,     0.69169,     0.69269,     0.69369,     0.69469,      0.6957,\n",
            "            0.6967,      0.6977,      0.6987,      0.6997,      0.7007,      0.7017,      0.7027,      0.7037,      0.7047,     0.70571,     0.70671,     0.70771,     0.70871,     0.70971,     0.71071,     0.71171,     0.71271,     0.71371,     0.71471,     0.71572,     0.71672,     0.71772,     0.71872,     0.71972,\n",
            "           0.72072,     0.72172,     0.72272,     0.72372,     0.72472,     0.72573,     0.72673,     0.72773,     0.72873,     0.72973,     0.73073,     0.73173,     0.73273,     0.73373,     0.73473,     0.73574,     0.73674,     0.73774,     0.73874,     0.73974,     0.74074,     0.74174,     0.74274,     0.74374,\n",
            "           0.74474,     0.74575,     0.74675,     0.74775,     0.74875,     0.74975,     0.75075,     0.75175,     0.75275,     0.75375,     0.75475,     0.75576,     0.75676,     0.75776,     0.75876,     0.75976,     0.76076,     0.76176,     0.76276,     0.76376,     0.76476,     0.76577,     0.76677,     0.76777,\n",
            "           0.76877,     0.76977,     0.77077,     0.77177,     0.77277,     0.77377,     0.77477,     0.77578,     0.77678,     0.77778,     0.77878,     0.77978,     0.78078,     0.78178,     0.78278,     0.78378,     0.78478,     0.78579,     0.78679,     0.78779,     0.78879,     0.78979,     0.79079,     0.79179,\n",
            "           0.79279,     0.79379,     0.79479,      0.7958,      0.7968,      0.7978,      0.7988,      0.7998,      0.8008,      0.8018,      0.8028,      0.8038,      0.8048,     0.80581,     0.80681,     0.80781,     0.80881,     0.80981,     0.81081,     0.81181,     0.81281,     0.81381,     0.81481,     0.81582,\n",
            "           0.81682,     0.81782,     0.81882,     0.81982,     0.82082,     0.82182,     0.82282,     0.82382,     0.82482,     0.82583,     0.82683,     0.82783,     0.82883,     0.82983,     0.83083,     0.83183,     0.83283,     0.83383,     0.83483,     0.83584,     0.83684,     0.83784,     0.83884,     0.83984,\n",
            "           0.84084,     0.84184,     0.84284,     0.84384,     0.84484,     0.84585,     0.84685,     0.84785,     0.84885,     0.84985,     0.85085,     0.85185,     0.85285,     0.85385,     0.85485,     0.85586,     0.85686,     0.85786,     0.85886,     0.85986,     0.86086,     0.86186,     0.86286,     0.86386,\n",
            "           0.86486,     0.86587,     0.86687,     0.86787,     0.86887,     0.86987,     0.87087,     0.87187,     0.87287,     0.87387,     0.87487,     0.87588,     0.87688,     0.87788,     0.87888,     0.87988,     0.88088,     0.88188,     0.88288,     0.88388,     0.88488,     0.88589,     0.88689,     0.88789,\n",
            "           0.88889,     0.88989,     0.89089,     0.89189,     0.89289,     0.89389,     0.89489,      0.8959,      0.8969,      0.8979,      0.8989,      0.8999,      0.9009,      0.9019,      0.9029,      0.9039,      0.9049,     0.90591,     0.90691,     0.90791,     0.90891,     0.90991,     0.91091,     0.91191,\n",
            "           0.91291,     0.91391,     0.91491,     0.91592,     0.91692,     0.91792,     0.91892,     0.91992,     0.92092,     0.92192,     0.92292,     0.92392,     0.92492,     0.92593,     0.92693,     0.92793,     0.92893,     0.92993,     0.93093,     0.93193,     0.93293,     0.93393,     0.93493,     0.93594,\n",
            "           0.93694,     0.93794,     0.93894,     0.93994,     0.94094,     0.94194,     0.94294,     0.94394,     0.94494,     0.94595,     0.94695,     0.94795,     0.94895,     0.94995,     0.95095,     0.95195,     0.95295,     0.95395,     0.95495,     0.95596,     0.95696,     0.95796,     0.95896,     0.95996,\n",
            "           0.96096,     0.96196,     0.96296,     0.96396,     0.96496,     0.96597,     0.96697,     0.96797,     0.96897,     0.96997,     0.97097,     0.97197,     0.97297,     0.97397,     0.97497,     0.97598,     0.97698,     0.97798,     0.97898,     0.97998,     0.98098,     0.98198,     0.98298,     0.98398,\n",
            "           0.98498,     0.98599,     0.98699,     0.98799,     0.98899,     0.98999,     0.99099,     0.99199,     0.99299,     0.99399,     0.99499,       0.996,       0.997,       0.998,       0.999,           1]), array([[          1,     0.99034,     0.98507,     0.98504,       0.981,       0.981,       0.981,       0.981,     0.98058,     0.98058,     0.97938,     0.97933,     0.97834,     0.97769,     0.97769,     0.97531,     0.97512,     0.97512,     0.97512,     0.97512,     0.97451,     0.97417,     0.97393,\n",
            "            0.97385,     0.97336,     0.97336,     0.97336,     0.97293,     0.97285,     0.97285,     0.97285,     0.97285,     0.97285,     0.97267,     0.97254,     0.97254,     0.97254,     0.97203,     0.97134,     0.97134,     0.97134,      0.9711,     0.97042,     0.97019,     0.97019,     0.97019,\n",
            "            0.96985,     0.96984,     0.96924,     0.96914,     0.96914,     0.96913,     0.96913,     0.96897,     0.96876,     0.96853,     0.96848,     0.96848,     0.96821,     0.96821,     0.96792,     0.96788,     0.96788,     0.96788,     0.96682,     0.96644,     0.96573,     0.96521,     0.96504,\n",
            "            0.96399,     0.96371,     0.96341,     0.96331,     0.96298,     0.96298,     0.96298,     0.96296,     0.96296,     0.96296,     0.96269,     0.96267,      0.9625,     0.96242,     0.96222,      0.9618,     0.96114,     0.96082,     0.96022,     0.95943,     0.95897,     0.95853,     0.95777,\n",
            "            0.95735,     0.95664,     0.95603,     0.95543,     0.95491,     0.95415,     0.95415,     0.95342,     0.95321,     0.95258,     0.95198,     0.95128,     0.95102,     0.95014,     0.94982,     0.94893,     0.94865,     0.94753,     0.94687,     0.94633,     0.94543,     0.94498,     0.94409,\n",
            "            0.94365,     0.94307,     0.94252,     0.94162,     0.94119,      0.9405,      0.9399,     0.93922,     0.93818,     0.93725,     0.93606,     0.93518,     0.93412,     0.93345,     0.93261,     0.93127,     0.93011,     0.92921,     0.92756,     0.92653,     0.92622,     0.92561,     0.92433,\n",
            "            0.92308,     0.92225,      0.9213,     0.91961,      0.9188,      0.9179,     0.91673,     0.91546,     0.91488,     0.91403,     0.91327,     0.91187,     0.91105,     0.90975,     0.90898,     0.90787,     0.90616,      0.9048,     0.90376,     0.90261,     0.90154,     0.90006,     0.89819,\n",
            "             0.8968,     0.89588,     0.89436,     0.89312,      0.8918,     0.89013,     0.88882,      0.8871,     0.88553,     0.88421,     0.88279,     0.88153,     0.87987,     0.87813,     0.87673,     0.87557,     0.87378,     0.87204,     0.87048,     0.86905,     0.86709,     0.86543,     0.86277,\n",
            "            0.86151,     0.86032,     0.85863,     0.85677,     0.85519,     0.85228,     0.85049,     0.84882,     0.84704,     0.84514,     0.84324,     0.84132,      0.8394,     0.83672,     0.83468,     0.83265,     0.83061,     0.82866,     0.82656,     0.82477,     0.82299,     0.82049,     0.81877,\n",
            "            0.81666,     0.81444,     0.81254,     0.81015,     0.80805,     0.80629,      0.8036,     0.80123,     0.79919,     0.79644,     0.79364,     0.79159,     0.78964,      0.7873,      0.7847,     0.78251,     0.78062,      0.7784,     0.77612,     0.77379,      0.7723,     0.76936,     0.76722,\n",
            "            0.76489,     0.76228,     0.75952,     0.75687,     0.75451,     0.75172,     0.74909,     0.74666,     0.74443,     0.74165,     0.73916,      0.7364,     0.73388,     0.73123,     0.72813,     0.72527,     0.72223,     0.71984,     0.71693,     0.71407,     0.71191,     0.70919,     0.70632,\n",
            "            0.70345,     0.70047,     0.69773,     0.69459,     0.69168,     0.68906,     0.68662,     0.68316,     0.68009,     0.67681,     0.67415,     0.67126,     0.66891,     0.66643,     0.66438,     0.66134,     0.65844,     0.65568,     0.65292,     0.64939,      0.6467,      0.6435,     0.64086,\n",
            "            0.63785,      0.6349,     0.63249,     0.62919,     0.62651,     0.62376,     0.62108,     0.61853,     0.61556,     0.61244,     0.60974,     0.60648,     0.60363,     0.60092,     0.59825,     0.59594,     0.59326,     0.59003,     0.58691,     0.58416,     0.58128,     0.57855,     0.57632,\n",
            "            0.57379,     0.57011,      0.5675,     0.56472,      0.5616,     0.55861,     0.55552,      0.5523,     0.54918,     0.54621,     0.54224,     0.53977,     0.53719,     0.53426,     0.53118,     0.52771,     0.52477,     0.52145,     0.51848,     0.51604,     0.51289,     0.50987,     0.50614,\n",
            "            0.50262,     0.49976,     0.49676,     0.49319,     0.49023,     0.48622,     0.48325,     0.48022,     0.47703,     0.47353,     0.47021,     0.46694,     0.46431,     0.46108,     0.45842,     0.45498,     0.45193,     0.44885,     0.44602,     0.44292,      0.4397,     0.43675,     0.43342,\n",
            "            0.43023,     0.42722,     0.42357,     0.41995,     0.41683,      0.4135,     0.40999,     0.40659,     0.40322,         0.4,     0.39683,     0.39375,     0.39069,     0.38719,     0.38321,     0.38012,     0.37668,     0.37312,     0.36968,     0.36563,       0.362,     0.35756,     0.35331,\n",
            "            0.34921,     0.34482,     0.34047,     0.33572,     0.33025,     0.32551,     0.32059,     0.31535,     0.30901,     0.30267,     0.29579,      0.2865,     0.27501,     0.25164,     0.23145,     0.23107,      0.2307,     0.23032,     0.22994,     0.22957,     0.22919,     0.22882,     0.22844,\n",
            "            0.22807,     0.22769,     0.22732,     0.22694,     0.22657,     0.22619,     0.22582,     0.22544,     0.22507,     0.22469,     0.22432,     0.22394,     0.22357,     0.22319,     0.22282,     0.22244,     0.22207,     0.22169,     0.22132,     0.22094,     0.22057,     0.22019,     0.21982,\n",
            "            0.21944,     0.21907,     0.21869,     0.21832,     0.21794,     0.21757,     0.21719,     0.21682,     0.21644,     0.21607,     0.21569,     0.21532,     0.21494,     0.21457,     0.21419,     0.21381,     0.21344,     0.21306,     0.21269,     0.21231,     0.21194,     0.21156,     0.21119,\n",
            "            0.21081,     0.21044,     0.21006,     0.20969,     0.20931,     0.20894,     0.20856,     0.20819,     0.20781,     0.20744,     0.20706,     0.20669,     0.20631,     0.20594,     0.20556,     0.20519,     0.20481,     0.20444,     0.20406,     0.20369,     0.20331,     0.20294,     0.20256,\n",
            "            0.20219,     0.20181,     0.20144,     0.20106,     0.20069,     0.20031,     0.19994,     0.19956,     0.19919,     0.19881,     0.19844,     0.19806,     0.19769,     0.19731,     0.19693,     0.19656,     0.19618,     0.19581,     0.19543,     0.19506,     0.19468,     0.19431,     0.19393,\n",
            "            0.19356,     0.19318,     0.19281,     0.19243,     0.19206,     0.19168,     0.19131,     0.19093,     0.19056,     0.19018,     0.18981,     0.18943,     0.18906,     0.18868,     0.18831,     0.18793,     0.18756,     0.18718,     0.18681,     0.18643,     0.18606,     0.18568,     0.18531,\n",
            "            0.18493,     0.18456,     0.18418,     0.18381,     0.18343,     0.18306,     0.18268,     0.18231,     0.18193,     0.18156,     0.18118,      0.1808,     0.18043,     0.18005,     0.17968,      0.1793,     0.17893,     0.17855,     0.17818,      0.1778,     0.17743,     0.17705,     0.17668,\n",
            "             0.1763,     0.17593,     0.17555,     0.17518,      0.1748,     0.17443,     0.17405,     0.17368,      0.1733,     0.17293,     0.17255,     0.17218,      0.1718,     0.17143,     0.17105,     0.17068,      0.1703,     0.16993,     0.16955,     0.16918,      0.1688,     0.16843,     0.16805,\n",
            "            0.16768,      0.1673,     0.16693,     0.16655,     0.16618,      0.1658,     0.16543,     0.16505,     0.16467,      0.1643,     0.16392,     0.16355,     0.16317,      0.1628,     0.16242,     0.16205,     0.16167,      0.1613,     0.16092,     0.16055,     0.16017,      0.1598,     0.15942,\n",
            "            0.15905,     0.15867,      0.1583,     0.15792,     0.15755,     0.15717,      0.1568,     0.15642,     0.15605,     0.15567,      0.1553,     0.15492,     0.15455,     0.15417,      0.1538,     0.15342,     0.15305,     0.15267,      0.1523,     0.15192,     0.15155,     0.15117,      0.1508,\n",
            "            0.15042,     0.15005,     0.14967,      0.1493,     0.14892,     0.14855,     0.14817,     0.14779,     0.14742,     0.14704,     0.14667,     0.14629,     0.14592,     0.14554,     0.14517,     0.14479,     0.14442,     0.14404,     0.14367,     0.14329,     0.14292,     0.14254,     0.14217,\n",
            "            0.14179,     0.14142,     0.14104,     0.14067,     0.14029,     0.13992,     0.13954,     0.13917,     0.13879,     0.13842,     0.13804,     0.13767,     0.13729,     0.13692,     0.13654,     0.13617,     0.13579,     0.13542,     0.13504,     0.13467,     0.13429,     0.13392,     0.13354,\n",
            "            0.13317,     0.13279,     0.13242,     0.13204,     0.13166,     0.13129,     0.13091,     0.13054,     0.13016,     0.12979,     0.12941,     0.12904,     0.12866,     0.12829,     0.12791,     0.12754,     0.12716,     0.12679,     0.12641,     0.12604,     0.12566,     0.12529,     0.12491,\n",
            "            0.12454,     0.12416,     0.12379,     0.12341,     0.12304,     0.12266,     0.12229,     0.12191,     0.12154,     0.12116,     0.12079,     0.12041,     0.12004,     0.11966,     0.11929,     0.11891,     0.11854,     0.11816,     0.11779,     0.11741,     0.11704,     0.11666,     0.11629,\n",
            "            0.11591,     0.11554,     0.11516,     0.11478,     0.11441,     0.11403,     0.11366,     0.11328,     0.11291,     0.11253,     0.11216,     0.11178,     0.11141,     0.11103,     0.11066,     0.11028,     0.10991,     0.10953,     0.10916,     0.10878,     0.10841,     0.10803,     0.10766,\n",
            "            0.10728,     0.10691,     0.10653,     0.10616,     0.10578,     0.10541,     0.10503,     0.10466,     0.10428,     0.10391,     0.10353,     0.10316,     0.10278,     0.10241,     0.10203,     0.10166,     0.10128,     0.10091,     0.10053,     0.10016,     0.09978,    0.099405,     0.09903,\n",
            "           0.098655,     0.09828,    0.097905,     0.09753,    0.097154,    0.096779,    0.096404,    0.096029,    0.095654,    0.095279,    0.094904,    0.094529,    0.094154,    0.093778,    0.093403,    0.093028,    0.092653,    0.092278,    0.091903,    0.091528,    0.091153,    0.090778,    0.090402,\n",
            "           0.090027,    0.089652,    0.089277,    0.088902,    0.088527,    0.088152,    0.087777,    0.087402,    0.087026,    0.086651,    0.086276,    0.085901,    0.085526,    0.085151,    0.084776,    0.084401,    0.084026,     0.08365,    0.083275,      0.0829,    0.082525,     0.08215,    0.081775,\n",
            "             0.0814,    0.081025,    0.080649,    0.080274,    0.079899,    0.079524,    0.079149,    0.078774,    0.078399,    0.078024,    0.077649,    0.077273,    0.076898,    0.076523,    0.076148,    0.075773,    0.075398,    0.075023,    0.074648,    0.074273,    0.073897,    0.073522,    0.073147,\n",
            "           0.072772,    0.072397,    0.072022,    0.071647,    0.071272,    0.070897,    0.070521,    0.070146,    0.069771,    0.069396,    0.069021,    0.068646,    0.068271,    0.067896,     0.06752,    0.067145,     0.06677,    0.066395,     0.06602,    0.065645,     0.06527,    0.064895,     0.06452,\n",
            "           0.064144,    0.063769,    0.063394,    0.063019,    0.062644,    0.062269,    0.061894,    0.061519,    0.061144,    0.060768,    0.060393,    0.060018,    0.059643,    0.059268,    0.058893,    0.058518,    0.058143,    0.057768,    0.057392,    0.057017,    0.056642,    0.056267,    0.055892,\n",
            "           0.055517,    0.055142,    0.054767,    0.054392,    0.054016,    0.053641,    0.053266,    0.052891,    0.052516,    0.052141,    0.051766,    0.051391,    0.051015,     0.05064,    0.050265,     0.04989,    0.049515,     0.04914,    0.048765,     0.04839,    0.048015,    0.047639,    0.047264,\n",
            "           0.046889,    0.046514,    0.046139,    0.045764,    0.045389,    0.045014,    0.044639,    0.044263,    0.043888,    0.043513,    0.043138,    0.042763,    0.042388,    0.042013,    0.041638,    0.041263,    0.040887,    0.040512,    0.040137,    0.039762,    0.039387,    0.039012,    0.038637,\n",
            "           0.038262,    0.037886,    0.037511,    0.037136,    0.036761,    0.036386,    0.036011,    0.035636,    0.035261,    0.034886,     0.03451,    0.034135,     0.03376,    0.033385,     0.03301,    0.032635,     0.03226,    0.031885,     0.03151,    0.031134,    0.030759,    0.030384,    0.030009,\n",
            "           0.029634,    0.029259,    0.028884,    0.028509,    0.028134,    0.027758,    0.027383,    0.027008,    0.026633,    0.026258,    0.025883,    0.025508,    0.025133,    0.024758,    0.024382,    0.024007,    0.023632,    0.023257,    0.022882,    0.022507,    0.022132,    0.021757,    0.021381,\n",
            "           0.021006,    0.020631,    0.020256,    0.019881,    0.019506,    0.019131,    0.018756,    0.018381,    0.018005,     0.01763,    0.017255,     0.01688,    0.016505,     0.01613,    0.015755,     0.01538,    0.015005,    0.014629,    0.014254,    0.013879,    0.013504,    0.013129,    0.012754,\n",
            "           0.012379,    0.012004,    0.011629,    0.011253,    0.010878,    0.010503,    0.010128,    0.009753,   0.0093778,   0.0090027,   0.0086276,   0.0082525,   0.0078774,   0.0075023,   0.0071272,    0.006752,   0.0063769,   0.0060018,   0.0056267,   0.0052516,   0.0048765,   0.0045014,   0.0041263,\n",
            "          0.0037511,    0.003376,   0.0030009,   0.0026258,   0.0022507,   0.0018756,   0.0015005,   0.0011253,  0.00075023,  0.00037511,           0]]), 'Recall', 'Precision'], [array([          0,    0.001001,    0.002002,    0.003003,    0.004004,    0.005005,    0.006006,    0.007007,    0.008008,    0.009009,     0.01001,    0.011011,    0.012012,    0.013013,    0.014014,    0.015015,    0.016016,    0.017017,    0.018018,    0.019019,     0.02002,    0.021021,    0.022022,    0.023023,\n",
            "          0.024024,    0.025025,    0.026026,    0.027027,    0.028028,    0.029029,     0.03003,    0.031031,    0.032032,    0.033033,    0.034034,    0.035035,    0.036036,    0.037037,    0.038038,    0.039039,     0.04004,    0.041041,    0.042042,    0.043043,    0.044044,    0.045045,    0.046046,    0.047047,\n",
            "          0.048048,    0.049049,     0.05005,    0.051051,    0.052052,    0.053053,    0.054054,    0.055055,    0.056056,    0.057057,    0.058058,    0.059059,     0.06006,    0.061061,    0.062062,    0.063063,    0.064064,    0.065065,    0.066066,    0.067067,    0.068068,    0.069069,     0.07007,    0.071071,\n",
            "          0.072072,    0.073073,    0.074074,    0.075075,    0.076076,    0.077077,    0.078078,    0.079079,     0.08008,    0.081081,    0.082082,    0.083083,    0.084084,    0.085085,    0.086086,    0.087087,    0.088088,    0.089089,     0.09009,    0.091091,    0.092092,    0.093093,    0.094094,    0.095095,\n",
            "          0.096096,    0.097097,    0.098098,    0.099099,      0.1001,      0.1011,      0.1021,      0.1031,      0.1041,     0.10511,     0.10611,     0.10711,     0.10811,     0.10911,     0.11011,     0.11111,     0.11211,     0.11311,     0.11411,     0.11512,     0.11612,     0.11712,     0.11812,     0.11912,\n",
            "           0.12012,     0.12112,     0.12212,     0.12312,     0.12412,     0.12513,     0.12613,     0.12713,     0.12813,     0.12913,     0.13013,     0.13113,     0.13213,     0.13313,     0.13413,     0.13514,     0.13614,     0.13714,     0.13814,     0.13914,     0.14014,     0.14114,     0.14214,     0.14314,\n",
            "           0.14414,     0.14515,     0.14615,     0.14715,     0.14815,     0.14915,     0.15015,     0.15115,     0.15215,     0.15315,     0.15415,     0.15516,     0.15616,     0.15716,     0.15816,     0.15916,     0.16016,     0.16116,     0.16216,     0.16316,     0.16416,     0.16517,     0.16617,     0.16717,\n",
            "           0.16817,     0.16917,     0.17017,     0.17117,     0.17217,     0.17317,     0.17417,     0.17518,     0.17618,     0.17718,     0.17818,     0.17918,     0.18018,     0.18118,     0.18218,     0.18318,     0.18418,     0.18519,     0.18619,     0.18719,     0.18819,     0.18919,     0.19019,     0.19119,\n",
            "           0.19219,     0.19319,     0.19419,      0.1952,      0.1962,      0.1972,      0.1982,      0.1992,      0.2002,      0.2012,      0.2022,      0.2032,      0.2042,     0.20521,     0.20621,     0.20721,     0.20821,     0.20921,     0.21021,     0.21121,     0.21221,     0.21321,     0.21421,     0.21522,\n",
            "           0.21622,     0.21722,     0.21822,     0.21922,     0.22022,     0.22122,     0.22222,     0.22322,     0.22422,     0.22523,     0.22623,     0.22723,     0.22823,     0.22923,     0.23023,     0.23123,     0.23223,     0.23323,     0.23423,     0.23524,     0.23624,     0.23724,     0.23824,     0.23924,\n",
            "           0.24024,     0.24124,     0.24224,     0.24324,     0.24424,     0.24525,     0.24625,     0.24725,     0.24825,     0.24925,     0.25025,     0.25125,     0.25225,     0.25325,     0.25425,     0.25526,     0.25626,     0.25726,     0.25826,     0.25926,     0.26026,     0.26126,     0.26226,     0.26326,\n",
            "           0.26426,     0.26527,     0.26627,     0.26727,     0.26827,     0.26927,     0.27027,     0.27127,     0.27227,     0.27327,     0.27427,     0.27528,     0.27628,     0.27728,     0.27828,     0.27928,     0.28028,     0.28128,     0.28228,     0.28328,     0.28428,     0.28529,     0.28629,     0.28729,\n",
            "           0.28829,     0.28929,     0.29029,     0.29129,     0.29229,     0.29329,     0.29429,      0.2953,      0.2963,      0.2973,      0.2983,      0.2993,      0.3003,      0.3013,      0.3023,      0.3033,      0.3043,     0.30531,     0.30631,     0.30731,     0.30831,     0.30931,     0.31031,     0.31131,\n",
            "           0.31231,     0.31331,     0.31431,     0.31532,     0.31632,     0.31732,     0.31832,     0.31932,     0.32032,     0.32132,     0.32232,     0.32332,     0.32432,     0.32533,     0.32633,     0.32733,     0.32833,     0.32933,     0.33033,     0.33133,     0.33233,     0.33333,     0.33433,     0.33534,\n",
            "           0.33634,     0.33734,     0.33834,     0.33934,     0.34034,     0.34134,     0.34234,     0.34334,     0.34434,     0.34535,     0.34635,     0.34735,     0.34835,     0.34935,     0.35035,     0.35135,     0.35235,     0.35335,     0.35435,     0.35536,     0.35636,     0.35736,     0.35836,     0.35936,\n",
            "           0.36036,     0.36136,     0.36236,     0.36336,     0.36436,     0.36537,     0.36637,     0.36737,     0.36837,     0.36937,     0.37037,     0.37137,     0.37237,     0.37337,     0.37437,     0.37538,     0.37638,     0.37738,     0.37838,     0.37938,     0.38038,     0.38138,     0.38238,     0.38338,\n",
            "           0.38438,     0.38539,     0.38639,     0.38739,     0.38839,     0.38939,     0.39039,     0.39139,     0.39239,     0.39339,     0.39439,      0.3954,      0.3964,      0.3974,      0.3984,      0.3994,      0.4004,      0.4014,      0.4024,      0.4034,      0.4044,     0.40541,     0.40641,     0.40741,\n",
            "           0.40841,     0.40941,     0.41041,     0.41141,     0.41241,     0.41341,     0.41441,     0.41542,     0.41642,     0.41742,     0.41842,     0.41942,     0.42042,     0.42142,     0.42242,     0.42342,     0.42442,     0.42543,     0.42643,     0.42743,     0.42843,     0.42943,     0.43043,     0.43143,\n",
            "           0.43243,     0.43343,     0.43443,     0.43544,     0.43644,     0.43744,     0.43844,     0.43944,     0.44044,     0.44144,     0.44244,     0.44344,     0.44444,     0.44545,     0.44645,     0.44745,     0.44845,     0.44945,     0.45045,     0.45145,     0.45245,     0.45345,     0.45445,     0.45546,\n",
            "           0.45646,     0.45746,     0.45846,     0.45946,     0.46046,     0.46146,     0.46246,     0.46346,     0.46446,     0.46547,     0.46647,     0.46747,     0.46847,     0.46947,     0.47047,     0.47147,     0.47247,     0.47347,     0.47447,     0.47548,     0.47648,     0.47748,     0.47848,     0.47948,\n",
            "           0.48048,     0.48148,     0.48248,     0.48348,     0.48448,     0.48549,     0.48649,     0.48749,     0.48849,     0.48949,     0.49049,     0.49149,     0.49249,     0.49349,     0.49449,      0.4955,      0.4965,      0.4975,      0.4985,      0.4995,      0.5005,      0.5015,      0.5025,      0.5035,\n",
            "            0.5045,     0.50551,     0.50651,     0.50751,     0.50851,     0.50951,     0.51051,     0.51151,     0.51251,     0.51351,     0.51451,     0.51552,     0.51652,     0.51752,     0.51852,     0.51952,     0.52052,     0.52152,     0.52252,     0.52352,     0.52452,     0.52553,     0.52653,     0.52753,\n",
            "           0.52853,     0.52953,     0.53053,     0.53153,     0.53253,     0.53353,     0.53453,     0.53554,     0.53654,     0.53754,     0.53854,     0.53954,     0.54054,     0.54154,     0.54254,     0.54354,     0.54454,     0.54555,     0.54655,     0.54755,     0.54855,     0.54955,     0.55055,     0.55155,\n",
            "           0.55255,     0.55355,     0.55455,     0.55556,     0.55656,     0.55756,     0.55856,     0.55956,     0.56056,     0.56156,     0.56256,     0.56356,     0.56456,     0.56557,     0.56657,     0.56757,     0.56857,     0.56957,     0.57057,     0.57157,     0.57257,     0.57357,     0.57457,     0.57558,\n",
            "           0.57658,     0.57758,     0.57858,     0.57958,     0.58058,     0.58158,     0.58258,     0.58358,     0.58458,     0.58559,     0.58659,     0.58759,     0.58859,     0.58959,     0.59059,     0.59159,     0.59259,     0.59359,     0.59459,      0.5956,      0.5966,      0.5976,      0.5986,      0.5996,\n",
            "            0.6006,      0.6016,      0.6026,      0.6036,      0.6046,     0.60561,     0.60661,     0.60761,     0.60861,     0.60961,     0.61061,     0.61161,     0.61261,     0.61361,     0.61461,     0.61562,     0.61662,     0.61762,     0.61862,     0.61962,     0.62062,     0.62162,     0.62262,     0.62362,\n",
            "           0.62462,     0.62563,     0.62663,     0.62763,     0.62863,     0.62963,     0.63063,     0.63163,     0.63263,     0.63363,     0.63463,     0.63564,     0.63664,     0.63764,     0.63864,     0.63964,     0.64064,     0.64164,     0.64264,     0.64364,     0.64464,     0.64565,     0.64665,     0.64765,\n",
            "           0.64865,     0.64965,     0.65065,     0.65165,     0.65265,     0.65365,     0.65465,     0.65566,     0.65666,     0.65766,     0.65866,     0.65966,     0.66066,     0.66166,     0.66266,     0.66366,     0.66466,     0.66567,     0.66667,     0.66767,     0.66867,     0.66967,     0.67067,     0.67167,\n",
            "           0.67267,     0.67367,     0.67467,     0.67568,     0.67668,     0.67768,     0.67868,     0.67968,     0.68068,     0.68168,     0.68268,     0.68368,     0.68468,     0.68569,     0.68669,     0.68769,     0.68869,     0.68969,     0.69069,     0.69169,     0.69269,     0.69369,     0.69469,      0.6957,\n",
            "            0.6967,      0.6977,      0.6987,      0.6997,      0.7007,      0.7017,      0.7027,      0.7037,      0.7047,     0.70571,     0.70671,     0.70771,     0.70871,     0.70971,     0.71071,     0.71171,     0.71271,     0.71371,     0.71471,     0.71572,     0.71672,     0.71772,     0.71872,     0.71972,\n",
            "           0.72072,     0.72172,     0.72272,     0.72372,     0.72472,     0.72573,     0.72673,     0.72773,     0.72873,     0.72973,     0.73073,     0.73173,     0.73273,     0.73373,     0.73473,     0.73574,     0.73674,     0.73774,     0.73874,     0.73974,     0.74074,     0.74174,     0.74274,     0.74374,\n",
            "           0.74474,     0.74575,     0.74675,     0.74775,     0.74875,     0.74975,     0.75075,     0.75175,     0.75275,     0.75375,     0.75475,     0.75576,     0.75676,     0.75776,     0.75876,     0.75976,     0.76076,     0.76176,     0.76276,     0.76376,     0.76476,     0.76577,     0.76677,     0.76777,\n",
            "           0.76877,     0.76977,     0.77077,     0.77177,     0.77277,     0.77377,     0.77477,     0.77578,     0.77678,     0.77778,     0.77878,     0.77978,     0.78078,     0.78178,     0.78278,     0.78378,     0.78478,     0.78579,     0.78679,     0.78779,     0.78879,     0.78979,     0.79079,     0.79179,\n",
            "           0.79279,     0.79379,     0.79479,      0.7958,      0.7968,      0.7978,      0.7988,      0.7998,      0.8008,      0.8018,      0.8028,      0.8038,      0.8048,     0.80581,     0.80681,     0.80781,     0.80881,     0.80981,     0.81081,     0.81181,     0.81281,     0.81381,     0.81481,     0.81582,\n",
            "           0.81682,     0.81782,     0.81882,     0.81982,     0.82082,     0.82182,     0.82282,     0.82382,     0.82482,     0.82583,     0.82683,     0.82783,     0.82883,     0.82983,     0.83083,     0.83183,     0.83283,     0.83383,     0.83483,     0.83584,     0.83684,     0.83784,     0.83884,     0.83984,\n",
            "           0.84084,     0.84184,     0.84284,     0.84384,     0.84484,     0.84585,     0.84685,     0.84785,     0.84885,     0.84985,     0.85085,     0.85185,     0.85285,     0.85385,     0.85485,     0.85586,     0.85686,     0.85786,     0.85886,     0.85986,     0.86086,     0.86186,     0.86286,     0.86386,\n",
            "           0.86486,     0.86587,     0.86687,     0.86787,     0.86887,     0.86987,     0.87087,     0.87187,     0.87287,     0.87387,     0.87487,     0.87588,     0.87688,     0.87788,     0.87888,     0.87988,     0.88088,     0.88188,     0.88288,     0.88388,     0.88488,     0.88589,     0.88689,     0.88789,\n",
            "           0.88889,     0.88989,     0.89089,     0.89189,     0.89289,     0.89389,     0.89489,      0.8959,      0.8969,      0.8979,      0.8989,      0.8999,      0.9009,      0.9019,      0.9029,      0.9039,      0.9049,     0.90591,     0.90691,     0.90791,     0.90891,     0.90991,     0.91091,     0.91191,\n",
            "           0.91291,     0.91391,     0.91491,     0.91592,     0.91692,     0.91792,     0.91892,     0.91992,     0.92092,     0.92192,     0.92292,     0.92392,     0.92492,     0.92593,     0.92693,     0.92793,     0.92893,     0.92993,     0.93093,     0.93193,     0.93293,     0.93393,     0.93493,     0.93594,\n",
            "           0.93694,     0.93794,     0.93894,     0.93994,     0.94094,     0.94194,     0.94294,     0.94394,     0.94494,     0.94595,     0.94695,     0.94795,     0.94895,     0.94995,     0.95095,     0.95195,     0.95295,     0.95395,     0.95495,     0.95596,     0.95696,     0.95796,     0.95896,     0.95996,\n",
            "           0.96096,     0.96196,     0.96296,     0.96396,     0.96496,     0.96597,     0.96697,     0.96797,     0.96897,     0.96997,     0.97097,     0.97197,     0.97297,     0.97397,     0.97497,     0.97598,     0.97698,     0.97798,     0.97898,     0.97998,     0.98098,     0.98198,     0.98298,     0.98398,\n",
            "           0.98498,     0.98599,     0.98699,     0.98799,     0.98899,     0.98999,     0.99099,     0.99199,     0.99299,     0.99399,     0.99499,       0.996,       0.997,       0.998,       0.999,           1]), array([[    0.28836,     0.28837,     0.29331,     0.29645,     0.29896,     0.30109,     0.30297,     0.30472,     0.30643,     0.30798,     0.30925,      0.3105,     0.31162,     0.31273,     0.31377,     0.31482,     0.31577,     0.31678,     0.31765,     0.31853,     0.31939,     0.32027,     0.32109,\n",
            "            0.32182,     0.32261,     0.32338,     0.32408,     0.32477,     0.32552,     0.32625,     0.32694,     0.32762,     0.32835,     0.32898,     0.32964,     0.33034,     0.33096,     0.33156,     0.33215,     0.33274,      0.3334,     0.33398,     0.33455,     0.33513,     0.33572,      0.3363,\n",
            "            0.33684,     0.33744,     0.33801,      0.3386,      0.3392,     0.33986,      0.3405,      0.3411,     0.34167,     0.34227,     0.34292,     0.34352,     0.34404,     0.34466,     0.34527,     0.34579,     0.34634,     0.34691,     0.34745,     0.34805,     0.34863,     0.34921,     0.34978,\n",
            "            0.35041,     0.35102,     0.35167,      0.3523,     0.35289,     0.35348,     0.35403,     0.35464,     0.35522,     0.35579,     0.35636,     0.35682,     0.35745,     0.35802,      0.3586,      0.3591,     0.35972,     0.36034,     0.36094,     0.36149,     0.36202,     0.36262,     0.36314,\n",
            "            0.36371,     0.36416,     0.36473,     0.36522,     0.36584,     0.36634,     0.36678,     0.36726,     0.36779,     0.36829,     0.36871,     0.36923,     0.36964,     0.37004,     0.37047,     0.37087,     0.37141,     0.37197,     0.37229,     0.37278,     0.37325,      0.3736,       0.374,\n",
            "            0.37442,     0.37482,     0.37526,     0.37569,     0.37599,     0.37647,     0.37691,     0.37735,     0.37774,     0.37814,     0.37861,     0.37905,      0.3795,     0.37997,     0.38037,     0.38071,      0.3812,     0.38162,     0.38203,     0.38248,     0.38284,     0.38331,     0.38369,\n",
            "            0.38399,     0.38442,     0.38471,     0.38507,     0.38546,     0.38573,     0.38608,     0.38635,     0.38668,       0.387,     0.38728,      0.3876,       0.388,     0.38817,      0.3884,     0.38874,     0.38892,     0.38907,     0.38943,     0.38972,     0.38999,     0.39033,     0.39054,\n",
            "            0.39074,     0.39097,     0.39117,     0.39148,      0.3918,     0.39201,     0.39223,     0.39251,      0.3926,     0.39268,     0.39283,     0.39312,     0.39336,     0.39352,      0.3936,     0.39377,     0.39366,     0.39376,     0.39383,     0.39399,       0.394,     0.39414,     0.39412,\n",
            "            0.39423,      0.3941,     0.39401,     0.39394,      0.3941,     0.39411,     0.39407,     0.39409,     0.39407,     0.39404,      0.3939,     0.39391,     0.39379,     0.39368,     0.39346,     0.39341,      0.3932,     0.39296,     0.39271,     0.39251,     0.39228,     0.39204,      0.3919,\n",
            "            0.39174,     0.39158,     0.39129,      0.3908,     0.39062,     0.39026,        0.39,     0.38975,     0.38954,     0.38921,     0.38899,     0.38873,     0.38832,     0.38797,     0.38772,     0.38728,     0.38688,     0.38662,     0.38633,     0.38582,     0.38549,     0.38519,     0.38473,\n",
            "            0.38441,     0.38408,     0.38366,     0.38336,     0.38297,     0.38258,     0.38207,      0.3817,      0.3813,     0.38083,     0.38026,      0.3798,     0.37923,     0.37879,     0.37834,     0.37784,     0.37742,     0.37698,     0.37664,     0.37615,     0.37556,     0.37504,     0.37449,\n",
            "            0.37406,     0.37353,     0.37299,     0.37248,      0.3719,      0.3713,     0.37065,     0.37001,     0.36934,      0.3688,     0.36839,     0.36777,     0.36713,     0.36646,     0.36585,     0.36533,     0.36466,     0.36402,     0.36334,     0.36275,     0.36206,     0.36137,     0.36076,\n",
            "            0.36005,     0.35931,     0.35864,       0.358,     0.35739,     0.35672,     0.35594,     0.35534,     0.35476,     0.35399,     0.35334,     0.35267,     0.35196,     0.35139,     0.35068,     0.34984,     0.34912,     0.34837,     0.34774,     0.34703,      0.3462,     0.34546,     0.34477,\n",
            "            0.34402,     0.34334,     0.34244,     0.34171,     0.34104,     0.34044,     0.33967,      0.3389,     0.33822,     0.33749,     0.33677,     0.33614,     0.33527,     0.33443,     0.33378,     0.33309,      0.3323,     0.33159,     0.33075,     0.33005,     0.32934,     0.32834,     0.32769,\n",
            "            0.32688,       0.326,     0.32517,     0.32434,     0.32365,     0.32288,     0.32209,     0.32132,      0.3205,     0.31984,     0.31903,     0.31829,     0.31763,     0.31684,     0.31597,     0.31538,     0.31461,     0.31378,     0.31298,     0.31221,     0.31132,     0.31047,     0.30972,\n",
            "            0.30901,     0.30852,      0.3077,     0.30691,     0.30611,     0.30536,     0.30454,     0.30353,     0.30271,     0.30191,      0.3014,      0.3006,     0.29991,     0.29929,     0.29851,     0.29767,     0.29684,     0.29596,     0.29521,     0.29455,     0.29374,     0.29282,       0.292,\n",
            "            0.29118,      0.2903,     0.28947,     0.28866,     0.28779,     0.28702,     0.28634,     0.28554,     0.28461,     0.28388,     0.28308,     0.28247,     0.28151,     0.28075,     0.27995,     0.27931,      0.2786,     0.27774,     0.27699,     0.27624,     0.27556,     0.27481,     0.27398,\n",
            "            0.27307,     0.27239,     0.27157,     0.27079,     0.27014,      0.2693,     0.26855,     0.26761,     0.26676,     0.26586,     0.26516,     0.26439,     0.26365,     0.26284,     0.26204,     0.26122,     0.26031,     0.25933,     0.25852,     0.25768,     0.25687,     0.25603,     0.25518,\n",
            "            0.25446,     0.25358,     0.25273,     0.25194,     0.25111,      0.2505,     0.24966,     0.24891,     0.24816,     0.24734,     0.24639,     0.24553,     0.24472,     0.24384,     0.24307,     0.24231,     0.24126,     0.24024,     0.23952,     0.23873,     0.23791,     0.23701,     0.23604,\n",
            "            0.23504,     0.23414,     0.23332,     0.23243,     0.23167,      0.2308,     0.23003,      0.2291,     0.22834,     0.22758,     0.22675,      0.2259,     0.22508,     0.22436,     0.22364,     0.22285,     0.22192,     0.22094,     0.22019,     0.21944,     0.21858,     0.21761,     0.21682,\n",
            "             0.2161,     0.21521,     0.21433,     0.21347,     0.21264,     0.21189,     0.21098,     0.21018,     0.20947,     0.20867,     0.20772,     0.20684,     0.20594,     0.20491,     0.20401,     0.20306,     0.20222,     0.20114,     0.20014,      0.1993,     0.19854,     0.19778,     0.19694,\n",
            "            0.19605,     0.19522,     0.19435,     0.19368,     0.19265,     0.19181,     0.19104,     0.19008,      0.1891,      0.1884,     0.18747,     0.18657,     0.18561,     0.18452,     0.18346,     0.18243,     0.18161,     0.18072,     0.17976,     0.17877,     0.17799,     0.17704,     0.17592,\n",
            "             0.1752,     0.17425,     0.17337,     0.17254,      0.1716,     0.17083,     0.16988,       0.169,     0.16803,     0.16709,      0.1661,     0.16516,     0.16416,     0.16327,     0.16222,     0.16105,     0.16014,     0.15936,     0.15846,     0.15747,     0.15646,     0.15564,     0.15476,\n",
            "            0.15368,     0.15265,     0.15168,     0.15077,     0.14986,     0.14869,     0.14762,     0.14666,     0.14559,     0.14445,     0.14352,      0.1426,     0.14164,     0.14056,     0.13965,     0.13844,     0.13752,      0.1363,     0.13502,     0.13395,     0.13293,     0.13194,     0.13094,\n",
            "            0.12979,     0.12899,     0.12804,     0.12684,     0.12574,      0.1247,     0.12342,      0.1223,     0.12122,      0.1202,     0.11906,     0.11804,     0.11691,     0.11558,     0.11456,     0.11331,     0.11231,     0.11139,     0.11028,     0.10901,     0.10769,     0.10658,     0.10548,\n",
            "            0.10436,     0.10315,     0.10181,     0.10047,    0.099476,    0.098352,    0.097153,    0.096215,    0.095182,      0.0941,    0.092907,    0.092018,    0.090954,    0.089771,     0.08859,    0.087413,    0.086256,    0.085109,    0.084059,    0.082882,    0.081772,    0.080773,    0.079702,\n",
            "           0.078789,    0.077904,    0.076639,    0.075754,    0.074815,    0.073812,    0.072724,    0.071735,    0.070582,    0.069433,    0.068412,    0.067283,    0.066305,    0.065369,    0.064393,    0.063295,    0.062168,    0.061046,    0.059846,    0.058762,    0.057526,    0.056785,    0.055698,\n",
            "           0.054627,    0.053616,    0.052352,    0.051396,    0.050458,     0.04917,    0.048081,    0.047244,    0.046326,    0.045281,    0.044269,    0.043407,    0.042435,    0.041526,    0.040626,    0.039858,    0.039121,    0.038298,    0.037488,    0.036672,    0.035734,    0.034902,    0.034325,\n",
            "           0.033531,    0.032548,    0.031754,    0.031093,      0.0302,    0.029452,    0.028782,    0.028169,    0.027465,    0.026746,    0.026076,    0.025253,    0.024417,    0.023731,    0.023078,    0.022266,    0.021599,    0.021009,    0.020511,    0.019742,    0.019137,    0.018616,    0.018099,\n",
            "           0.017657,    0.017174,    0.016645,    0.016137,    0.015513,    0.014918,    0.014583,    0.014232,    0.013626,    0.013345,    0.012875,    0.012276,    0.011721,    0.011198,    0.010801,    0.010446,    0.010071,   0.0096587,   0.0094004,   0.0089941,    0.008723,   0.0083594,   0.0080406,\n",
            "          0.0077805,    0.007386,   0.0070621,   0.0067411,   0.0064533,    0.006246,   0.0060428,   0.0057716,   0.0055834,   0.0053658,    0.005113,   0.0049945,    0.004838,   0.0046298,   0.0043612,   0.0041932,   0.0040556,    0.003829,   0.0036665,   0.0035142,   0.0034469,   0.0033528,   0.0031623,\n",
            "          0.0030762,   0.0028991,   0.0027562,   0.0026249,   0.0024817,   0.0023627,   0.0022719,   0.0021339,    0.002066,    0.002017,   0.0019219,   0.0018225,   0.0017563,   0.0016845,   0.0015915,    0.001534,   0.0015021,   0.0014315,   0.0013669,   0.0013229,   0.0012798,   0.0012354,   0.0011565,\n",
            "          0.0011122,    0.001059,   0.0010248,  0.00098114,  0.00094094,  0.00091139,  0.00089684,  0.00088728,  0.00087319,  0.00085198,  0.00084256,  0.00081849,   0.0007432,  0.00073068,  0.00071642,  0.00069413,  0.00068964,  0.00068515,  0.00068131,   0.0006603,  0.00063998,  0.00063572,  0.00063145,\n",
            "         0.00062816,  0.00062631,  0.00062445,  0.00062259,  0.00062073,  0.00061887,  0.00061702,  0.00061149,  0.00060045,  0.00059229,  0.00058255,   0.0005671,  0.00055339,  0.00053097,  0.00052039,  0.00051213,  0.00050503,  0.00049811,  0.00048316,   0.0004803,  0.00047744,  0.00047457,  0.00047171,\n",
            "         0.00046939,  0.00046707,  0.00046474,  0.00046242,   0.0004601,  0.00045583,  0.00044823,  0.00044388,  0.00044133,  0.00043879,  0.00043624,  0.00043369,  0.00042845,  0.00042052,  0.00040492,  0.00040168,  0.00039844,  0.00039519,  0.00038933,  0.00037895,  0.00036973,  0.00036412,  0.00036009,\n",
            "         0.00035606,  0.00035309,  0.00035144,  0.00034979,  0.00034814,  0.00034649,  0.00034484,  0.00034319,  0.00034155,  0.00032424,  0.00031336,  0.00030337,  0.00029637,  0.00029011,  0.00028539,  0.00028129,  0.00027719,  0.00026472,  0.00026126,  0.00026029,  0.00025933,  0.00025836,   0.0002574,\n",
            "         0.00025643,  0.00025547,  0.00025451,  0.00025354,  0.00025258,  0.00025161,  0.00025065,  0.00024968,  0.00024743,  0.00024198,  0.00023652,  0.00023133,  0.00022617,  0.00021912,  0.00020879,  0.00020103,  0.00018304,  0.00018074,  0.00017844,  0.00017614,  0.00017384,  0.00017154,  0.00015523,\n",
            "         0.00015008,  0.00014492,  0.00013156,  0.00012195,  0.00010695,  0.00010223,  9.9296e-05,   9.636e-05,  9.3423e-05,  9.1016e-05,  8.9318e-05,   8.762e-05,  8.5922e-05,  8.4224e-05,  8.2527e-05,  8.0829e-05,  7.9131e-05,  7.7306e-05,   7.543e-05,  7.3554e-05,  7.1677e-05,  6.9801e-05,  6.7924e-05,\n",
            "         6.6048e-05,  5.1947e-05,  4.8617e-05,  4.5288e-05,  4.1959e-05,  3.8643e-05,  3.5377e-05,  3.2112e-05,  2.8847e-05,  2.5827e-05,  2.3836e-05,  2.1844e-05,  1.9852e-05,   1.786e-05,  1.5868e-05,  1.3876e-05,           0,           0,           0,           0,           0,           0,           0,\n",
            "                  0,           0,           0,           0,           0,           0,           0,           0,           0,           0,           0,           0,           0,           0,           0,           0,           0,           0,           0,           0,           0,           0,           0,\n",
            "                  0,           0,           0,           0,           0,           0,           0,           0,           0,           0,           0,           0,           0,           0,           0,           0,           0,           0,           0,           0,           0,           0,           0,\n",
            "                  0,           0,           0,           0,           0,           0,           0,           0,           0,           0,           0,           0,           0,           0,           0,           0,           0,           0,           0,           0,           0,           0,           0,\n",
            "                  0,           0,           0,           0,           0,           0,           0,           0,           0,           0,           0,           0,           0,           0,           0,           0,           0,           0,           0,           0,           0,           0,           0,\n",
            "                  0,           0,           0,           0,           0,           0,           0,           0,           0,           0,           0]]), 'Confidence', 'F1'], [array([          0,    0.001001,    0.002002,    0.003003,    0.004004,    0.005005,    0.006006,    0.007007,    0.008008,    0.009009,     0.01001,    0.011011,    0.012012,    0.013013,    0.014014,    0.015015,    0.016016,    0.017017,    0.018018,    0.019019,     0.02002,    0.021021,    0.022022,    0.023023,\n",
            "          0.024024,    0.025025,    0.026026,    0.027027,    0.028028,    0.029029,     0.03003,    0.031031,    0.032032,    0.033033,    0.034034,    0.035035,    0.036036,    0.037037,    0.038038,    0.039039,     0.04004,    0.041041,    0.042042,    0.043043,    0.044044,    0.045045,    0.046046,    0.047047,\n",
            "          0.048048,    0.049049,     0.05005,    0.051051,    0.052052,    0.053053,    0.054054,    0.055055,    0.056056,    0.057057,    0.058058,    0.059059,     0.06006,    0.061061,    0.062062,    0.063063,    0.064064,    0.065065,    0.066066,    0.067067,    0.068068,    0.069069,     0.07007,    0.071071,\n",
            "          0.072072,    0.073073,    0.074074,    0.075075,    0.076076,    0.077077,    0.078078,    0.079079,     0.08008,    0.081081,    0.082082,    0.083083,    0.084084,    0.085085,    0.086086,    0.087087,    0.088088,    0.089089,     0.09009,    0.091091,    0.092092,    0.093093,    0.094094,    0.095095,\n",
            "          0.096096,    0.097097,    0.098098,    0.099099,      0.1001,      0.1011,      0.1021,      0.1031,      0.1041,     0.10511,     0.10611,     0.10711,     0.10811,     0.10911,     0.11011,     0.11111,     0.11211,     0.11311,     0.11411,     0.11512,     0.11612,     0.11712,     0.11812,     0.11912,\n",
            "           0.12012,     0.12112,     0.12212,     0.12312,     0.12412,     0.12513,     0.12613,     0.12713,     0.12813,     0.12913,     0.13013,     0.13113,     0.13213,     0.13313,     0.13413,     0.13514,     0.13614,     0.13714,     0.13814,     0.13914,     0.14014,     0.14114,     0.14214,     0.14314,\n",
            "           0.14414,     0.14515,     0.14615,     0.14715,     0.14815,     0.14915,     0.15015,     0.15115,     0.15215,     0.15315,     0.15415,     0.15516,     0.15616,     0.15716,     0.15816,     0.15916,     0.16016,     0.16116,     0.16216,     0.16316,     0.16416,     0.16517,     0.16617,     0.16717,\n",
            "           0.16817,     0.16917,     0.17017,     0.17117,     0.17217,     0.17317,     0.17417,     0.17518,     0.17618,     0.17718,     0.17818,     0.17918,     0.18018,     0.18118,     0.18218,     0.18318,     0.18418,     0.18519,     0.18619,     0.18719,     0.18819,     0.18919,     0.19019,     0.19119,\n",
            "           0.19219,     0.19319,     0.19419,      0.1952,      0.1962,      0.1972,      0.1982,      0.1992,      0.2002,      0.2012,      0.2022,      0.2032,      0.2042,     0.20521,     0.20621,     0.20721,     0.20821,     0.20921,     0.21021,     0.21121,     0.21221,     0.21321,     0.21421,     0.21522,\n",
            "           0.21622,     0.21722,     0.21822,     0.21922,     0.22022,     0.22122,     0.22222,     0.22322,     0.22422,     0.22523,     0.22623,     0.22723,     0.22823,     0.22923,     0.23023,     0.23123,     0.23223,     0.23323,     0.23423,     0.23524,     0.23624,     0.23724,     0.23824,     0.23924,\n",
            "           0.24024,     0.24124,     0.24224,     0.24324,     0.24424,     0.24525,     0.24625,     0.24725,     0.24825,     0.24925,     0.25025,     0.25125,     0.25225,     0.25325,     0.25425,     0.25526,     0.25626,     0.25726,     0.25826,     0.25926,     0.26026,     0.26126,     0.26226,     0.26326,\n",
            "           0.26426,     0.26527,     0.26627,     0.26727,     0.26827,     0.26927,     0.27027,     0.27127,     0.27227,     0.27327,     0.27427,     0.27528,     0.27628,     0.27728,     0.27828,     0.27928,     0.28028,     0.28128,     0.28228,     0.28328,     0.28428,     0.28529,     0.28629,     0.28729,\n",
            "           0.28829,     0.28929,     0.29029,     0.29129,     0.29229,     0.29329,     0.29429,      0.2953,      0.2963,      0.2973,      0.2983,      0.2993,      0.3003,      0.3013,      0.3023,      0.3033,      0.3043,     0.30531,     0.30631,     0.30731,     0.30831,     0.30931,     0.31031,     0.31131,\n",
            "           0.31231,     0.31331,     0.31431,     0.31532,     0.31632,     0.31732,     0.31832,     0.31932,     0.32032,     0.32132,     0.32232,     0.32332,     0.32432,     0.32533,     0.32633,     0.32733,     0.32833,     0.32933,     0.33033,     0.33133,     0.33233,     0.33333,     0.33433,     0.33534,\n",
            "           0.33634,     0.33734,     0.33834,     0.33934,     0.34034,     0.34134,     0.34234,     0.34334,     0.34434,     0.34535,     0.34635,     0.34735,     0.34835,     0.34935,     0.35035,     0.35135,     0.35235,     0.35335,     0.35435,     0.35536,     0.35636,     0.35736,     0.35836,     0.35936,\n",
            "           0.36036,     0.36136,     0.36236,     0.36336,     0.36436,     0.36537,     0.36637,     0.36737,     0.36837,     0.36937,     0.37037,     0.37137,     0.37237,     0.37337,     0.37437,     0.37538,     0.37638,     0.37738,     0.37838,     0.37938,     0.38038,     0.38138,     0.38238,     0.38338,\n",
            "           0.38438,     0.38539,     0.38639,     0.38739,     0.38839,     0.38939,     0.39039,     0.39139,     0.39239,     0.39339,     0.39439,      0.3954,      0.3964,      0.3974,      0.3984,      0.3994,      0.4004,      0.4014,      0.4024,      0.4034,      0.4044,     0.40541,     0.40641,     0.40741,\n",
            "           0.40841,     0.40941,     0.41041,     0.41141,     0.41241,     0.41341,     0.41441,     0.41542,     0.41642,     0.41742,     0.41842,     0.41942,     0.42042,     0.42142,     0.42242,     0.42342,     0.42442,     0.42543,     0.42643,     0.42743,     0.42843,     0.42943,     0.43043,     0.43143,\n",
            "           0.43243,     0.43343,     0.43443,     0.43544,     0.43644,     0.43744,     0.43844,     0.43944,     0.44044,     0.44144,     0.44244,     0.44344,     0.44444,     0.44545,     0.44645,     0.44745,     0.44845,     0.44945,     0.45045,     0.45145,     0.45245,     0.45345,     0.45445,     0.45546,\n",
            "           0.45646,     0.45746,     0.45846,     0.45946,     0.46046,     0.46146,     0.46246,     0.46346,     0.46446,     0.46547,     0.46647,     0.46747,     0.46847,     0.46947,     0.47047,     0.47147,     0.47247,     0.47347,     0.47447,     0.47548,     0.47648,     0.47748,     0.47848,     0.47948,\n",
            "           0.48048,     0.48148,     0.48248,     0.48348,     0.48448,     0.48549,     0.48649,     0.48749,     0.48849,     0.48949,     0.49049,     0.49149,     0.49249,     0.49349,     0.49449,      0.4955,      0.4965,      0.4975,      0.4985,      0.4995,      0.5005,      0.5015,      0.5025,      0.5035,\n",
            "            0.5045,     0.50551,     0.50651,     0.50751,     0.50851,     0.50951,     0.51051,     0.51151,     0.51251,     0.51351,     0.51451,     0.51552,     0.51652,     0.51752,     0.51852,     0.51952,     0.52052,     0.52152,     0.52252,     0.52352,     0.52452,     0.52553,     0.52653,     0.52753,\n",
            "           0.52853,     0.52953,     0.53053,     0.53153,     0.53253,     0.53353,     0.53453,     0.53554,     0.53654,     0.53754,     0.53854,     0.53954,     0.54054,     0.54154,     0.54254,     0.54354,     0.54454,     0.54555,     0.54655,     0.54755,     0.54855,     0.54955,     0.55055,     0.55155,\n",
            "           0.55255,     0.55355,     0.55455,     0.55556,     0.55656,     0.55756,     0.55856,     0.55956,     0.56056,     0.56156,     0.56256,     0.56356,     0.56456,     0.56557,     0.56657,     0.56757,     0.56857,     0.56957,     0.57057,     0.57157,     0.57257,     0.57357,     0.57457,     0.57558,\n",
            "           0.57658,     0.57758,     0.57858,     0.57958,     0.58058,     0.58158,     0.58258,     0.58358,     0.58458,     0.58559,     0.58659,     0.58759,     0.58859,     0.58959,     0.59059,     0.59159,     0.59259,     0.59359,     0.59459,      0.5956,      0.5966,      0.5976,      0.5986,      0.5996,\n",
            "            0.6006,      0.6016,      0.6026,      0.6036,      0.6046,     0.60561,     0.60661,     0.60761,     0.60861,     0.60961,     0.61061,     0.61161,     0.61261,     0.61361,     0.61461,     0.61562,     0.61662,     0.61762,     0.61862,     0.61962,     0.62062,     0.62162,     0.62262,     0.62362,\n",
            "           0.62462,     0.62563,     0.62663,     0.62763,     0.62863,     0.62963,     0.63063,     0.63163,     0.63263,     0.63363,     0.63463,     0.63564,     0.63664,     0.63764,     0.63864,     0.63964,     0.64064,     0.64164,     0.64264,     0.64364,     0.64464,     0.64565,     0.64665,     0.64765,\n",
            "           0.64865,     0.64965,     0.65065,     0.65165,     0.65265,     0.65365,     0.65465,     0.65566,     0.65666,     0.65766,     0.65866,     0.65966,     0.66066,     0.66166,     0.66266,     0.66366,     0.66466,     0.66567,     0.66667,     0.66767,     0.66867,     0.66967,     0.67067,     0.67167,\n",
            "           0.67267,     0.67367,     0.67467,     0.67568,     0.67668,     0.67768,     0.67868,     0.67968,     0.68068,     0.68168,     0.68268,     0.68368,     0.68468,     0.68569,     0.68669,     0.68769,     0.68869,     0.68969,     0.69069,     0.69169,     0.69269,     0.69369,     0.69469,      0.6957,\n",
            "            0.6967,      0.6977,      0.6987,      0.6997,      0.7007,      0.7017,      0.7027,      0.7037,      0.7047,     0.70571,     0.70671,     0.70771,     0.70871,     0.70971,     0.71071,     0.71171,     0.71271,     0.71371,     0.71471,     0.71572,     0.71672,     0.71772,     0.71872,     0.71972,\n",
            "           0.72072,     0.72172,     0.72272,     0.72372,     0.72472,     0.72573,     0.72673,     0.72773,     0.72873,     0.72973,     0.73073,     0.73173,     0.73273,     0.73373,     0.73473,     0.73574,     0.73674,     0.73774,     0.73874,     0.73974,     0.74074,     0.74174,     0.74274,     0.74374,\n",
            "           0.74474,     0.74575,     0.74675,     0.74775,     0.74875,     0.74975,     0.75075,     0.75175,     0.75275,     0.75375,     0.75475,     0.75576,     0.75676,     0.75776,     0.75876,     0.75976,     0.76076,     0.76176,     0.76276,     0.76376,     0.76476,     0.76577,     0.76677,     0.76777,\n",
            "           0.76877,     0.76977,     0.77077,     0.77177,     0.77277,     0.77377,     0.77477,     0.77578,     0.77678,     0.77778,     0.77878,     0.77978,     0.78078,     0.78178,     0.78278,     0.78378,     0.78478,     0.78579,     0.78679,     0.78779,     0.78879,     0.78979,     0.79079,     0.79179,\n",
            "           0.79279,     0.79379,     0.79479,      0.7958,      0.7968,      0.7978,      0.7988,      0.7998,      0.8008,      0.8018,      0.8028,      0.8038,      0.8048,     0.80581,     0.80681,     0.80781,     0.80881,     0.80981,     0.81081,     0.81181,     0.81281,     0.81381,     0.81481,     0.81582,\n",
            "           0.81682,     0.81782,     0.81882,     0.81982,     0.82082,     0.82182,     0.82282,     0.82382,     0.82482,     0.82583,     0.82683,     0.82783,     0.82883,     0.82983,     0.83083,     0.83183,     0.83283,     0.83383,     0.83483,     0.83584,     0.83684,     0.83784,     0.83884,     0.83984,\n",
            "           0.84084,     0.84184,     0.84284,     0.84384,     0.84484,     0.84585,     0.84685,     0.84785,     0.84885,     0.84985,     0.85085,     0.85185,     0.85285,     0.85385,     0.85485,     0.85586,     0.85686,     0.85786,     0.85886,     0.85986,     0.86086,     0.86186,     0.86286,     0.86386,\n",
            "           0.86486,     0.86587,     0.86687,     0.86787,     0.86887,     0.86987,     0.87087,     0.87187,     0.87287,     0.87387,     0.87487,     0.87588,     0.87688,     0.87788,     0.87888,     0.87988,     0.88088,     0.88188,     0.88288,     0.88388,     0.88488,     0.88589,     0.88689,     0.88789,\n",
            "           0.88889,     0.88989,     0.89089,     0.89189,     0.89289,     0.89389,     0.89489,      0.8959,      0.8969,      0.8979,      0.8989,      0.8999,      0.9009,      0.9019,      0.9029,      0.9039,      0.9049,     0.90591,     0.90691,     0.90791,     0.90891,     0.90991,     0.91091,     0.91191,\n",
            "           0.91291,     0.91391,     0.91491,     0.91592,     0.91692,     0.91792,     0.91892,     0.91992,     0.92092,     0.92192,     0.92292,     0.92392,     0.92492,     0.92593,     0.92693,     0.92793,     0.92893,     0.92993,     0.93093,     0.93193,     0.93293,     0.93393,     0.93493,     0.93594,\n",
            "           0.93694,     0.93794,     0.93894,     0.93994,     0.94094,     0.94194,     0.94294,     0.94394,     0.94494,     0.94595,     0.94695,     0.94795,     0.94895,     0.94995,     0.95095,     0.95195,     0.95295,     0.95395,     0.95495,     0.95596,     0.95696,     0.95796,     0.95896,     0.95996,\n",
            "           0.96096,     0.96196,     0.96296,     0.96396,     0.96496,     0.96597,     0.96697,     0.96797,     0.96897,     0.96997,     0.97097,     0.97197,     0.97297,     0.97397,     0.97497,     0.97598,     0.97698,     0.97798,     0.97898,     0.97998,     0.98098,     0.98198,     0.98298,     0.98398,\n",
            "           0.98498,     0.98599,     0.98699,     0.98799,     0.98899,     0.98999,     0.99099,     0.99199,     0.99299,     0.99399,     0.99499,       0.996,       0.997,       0.998,       0.999,           1]), array([[    0.23174,     0.23175,     0.23821,     0.24238,     0.24578,      0.2487,      0.2513,     0.25375,     0.25616,     0.25835,     0.26018,     0.26199,      0.2636,     0.26524,      0.2668,     0.26834,     0.26975,     0.27127,      0.2726,     0.27395,     0.27527,     0.27661,     0.27789,\n",
            "            0.27904,     0.28025,     0.28148,     0.28261,     0.28375,     0.28495,     0.28615,     0.28729,     0.28842,      0.2896,     0.29067,     0.29177,     0.29293,     0.29398,     0.29501,     0.29601,     0.29703,     0.29813,     0.29917,     0.30023,     0.30125,     0.30229,     0.30335,\n",
            "            0.30438,     0.30546,     0.30651,     0.30757,     0.30868,     0.30984,     0.31101,     0.31218,      0.3133,     0.31444,     0.31566,     0.31684,     0.31794,     0.31912,     0.32031,      0.3214,     0.32254,      0.3237,     0.32481,     0.32606,     0.32725,     0.32847,     0.32968,\n",
            "            0.33101,     0.33233,     0.33365,     0.33495,     0.33627,     0.33753,     0.33881,     0.34014,     0.34146,     0.34274,     0.34403,     0.34524,     0.34669,     0.34799,     0.34938,     0.35072,     0.35219,     0.35365,     0.35513,     0.35648,     0.35785,      0.3593,     0.36066,\n",
            "            0.36212,     0.36345,     0.36495,     0.36628,     0.36781,     0.36917,     0.37055,      0.3719,     0.37344,     0.37487,     0.37622,     0.37764,       0.379,     0.38029,     0.38168,      0.3831,     0.38466,     0.38627,     0.38755,     0.38905,     0.39057,     0.39191,     0.39336,\n",
            "            0.39487,     0.39637,     0.39796,     0.39953,      0.4009,      0.4025,     0.40421,     0.40579,     0.40735,     0.40896,     0.41069,     0.41239,      0.4142,     0.41599,     0.41773,     0.41943,     0.42143,     0.42328,      0.4251,     0.42695,     0.42877,     0.43091,     0.43283,\n",
            "             0.4347,     0.43664,      0.4384,     0.44034,     0.44235,     0.44421,     0.44622,     0.44815,     0.45006,     0.45213,     0.45403,     0.45611,     0.45833,     0.46013,     0.46211,     0.46413,     0.46601,     0.46799,     0.47021,     0.47242,     0.47436,     0.47668,     0.47884,\n",
            "            0.48105,     0.48327,     0.48532,     0.48763,     0.49003,     0.49248,     0.49484,     0.49735,     0.49949,     0.50178,     0.50401,     0.50665,     0.50916,     0.51159,     0.51377,     0.51637,     0.51867,     0.52098,      0.5233,      0.5259,     0.52825,     0.53097,     0.53334,\n",
            "            0.53606,     0.53819,     0.54045,     0.54268,     0.54521,     0.54763,     0.54995,     0.55251,     0.55495,     0.55735,     0.55984,     0.56255,     0.56496,     0.56725,     0.56973,     0.57249,     0.57484,     0.57703,     0.57917,     0.58173,     0.58414,     0.58632,     0.58883,\n",
            "            0.59146,     0.59393,     0.59618,     0.59847,     0.60078,     0.60304,      0.6054,     0.60803,     0.61049,     0.61267,     0.61506,     0.61756,     0.61988,     0.62211,     0.62462,     0.62664,     0.62887,     0.63116,     0.63377,     0.63571,     0.63798,     0.64046,     0.64265,\n",
            "            0.64508,     0.64752,     0.64959,     0.65228,     0.65457,      0.6567,     0.65906,     0.66135,     0.66336,     0.66542,     0.66731,     0.66926,     0.67135,     0.67347,     0.67566,     0.67781,     0.68026,     0.68277,      0.6853,     0.68761,     0.68994,     0.69193,     0.69397,\n",
            "            0.69634,      0.6987,     0.70098,     0.70327,      0.7058,     0.70826,     0.71042,      0.7125,     0.71467,     0.71692,     0.71928,     0.72151,     0.72365,      0.7257,     0.72786,     0.73032,     0.73224,     0.73439,     0.73655,     0.73855,     0.74057,     0.74262,     0.74487,\n",
            "            0.74675,     0.74885,     0.75058,     0.75245,      0.7547,     0.75671,     0.75876,     0.76082,     0.76273,     0.76457,     0.76641,     0.76819,     0.76974,     0.77166,     0.77304,     0.77428,     0.77613,     0.77781,     0.77959,     0.78105,     0.78246,     0.78399,     0.78588,\n",
            "            0.78765,     0.78948,     0.79089,     0.79234,     0.79382,     0.79599,     0.79788,     0.79932,     0.80104,      0.8026,     0.80415,     0.80597,     0.80734,     0.80875,     0.81018,      0.8118,     0.81329,      0.8146,       0.816,     0.81759,       0.819,      0.8204,     0.82202,\n",
            "            0.82345,     0.82488,      0.8263,     0.82756,     0.82875,     0.83015,     0.83173,     0.83292,     0.83397,     0.83563,     0.83707,     0.83864,     0.84001,     0.84137,     0.84253,     0.84387,      0.8451,      0.8463,     0.84755,     0.84858,      0.8497,     0.85093,     0.85214,\n",
            "            0.85353,     0.85512,     0.85607,     0.85719,     0.85851,      0.8596,     0.86061,     0.86138,     0.86218,     0.86318,     0.86461,     0.86589,     0.86677,     0.86812,     0.86901,     0.86978,     0.87074,     0.87192,     0.87289,      0.8739,      0.8751,     0.87585,     0.87671,\n",
            "             0.8779,     0.87865,     0.87973,     0.88073,     0.88169,     0.88241,      0.8832,     0.88407,     0.88505,     0.88575,      0.8867,     0.88778,     0.88877,     0.88953,     0.89027,     0.89102,       0.892,     0.89272,     0.89357,     0.89421,     0.89494,     0.89573,     0.89646,\n",
            "            0.89706,     0.89786,     0.89841,     0.89949,     0.90041,     0.90147,     0.90215,     0.90266,     0.90351,     0.90401,      0.9047,     0.90533,     0.90612,     0.90727,     0.90787,     0.90862,     0.90909,     0.90954,     0.91056,     0.91108,     0.91146,     0.91231,     0.91292,\n",
            "            0.91339,      0.9138,     0.91453,     0.91484,     0.91511,     0.91557,     0.91605,     0.91711,      0.9176,       0.918,     0.91844,     0.91918,      0.9196,      0.9205,     0.92149,     0.92218,     0.92254,     0.92304,     0.92388,     0.92442,     0.92512,     0.92584,     0.92614,\n",
            "            0.92635,     0.92663,     0.92722,     0.92808,     0.92906,     0.92941,     0.93002,     0.93049,     0.93125,     0.93196,     0.93259,     0.93323,     0.93346,     0.93389,     0.93424,     0.93491,     0.93548,     0.93595,     0.93645,     0.93723,     0.93762,     0.93822,     0.93876,\n",
            "            0.93921,     0.93955,     0.93996,     0.94032,      0.9407,     0.94111,     0.94133,     0.94153,     0.94201,     0.94236,     0.94262,     0.94302,     0.94346,     0.94371,     0.94406,      0.9442,     0.94486,     0.94508,     0.94547,     0.94601,     0.94653,     0.94679,     0.94698,\n",
            "            0.94742,     0.94789,     0.94843,     0.94862,      0.9489,     0.94916,     0.94977,     0.94984,      0.9503,     0.95072,     0.95103,     0.95118,     0.95132,     0.95188,     0.95247,     0.95265,     0.95308,     0.95319,     0.95329,      0.9538,     0.95413,       0.954,     0.95403,\n",
            "            0.95466,     0.95502,     0.95528,     0.95582,     0.95594,     0.95616,     0.95649,     0.95697,     0.95723,     0.95756,     0.95795,     0.95844,     0.95884,     0.95894,     0.95914,     0.95938,     0.96003,     0.96045,      0.9607,     0.96087,     0.96081,     0.96145,      0.9618,\n",
            "            0.96203,     0.96227,     0.96239,      0.9623,     0.96243,     0.96257,     0.96267,     0.96257,     0.96267,     0.96291,     0.96281,     0.96288,     0.96294,     0.96296,     0.96295,      0.9627,     0.96276,     0.96283,     0.96314,     0.96325,     0.96322,     0.96345,     0.96368,\n",
            "            0.96378,     0.96399,     0.96469,     0.96506,     0.96511,     0.96545,     0.96582,     0.96625,      0.9666,     0.96669,     0.96723,     0.96771,     0.96769,     0.96771,     0.96781,     0.96765,     0.96787,     0.96801,      0.9681,     0.96846,     0.96828,     0.96827,     0.96837,\n",
            "            0.96836,     0.96865,     0.96869,     0.96884,     0.96899,     0.96887,     0.96872,     0.96901,     0.96879,     0.96893,     0.96865,     0.96897,     0.96951,     0.96975,     0.96974,     0.97013,        0.97,     0.96987,     0.96995,      0.9699,     0.97021,     0.97028,     0.97091,\n",
            "            0.97087,      0.9713,     0.97113,     0.97079,     0.97121,     0.97114,     0.97119,     0.97151,     0.97216,     0.97239,     0.97228,     0.97203,     0.97216,     0.97194,     0.97207,     0.97272,     0.97241,     0.97269,     0.97214,     0.97244,     0.97248,     0.97233,     0.97222,\n",
            "            0.97234,     0.97182,     0.97298,     0.97318,     0.97292,     0.97271,     0.97234,     0.97236,     0.97312,     0.97384,     0.97352,     0.97356,     0.97353,     0.97412,     0.97415,     0.97427,     0.97472,      0.9745,     0.97493,     0.97437,     0.97405,     0.97378,     0.97335,\n",
            "            0.97309,     0.97341,     0.97467,     0.97493,      0.9746,     0.97438,     0.97677,     0.97715,     0.97747,     0.97686,     0.97722,     0.97747,     0.97771,     0.97812,     0.97804,     0.97892,     0.97885,     0.97886,     0.97895,     0.97814,     0.97941,     0.98018,     0.98031,\n",
            "            0.97982,     0.97926,      0.9801,     0.97949,     0.97948,     0.98034,     0.98075,     0.98028,     0.97942,     0.97899,     0.97824,     0.97719,     0.97719,     0.97837,     0.97759,     0.97803,     0.97723,     0.97756,     0.97696,     0.97593,     0.97663,     0.97563,     0.97778,\n",
            "            0.97865,     0.97923,     0.98006,     0.98099,     0.98035,     0.98152,       0.983,      0.9844,     0.98388,     0.98323,     0.98489,     0.98454,     0.98404,     0.98334,     0.98233,     0.98464,     0.98413,     0.98652,     0.98593,     0.98533,     0.98874,     0.98843,     0.98774,\n",
            "             0.9874,     0.98664,     0.98595,     0.99013,     0.98956,     0.98904,     0.98861,     0.98788,     0.98748,     0.98718,     0.98656,     0.98583,     0.98531,     0.98469,     0.98381,     0.98321,     0.98286,     0.98203,      0.9812,     0.98611,     0.98987,     0.98951,      0.9888,\n",
            "            0.98836,     0.98778,     0.98738,     0.98682,     0.98627,     0.98583,      0.9856,     0.98545,     0.98522,     0.98486,     0.98469,     0.98424,     0.98268,     0.98238,     0.98204,     0.98147,     0.98135,     0.98123,     0.99222,           1,           1,           1,           1,\n",
            "                  1,           1,           1,           1,           1,           1,           1,           1,           1,           1,           1,           1,           1,           1,           1,           1,           1,           1,           1,           1,           1,           1,           1,\n",
            "                  1,           1,           1,           1,           1,           1,           1,           1,           1,           1,           1,           1,           1,           1,           1,           1,           1,           1,           1,           1,           1,           1,           1,\n",
            "                  1,           1,           1,           1,           1,           1,           1,           1,           1,           1,           1,           1,           1,           1,           1,           1,           1,           1,           1,           1,           1,           1,           1,\n",
            "                  1,           1,           1,           1,           1,           1,           1,           1,           1,           1,           1,           1,           1,           1,           1,           1,           1,           1,           1,           1,           1,           1,           1,\n",
            "                  1,           1,           1,           1,           1,           1,           1,           1,           1,           1,           1,           1,           1,           1,           1,           1,           1,           1,           1,           1,           1,           1,           1,\n",
            "                  1,           1,           1,           1,           1,           1,           1,           1,           1,           1,           1,           1,           1,           1,           1,           1,           1,           1,           1,           1,           1,           1,           1,\n",
            "                  1,           1,           1,           1,           1,           1,           1,           1,           1,           1,           1,           1,           1,           1,           1,           1,           1,           1,           1,           1,           1,           1,           1,\n",
            "                  1,           1,           1,           1,           1,           1,           1,           1,           1,           1,           1,           1,           1,           1,           1,           1,           1,           1,           1,           1,           1,           1,           1,\n",
            "                  1,           1,           1,           1,           1,           1,           1,           1,           1,           1,           1,           1,           1,           1,           1,           1,           1,           1,           1,           1,           1,           1,           1,\n",
            "                  1,           1,           1,           1,           1,           1,           1,           1,           1,           1,           1,           1,           1,           1,           1,           1,           1,           1,           1,           1,           1,           1,           1,\n",
            "                  1,           1,           1,           1,           1,           1,           1,           1,           1,           1,           1]]), 'Confidence', 'Precision'], [array([          0,    0.001001,    0.002002,    0.003003,    0.004004,    0.005005,    0.006006,    0.007007,    0.008008,    0.009009,     0.01001,    0.011011,    0.012012,    0.013013,    0.014014,    0.015015,    0.016016,    0.017017,    0.018018,    0.019019,     0.02002,    0.021021,    0.022022,    0.023023,\n",
            "          0.024024,    0.025025,    0.026026,    0.027027,    0.028028,    0.029029,     0.03003,    0.031031,    0.032032,    0.033033,    0.034034,    0.035035,    0.036036,    0.037037,    0.038038,    0.039039,     0.04004,    0.041041,    0.042042,    0.043043,    0.044044,    0.045045,    0.046046,    0.047047,\n",
            "          0.048048,    0.049049,     0.05005,    0.051051,    0.052052,    0.053053,    0.054054,    0.055055,    0.056056,    0.057057,    0.058058,    0.059059,     0.06006,    0.061061,    0.062062,    0.063063,    0.064064,    0.065065,    0.066066,    0.067067,    0.068068,    0.069069,     0.07007,    0.071071,\n",
            "          0.072072,    0.073073,    0.074074,    0.075075,    0.076076,    0.077077,    0.078078,    0.079079,     0.08008,    0.081081,    0.082082,    0.083083,    0.084084,    0.085085,    0.086086,    0.087087,    0.088088,    0.089089,     0.09009,    0.091091,    0.092092,    0.093093,    0.094094,    0.095095,\n",
            "          0.096096,    0.097097,    0.098098,    0.099099,      0.1001,      0.1011,      0.1021,      0.1031,      0.1041,     0.10511,     0.10611,     0.10711,     0.10811,     0.10911,     0.11011,     0.11111,     0.11211,     0.11311,     0.11411,     0.11512,     0.11612,     0.11712,     0.11812,     0.11912,\n",
            "           0.12012,     0.12112,     0.12212,     0.12312,     0.12412,     0.12513,     0.12613,     0.12713,     0.12813,     0.12913,     0.13013,     0.13113,     0.13213,     0.13313,     0.13413,     0.13514,     0.13614,     0.13714,     0.13814,     0.13914,     0.14014,     0.14114,     0.14214,     0.14314,\n",
            "           0.14414,     0.14515,     0.14615,     0.14715,     0.14815,     0.14915,     0.15015,     0.15115,     0.15215,     0.15315,     0.15415,     0.15516,     0.15616,     0.15716,     0.15816,     0.15916,     0.16016,     0.16116,     0.16216,     0.16316,     0.16416,     0.16517,     0.16617,     0.16717,\n",
            "           0.16817,     0.16917,     0.17017,     0.17117,     0.17217,     0.17317,     0.17417,     0.17518,     0.17618,     0.17718,     0.17818,     0.17918,     0.18018,     0.18118,     0.18218,     0.18318,     0.18418,     0.18519,     0.18619,     0.18719,     0.18819,     0.18919,     0.19019,     0.19119,\n",
            "           0.19219,     0.19319,     0.19419,      0.1952,      0.1962,      0.1972,      0.1982,      0.1992,      0.2002,      0.2012,      0.2022,      0.2032,      0.2042,     0.20521,     0.20621,     0.20721,     0.20821,     0.20921,     0.21021,     0.21121,     0.21221,     0.21321,     0.21421,     0.21522,\n",
            "           0.21622,     0.21722,     0.21822,     0.21922,     0.22022,     0.22122,     0.22222,     0.22322,     0.22422,     0.22523,     0.22623,     0.22723,     0.22823,     0.22923,     0.23023,     0.23123,     0.23223,     0.23323,     0.23423,     0.23524,     0.23624,     0.23724,     0.23824,     0.23924,\n",
            "           0.24024,     0.24124,     0.24224,     0.24324,     0.24424,     0.24525,     0.24625,     0.24725,     0.24825,     0.24925,     0.25025,     0.25125,     0.25225,     0.25325,     0.25425,     0.25526,     0.25626,     0.25726,     0.25826,     0.25926,     0.26026,     0.26126,     0.26226,     0.26326,\n",
            "           0.26426,     0.26527,     0.26627,     0.26727,     0.26827,     0.26927,     0.27027,     0.27127,     0.27227,     0.27327,     0.27427,     0.27528,     0.27628,     0.27728,     0.27828,     0.27928,     0.28028,     0.28128,     0.28228,     0.28328,     0.28428,     0.28529,     0.28629,     0.28729,\n",
            "           0.28829,     0.28929,     0.29029,     0.29129,     0.29229,     0.29329,     0.29429,      0.2953,      0.2963,      0.2973,      0.2983,      0.2993,      0.3003,      0.3013,      0.3023,      0.3033,      0.3043,     0.30531,     0.30631,     0.30731,     0.30831,     0.30931,     0.31031,     0.31131,\n",
            "           0.31231,     0.31331,     0.31431,     0.31532,     0.31632,     0.31732,     0.31832,     0.31932,     0.32032,     0.32132,     0.32232,     0.32332,     0.32432,     0.32533,     0.32633,     0.32733,     0.32833,     0.32933,     0.33033,     0.33133,     0.33233,     0.33333,     0.33433,     0.33534,\n",
            "           0.33634,     0.33734,     0.33834,     0.33934,     0.34034,     0.34134,     0.34234,     0.34334,     0.34434,     0.34535,     0.34635,     0.34735,     0.34835,     0.34935,     0.35035,     0.35135,     0.35235,     0.35335,     0.35435,     0.35536,     0.35636,     0.35736,     0.35836,     0.35936,\n",
            "           0.36036,     0.36136,     0.36236,     0.36336,     0.36436,     0.36537,     0.36637,     0.36737,     0.36837,     0.36937,     0.37037,     0.37137,     0.37237,     0.37337,     0.37437,     0.37538,     0.37638,     0.37738,     0.37838,     0.37938,     0.38038,     0.38138,     0.38238,     0.38338,\n",
            "           0.38438,     0.38539,     0.38639,     0.38739,     0.38839,     0.38939,     0.39039,     0.39139,     0.39239,     0.39339,     0.39439,      0.3954,      0.3964,      0.3974,      0.3984,      0.3994,      0.4004,      0.4014,      0.4024,      0.4034,      0.4044,     0.40541,     0.40641,     0.40741,\n",
            "           0.40841,     0.40941,     0.41041,     0.41141,     0.41241,     0.41341,     0.41441,     0.41542,     0.41642,     0.41742,     0.41842,     0.41942,     0.42042,     0.42142,     0.42242,     0.42342,     0.42442,     0.42543,     0.42643,     0.42743,     0.42843,     0.42943,     0.43043,     0.43143,\n",
            "           0.43243,     0.43343,     0.43443,     0.43544,     0.43644,     0.43744,     0.43844,     0.43944,     0.44044,     0.44144,     0.44244,     0.44344,     0.44444,     0.44545,     0.44645,     0.44745,     0.44845,     0.44945,     0.45045,     0.45145,     0.45245,     0.45345,     0.45445,     0.45546,\n",
            "           0.45646,     0.45746,     0.45846,     0.45946,     0.46046,     0.46146,     0.46246,     0.46346,     0.46446,     0.46547,     0.46647,     0.46747,     0.46847,     0.46947,     0.47047,     0.47147,     0.47247,     0.47347,     0.47447,     0.47548,     0.47648,     0.47748,     0.47848,     0.47948,\n",
            "           0.48048,     0.48148,     0.48248,     0.48348,     0.48448,     0.48549,     0.48649,     0.48749,     0.48849,     0.48949,     0.49049,     0.49149,     0.49249,     0.49349,     0.49449,      0.4955,      0.4965,      0.4975,      0.4985,      0.4995,      0.5005,      0.5015,      0.5025,      0.5035,\n",
            "            0.5045,     0.50551,     0.50651,     0.50751,     0.50851,     0.50951,     0.51051,     0.51151,     0.51251,     0.51351,     0.51451,     0.51552,     0.51652,     0.51752,     0.51852,     0.51952,     0.52052,     0.52152,     0.52252,     0.52352,     0.52452,     0.52553,     0.52653,     0.52753,\n",
            "           0.52853,     0.52953,     0.53053,     0.53153,     0.53253,     0.53353,     0.53453,     0.53554,     0.53654,     0.53754,     0.53854,     0.53954,     0.54054,     0.54154,     0.54254,     0.54354,     0.54454,     0.54555,     0.54655,     0.54755,     0.54855,     0.54955,     0.55055,     0.55155,\n",
            "           0.55255,     0.55355,     0.55455,     0.55556,     0.55656,     0.55756,     0.55856,     0.55956,     0.56056,     0.56156,     0.56256,     0.56356,     0.56456,     0.56557,     0.56657,     0.56757,     0.56857,     0.56957,     0.57057,     0.57157,     0.57257,     0.57357,     0.57457,     0.57558,\n",
            "           0.57658,     0.57758,     0.57858,     0.57958,     0.58058,     0.58158,     0.58258,     0.58358,     0.58458,     0.58559,     0.58659,     0.58759,     0.58859,     0.58959,     0.59059,     0.59159,     0.59259,     0.59359,     0.59459,      0.5956,      0.5966,      0.5976,      0.5986,      0.5996,\n",
            "            0.6006,      0.6016,      0.6026,      0.6036,      0.6046,     0.60561,     0.60661,     0.60761,     0.60861,     0.60961,     0.61061,     0.61161,     0.61261,     0.61361,     0.61461,     0.61562,     0.61662,     0.61762,     0.61862,     0.61962,     0.62062,     0.62162,     0.62262,     0.62362,\n",
            "           0.62462,     0.62563,     0.62663,     0.62763,     0.62863,     0.62963,     0.63063,     0.63163,     0.63263,     0.63363,     0.63463,     0.63564,     0.63664,     0.63764,     0.63864,     0.63964,     0.64064,     0.64164,     0.64264,     0.64364,     0.64464,     0.64565,     0.64665,     0.64765,\n",
            "           0.64865,     0.64965,     0.65065,     0.65165,     0.65265,     0.65365,     0.65465,     0.65566,     0.65666,     0.65766,     0.65866,     0.65966,     0.66066,     0.66166,     0.66266,     0.66366,     0.66466,     0.66567,     0.66667,     0.66767,     0.66867,     0.66967,     0.67067,     0.67167,\n",
            "           0.67267,     0.67367,     0.67467,     0.67568,     0.67668,     0.67768,     0.67868,     0.67968,     0.68068,     0.68168,     0.68268,     0.68368,     0.68468,     0.68569,     0.68669,     0.68769,     0.68869,     0.68969,     0.69069,     0.69169,     0.69269,     0.69369,     0.69469,      0.6957,\n",
            "            0.6967,      0.6977,      0.6987,      0.6997,      0.7007,      0.7017,      0.7027,      0.7037,      0.7047,     0.70571,     0.70671,     0.70771,     0.70871,     0.70971,     0.71071,     0.71171,     0.71271,     0.71371,     0.71471,     0.71572,     0.71672,     0.71772,     0.71872,     0.71972,\n",
            "           0.72072,     0.72172,     0.72272,     0.72372,     0.72472,     0.72573,     0.72673,     0.72773,     0.72873,     0.72973,     0.73073,     0.73173,     0.73273,     0.73373,     0.73473,     0.73574,     0.73674,     0.73774,     0.73874,     0.73974,     0.74074,     0.74174,     0.74274,     0.74374,\n",
            "           0.74474,     0.74575,     0.74675,     0.74775,     0.74875,     0.74975,     0.75075,     0.75175,     0.75275,     0.75375,     0.75475,     0.75576,     0.75676,     0.75776,     0.75876,     0.75976,     0.76076,     0.76176,     0.76276,     0.76376,     0.76476,     0.76577,     0.76677,     0.76777,\n",
            "           0.76877,     0.76977,     0.77077,     0.77177,     0.77277,     0.77377,     0.77477,     0.77578,     0.77678,     0.77778,     0.77878,     0.77978,     0.78078,     0.78178,     0.78278,     0.78378,     0.78478,     0.78579,     0.78679,     0.78779,     0.78879,     0.78979,     0.79079,     0.79179,\n",
            "           0.79279,     0.79379,     0.79479,      0.7958,      0.7968,      0.7978,      0.7988,      0.7998,      0.8008,      0.8018,      0.8028,      0.8038,      0.8048,     0.80581,     0.80681,     0.80781,     0.80881,     0.80981,     0.81081,     0.81181,     0.81281,     0.81381,     0.81481,     0.81582,\n",
            "           0.81682,     0.81782,     0.81882,     0.81982,     0.82082,     0.82182,     0.82282,     0.82382,     0.82482,     0.82583,     0.82683,     0.82783,     0.82883,     0.82983,     0.83083,     0.83183,     0.83283,     0.83383,     0.83483,     0.83584,     0.83684,     0.83784,     0.83884,     0.83984,\n",
            "           0.84084,     0.84184,     0.84284,     0.84384,     0.84484,     0.84585,     0.84685,     0.84785,     0.84885,     0.84985,     0.85085,     0.85185,     0.85285,     0.85385,     0.85485,     0.85586,     0.85686,     0.85786,     0.85886,     0.85986,     0.86086,     0.86186,     0.86286,     0.86386,\n",
            "           0.86486,     0.86587,     0.86687,     0.86787,     0.86887,     0.86987,     0.87087,     0.87187,     0.87287,     0.87387,     0.87487,     0.87588,     0.87688,     0.87788,     0.87888,     0.87988,     0.88088,     0.88188,     0.88288,     0.88388,     0.88488,     0.88589,     0.88689,     0.88789,\n",
            "           0.88889,     0.88989,     0.89089,     0.89189,     0.89289,     0.89389,     0.89489,      0.8959,      0.8969,      0.8979,      0.8989,      0.8999,      0.9009,      0.9019,      0.9029,      0.9039,      0.9049,     0.90591,     0.90691,     0.90791,     0.90891,     0.90991,     0.91091,     0.91191,\n",
            "           0.91291,     0.91391,     0.91491,     0.91592,     0.91692,     0.91792,     0.91892,     0.91992,     0.92092,     0.92192,     0.92292,     0.92392,     0.92492,     0.92593,     0.92693,     0.92793,     0.92893,     0.92993,     0.93093,     0.93193,     0.93293,     0.93393,     0.93493,     0.93594,\n",
            "           0.93694,     0.93794,     0.93894,     0.93994,     0.94094,     0.94194,     0.94294,     0.94394,     0.94494,     0.94595,     0.94695,     0.94795,     0.94895,     0.94995,     0.95095,     0.95195,     0.95295,     0.95395,     0.95495,     0.95596,     0.95696,     0.95796,     0.95896,     0.95996,\n",
            "           0.96096,     0.96196,     0.96296,     0.96396,     0.96496,     0.96597,     0.96697,     0.96797,     0.96897,     0.96997,     0.97097,     0.97197,     0.97297,     0.97397,     0.97497,     0.97598,     0.97698,     0.97798,     0.97898,     0.97998,     0.98098,     0.98198,     0.98298,     0.98398,\n",
            "           0.98498,     0.98599,     0.98699,     0.98799,     0.98899,     0.98999,     0.99099,     0.99199,     0.99299,     0.99399,     0.99499,       0.996,       0.997,       0.998,       0.999,           1]), array([[     0.3816,      0.3816,     0.38159,     0.38156,     0.38151,     0.38146,      0.3814,     0.38133,     0.38126,     0.38122,     0.38113,     0.38107,     0.38102,     0.38094,     0.38082,     0.38077,     0.38071,     0.38064,     0.38053,     0.38044,     0.38037,      0.3803,     0.38019,\n",
            "             0.3801,     0.38004,     0.37994,     0.37981,     0.37966,     0.37957,     0.37943,     0.37929,     0.37916,     0.37907,     0.37894,      0.3788,      0.3787,     0.37858,     0.37846,     0.37835,     0.37822,     0.37813,     0.37795,     0.37773,     0.37759,     0.37746,     0.37729,\n",
            "            0.37704,     0.37691,     0.37673,     0.37659,     0.37641,     0.37633,     0.37616,     0.37593,     0.37568,      0.3755,     0.37533,      0.3751,     0.37482,     0.37463,     0.37445,     0.37419,     0.37394,     0.37371,      0.3735,     0.37323,       0.373,     0.37275,     0.37248,\n",
            "            0.37223,     0.37194,     0.37176,     0.37155,     0.37124,     0.37101,     0.37067,     0.37043,     0.37013,     0.36987,      0.3696,      0.3692,      0.3689,     0.36864,     0.36831,      0.3679,     0.36758,     0.36729,     0.36693,     0.36663,     0.36629,     0.36599,     0.36566,\n",
            "            0.36532,     0.36487,     0.36451,     0.36417,     0.36389,     0.36356,     0.36309,     0.36274,      0.3623,     0.36193,      0.3615,     0.36119,     0.36073,     0.36033,     0.35989,     0.35939,     0.35904,     0.35869,     0.35818,     0.35782,      0.3574,     0.35692,     0.35645,\n",
            "            0.35599,      0.3555,     0.35501,     0.35454,       0.354,      0.3536,     0.35307,     0.35263,     0.35215,     0.35164,     0.35118,      0.3507,     0.35016,     0.34968,     0.34915,     0.34853,     0.34798,     0.34742,     0.34688,      0.3464,      0.3458,     0.34518,     0.34457,\n",
            "            0.34387,     0.34336,     0.34274,     0.34213,     0.34154,     0.34086,     0.34023,     0.33953,     0.33894,     0.33827,     0.33765,     0.33698,     0.33639,     0.33567,     0.33497,     0.33441,     0.33371,     0.33293,     0.33233,     0.33166,      0.3311,     0.33046,     0.32974,\n",
            "            0.32898,     0.32827,     0.32761,       0.327,     0.32637,     0.32558,     0.32486,     0.32418,     0.32339,     0.32255,     0.32184,     0.32116,     0.32048,     0.31974,     0.31898,     0.31821,     0.31721,     0.31648,     0.31572,     0.31498,     0.31415,     0.31338,     0.31254,\n",
            "            0.31175,     0.31087,     0.31001,      0.3092,     0.30857,     0.30782,     0.30704,     0.30627,      0.3055,     0.30474,     0.30384,     0.30306,     0.30222,     0.30144,     0.30049,     0.29967,     0.29878,     0.29792,     0.29707,     0.29618,     0.29529,     0.29447,     0.29368,\n",
            "            0.29285,     0.29207,     0.29122,     0.29013,     0.28939,     0.28848,     0.28766,     0.28679,     0.28602,     0.28519,     0.28445,     0.28363,     0.28271,     0.28188,      0.2811,     0.28023,     0.27937,     0.27865,     0.27785,     0.27695,     0.27618,     0.27542,     0.27454,\n",
            "            0.27378,       0.273,     0.27222,     0.27145,     0.27066,     0.26991,     0.26901,     0.26827,     0.26754,     0.26675,     0.26589,     0.26513,     0.26424,      0.2635,     0.26273,     0.26192,     0.26116,     0.26037,     0.25968,     0.25889,       0.258,     0.25723,     0.25644,\n",
            "            0.25571,      0.2549,      0.2541,     0.25333,     0.25246,      0.2516,     0.25073,     0.24989,     0.24901,     0.24825,      0.2476,     0.24678,     0.24595,     0.24512,     0.24433,     0.24359,     0.24279,     0.24199,     0.24115,     0.24042,      0.2396,     0.23879,     0.23802,\n",
            "            0.23721,     0.23636,     0.23561,     0.23487,     0.23413,     0.23336,      0.2325,      0.2318,     0.23113,     0.23031,     0.22959,     0.22887,     0.22814,     0.22749,     0.22677,     0.22597,     0.22521,     0.22445,     0.22378,     0.22307,     0.22228,     0.22154,     0.22083,\n",
            "            0.22007,     0.21937,     0.21853,     0.21782,     0.21717,     0.21652,     0.21576,     0.21503,     0.21437,     0.21367,     0.21298,     0.21235,     0.21156,      0.2108,     0.21018,     0.20954,     0.20881,     0.20817,     0.20741,     0.20676,     0.20611,     0.20524,     0.20463,\n",
            "            0.20391,     0.20314,     0.20241,     0.20169,     0.20109,     0.20041,     0.19971,     0.19906,     0.19836,     0.19777,     0.19707,     0.19642,     0.19584,     0.19517,     0.19444,     0.19393,     0.19328,     0.19259,     0.19193,      0.1913,     0.19057,     0.18988,     0.18925,\n",
            "            0.18866,     0.18821,     0.18756,     0.18692,     0.18626,     0.18565,       0.185,     0.18423,     0.18358,     0.18295,     0.18251,     0.18187,     0.18133,     0.18081,      0.1802,     0.17956,     0.17892,     0.17823,     0.17765,     0.17713,     0.17649,      0.1758,     0.17517,\n",
            "            0.17453,     0.17387,     0.17323,     0.17262,     0.17196,     0.17138,     0.17087,     0.17026,     0.16957,     0.16902,     0.16842,     0.16795,     0.16724,     0.16668,     0.16609,     0.16561,     0.16508,     0.16445,      0.1639,     0.16335,     0.16285,      0.1623,      0.1617,\n",
            "            0.16105,     0.16055,     0.15996,     0.15939,     0.15891,     0.15829,     0.15775,     0.15709,     0.15648,     0.15584,     0.15535,      0.1548,     0.15427,     0.15368,     0.15311,     0.15254,      0.1519,     0.15122,     0.15065,     0.15006,      0.1495,     0.14891,     0.14832,\n",
            "            0.14782,     0.14721,     0.14662,     0.14609,     0.14552,      0.1451,     0.14452,     0.14399,     0.14348,     0.14292,     0.14228,     0.14169,     0.14114,     0.14053,        0.14,     0.13948,     0.13878,     0.13809,      0.1376,     0.13706,     0.13651,      0.1359,     0.13525,\n",
            "            0.13459,       0.134,     0.13345,     0.13285,     0.13233,     0.13176,     0.13124,     0.13063,     0.13012,     0.12961,     0.12907,      0.1285,     0.12797,     0.12749,     0.12702,      0.1265,      0.1259,     0.12526,     0.12476,     0.12427,     0.12371,     0.12308,     0.12256,\n",
            "             0.1221,     0.12152,     0.12095,      0.1204,     0.11986,     0.11938,     0.11881,     0.11829,     0.11784,     0.11733,     0.11672,     0.11616,     0.11559,     0.11493,     0.11436,     0.11376,     0.11323,     0.11255,     0.11192,     0.11138,      0.1109,     0.11043,      0.1099,\n",
            "            0.10934,     0.10882,     0.10827,     0.10785,     0.10721,     0.10668,      0.1062,     0.10561,       0.105,     0.10456,     0.10398,     0.10343,     0.10283,     0.10216,      0.1015,     0.10087,     0.10037,    0.099822,    0.099236,     0.09863,    0.098151,    0.097574,     0.09689,\n",
            "            0.09645,    0.095869,    0.095336,    0.094826,    0.094263,    0.093791,    0.093219,    0.092683,      0.0921,    0.091532,    0.090934,    0.090368,    0.089762,    0.089231,    0.088603,    0.087906,    0.087353,    0.086888,    0.086352,    0.085763,    0.085162,    0.084674,     0.08415,\n",
            "            0.08351,      0.0829,    0.082326,    0.081794,    0.081258,    0.080566,    0.079941,    0.079376,    0.078751,    0.078083,    0.077537,    0.076999,    0.076444,    0.075816,    0.075287,    0.074585,    0.074046,    0.073342,    0.072601,    0.071978,    0.071392,    0.070821,    0.070241,\n",
            "           0.069578,     0.06912,    0.068569,    0.067882,    0.067249,    0.066656,    0.065922,    0.065282,    0.064664,    0.064084,    0.063435,    0.062855,    0.062216,    0.061463,    0.060886,    0.060178,    0.059612,    0.059093,    0.058469,    0.057757,    0.057014,    0.056391,    0.055777,\n",
            "           0.055154,    0.054476,    0.053728,    0.052981,    0.052429,    0.051805,    0.051141,    0.050621,     0.05005,    0.049451,    0.048793,    0.048303,    0.047715,    0.047064,    0.046415,    0.045768,    0.045135,    0.044507,    0.043933,    0.043291,    0.042685,     0.04214,    0.041557,\n",
            "            0.04106,    0.040579,    0.039894,    0.039415,    0.038906,    0.038364,    0.037777,    0.037242,     0.03662,    0.036002,    0.035453,    0.034847,    0.034323,    0.033822,      0.0333,    0.032712,     0.03211,    0.031512,    0.030873,    0.030296,     0.02964,    0.029246,     0.02867,\n",
            "           0.028103,    0.027568,      0.0269,    0.026395,    0.025901,    0.025223,     0.02465,     0.02421,    0.023728,    0.023179,     0.02265,    0.022199,     0.02169,    0.021215,    0.020745,    0.020345,    0.019961,    0.019533,    0.019111,    0.018688,    0.018201,    0.017769,    0.017471,\n",
            "            0.01706,    0.016551,     0.01614,    0.015798,    0.015338,    0.014952,    0.014606,     0.01429,    0.013928,    0.013558,    0.013214,    0.012792,    0.012363,    0.012011,    0.011677,    0.011261,     0.01092,    0.010618,    0.010364,   0.0099718,   0.0096628,   0.0093973,   0.0091338,\n",
            "           0.008909,   0.0086632,   0.0083938,   0.0081357,   0.0078186,    0.007516,   0.0073461,   0.0071679,   0.0068607,   0.0067182,   0.0064802,   0.0061769,    0.005896,   0.0056311,   0.0054306,   0.0052511,   0.0050618,   0.0048533,   0.0047229,   0.0045179,   0.0043811,   0.0041977,   0.0040369,\n",
            "          0.0039058,    0.003707,   0.0035438,   0.0033822,   0.0032373,    0.003133,   0.0030307,   0.0028943,   0.0027997,   0.0026902,   0.0025632,   0.0025036,    0.002425,   0.0023203,   0.0021855,   0.0021011,    0.002032,   0.0019182,   0.0018366,   0.0017603,   0.0017265,   0.0016792,   0.0015837,\n",
            "          0.0015405,   0.0014517,     0.00138,   0.0013142,   0.0012424,   0.0011827,   0.0011373,   0.0010681,   0.0010341,   0.0010096,   0.0009619,  0.00091207,  0.00087892,  0.00084299,   0.0007964,  0.00076762,  0.00075161,  0.00071629,  0.00068392,  0.00066188,  0.00064029,  0.00061809,  0.00057861,\n",
            "         0.00055642,  0.00052979,  0.00051265,  0.00049082,   0.0004707,  0.00045591,  0.00044862,  0.00044384,  0.00043679,  0.00042617,  0.00042146,  0.00040941,  0.00037174,  0.00036548,  0.00035834,  0.00034719,  0.00034494,   0.0003427,  0.00034077,  0.00033026,  0.00032009,  0.00031796,  0.00031583,\n",
            "         0.00031418,  0.00031325,  0.00031232,  0.00031139,  0.00031046,  0.00030953,   0.0003086,  0.00030584,  0.00030031,  0.00029623,  0.00029136,  0.00028363,  0.00027677,  0.00026556,  0.00026027,  0.00025613,  0.00025258,  0.00024912,  0.00024164,  0.00024021,  0.00023878,  0.00023734,  0.00023591,\n",
            "         0.00023475,  0.00023359,  0.00023243,  0.00023126,   0.0002301,  0.00022797,  0.00022416,  0.00022199,  0.00022072,  0.00021944,  0.00021817,  0.00021689,  0.00021427,  0.00021031,   0.0002025,  0.00020088,  0.00019926,  0.00019764,   0.0001947,  0.00018951,   0.0001849,  0.00018209,  0.00018008,\n",
            "         0.00017806,  0.00017657,  0.00017575,  0.00017493,   0.0001741,  0.00017328,  0.00017245,  0.00017163,   0.0001708,  0.00016214,   0.0001567,  0.00015171,  0.00014821,  0.00014507,  0.00014271,  0.00014066,  0.00013861,  0.00013238,  0.00013065,  0.00013016,  0.00012968,   0.0001292,  0.00012872,\n",
            "         0.00012823,  0.00012775,  0.00012727,  0.00012679,   0.0001263,  0.00012582,  0.00012534,  0.00012486,  0.00012373,    0.000121,  0.00011827,  0.00011568,   0.0001131,  0.00010957,  0.00010441,  0.00010053,  9.1528e-05,  9.0377e-05,  8.9227e-05,  8.8077e-05,  8.6927e-05,  8.5776e-05,  7.7623e-05,\n",
            "         7.5044e-05,  7.2466e-05,  6.5785e-05,   6.098e-05,  5.3476e-05,  5.1119e-05,  4.9651e-05,  4.8182e-05,  4.6714e-05,   4.551e-05,  4.4661e-05,  4.3812e-05,  4.2963e-05,  4.2114e-05,  4.1265e-05,  4.0416e-05,  3.9567e-05,  3.8655e-05,  3.7716e-05,  3.6778e-05,   3.584e-05,  3.4902e-05,  3.3963e-05,\n",
            "         3.3025e-05,  2.5974e-05,  2.4309e-05,  2.2645e-05,   2.098e-05,  1.9322e-05,  1.7689e-05,  1.6056e-05,  1.4423e-05,  1.2914e-05,  1.1918e-05,  1.0922e-05,  9.9259e-06,  8.9299e-06,  7.9339e-06,  6.9379e-06,           0,           0,           0,           0,           0,           0,           0,\n",
            "                  0,           0,           0,           0,           0,           0,           0,           0,           0,           0,           0,           0,           0,           0,           0,           0,           0,           0,           0,           0,           0,           0,           0,\n",
            "                  0,           0,           0,           0,           0,           0,           0,           0,           0,           0,           0,           0,           0,           0,           0,           0,           0,           0,           0,           0,           0,           0,           0,\n",
            "                  0,           0,           0,           0,           0,           0,           0,           0,           0,           0,           0,           0,           0,           0,           0,           0,           0,           0,           0,           0,           0,           0,           0,\n",
            "                  0,           0,           0,           0,           0,           0,           0,           0,           0,           0,           0,           0,           0,           0,           0,           0,           0,           0,           0,           0,           0,           0,           0,\n",
            "                  0,           0,           0,           0,           0,           0,           0,           0,           0,           0,           0]]), 'Confidence', 'Recall']]\n",
            "fitness: 0.16273111625247913\n",
            "keys: ['metrics/precision(B)', 'metrics/recall(B)', 'metrics/mAP50(B)', 'metrics/mAP50-95(B)']\n",
            "maps: array([    0.14015])\n",
            "names: {0: '0'}\n",
            "plot: True\n",
            "results_dict: {'metrics/precision(B)': 0.5381942039340156, 'metrics/recall(B)': 0.310868639208362, 'metrics/mAP50(B)': 0.3659375104850665, 'metrics/mAP50-95(B)': 0.14015262800441386, 'fitness': 0.16273111625247913}\n",
            "save_dir: PosixPath('runs/detect/val')\n",
            "speed: {'preprocess': 0.5426611835600564, 'inference': 5.123825094818529, 'loss': 0.0010100425098816194, 'postprocess': 8.464787610515751}\n",
            "task: 'detect'\n"
          ]
        }
      ],
      "source": [
        "# Load the fine-tuned model\n",
        "model = YOLO('/content/runs/detect/train/weights/best.pt')  # Adjust the path based on your training output\n",
        "\n",
        "# Evaluate the model on the test set\n",
        "metrics = model.val(data='/content/CNN-YOLO-DatasetCrowd/data.yaml')\n",
        "print(metrics)\n"
      ]
    },
    {
      "cell_type": "code",
      "execution_count": null,
      "metadata": {
        "id": "p4TwerhiMO-e"
      },
      "outputs": [],
      "source": []
    }
  ],
  "metadata": {
    "accelerator": "GPU",
    "colab": {
      "gpuType": "T4",
      "provenance": []
    },
    "kernelspec": {
      "display_name": "Python 3",
      "name": "python3"
    },
    "language_info": {
      "name": "python"
    }
  },
  "nbformat": 4,
  "nbformat_minor": 0
}