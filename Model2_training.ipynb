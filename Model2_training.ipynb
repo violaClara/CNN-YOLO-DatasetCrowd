{
  "nbformat": 4,
  "nbformat_minor": 0,
  "metadata": {
    "colab": {
      "provenance": [],
      "gpuType": "T4"
    },
    "kernelspec": {
      "name": "python3",
      "display_name": "Python 3"
    },
    "language_info": {
      "name": "python"
    },
    "accelerator": "GPU"
  },
  "cells": [
    {
      "cell_type": "code",
      "execution_count": null,
      "metadata": {
        "colab": {
          "base_uri": "https://localhost:8080/"
        },
        "id": "1tnfAqJ0RY0_",
        "outputId": "9cbd86d6-0d5a-4a09-9ef2-5cae31673465"
      },
      "outputs": [
        {
          "output_type": "stream",
          "name": "stdout",
          "text": [
            "Collecting ultralytics\n",
            "  Downloading ultralytics-8.2.49-py3-none-any.whl (796 kB)\n",
            "\u001b[2K     \u001b[90m━━━━━━━━━━━━━━━━━━━━━━━━━━━━━━━━━━━━━━━━\u001b[0m \u001b[32m796.9/796.9 kB\u001b[0m \u001b[31m5.9 MB/s\u001b[0m eta \u001b[36m0:00:00\u001b[0m\n",
            "\u001b[?25hRequirement already satisfied: numpy<2.0.0,>=1.23.0 in /usr/local/lib/python3.10/dist-packages (from ultralytics) (1.25.2)\n",
            "Requirement already satisfied: matplotlib>=3.3.0 in /usr/local/lib/python3.10/dist-packages (from ultralytics) (3.7.1)\n",
            "Requirement already satisfied: opencv-python>=4.6.0 in /usr/local/lib/python3.10/dist-packages (from ultralytics) (4.8.0.76)\n",
            "Requirement already satisfied: pillow>=7.1.2 in /usr/local/lib/python3.10/dist-packages (from ultralytics) (9.4.0)\n",
            "Requirement already satisfied: pyyaml>=5.3.1 in /usr/local/lib/python3.10/dist-packages (from ultralytics) (6.0.1)\n",
            "Requirement already satisfied: requests>=2.23.0 in /usr/local/lib/python3.10/dist-packages (from ultralytics) (2.31.0)\n",
            "Requirement already satisfied: scipy>=1.4.1 in /usr/local/lib/python3.10/dist-packages (from ultralytics) (1.11.4)\n",
            "Requirement already satisfied: torch>=1.8.0 in /usr/local/lib/python3.10/dist-packages (from ultralytics) (2.3.0+cu121)\n",
            "Requirement already satisfied: torchvision>=0.9.0 in /usr/local/lib/python3.10/dist-packages (from ultralytics) (0.18.0+cu121)\n",
            "Requirement already satisfied: tqdm>=4.64.0 in /usr/local/lib/python3.10/dist-packages (from ultralytics) (4.66.4)\n",
            "Requirement already satisfied: psutil in /usr/local/lib/python3.10/dist-packages (from ultralytics) (5.9.5)\n",
            "Requirement already satisfied: py-cpuinfo in /usr/local/lib/python3.10/dist-packages (from ultralytics) (9.0.0)\n",
            "Requirement already satisfied: pandas>=1.1.4 in /usr/local/lib/python3.10/dist-packages (from ultralytics) (2.0.3)\n",
            "Requirement already satisfied: seaborn>=0.11.0 in /usr/local/lib/python3.10/dist-packages (from ultralytics) (0.13.1)\n",
            "Collecting ultralytics-thop>=2.0.0 (from ultralytics)\n",
            "  Downloading ultralytics_thop-2.0.0-py3-none-any.whl (25 kB)\n",
            "Requirement already satisfied: contourpy>=1.0.1 in /usr/local/lib/python3.10/dist-packages (from matplotlib>=3.3.0->ultralytics) (1.2.1)\n",
            "Requirement already satisfied: cycler>=0.10 in /usr/local/lib/python3.10/dist-packages (from matplotlib>=3.3.0->ultralytics) (0.12.1)\n",
            "Requirement already satisfied: fonttools>=4.22.0 in /usr/local/lib/python3.10/dist-packages (from matplotlib>=3.3.0->ultralytics) (4.53.0)\n",
            "Requirement already satisfied: kiwisolver>=1.0.1 in /usr/local/lib/python3.10/dist-packages (from matplotlib>=3.3.0->ultralytics) (1.4.5)\n",
            "Requirement already satisfied: packaging>=20.0 in /usr/local/lib/python3.10/dist-packages (from matplotlib>=3.3.0->ultralytics) (24.1)\n",
            "Requirement already satisfied: pyparsing>=2.3.1 in /usr/local/lib/python3.10/dist-packages (from matplotlib>=3.3.0->ultralytics) (3.1.2)\n",
            "Requirement already satisfied: python-dateutil>=2.7 in /usr/local/lib/python3.10/dist-packages (from matplotlib>=3.3.0->ultralytics) (2.8.2)\n",
            "Requirement already satisfied: pytz>=2020.1 in /usr/local/lib/python3.10/dist-packages (from pandas>=1.1.4->ultralytics) (2023.4)\n",
            "Requirement already satisfied: tzdata>=2022.1 in /usr/local/lib/python3.10/dist-packages (from pandas>=1.1.4->ultralytics) (2024.1)\n",
            "Requirement already satisfied: charset-normalizer<4,>=2 in /usr/local/lib/python3.10/dist-packages (from requests>=2.23.0->ultralytics) (3.3.2)\n",
            "Requirement already satisfied: idna<4,>=2.5 in /usr/local/lib/python3.10/dist-packages (from requests>=2.23.0->ultralytics) (3.7)\n",
            "Requirement already satisfied: urllib3<3,>=1.21.1 in /usr/local/lib/python3.10/dist-packages (from requests>=2.23.0->ultralytics) (2.0.7)\n",
            "Requirement already satisfied: certifi>=2017.4.17 in /usr/local/lib/python3.10/dist-packages (from requests>=2.23.0->ultralytics) (2024.6.2)\n",
            "Requirement already satisfied: filelock in /usr/local/lib/python3.10/dist-packages (from torch>=1.8.0->ultralytics) (3.15.4)\n",
            "Requirement already satisfied: typing-extensions>=4.8.0 in /usr/local/lib/python3.10/dist-packages (from torch>=1.8.0->ultralytics) (4.12.2)\n",
            "Requirement already satisfied: sympy in /usr/local/lib/python3.10/dist-packages (from torch>=1.8.0->ultralytics) (1.12.1)\n",
            "Requirement already satisfied: networkx in /usr/local/lib/python3.10/dist-packages (from torch>=1.8.0->ultralytics) (3.3)\n",
            "Requirement already satisfied: jinja2 in /usr/local/lib/python3.10/dist-packages (from torch>=1.8.0->ultralytics) (3.1.4)\n",
            "Requirement already satisfied: fsspec in /usr/local/lib/python3.10/dist-packages (from torch>=1.8.0->ultralytics) (2023.6.0)\n",
            "Collecting nvidia-cuda-nvrtc-cu12==12.1.105 (from torch>=1.8.0->ultralytics)\n",
            "  Using cached nvidia_cuda_nvrtc_cu12-12.1.105-py3-none-manylinux1_x86_64.whl (23.7 MB)\n",
            "Collecting nvidia-cuda-runtime-cu12==12.1.105 (from torch>=1.8.0->ultralytics)\n",
            "  Using cached nvidia_cuda_runtime_cu12-12.1.105-py3-none-manylinux1_x86_64.whl (823 kB)\n",
            "Collecting nvidia-cuda-cupti-cu12==12.1.105 (from torch>=1.8.0->ultralytics)\n",
            "  Using cached nvidia_cuda_cupti_cu12-12.1.105-py3-none-manylinux1_x86_64.whl (14.1 MB)\n",
            "Collecting nvidia-cudnn-cu12==8.9.2.26 (from torch>=1.8.0->ultralytics)\n",
            "  Using cached nvidia_cudnn_cu12-8.9.2.26-py3-none-manylinux1_x86_64.whl (731.7 MB)\n",
            "Collecting nvidia-cublas-cu12==12.1.3.1 (from torch>=1.8.0->ultralytics)\n",
            "  Using cached nvidia_cublas_cu12-12.1.3.1-py3-none-manylinux1_x86_64.whl (410.6 MB)\n",
            "Collecting nvidia-cufft-cu12==11.0.2.54 (from torch>=1.8.0->ultralytics)\n",
            "  Using cached nvidia_cufft_cu12-11.0.2.54-py3-none-manylinux1_x86_64.whl (121.6 MB)\n",
            "Collecting nvidia-curand-cu12==10.3.2.106 (from torch>=1.8.0->ultralytics)\n",
            "  Using cached nvidia_curand_cu12-10.3.2.106-py3-none-manylinux1_x86_64.whl (56.5 MB)\n",
            "Collecting nvidia-cusolver-cu12==11.4.5.107 (from torch>=1.8.0->ultralytics)\n",
            "  Using cached nvidia_cusolver_cu12-11.4.5.107-py3-none-manylinux1_x86_64.whl (124.2 MB)\n",
            "Collecting nvidia-cusparse-cu12==12.1.0.106 (from torch>=1.8.0->ultralytics)\n",
            "  Using cached nvidia_cusparse_cu12-12.1.0.106-py3-none-manylinux1_x86_64.whl (196.0 MB)\n",
            "Collecting nvidia-nccl-cu12==2.20.5 (from torch>=1.8.0->ultralytics)\n",
            "  Using cached nvidia_nccl_cu12-2.20.5-py3-none-manylinux2014_x86_64.whl (176.2 MB)\n",
            "Collecting nvidia-nvtx-cu12==12.1.105 (from torch>=1.8.0->ultralytics)\n",
            "  Using cached nvidia_nvtx_cu12-12.1.105-py3-none-manylinux1_x86_64.whl (99 kB)\n",
            "Requirement already satisfied: triton==2.3.0 in /usr/local/lib/python3.10/dist-packages (from torch>=1.8.0->ultralytics) (2.3.0)\n",
            "Collecting nvidia-nvjitlink-cu12 (from nvidia-cusolver-cu12==11.4.5.107->torch>=1.8.0->ultralytics)\n",
            "  Downloading nvidia_nvjitlink_cu12-12.5.82-py3-none-manylinux2014_x86_64.whl (21.3 MB)\n",
            "\u001b[2K     \u001b[90m━━━━━━━━━━━━━━━━━━━━━━━━━━━━━━━━━━━━━━━━\u001b[0m \u001b[32m21.3/21.3 MB\u001b[0m \u001b[31m15.4 MB/s\u001b[0m eta \u001b[36m0:00:00\u001b[0m\n",
            "\u001b[?25hRequirement already satisfied: six>=1.5 in /usr/local/lib/python3.10/dist-packages (from python-dateutil>=2.7->matplotlib>=3.3.0->ultralytics) (1.16.0)\n",
            "Requirement already satisfied: MarkupSafe>=2.0 in /usr/local/lib/python3.10/dist-packages (from jinja2->torch>=1.8.0->ultralytics) (2.1.5)\n",
            "Requirement already satisfied: mpmath<1.4.0,>=1.1.0 in /usr/local/lib/python3.10/dist-packages (from sympy->torch>=1.8.0->ultralytics) (1.3.0)\n",
            "Installing collected packages: nvidia-nvtx-cu12, nvidia-nvjitlink-cu12, nvidia-nccl-cu12, nvidia-curand-cu12, nvidia-cufft-cu12, nvidia-cuda-runtime-cu12, nvidia-cuda-nvrtc-cu12, nvidia-cuda-cupti-cu12, nvidia-cublas-cu12, nvidia-cusparse-cu12, nvidia-cudnn-cu12, nvidia-cusolver-cu12, ultralytics-thop, ultralytics\n",
            "Successfully installed nvidia-cublas-cu12-12.1.3.1 nvidia-cuda-cupti-cu12-12.1.105 nvidia-cuda-nvrtc-cu12-12.1.105 nvidia-cuda-runtime-cu12-12.1.105 nvidia-cudnn-cu12-8.9.2.26 nvidia-cufft-cu12-11.0.2.54 nvidia-curand-cu12-10.3.2.106 nvidia-cusolver-cu12-11.4.5.107 nvidia-cusparse-cu12-12.1.0.106 nvidia-nccl-cu12-2.20.5 nvidia-nvjitlink-cu12-12.5.82 nvidia-nvtx-cu12-12.1.105 ultralytics-8.2.49 ultralytics-thop-2.0.0\n",
            "Collecting roboflow\n",
            "  Downloading roboflow-1.1.34-py3-none-any.whl (76 kB)\n",
            "\u001b[2K     \u001b[90m━━━━━━━━━━━━━━━━━━━━━━━━━━━━━━━━━━━━━━━━\u001b[0m \u001b[32m76.2/76.2 kB\u001b[0m \u001b[31m3.2 MB/s\u001b[0m eta \u001b[36m0:00:00\u001b[0m\n",
            "\u001b[?25hRequirement already satisfied: certifi in /usr/local/lib/python3.10/dist-packages (from roboflow) (2024.6.2)\n",
            "Collecting chardet==4.0.0 (from roboflow)\n",
            "  Downloading chardet-4.0.0-py2.py3-none-any.whl (178 kB)\n",
            "\u001b[2K     \u001b[90m━━━━━━━━━━━━━━━━━━━━━━━━━━━━━━━━━━━━━━━━\u001b[0m \u001b[32m178.7/178.7 kB\u001b[0m \u001b[31m8.3 MB/s\u001b[0m eta \u001b[36m0:00:00\u001b[0m\n",
            "\u001b[?25hRequirement already satisfied: idna==3.7 in /usr/local/lib/python3.10/dist-packages (from roboflow) (3.7)\n",
            "Requirement already satisfied: cycler in /usr/local/lib/python3.10/dist-packages (from roboflow) (0.12.1)\n",
            "Requirement already satisfied: kiwisolver>=1.3.1 in /usr/local/lib/python3.10/dist-packages (from roboflow) (1.4.5)\n",
            "Requirement already satisfied: matplotlib in /usr/local/lib/python3.10/dist-packages (from roboflow) (3.7.1)\n",
            "Requirement already satisfied: numpy>=1.18.5 in /usr/local/lib/python3.10/dist-packages (from roboflow) (1.25.2)\n",
            "Requirement already satisfied: opencv-python-headless==4.10.0.84 in /usr/local/lib/python3.10/dist-packages (from roboflow) (4.10.0.84)\n",
            "Requirement already satisfied: Pillow>=7.1.2 in /usr/local/lib/python3.10/dist-packages (from roboflow) (9.4.0)\n",
            "Requirement already satisfied: python-dateutil in /usr/local/lib/python3.10/dist-packages (from roboflow) (2.8.2)\n",
            "Collecting python-dotenv (from roboflow)\n",
            "  Downloading python_dotenv-1.0.1-py3-none-any.whl (19 kB)\n",
            "Requirement already satisfied: requests in /usr/local/lib/python3.10/dist-packages (from roboflow) (2.31.0)\n",
            "Requirement already satisfied: six in /usr/local/lib/python3.10/dist-packages (from roboflow) (1.16.0)\n",
            "Requirement already satisfied: urllib3>=1.26.6 in /usr/local/lib/python3.10/dist-packages (from roboflow) (2.0.7)\n",
            "Requirement already satisfied: tqdm>=4.41.0 in /usr/local/lib/python3.10/dist-packages (from roboflow) (4.66.4)\n",
            "Requirement already satisfied: PyYAML>=5.3.1 in /usr/local/lib/python3.10/dist-packages (from roboflow) (6.0.1)\n",
            "Collecting requests-toolbelt (from roboflow)\n",
            "  Downloading requests_toolbelt-1.0.0-py2.py3-none-any.whl (54 kB)\n",
            "\u001b[2K     \u001b[90m━━━━━━━━━━━━━━━━━━━━━━━━━━━━━━━━━━━━━━━━\u001b[0m \u001b[32m54.5/54.5 kB\u001b[0m \u001b[31m8.8 MB/s\u001b[0m eta \u001b[36m0:00:00\u001b[0m\n",
            "\u001b[?25hCollecting python-magic (from roboflow)\n",
            "  Downloading python_magic-0.4.27-py2.py3-none-any.whl (13 kB)\n",
            "Requirement already satisfied: contourpy>=1.0.1 in /usr/local/lib/python3.10/dist-packages (from matplotlib->roboflow) (1.2.1)\n",
            "Requirement already satisfied: fonttools>=4.22.0 in /usr/local/lib/python3.10/dist-packages (from matplotlib->roboflow) (4.53.0)\n",
            "Requirement already satisfied: packaging>=20.0 in /usr/local/lib/python3.10/dist-packages (from matplotlib->roboflow) (24.1)\n",
            "Requirement already satisfied: pyparsing>=2.3.1 in /usr/local/lib/python3.10/dist-packages (from matplotlib->roboflow) (3.1.2)\n",
            "Requirement already satisfied: charset-normalizer<4,>=2 in /usr/local/lib/python3.10/dist-packages (from requests->roboflow) (3.3.2)\n",
            "Installing collected packages: python-magic, python-dotenv, chardet, requests-toolbelt, roboflow\n",
            "  Attempting uninstall: chardet\n",
            "    Found existing installation: chardet 5.2.0\n",
            "    Uninstalling chardet-5.2.0:\n",
            "      Successfully uninstalled chardet-5.2.0\n",
            "Successfully installed chardet-4.0.0 python-dotenv-1.0.1 python-magic-0.4.27 requests-toolbelt-1.0.0 roboflow-1.1.34\n"
          ]
        }
      ],
      "source": [
        "# Install the Ultralytics library using pip\n",
        "!pip install ultralytics\n",
        "\n",
        "# Install the Roboflow library using pip\n",
        "!pip install roboflow"
      ]
    },
    {
      "cell_type": "code",
      "source": [
        "# Import the Roboflow and YOLO modules\n",
        "from roboflow import Roboflow\n",
        "from ultralytics import YOLO\n",
        "\n",
        "# The 'Roboflow' module is used for working with datasets on Roboflow platform\n",
        "# The 'YOLO' module is imported from 'ultralytics' library, which is used for YOLO object detection tasks"
      ],
      "metadata": {
        "id": "0hjzWX9sTeWQ"
      },
      "execution_count": null,
      "outputs": []
    },
    {
      "cell_type": "code",
      "source": [
        "# Import the Roboflow library and create an instance with the provided API key\n",
        "api_key = \"sdwDnYlOedxLwA9W60gD\"\n",
        "rf = Roboflow(api_key)\n",
        "\n",
        "# Access the Roboflow workspace named \"lazydevs\"\n",
        "# Access the project named \"human-detection\" within the workspace\n",
        "workspace_name = \"uasviskom\"\n",
        "project_name = \"person-counting-alpin\"\n",
        "project = rf.workspace(workspace_name).project(project_name)\n",
        "\n",
        "!git clone https://github.com/violaClara/uas_viskom_dataset.git\n",
        "\n",
        "# Download the dataset associated with version 4 of the project using YOLOv8 format\n",
        "# Note: You might want to include a specific version number or method for version selection.\n",
        "version = 1\n",
        "form = \"yolov8\"\n",
        "dataset = project.version(version).download(form)\n"
      ],
      "metadata": {
        "colab": {
          "base_uri": "https://localhost:8080/"
        },
        "id": "DYKa3QxETiwT",
        "outputId": "034f1633-407a-4c64-d60b-ca8cca01fd4d"
      },
      "execution_count": null,
      "outputs": [
        {
          "output_type": "stream",
          "name": "stdout",
          "text": [
            "loading Roboflow workspace...\n",
            "loading Roboflow project...\n",
            "Cloning into 'uas_viskom_dataset'...\n",
            "remote: Enumerating objects: 1403, done.\u001b[K\n",
            "remote: Counting objects: 100% (3/3), done.\u001b[K\n",
            "remote: Compressing objects: 100% (2/2), done.\u001b[K\n",
            "remote: Total 1403 (delta 0), reused 3 (delta 0), pack-reused 1400\u001b[K\n",
            "Receiving objects: 100% (1403/1403), 65.61 MiB | 13.18 MiB/s, done.\n",
            "Resolving deltas: 100% (3/3), done.\n",
            "Dependency ultralytics==8.0.196 is required but found version=8.2.48, to fix: `pip install ultralytics==8.0.196`\n"
          ]
        },
        {
          "output_type": "stream",
          "name": "stderr",
          "text": [
            "Downloading Dataset Version Zip in person-counting-1 to yolov8:: 100%|██████████| 68380/68380 [00:05<00:00, 13215.24it/s]"
          ]
        },
        {
          "output_type": "stream",
          "name": "stdout",
          "text": [
            "\n"
          ]
        },
        {
          "output_type": "stream",
          "name": "stderr",
          "text": [
            "\n",
            "Extracting Dataset Version Zip to person-counting-1 in yolov8:: 100%|██████████| 1978/1978 [00:00<00:00, 4745.48it/s]\n"
          ]
        }
      ]
    },
    {
      "cell_type": "code",
      "source": [
        "# Initialize the YOLO model by loading the pre-trained weights from 'yolov8n.pt'\n",
        "model = YOLO('yolov8n.pt')"
      ],
      "metadata": {
        "colab": {
          "base_uri": "https://localhost:8080/"
        },
        "id": "YjldxdtSUP8I",
        "outputId": "67448d23-6baf-4ed2-d2c6-a9b0a4e5e359"
      },
      "execution_count": null,
      "outputs": [
        {
          "output_type": "stream",
          "name": "stdout",
          "text": [
            "Downloading https://github.com/ultralytics/assets/releases/download/v8.2.0/yolov8n.pt to 'yolov8n.pt'...\n"
          ]
        },
        {
          "output_type": "stream",
          "name": "stderr",
          "text": [
            "100%|██████████| 6.25M/6.25M [00:00<00:00, 376MB/s]\n"
          ]
        }
      ]
    },
    {
      "cell_type": "code",
      "source": [
        "# Train the model with the specified parameters\n",
        "\n",
        "results = model.train(\n",
        "    data='/content/uas_viskom_dataset/data.yaml',  # Path to the training data YAML file\n",
        "    epochs=150,  # Number of training epochs\n",
        "    batch=64,  # Batch size for training\n",
        "    imgsz=640,  # Input image size\n",
        "    seed=32,  # Random seed for reproducibility\n",
        "    optimizer='NAdam',  # Optimizer algorithm\n",
        "    weight_decay=1e-4,  # Weight decay for regularization\n",
        "    momentum=0.937,  # Initial momentum for the optimizer\n",
        "    cos_lr=True,  # Use cosine learning rate scheduling\n",
        "    lr0=0.01,  # Initial learning rate\n",
        "    lrf=1e-5,  # Final learning rate\n",
        "    warmup_epochs=10,  # Number of warmup epochs\n",
        "    warmup_momentum=0.5,  # Momentum during warm-up epochs\n",
        "    close_mosaic=20,  # Parameter for close mosaic augmentation\n",
        "    label_smoothing=0.2,  # Label smoothing parameter for regularization\n",
        "    dropout=0.5,  # Dropout rate to prevent overfitting\n",
        "    verbose=True  # Print verbose training information\n",
        ")"
      ],
      "metadata": {
        "colab": {
          "base_uri": "https://localhost:8080/"
        },
        "id": "sHCiTWcEVADX",
        "outputId": "72265c22-db8a-4be5-d563-e45b99a6d30d"
      },
      "execution_count": null,
      "outputs": [
        {
          "output_type": "stream",
          "name": "stdout",
          "text": [
            "Ultralytics YOLOv8.2.48 🚀 Python-3.10.12 torch-2.3.0+cu121 CUDA:0 (Tesla T4, 15102MiB)\n",
            "\u001b[34m\u001b[1mengine/trainer: \u001b[0mtask=detect, mode=train, model=yolov8n.pt, data=/content/uas_viskom_dataset/data.yaml, epochs=150, time=None, patience=100, batch=64, imgsz=640, save=True, save_period=-1, cache=False, device=None, workers=8, project=None, name=train, exist_ok=False, pretrained=True, optimizer=NAdam, verbose=True, seed=32, deterministic=True, single_cls=False, rect=False, cos_lr=True, close_mosaic=20, resume=False, amp=True, fraction=1.0, profile=False, freeze=None, multi_scale=False, overlap_mask=True, mask_ratio=4, dropout=0.5, val=True, split=val, save_json=False, save_hybrid=False, conf=None, iou=0.7, max_det=300, half=False, dnn=False, plots=True, source=None, vid_stride=1, stream_buffer=False, visualize=False, augment=False, agnostic_nms=False, classes=None, retina_masks=False, embed=None, show=False, save_frames=False, save_txt=False, save_conf=False, save_crop=False, show_labels=True, show_conf=True, show_boxes=True, line_width=None, format=torchscript, keras=False, optimize=False, int8=False, dynamic=False, simplify=False, opset=None, workspace=4, nms=False, lr0=0.01, lrf=1e-05, momentum=0.937, weight_decay=0.0001, warmup_epochs=10, warmup_momentum=0.5, warmup_bias_lr=0.1, box=7.5, cls=0.5, dfl=1.5, pose=12.0, kobj=1.0, label_smoothing=0.2, nbs=64, hsv_h=0.015, hsv_s=0.7, hsv_v=0.4, degrees=0.0, translate=0.1, scale=0.5, shear=0.0, perspective=0.0, flipud=0.0, fliplr=0.5, bgr=0.0, mosaic=1.0, mixup=0.0, copy_paste=0.0, auto_augment=randaugment, erasing=0.4, crop_fraction=1.0, cfg=None, tracker=botsort.yaml, save_dir=runs/detect/train\n",
            "Downloading https://ultralytics.com/assets/Arial.ttf to '/root/.config/Ultralytics/Arial.ttf'...\n"
          ]
        },
        {
          "output_type": "stream",
          "name": "stderr",
          "text": [
            "100%|██████████| 755k/755k [00:00<00:00, 21.7MB/s]\n"
          ]
        },
        {
          "output_type": "stream",
          "name": "stdout",
          "text": [
            "Overriding model.yaml nc=80 with nc=1\n",
            "\n",
            "                   from  n    params  module                                       arguments                     \n",
            "  0                  -1  1       464  ultralytics.nn.modules.conv.Conv             [3, 16, 3, 2]                 \n",
            "  1                  -1  1      4672  ultralytics.nn.modules.conv.Conv             [16, 32, 3, 2]                \n",
            "  2                  -1  1      7360  ultralytics.nn.modules.block.C2f             [32, 32, 1, True]             \n",
            "  3                  -1  1     18560  ultralytics.nn.modules.conv.Conv             [32, 64, 3, 2]                \n",
            "  4                  -1  2     49664  ultralytics.nn.modules.block.C2f             [64, 64, 2, True]             \n",
            "  5                  -1  1     73984  ultralytics.nn.modules.conv.Conv             [64, 128, 3, 2]               \n",
            "  6                  -1  2    197632  ultralytics.nn.modules.block.C2f             [128, 128, 2, True]           \n",
            "  7                  -1  1    295424  ultralytics.nn.modules.conv.Conv             [128, 256, 3, 2]              \n",
            "  8                  -1  1    460288  ultralytics.nn.modules.block.C2f             [256, 256, 1, True]           \n",
            "  9                  -1  1    164608  ultralytics.nn.modules.block.SPPF            [256, 256, 5]                 \n",
            " 10                  -1  1         0  torch.nn.modules.upsampling.Upsample         [None, 2, 'nearest']          \n",
            " 11             [-1, 6]  1         0  ultralytics.nn.modules.conv.Concat           [1]                           \n",
            " 12                  -1  1    148224  ultralytics.nn.modules.block.C2f             [384, 128, 1]                 \n",
            " 13                  -1  1         0  torch.nn.modules.upsampling.Upsample         [None, 2, 'nearest']          \n",
            " 14             [-1, 4]  1         0  ultralytics.nn.modules.conv.Concat           [1]                           \n",
            " 15                  -1  1     37248  ultralytics.nn.modules.block.C2f             [192, 64, 1]                  \n",
            " 16                  -1  1     36992  ultralytics.nn.modules.conv.Conv             [64, 64, 3, 2]                \n",
            " 17            [-1, 12]  1         0  ultralytics.nn.modules.conv.Concat           [1]                           \n",
            " 18                  -1  1    123648  ultralytics.nn.modules.block.C2f             [192, 128, 1]                 \n",
            " 19                  -1  1    147712  ultralytics.nn.modules.conv.Conv             [128, 128, 3, 2]              \n",
            " 20             [-1, 9]  1         0  ultralytics.nn.modules.conv.Concat           [1]                           \n",
            " 21                  -1  1    493056  ultralytics.nn.modules.block.C2f             [384, 256, 1]                 \n",
            " 22        [15, 18, 21]  1    751507  ultralytics.nn.modules.head.Detect           [1, [64, 128, 256]]           \n",
            "Model summary: 225 layers, 3011043 parameters, 3011027 gradients, 8.2 GFLOPs\n",
            "\n",
            "Transferred 319/355 items from pretrained weights\n",
            "\u001b[34m\u001b[1mTensorBoard: \u001b[0mStart with 'tensorboard --logdir runs/detect/train', view at http://localhost:6006/\n",
            "Freezing layer 'model.22.dfl.conv.weight'\n",
            "\u001b[34m\u001b[1mAMP: \u001b[0mrunning Automatic Mixed Precision (AMP) checks with YOLOv8n...\n"
          ]
        },
        {
          "output_type": "stream",
          "name": "stderr",
          "text": [
            "Plan failed with a cudnnException: CUDNN_BACKEND_EXECUTION_PLAN_DESCRIPTOR: cudnnFinalize Descriptor Failed cudnn_status: CUDNN_STATUS_NOT_SUPPORTED (Triggered internally at ../aten/src/ATen/native/cudnn/Conv_v8.cpp:919.)\n"
          ]
        },
        {
          "output_type": "stream",
          "name": "stdout",
          "text": [
            "\u001b[34m\u001b[1mAMP: \u001b[0mchecks passed ✅\n"
          ]
        },
        {
          "output_type": "stream",
          "name": "stderr",
          "text": [
            "\u001b[34m\u001b[1mtrain: \u001b[0mScanning /content/uas_viskom_dataset/train/labels... 861 images, 9 backgrounds, 0 corrupt: 100%|██████████| 861/861 [00:00<00:00, 1864.98it/s]"
          ]
        },
        {
          "output_type": "stream",
          "name": "stdout",
          "text": [
            "\u001b[34m\u001b[1mtrain: \u001b[0mNew cache created: /content/uas_viskom_dataset/train/labels.cache\n"
          ]
        },
        {
          "output_type": "stream",
          "name": "stderr",
          "text": [
            "\n"
          ]
        },
        {
          "output_type": "stream",
          "name": "stdout",
          "text": [
            "\u001b[34m\u001b[1malbumentations: \u001b[0mBlur(p=0.01, blur_limit=(3, 7)), MedianBlur(p=0.01, blur_limit=(3, 7)), ToGray(p=0.01), CLAHE(p=0.01, clip_limit=(1, 4.0), tile_grid_size=(8, 8))\n"
          ]
        },
        {
          "output_type": "stream",
          "name": "stderr",
          "text": [
            "os.fork() was called. os.fork() is incompatible with multithreaded code, and JAX is multithreaded, so this will likely lead to a deadlock.\n",
            "\u001b[34m\u001b[1mval: \u001b[0mScanning /content/uas_viskom_dataset/valid/labels... 85 images, 0 backgrounds, 0 corrupt: 100%|██████████| 85/85 [00:00<00:00, 934.90it/s]"
          ]
        },
        {
          "output_type": "stream",
          "name": "stdout",
          "text": [
            "\u001b[34m\u001b[1mval: \u001b[0mNew cache created: /content/uas_viskom_dataset/valid/labels.cache\n"
          ]
        },
        {
          "output_type": "stream",
          "name": "stderr",
          "text": [
            "\n"
          ]
        },
        {
          "output_type": "stream",
          "name": "stdout",
          "text": [
            "Plotting labels to runs/detect/train/labels.jpg... \n",
            "\u001b[34m\u001b[1moptimizer:\u001b[0m NAdam(lr=0.01, momentum=0.937) with parameter groups 57 weight(decay=0.0), 64 weight(decay=0.0001), 63 bias(decay=0.0)\n",
            "\u001b[34m\u001b[1mTensorBoard: \u001b[0mmodel graph visualization added ✅\n",
            "Image sizes 640 train, 640 val\n",
            "Using 2 dataloader workers\n",
            "Logging results to \u001b[1mruns/detect/train\u001b[0m\n",
            "Starting training for 150 epochs...\n",
            "\n",
            "      Epoch    GPU_mem   box_loss   cls_loss   dfl_loss  Instances       Size\n"
          ]
        },
        {
          "output_type": "stream",
          "name": "stderr",
          "text": [
            "  0%|          | 0/14 [00:00<?, ?it/s]Plan failed with a cudnnException: CUDNN_BACKEND_EXECUTION_PLAN_DESCRIPTOR: cudnnFinalize Descriptor Failed cudnn_status: CUDNN_STATUS_NOT_SUPPORTED (Triggered internally at ../aten/src/ATen/native/cudnn/Conv_v8.cpp:919.)\n",
            "      1/150      11.2G      2.158      3.062      1.671        470        640: 100%|██████████| 14/14 [00:22<00:00,  1.63s/it]\n",
            "                 Class     Images  Instances      Box(P          R      mAP50  mAP50-95): 100%|██████████| 1/1 [00:05<00:00,  5.98s/it]"
          ]
        },
        {
          "output_type": "stream",
          "name": "stdout",
          "text": [
            "                   all         85        233    0.00482      0.528      0.238     0.0924\n"
          ]
        },
        {
          "output_type": "stream",
          "name": "stderr",
          "text": [
            "\n"
          ]
        },
        {
          "output_type": "stream",
          "name": "stdout",
          "text": [
            "\n",
            "      Epoch    GPU_mem   box_loss   cls_loss   dfl_loss  Instances       Size\n"
          ]
        },
        {
          "output_type": "stream",
          "name": "stderr",
          "text": [
            "      2/150      10.1G      1.756      1.606      1.352        575        640: 100%|██████████| 14/14 [00:18<00:00,  1.32s/it]\n",
            "                 Class     Images  Instances      Box(P          R      mAP50  mAP50-95): 100%|██████████| 1/1 [00:01<00:00,  1.73s/it]"
          ]
        },
        {
          "output_type": "stream",
          "name": "stdout",
          "text": [
            "                   all         85        233      0.164      0.108     0.0625     0.0141\n"
          ]
        },
        {
          "output_type": "stream",
          "name": "stderr",
          "text": [
            "\n"
          ]
        },
        {
          "output_type": "stream",
          "name": "stdout",
          "text": [
            "\n",
            "      Epoch    GPU_mem   box_loss   cls_loss   dfl_loss  Instances       Size\n"
          ]
        },
        {
          "output_type": "stream",
          "name": "stderr",
          "text": [
            "      3/150       9.1G      1.747      1.516      1.388        477        640: 100%|██████████| 14/14 [00:16<00:00,  1.17s/it]\n",
            "                 Class     Images  Instances      Box(P          R      mAP50  mAP50-95): 100%|██████████| 1/1 [00:01<00:00,  1.20s/it]"
          ]
        },
        {
          "output_type": "stream",
          "name": "stdout",
          "text": [
            "                   all         85        233    0.00459      0.502    0.00386    0.00155\n"
          ]
        },
        {
          "output_type": "stream",
          "name": "stderr",
          "text": [
            "\n"
          ]
        },
        {
          "output_type": "stream",
          "name": "stdout",
          "text": [
            "\n",
            "      Epoch    GPU_mem   box_loss   cls_loss   dfl_loss  Instances       Size\n"
          ]
        },
        {
          "output_type": "stream",
          "name": "stderr",
          "text": [
            "      4/150      11.3G      1.698      1.443      1.328        614        640: 100%|██████████| 14/14 [00:16<00:00,  1.16s/it]\n",
            "                 Class     Images  Instances      Box(P          R      mAP50  mAP50-95): 100%|██████████| 1/1 [00:01<00:00,  1.47s/it]"
          ]
        },
        {
          "output_type": "stream",
          "name": "stdout",
          "text": [
            "                   all         85        233    0.00177     0.0987   0.000996   0.000412\n"
          ]
        },
        {
          "output_type": "stream",
          "name": "stderr",
          "text": [
            "\n"
          ]
        },
        {
          "output_type": "stream",
          "name": "stdout",
          "text": [
            "\n",
            "      Epoch    GPU_mem   box_loss   cls_loss   dfl_loss  Instances       Size\n"
          ]
        },
        {
          "output_type": "stream",
          "name": "stderr",
          "text": [
            "      5/150      8.98G      1.621      1.369      1.339        766        640: 100%|██████████| 14/14 [00:15<00:00,  1.12s/it]\n",
            "                 Class     Images  Instances      Box(P          R      mAP50  mAP50-95): 100%|██████████| 1/1 [00:02<00:00,  2.42s/it]"
          ]
        },
        {
          "output_type": "stream",
          "name": "stdout",
          "text": [
            "                   all         85        233    0.00257      0.236    0.00155   0.000503\n"
          ]
        },
        {
          "output_type": "stream",
          "name": "stderr",
          "text": [
            "\n"
          ]
        },
        {
          "output_type": "stream",
          "name": "stdout",
          "text": [
            "\n",
            "      Epoch    GPU_mem   box_loss   cls_loss   dfl_loss  Instances       Size\n"
          ]
        },
        {
          "output_type": "stream",
          "name": "stderr",
          "text": [
            "      6/150      9.62G      1.695      1.423       1.35        496        640: 100%|██████████| 14/14 [00:15<00:00,  1.07s/it]\n",
            "                 Class     Images  Instances      Box(P          R      mAP50  mAP50-95): 100%|██████████| 1/1 [00:02<00:00,  2.19s/it]"
          ]
        },
        {
          "output_type": "stream",
          "name": "stdout",
          "text": [
            "                   all         85        233      0.192      0.137     0.0765     0.0254\n"
          ]
        },
        {
          "output_type": "stream",
          "name": "stderr",
          "text": [
            "\n"
          ]
        },
        {
          "output_type": "stream",
          "name": "stdout",
          "text": [
            "\n",
            "      Epoch    GPU_mem   box_loss   cls_loss   dfl_loss  Instances       Size\n"
          ]
        },
        {
          "output_type": "stream",
          "name": "stderr",
          "text": [
            "      7/150      10.1G      1.585      1.259      1.289        552        640: 100%|██████████| 14/14 [00:17<00:00,  1.23s/it]\n",
            "                 Class     Images  Instances      Box(P          R      mAP50  mAP50-95): 100%|██████████| 1/1 [00:02<00:00,  2.06s/it]"
          ]
        },
        {
          "output_type": "stream",
          "name": "stdout",
          "text": [
            "                   all         85        233      0.138       0.15     0.0492     0.0229\n"
          ]
        },
        {
          "output_type": "stream",
          "name": "stderr",
          "text": [
            "\n"
          ]
        },
        {
          "output_type": "stream",
          "name": "stdout",
          "text": [
            "\n",
            "      Epoch    GPU_mem   box_loss   cls_loss   dfl_loss  Instances       Size\n"
          ]
        },
        {
          "output_type": "stream",
          "name": "stderr",
          "text": [
            "      8/150      10.6G      1.587      1.324      1.331        549        640: 100%|██████████| 14/14 [00:15<00:00,  1.10s/it]\n",
            "                 Class     Images  Instances      Box(P          R      mAP50  mAP50-95): 100%|██████████| 1/1 [00:03<00:00,  3.35s/it]"
          ]
        },
        {
          "output_type": "stream",
          "name": "stdout",
          "text": [
            "                   all         85        233    0.00046     0.0258   0.000208   4.11e-05\n"
          ]
        },
        {
          "output_type": "stream",
          "name": "stderr",
          "text": [
            "\n"
          ]
        },
        {
          "output_type": "stream",
          "name": "stdout",
          "text": [
            "\n",
            "      Epoch    GPU_mem   box_loss   cls_loss   dfl_loss  Instances       Size\n"
          ]
        },
        {
          "output_type": "stream",
          "name": "stderr",
          "text": [
            "      9/150        10G      1.555      1.257      1.272        545        640: 100%|██████████| 14/14 [00:14<00:00,  1.07s/it]\n",
            "                 Class     Images  Instances      Box(P          R      mAP50  mAP50-95): 100%|██████████| 1/1 [00:03<00:00,  3.21s/it]"
          ]
        },
        {
          "output_type": "stream",
          "name": "stdout",
          "text": [
            "                   all         85        233     0.0013      0.129   0.000752   0.000283\n"
          ]
        },
        {
          "output_type": "stream",
          "name": "stderr",
          "text": [
            "\n"
          ]
        },
        {
          "output_type": "stream",
          "name": "stdout",
          "text": [
            "\n",
            "      Epoch    GPU_mem   box_loss   cls_loss   dfl_loss  Instances       Size\n"
          ]
        },
        {
          "output_type": "stream",
          "name": "stderr",
          "text": [
            "     10/150      10.4G      1.518      1.165      1.292        556        640: 100%|██████████| 14/14 [00:15<00:00,  1.07s/it]\n",
            "                 Class     Images  Instances      Box(P          R      mAP50  mAP50-95): 100%|██████████| 1/1 [00:02<00:00,  2.37s/it]"
          ]
        },
        {
          "output_type": "stream",
          "name": "stdout",
          "text": [
            "                   all         85        233     0.0247     0.0815    0.00752    0.00275\n"
          ]
        },
        {
          "output_type": "stream",
          "name": "stderr",
          "text": [
            "\n"
          ]
        },
        {
          "output_type": "stream",
          "name": "stdout",
          "text": [
            "\n",
            "      Epoch    GPU_mem   box_loss   cls_loss   dfl_loss  Instances       Size\n"
          ]
        },
        {
          "output_type": "stream",
          "name": "stderr",
          "text": [
            "     11/150      9.62G      1.453      1.093      1.232        723        640: 100%|██████████| 14/14 [00:15<00:00,  1.10s/it]\n",
            "                 Class     Images  Instances      Box(P          R      mAP50  mAP50-95): 100%|██████████| 1/1 [00:02<00:00,  2.08s/it]"
          ]
        },
        {
          "output_type": "stream",
          "name": "stdout",
          "text": [
            "                   all         85        233      0.119      0.112     0.0463     0.0239\n"
          ]
        },
        {
          "output_type": "stream",
          "name": "stderr",
          "text": [
            "\n"
          ]
        },
        {
          "output_type": "stream",
          "name": "stdout",
          "text": [
            "\n",
            "      Epoch    GPU_mem   box_loss   cls_loss   dfl_loss  Instances       Size\n"
          ]
        },
        {
          "output_type": "stream",
          "name": "stderr",
          "text": [
            "     12/150      11.2G      1.368      1.009       1.19        547        640: 100%|██████████| 14/14 [00:16<00:00,  1.17s/it]\n",
            "                 Class     Images  Instances      Box(P          R      mAP50  mAP50-95): 100%|██████████| 1/1 [00:02<00:00,  2.16s/it]"
          ]
        },
        {
          "output_type": "stream",
          "name": "stdout",
          "text": [
            "                   all         85        233      0.216      0.163      0.112      0.057\n"
          ]
        },
        {
          "output_type": "stream",
          "name": "stderr",
          "text": [
            "\n"
          ]
        },
        {
          "output_type": "stream",
          "name": "stdout",
          "text": [
            "\n",
            "      Epoch    GPU_mem   box_loss   cls_loss   dfl_loss  Instances       Size\n"
          ]
        },
        {
          "output_type": "stream",
          "name": "stderr",
          "text": [
            "     13/150      9.33G      1.291      0.947      1.173        643        640: 100%|██████████| 14/14 [00:15<00:00,  1.10s/it]\n",
            "                 Class     Images  Instances      Box(P          R      mAP50  mAP50-95): 100%|██████████| 1/1 [00:01<00:00,  1.83s/it]"
          ]
        },
        {
          "output_type": "stream",
          "name": "stdout",
          "text": [
            "                   all         85        233       0.17      0.163       0.08     0.0435\n"
          ]
        },
        {
          "output_type": "stream",
          "name": "stderr",
          "text": [
            "\n"
          ]
        },
        {
          "output_type": "stream",
          "name": "stdout",
          "text": [
            "\n",
            "      Epoch    GPU_mem   box_loss   cls_loss   dfl_loss  Instances       Size\n"
          ]
        },
        {
          "output_type": "stream",
          "name": "stderr",
          "text": [
            "     14/150      9.42G      1.274     0.9027      1.137        685        640: 100%|██████████| 14/14 [00:15<00:00,  1.12s/it]\n",
            "                 Class     Images  Instances      Box(P          R      mAP50  mAP50-95): 100%|██████████| 1/1 [00:01<00:00,  1.87s/it]"
          ]
        },
        {
          "output_type": "stream",
          "name": "stdout",
          "text": [
            "                   all         85        233      0.249      0.236      0.182      0.103\n"
          ]
        },
        {
          "output_type": "stream",
          "name": "stderr",
          "text": [
            "\n"
          ]
        },
        {
          "output_type": "stream",
          "name": "stdout",
          "text": [
            "\n",
            "      Epoch    GPU_mem   box_loss   cls_loss   dfl_loss  Instances       Size\n"
          ]
        },
        {
          "output_type": "stream",
          "name": "stderr",
          "text": [
            "     15/150      9.89G      1.194     0.8974      1.119        562        640: 100%|██████████| 14/14 [00:15<00:00,  1.12s/it]\n",
            "                 Class     Images  Instances      Box(P          R      mAP50  mAP50-95): 100%|██████████| 1/1 [00:01<00:00,  1.51s/it]"
          ]
        },
        {
          "output_type": "stream",
          "name": "stdout",
          "text": [
            "                   all         85        233       0.47      0.283      0.249      0.131\n"
          ]
        },
        {
          "output_type": "stream",
          "name": "stderr",
          "text": [
            "\n"
          ]
        },
        {
          "output_type": "stream",
          "name": "stdout",
          "text": [
            "\n",
            "      Epoch    GPU_mem   box_loss   cls_loss   dfl_loss  Instances       Size\n"
          ]
        },
        {
          "output_type": "stream",
          "name": "stderr",
          "text": [
            "     16/150      9.05G      1.215     0.8609      1.136        601        640: 100%|██████████| 14/14 [00:15<00:00,  1.11s/it]\n",
            "                 Class     Images  Instances      Box(P          R      mAP50  mAP50-95): 100%|██████████| 1/1 [00:01<00:00,  1.74s/it]"
          ]
        },
        {
          "output_type": "stream",
          "name": "stdout",
          "text": [
            "                   all         85        233      0.376       0.24      0.187      0.101\n"
          ]
        },
        {
          "output_type": "stream",
          "name": "stderr",
          "text": [
            "\n"
          ]
        },
        {
          "output_type": "stream",
          "name": "stdout",
          "text": [
            "\n",
            "      Epoch    GPU_mem   box_loss   cls_loss   dfl_loss  Instances       Size\n"
          ]
        },
        {
          "output_type": "stream",
          "name": "stderr",
          "text": [
            "     17/150      9.03G      1.196     0.8575      1.115        696        640: 100%|██████████| 14/14 [00:15<00:00,  1.11s/it]\n",
            "                 Class     Images  Instances      Box(P          R      mAP50  mAP50-95): 100%|██████████| 1/1 [00:01<00:00,  1.93s/it]"
          ]
        },
        {
          "output_type": "stream",
          "name": "stdout",
          "text": [
            "                   all         85        233      0.451      0.343      0.318      0.184\n"
          ]
        },
        {
          "output_type": "stream",
          "name": "stderr",
          "text": [
            "\n"
          ]
        },
        {
          "output_type": "stream",
          "name": "stdout",
          "text": [
            "\n",
            "      Epoch    GPU_mem   box_loss   cls_loss   dfl_loss  Instances       Size\n"
          ]
        },
        {
          "output_type": "stream",
          "name": "stderr",
          "text": [
            "     18/150      9.37G       1.17     0.8315      1.111        576        640: 100%|██████████| 14/14 [00:16<00:00,  1.18s/it]\n",
            "                 Class     Images  Instances      Box(P          R      mAP50  mAP50-95): 100%|██████████| 1/1 [00:01<00:00,  1.48s/it]"
          ]
        },
        {
          "output_type": "stream",
          "name": "stdout",
          "text": [
            "                   all         85        233      0.478      0.369      0.339      0.197\n"
          ]
        },
        {
          "output_type": "stream",
          "name": "stderr",
          "text": [
            "\n"
          ]
        },
        {
          "output_type": "stream",
          "name": "stdout",
          "text": [
            "\n",
            "      Epoch    GPU_mem   box_loss   cls_loss   dfl_loss  Instances       Size\n"
          ]
        },
        {
          "output_type": "stream",
          "name": "stderr",
          "text": [
            "     19/150      9.48G      1.104     0.7798      1.065        566        640: 100%|██████████| 14/14 [00:16<00:00,  1.14s/it]\n",
            "                 Class     Images  Instances      Box(P          R      mAP50  mAP50-95): 100%|██████████| 1/1 [00:01<00:00,  1.59s/it]"
          ]
        },
        {
          "output_type": "stream",
          "name": "stdout",
          "text": [
            "                   all         85        233      0.648      0.442      0.489      0.283\n"
          ]
        },
        {
          "output_type": "stream",
          "name": "stderr",
          "text": [
            "\n"
          ]
        },
        {
          "output_type": "stream",
          "name": "stdout",
          "text": [
            "\n",
            "      Epoch    GPU_mem   box_loss   cls_loss   dfl_loss  Instances       Size\n"
          ]
        },
        {
          "output_type": "stream",
          "name": "stderr",
          "text": [
            "     20/150      9.56G      1.137     0.8025      1.102        586        640: 100%|██████████| 14/14 [00:15<00:00,  1.11s/it]\n",
            "                 Class     Images  Instances      Box(P          R      mAP50  mAP50-95): 100%|██████████| 1/1 [00:01<00:00,  1.70s/it]"
          ]
        },
        {
          "output_type": "stream",
          "name": "stdout",
          "text": [
            "                   all         85        233      0.536      0.455      0.434      0.262\n"
          ]
        },
        {
          "output_type": "stream",
          "name": "stderr",
          "text": [
            "\n"
          ]
        },
        {
          "output_type": "stream",
          "name": "stdout",
          "text": [
            "\n",
            "      Epoch    GPU_mem   box_loss   cls_loss   dfl_loss  Instances       Size\n"
          ]
        },
        {
          "output_type": "stream",
          "name": "stderr",
          "text": [
            "     21/150      10.1G      1.078       0.78      1.055        634        640: 100%|██████████| 14/14 [00:16<00:00,  1.20s/it]\n",
            "                 Class     Images  Instances      Box(P          R      mAP50  mAP50-95): 100%|██████████| 1/1 [00:01<00:00,  1.37s/it]"
          ]
        },
        {
          "output_type": "stream",
          "name": "stdout",
          "text": [
            "                   all         85        233      0.686      0.464       0.49      0.302\n"
          ]
        },
        {
          "output_type": "stream",
          "name": "stderr",
          "text": [
            "\n"
          ]
        },
        {
          "output_type": "stream",
          "name": "stdout",
          "text": [
            "\n",
            "      Epoch    GPU_mem   box_loss   cls_loss   dfl_loss  Instances       Size\n"
          ]
        },
        {
          "output_type": "stream",
          "name": "stderr",
          "text": [
            "     22/150      10.6G      1.102     0.8045      1.084        539        640: 100%|██████████| 14/14 [00:16<00:00,  1.15s/it]\n",
            "                 Class     Images  Instances      Box(P          R      mAP50  mAP50-95): 100%|██████████| 1/1 [00:01<00:00,  1.86s/it]"
          ]
        },
        {
          "output_type": "stream",
          "name": "stdout",
          "text": [
            "                   all         85        233      0.647       0.41      0.464      0.256\n"
          ]
        },
        {
          "output_type": "stream",
          "name": "stderr",
          "text": [
            "\n"
          ]
        },
        {
          "output_type": "stream",
          "name": "stdout",
          "text": [
            "\n",
            "      Epoch    GPU_mem   box_loss   cls_loss   dfl_loss  Instances       Size\n"
          ]
        },
        {
          "output_type": "stream",
          "name": "stderr",
          "text": [
            "     23/150      10.1G      1.041     0.7644      1.071        425        640: 100%|██████████| 14/14 [00:17<00:00,  1.27s/it]\n",
            "                 Class     Images  Instances      Box(P          R      mAP50  mAP50-95): 100%|██████████| 1/1 [00:01<00:00,  1.05s/it]"
          ]
        },
        {
          "output_type": "stream",
          "name": "stdout",
          "text": [
            "                   all         85        233      0.474       0.31      0.325      0.188\n"
          ]
        },
        {
          "output_type": "stream",
          "name": "stderr",
          "text": [
            "\n"
          ]
        },
        {
          "output_type": "stream",
          "name": "stdout",
          "text": [
            "\n",
            "      Epoch    GPU_mem   box_loss   cls_loss   dfl_loss  Instances       Size\n"
          ]
        },
        {
          "output_type": "stream",
          "name": "stderr",
          "text": [
            "     24/150        10G      1.037      0.737      1.062        570        640: 100%|██████████| 14/14 [00:16<00:00,  1.19s/it]\n",
            "                 Class     Images  Instances      Box(P          R      mAP50  mAP50-95): 100%|██████████| 1/1 [00:00<00:00,  1.02it/s]"
          ]
        },
        {
          "output_type": "stream",
          "name": "stdout",
          "text": [
            "                   all         85        233      0.629      0.429      0.456      0.276\n"
          ]
        },
        {
          "output_type": "stream",
          "name": "stderr",
          "text": [
            "\n"
          ]
        },
        {
          "output_type": "stream",
          "name": "stdout",
          "text": [
            "\n",
            "      Epoch    GPU_mem   box_loss   cls_loss   dfl_loss  Instances       Size\n"
          ]
        },
        {
          "output_type": "stream",
          "name": "stderr",
          "text": [
            "     25/150      9.76G      1.034     0.7468      1.071        515        640: 100%|██████████| 14/14 [00:16<00:00,  1.20s/it]\n",
            "                 Class     Images  Instances      Box(P          R      mAP50  mAP50-95): 100%|██████████| 1/1 [00:00<00:00,  1.08it/s]"
          ]
        },
        {
          "output_type": "stream",
          "name": "stdout",
          "text": [
            "                   all         85        233      0.562      0.292      0.301      0.172\n"
          ]
        },
        {
          "output_type": "stream",
          "name": "stderr",
          "text": [
            "\n"
          ]
        },
        {
          "output_type": "stream",
          "name": "stdout",
          "text": [
            "\n",
            "      Epoch    GPU_mem   box_loss   cls_loss   dfl_loss  Instances       Size\n"
          ]
        },
        {
          "output_type": "stream",
          "name": "stderr",
          "text": [
            "     26/150      10.3G      1.033     0.7362      1.056        696        640: 100%|██████████| 14/14 [00:16<00:00,  1.19s/it]\n",
            "                 Class     Images  Instances      Box(P          R      mAP50  mAP50-95): 100%|██████████| 1/1 [00:01<00:00,  1.04s/it]"
          ]
        },
        {
          "output_type": "stream",
          "name": "stdout",
          "text": [
            "                   all         85        233      0.627      0.399      0.451      0.279\n"
          ]
        },
        {
          "output_type": "stream",
          "name": "stderr",
          "text": [
            "\n"
          ]
        },
        {
          "output_type": "stream",
          "name": "stdout",
          "text": [
            "\n",
            "      Epoch    GPU_mem   box_loss   cls_loss   dfl_loss  Instances       Size\n"
          ]
        },
        {
          "output_type": "stream",
          "name": "stderr",
          "text": [
            "     27/150      9.63G      1.007     0.6953      1.039        830        640: 100%|██████████| 14/14 [00:16<00:00,  1.16s/it]\n",
            "                 Class     Images  Instances      Box(P          R      mAP50  mAP50-95): 100%|██████████| 1/1 [00:01<00:00,  1.79s/it]"
          ]
        },
        {
          "output_type": "stream",
          "name": "stdout",
          "text": [
            "                   all         85        233      0.711      0.455      0.523      0.311\n"
          ]
        },
        {
          "output_type": "stream",
          "name": "stderr",
          "text": [
            "\n"
          ]
        },
        {
          "output_type": "stream",
          "name": "stdout",
          "text": [
            "\n",
            "      Epoch    GPU_mem   box_loss   cls_loss   dfl_loss  Instances       Size\n"
          ]
        },
        {
          "output_type": "stream",
          "name": "stderr",
          "text": [
            "     28/150      9.66G     0.9815     0.7076      1.035        610        640: 100%|██████████| 14/14 [00:17<00:00,  1.26s/it]\n",
            "                 Class     Images  Instances      Box(P          R      mAP50  mAP50-95): 100%|██████████| 1/1 [00:00<00:00,  1.11it/s]"
          ]
        },
        {
          "output_type": "stream",
          "name": "stdout",
          "text": [
            "                   all         85        233      0.827      0.451      0.522      0.334\n"
          ]
        },
        {
          "output_type": "stream",
          "name": "stderr",
          "text": [
            "\n"
          ]
        },
        {
          "output_type": "stream",
          "name": "stdout",
          "text": [
            "\n",
            "      Epoch    GPU_mem   box_loss   cls_loss   dfl_loss  Instances       Size\n"
          ]
        },
        {
          "output_type": "stream",
          "name": "stderr",
          "text": [
            "     29/150      9.64G     0.9731     0.6739       1.02        728        640: 100%|██████████| 14/14 [00:15<00:00,  1.14s/it]\n",
            "                 Class     Images  Instances      Box(P          R      mAP50  mAP50-95): 100%|██████████| 1/1 [00:00<00:00,  1.06it/s]"
          ]
        },
        {
          "output_type": "stream",
          "name": "stdout",
          "text": [
            "                   all         85        233      0.555      0.476      0.521       0.34\n"
          ]
        },
        {
          "output_type": "stream",
          "name": "stderr",
          "text": [
            "\n"
          ]
        },
        {
          "output_type": "stream",
          "name": "stdout",
          "text": [
            "\n",
            "      Epoch    GPU_mem   box_loss   cls_loss   dfl_loss  Instances       Size\n"
          ]
        },
        {
          "output_type": "stream",
          "name": "stderr",
          "text": [
            "     30/150      10.6G     0.9844     0.6951      1.043        530        640: 100%|██████████| 14/14 [00:16<00:00,  1.16s/it]\n",
            "                 Class     Images  Instances      Box(P          R      mAP50  mAP50-95): 100%|██████████| 1/1 [00:01<00:00,  1.06s/it]"
          ]
        },
        {
          "output_type": "stream",
          "name": "stdout",
          "text": [
            "                   all         85        233      0.734      0.464      0.532      0.345\n"
          ]
        },
        {
          "output_type": "stream",
          "name": "stderr",
          "text": [
            "\n"
          ]
        },
        {
          "output_type": "stream",
          "name": "stdout",
          "text": [
            "\n",
            "      Epoch    GPU_mem   box_loss   cls_loss   dfl_loss  Instances       Size\n"
          ]
        },
        {
          "output_type": "stream",
          "name": "stderr",
          "text": [
            "     31/150      9.73G     0.9467      0.665      1.016        633        640: 100%|██████████| 14/14 [00:16<00:00,  1.15s/it]\n",
            "                 Class     Images  Instances      Box(P          R      mAP50  mAP50-95): 100%|██████████| 1/1 [00:01<00:00,  1.16s/it]"
          ]
        },
        {
          "output_type": "stream",
          "name": "stdout",
          "text": [
            "                   all         85        233       0.69      0.524      0.576      0.363\n"
          ]
        },
        {
          "output_type": "stream",
          "name": "stderr",
          "text": [
            "\n"
          ]
        },
        {
          "output_type": "stream",
          "name": "stdout",
          "text": [
            "\n",
            "      Epoch    GPU_mem   box_loss   cls_loss   dfl_loss  Instances       Size\n"
          ]
        },
        {
          "output_type": "stream",
          "name": "stderr",
          "text": [
            "     32/150      10.2G     0.9353     0.6541      1.004        478        640: 100%|██████████| 14/14 [00:16<00:00,  1.18s/it]\n",
            "                 Class     Images  Instances      Box(P          R      mAP50  mAP50-95): 100%|██████████| 1/1 [00:01<00:00,  1.39s/it]"
          ]
        },
        {
          "output_type": "stream",
          "name": "stdout",
          "text": [
            "                   all         85        233      0.772      0.339      0.415      0.272\n"
          ]
        },
        {
          "output_type": "stream",
          "name": "stderr",
          "text": [
            "\n"
          ]
        },
        {
          "output_type": "stream",
          "name": "stdout",
          "text": [
            "\n",
            "      Epoch    GPU_mem   box_loss   cls_loss   dfl_loss  Instances       Size\n"
          ]
        },
        {
          "output_type": "stream",
          "name": "stderr",
          "text": [
            "     33/150      9.86G     0.9434     0.6681      1.021        694        640: 100%|██████████| 14/14 [00:18<00:00,  1.34s/it]\n",
            "                 Class     Images  Instances      Box(P          R      mAP50  mAP50-95): 100%|██████████| 1/1 [00:01<00:00,  1.02s/it]"
          ]
        },
        {
          "output_type": "stream",
          "name": "stdout",
          "text": [
            "                   all         85        233      0.862      0.489      0.576      0.378\n"
          ]
        },
        {
          "output_type": "stream",
          "name": "stderr",
          "text": [
            "\n"
          ]
        },
        {
          "output_type": "stream",
          "name": "stdout",
          "text": [
            "\n",
            "      Epoch    GPU_mem   box_loss   cls_loss   dfl_loss  Instances       Size\n"
          ]
        },
        {
          "output_type": "stream",
          "name": "stderr",
          "text": [
            "     34/150      10.4G     0.9566     0.6571      1.022        587        640: 100%|██████████| 14/14 [00:16<00:00,  1.14s/it]\n",
            "                 Class     Images  Instances      Box(P          R      mAP50  mAP50-95): 100%|██████████| 1/1 [00:01<00:00,  1.00s/it]"
          ]
        },
        {
          "output_type": "stream",
          "name": "stdout",
          "text": [
            "                   all         85        233      0.807      0.468      0.559      0.361\n"
          ]
        },
        {
          "output_type": "stream",
          "name": "stderr",
          "text": [
            "\n"
          ]
        },
        {
          "output_type": "stream",
          "name": "stdout",
          "text": [
            "\n",
            "      Epoch    GPU_mem   box_loss   cls_loss   dfl_loss  Instances       Size\n"
          ]
        },
        {
          "output_type": "stream",
          "name": "stderr",
          "text": [
            "     35/150      11.4G     0.9082     0.6377     0.9983        529        640: 100%|██████████| 14/14 [00:16<00:00,  1.17s/it]\n",
            "                 Class     Images  Instances      Box(P          R      mAP50  mAP50-95): 100%|██████████| 1/1 [00:01<00:00,  1.06s/it]"
          ]
        },
        {
          "output_type": "stream",
          "name": "stdout",
          "text": [
            "                   all         85        233      0.569      0.498      0.489      0.296\n"
          ]
        },
        {
          "output_type": "stream",
          "name": "stderr",
          "text": [
            "\n"
          ]
        },
        {
          "output_type": "stream",
          "name": "stdout",
          "text": [
            "\n",
            "      Epoch    GPU_mem   box_loss   cls_loss   dfl_loss  Instances       Size\n"
          ]
        },
        {
          "output_type": "stream",
          "name": "stderr",
          "text": [
            "     36/150      10.6G     0.9263     0.6336      1.007        572        640: 100%|██████████| 14/14 [00:16<00:00,  1.19s/it]\n",
            "                 Class     Images  Instances      Box(P          R      mAP50  mAP50-95): 100%|██████████| 1/1 [00:00<00:00,  1.06it/s]"
          ]
        },
        {
          "output_type": "stream",
          "name": "stdout",
          "text": [
            "                   all         85        233        0.8      0.468       0.56       0.35\n"
          ]
        },
        {
          "output_type": "stream",
          "name": "stderr",
          "text": [
            "\n"
          ]
        },
        {
          "output_type": "stream",
          "name": "stdout",
          "text": [
            "\n",
            "      Epoch    GPU_mem   box_loss   cls_loss   dfl_loss  Instances       Size\n"
          ]
        },
        {
          "output_type": "stream",
          "name": "stderr",
          "text": [
            "     37/150      10.8G     0.8845      0.635     0.9878        442        640: 100%|██████████| 14/14 [00:16<00:00,  1.15s/it]\n",
            "                 Class     Images  Instances      Box(P          R      mAP50  mAP50-95): 100%|██████████| 1/1 [00:01<00:00,  1.35s/it]"
          ]
        },
        {
          "output_type": "stream",
          "name": "stdout",
          "text": [
            "                   all         85        233      0.786      0.504      0.578      0.352\n"
          ]
        },
        {
          "output_type": "stream",
          "name": "stderr",
          "text": [
            "\n"
          ]
        },
        {
          "output_type": "stream",
          "name": "stdout",
          "text": [
            "\n",
            "      Epoch    GPU_mem   box_loss   cls_loss   dfl_loss  Instances       Size\n"
          ]
        },
        {
          "output_type": "stream",
          "name": "stderr",
          "text": [
            "     38/150      11.7G     0.8914     0.6506      1.007        602        640: 100%|██████████| 14/14 [00:16<00:00,  1.21s/it]\n",
            "                 Class     Images  Instances      Box(P          R      mAP50  mAP50-95): 100%|██████████| 1/1 [00:00<00:00,  1.06it/s]"
          ]
        },
        {
          "output_type": "stream",
          "name": "stdout",
          "text": [
            "                   all         85        233      0.422      0.339      0.334      0.214\n"
          ]
        },
        {
          "output_type": "stream",
          "name": "stderr",
          "text": [
            "\n"
          ]
        },
        {
          "output_type": "stream",
          "name": "stdout",
          "text": [
            "\n",
            "      Epoch    GPU_mem   box_loss   cls_loss   dfl_loss  Instances       Size\n"
          ]
        },
        {
          "output_type": "stream",
          "name": "stderr",
          "text": [
            "     39/150      10.9G      0.896     0.6246     0.9986        564        640: 100%|██████████| 14/14 [00:16<00:00,  1.15s/it]\n",
            "                 Class     Images  Instances      Box(P          R      mAP50  mAP50-95): 100%|██████████| 1/1 [00:00<00:00,  1.16it/s]"
          ]
        },
        {
          "output_type": "stream",
          "name": "stdout",
          "text": [
            "                   all         85        233      0.722      0.464      0.538      0.352\n"
          ]
        },
        {
          "output_type": "stream",
          "name": "stderr",
          "text": [
            "\n"
          ]
        },
        {
          "output_type": "stream",
          "name": "stdout",
          "text": [
            "\n",
            "      Epoch    GPU_mem   box_loss   cls_loss   dfl_loss  Instances       Size\n"
          ]
        },
        {
          "output_type": "stream",
          "name": "stderr",
          "text": [
            "     40/150      10.3G     0.8701     0.6069     0.9801        668        640: 100%|██████████| 14/14 [00:15<00:00,  1.13s/it]\n",
            "                 Class     Images  Instances      Box(P          R      mAP50  mAP50-95): 100%|██████████| 1/1 [00:01<00:00,  1.14s/it]"
          ]
        },
        {
          "output_type": "stream",
          "name": "stdout",
          "text": [
            "                   all         85        233       0.61      0.468      0.516      0.341\n"
          ]
        },
        {
          "output_type": "stream",
          "name": "stderr",
          "text": [
            "\n"
          ]
        },
        {
          "output_type": "stream",
          "name": "stdout",
          "text": [
            "\n",
            "      Epoch    GPU_mem   box_loss   cls_loss   dfl_loss  Instances       Size\n"
          ]
        },
        {
          "output_type": "stream",
          "name": "stderr",
          "text": [
            "     41/150      10.1G     0.8864     0.6133      1.001        431        640: 100%|██████████| 14/14 [00:16<00:00,  1.14s/it]\n",
            "                 Class     Images  Instances      Box(P          R      mAP50  mAP50-95): 100%|██████████| 1/1 [00:00<00:00,  1.02it/s]"
          ]
        },
        {
          "output_type": "stream",
          "name": "stdout",
          "text": [
            "                   all         85        233      0.759      0.395      0.452      0.294\n"
          ]
        },
        {
          "output_type": "stream",
          "name": "stderr",
          "text": [
            "\n"
          ]
        },
        {
          "output_type": "stream",
          "name": "stdout",
          "text": [
            "\n",
            "      Epoch    GPU_mem   box_loss   cls_loss   dfl_loss  Instances       Size\n"
          ]
        },
        {
          "output_type": "stream",
          "name": "stderr",
          "text": [
            "     42/150      10.5G       0.87     0.6253     0.9957        603        640: 100%|██████████| 14/14 [00:16<00:00,  1.16s/it]\n",
            "                 Class     Images  Instances      Box(P          R      mAP50  mAP50-95): 100%|██████████| 1/1 [00:00<00:00,  1.19it/s]"
          ]
        },
        {
          "output_type": "stream",
          "name": "stdout",
          "text": [
            "                   all         85        233      0.751      0.472       0.52      0.333\n"
          ]
        },
        {
          "output_type": "stream",
          "name": "stderr",
          "text": [
            "\n"
          ]
        },
        {
          "output_type": "stream",
          "name": "stdout",
          "text": [
            "\n",
            "      Epoch    GPU_mem   box_loss   cls_loss   dfl_loss  Instances       Size\n"
          ]
        },
        {
          "output_type": "stream",
          "name": "stderr",
          "text": [
            "     43/150      10.1G     0.8616     0.5998     0.9873        634        640: 100%|██████████| 14/14 [00:18<00:00,  1.29s/it]\n",
            "                 Class     Images  Instances      Box(P          R      mAP50  mAP50-95): 100%|██████████| 1/1 [00:00<00:00,  1.04it/s]"
          ]
        },
        {
          "output_type": "stream",
          "name": "stdout",
          "text": [
            "                   all         85        233      0.753      0.528      0.581      0.378\n"
          ]
        },
        {
          "output_type": "stream",
          "name": "stderr",
          "text": [
            "\n"
          ]
        },
        {
          "output_type": "stream",
          "name": "stdout",
          "text": [
            "\n",
            "      Epoch    GPU_mem   box_loss   cls_loss   dfl_loss  Instances       Size\n"
          ]
        },
        {
          "output_type": "stream",
          "name": "stderr",
          "text": [
            "     44/150      11.5G     0.8462     0.5874     0.9645        594        640: 100%|██████████| 14/14 [00:15<00:00,  1.14s/it]\n",
            "                 Class     Images  Instances      Box(P          R      mAP50  mAP50-95): 100%|██████████| 1/1 [00:01<00:00,  1.03s/it]"
          ]
        },
        {
          "output_type": "stream",
          "name": "stdout",
          "text": [
            "                   all         85        233      0.627      0.511      0.558      0.356\n"
          ]
        },
        {
          "output_type": "stream",
          "name": "stderr",
          "text": [
            "\n"
          ]
        },
        {
          "output_type": "stream",
          "name": "stdout",
          "text": [
            "\n",
            "      Epoch    GPU_mem   box_loss   cls_loss   dfl_loss  Instances       Size\n"
          ]
        },
        {
          "output_type": "stream",
          "name": "stderr",
          "text": [
            "     45/150      9.41G     0.8604     0.5969     0.9882        781        640: 100%|██████████| 14/14 [00:16<00:00,  1.15s/it]\n",
            "                 Class     Images  Instances      Box(P          R      mAP50  mAP50-95): 100%|██████████| 1/1 [00:00<00:00,  1.04it/s]"
          ]
        },
        {
          "output_type": "stream",
          "name": "stdout",
          "text": [
            "                   all         85        233      0.638      0.519      0.553       0.38\n"
          ]
        },
        {
          "output_type": "stream",
          "name": "stderr",
          "text": [
            "\n"
          ]
        },
        {
          "output_type": "stream",
          "name": "stdout",
          "text": [
            "\n",
            "      Epoch    GPU_mem   box_loss   cls_loss   dfl_loss  Instances       Size\n"
          ]
        },
        {
          "output_type": "stream",
          "name": "stderr",
          "text": [
            "     46/150      8.99G     0.8381     0.5832     0.9668        635        640: 100%|██████████| 14/14 [00:14<00:00,  1.07s/it]\n",
            "                 Class     Images  Instances      Box(P          R      mAP50  mAP50-95): 100%|██████████| 1/1 [00:01<00:00,  1.05s/it]"
          ]
        },
        {
          "output_type": "stream",
          "name": "stdout",
          "text": [
            "                   all         85        233      0.582      0.498      0.517      0.346\n"
          ]
        },
        {
          "output_type": "stream",
          "name": "stderr",
          "text": [
            "\n"
          ]
        },
        {
          "output_type": "stream",
          "name": "stdout",
          "text": [
            "\n",
            "      Epoch    GPU_mem   box_loss   cls_loss   dfl_loss  Instances       Size\n"
          ]
        },
        {
          "output_type": "stream",
          "name": "stderr",
          "text": [
            "     47/150      9.26G     0.8407     0.5988     0.9935        593        640: 100%|██████████| 14/14 [00:14<00:00,  1.05s/it]\n",
            "                 Class     Images  Instances      Box(P          R      mAP50  mAP50-95): 100%|██████████| 1/1 [00:01<00:00,  1.40s/it]"
          ]
        },
        {
          "output_type": "stream",
          "name": "stdout",
          "text": [
            "                   all         85        233      0.584      0.459      0.424      0.279\n"
          ]
        },
        {
          "output_type": "stream",
          "name": "stderr",
          "text": [
            "\n"
          ]
        },
        {
          "output_type": "stream",
          "name": "stdout",
          "text": [
            "\n",
            "      Epoch    GPU_mem   box_loss   cls_loss   dfl_loss  Instances       Size\n"
          ]
        },
        {
          "output_type": "stream",
          "name": "stderr",
          "text": [
            "     48/150      9.53G     0.8185     0.5703     0.9634        625        640: 100%|██████████| 14/14 [00:20<00:00,  1.46s/it]\n",
            "                 Class     Images  Instances      Box(P          R      mAP50  mAP50-95): 100%|██████████| 1/1 [00:01<00:00,  1.83s/it]"
          ]
        },
        {
          "output_type": "stream",
          "name": "stdout",
          "text": [
            "                   all         85        233       0.75      0.489      0.592      0.389\n"
          ]
        },
        {
          "output_type": "stream",
          "name": "stderr",
          "text": [
            "\n"
          ]
        },
        {
          "output_type": "stream",
          "name": "stdout",
          "text": [
            "\n",
            "      Epoch    GPU_mem   box_loss   cls_loss   dfl_loss  Instances       Size\n"
          ]
        },
        {
          "output_type": "stream",
          "name": "stderr",
          "text": [
            "     49/150      10.5G      0.847     0.5796     0.9813        657        640: 100%|██████████| 14/14 [00:14<00:00,  1.03s/it]\n",
            "                 Class     Images  Instances      Box(P          R      mAP50  mAP50-95): 100%|██████████| 1/1 [00:01<00:00,  1.65s/it]"
          ]
        },
        {
          "output_type": "stream",
          "name": "stdout",
          "text": [
            "                   all         85        233       0.83      0.536       0.62      0.398\n"
          ]
        },
        {
          "output_type": "stream",
          "name": "stderr",
          "text": [
            "\n"
          ]
        },
        {
          "output_type": "stream",
          "name": "stdout",
          "text": [
            "\n",
            "      Epoch    GPU_mem   box_loss   cls_loss   dfl_loss  Instances       Size\n"
          ]
        },
        {
          "output_type": "stream",
          "name": "stderr",
          "text": [
            "     50/150      9.47G     0.8368     0.5832     0.9744        680        640: 100%|██████████| 14/14 [00:15<00:00,  1.10s/it]\n",
            "                 Class     Images  Instances      Box(P          R      mAP50  mAP50-95): 100%|██████████| 1/1 [00:01<00:00,  1.58s/it]"
          ]
        },
        {
          "output_type": "stream",
          "name": "stdout",
          "text": [
            "                   all         85        233      0.733      0.575      0.632      0.421\n"
          ]
        },
        {
          "output_type": "stream",
          "name": "stderr",
          "text": [
            "\n"
          ]
        },
        {
          "output_type": "stream",
          "name": "stdout",
          "text": [
            "\n",
            "      Epoch    GPU_mem   box_loss   cls_loss   dfl_loss  Instances       Size\n"
          ]
        },
        {
          "output_type": "stream",
          "name": "stderr",
          "text": [
            "     51/150      9.53G      0.807     0.5779     0.9682        464        640: 100%|██████████| 14/14 [00:14<00:00,  1.05s/it]\n",
            "                 Class     Images  Instances      Box(P          R      mAP50  mAP50-95): 100%|██████████| 1/1 [00:01<00:00,  1.65s/it]"
          ]
        },
        {
          "output_type": "stream",
          "name": "stdout",
          "text": [
            "                   all         85        233      0.788      0.554      0.621      0.399\n"
          ]
        },
        {
          "output_type": "stream",
          "name": "stderr",
          "text": [
            "\n"
          ]
        },
        {
          "output_type": "stream",
          "name": "stdout",
          "text": [
            "\n",
            "      Epoch    GPU_mem   box_loss   cls_loss   dfl_loss  Instances       Size\n"
          ]
        },
        {
          "output_type": "stream",
          "name": "stderr",
          "text": [
            "     52/150      10.7G     0.8179     0.5656     0.9649        667        640: 100%|██████████| 14/14 [00:14<00:00,  1.07s/it]\n",
            "                 Class     Images  Instances      Box(P          R      mAP50  mAP50-95): 100%|██████████| 1/1 [00:01<00:00,  1.50s/it]"
          ]
        },
        {
          "output_type": "stream",
          "name": "stdout",
          "text": [
            "                   all         85        233      0.795      0.515      0.629      0.418\n"
          ]
        },
        {
          "output_type": "stream",
          "name": "stderr",
          "text": [
            "\n"
          ]
        },
        {
          "output_type": "stream",
          "name": "stdout",
          "text": [
            "\n",
            "      Epoch    GPU_mem   box_loss   cls_loss   dfl_loss  Instances       Size\n"
          ]
        },
        {
          "output_type": "stream",
          "name": "stderr",
          "text": [
            "     53/150      11.5G     0.8021     0.5607     0.9604        696        640: 100%|██████████| 14/14 [00:19<00:00,  1.39s/it]\n",
            "                 Class     Images  Instances      Box(P          R      mAP50  mAP50-95): 100%|██████████| 1/1 [00:00<00:00,  1.03it/s]"
          ]
        },
        {
          "output_type": "stream",
          "name": "stdout",
          "text": [
            "                   all         85        233      0.822      0.519      0.614      0.398\n"
          ]
        },
        {
          "output_type": "stream",
          "name": "stderr",
          "text": [
            "\n"
          ]
        },
        {
          "output_type": "stream",
          "name": "stdout",
          "text": [
            "\n",
            "      Epoch    GPU_mem   box_loss   cls_loss   dfl_loss  Instances       Size\n"
          ]
        },
        {
          "output_type": "stream",
          "name": "stderr",
          "text": [
            "     54/150      9.38G      0.795     0.5467     0.9563        585        640: 100%|██████████| 14/14 [00:16<00:00,  1.17s/it]\n",
            "                 Class     Images  Instances      Box(P          R      mAP50  mAP50-95): 100%|██████████| 1/1 [00:00<00:00,  1.19it/s]"
          ]
        },
        {
          "output_type": "stream",
          "name": "stdout",
          "text": [
            "                   all         85        233       0.71      0.554      0.598       0.39\n"
          ]
        },
        {
          "output_type": "stream",
          "name": "stderr",
          "text": [
            "\n"
          ]
        },
        {
          "output_type": "stream",
          "name": "stdout",
          "text": [
            "\n",
            "      Epoch    GPU_mem   box_loss   cls_loss   dfl_loss  Instances       Size\n"
          ]
        },
        {
          "output_type": "stream",
          "name": "stderr",
          "text": [
            "     55/150      10.7G     0.8062      0.562     0.9663        577        640: 100%|██████████| 14/14 [00:15<00:00,  1.11s/it]\n",
            "                 Class     Images  Instances      Box(P          R      mAP50  mAP50-95): 100%|██████████| 1/1 [00:00<00:00,  1.02it/s]"
          ]
        },
        {
          "output_type": "stream",
          "name": "stdout",
          "text": [
            "                   all         85        233      0.787      0.515       0.59      0.399\n"
          ]
        },
        {
          "output_type": "stream",
          "name": "stderr",
          "text": [
            "\n"
          ]
        },
        {
          "output_type": "stream",
          "name": "stdout",
          "text": [
            "\n",
            "      Epoch    GPU_mem   box_loss   cls_loss   dfl_loss  Instances       Size\n"
          ]
        },
        {
          "output_type": "stream",
          "name": "stderr",
          "text": [
            "     56/150      9.65G     0.7985     0.5527     0.9614        710        640: 100%|██████████| 14/14 [00:16<00:00,  1.17s/it]\n",
            "                 Class     Images  Instances      Box(P          R      mAP50  mAP50-95): 100%|██████████| 1/1 [00:01<00:00,  1.00s/it]"
          ]
        },
        {
          "output_type": "stream",
          "name": "stdout",
          "text": [
            "                   all         85        233       0.74      0.525      0.604      0.392\n"
          ]
        },
        {
          "output_type": "stream",
          "name": "stderr",
          "text": [
            "\n"
          ]
        },
        {
          "output_type": "stream",
          "name": "stdout",
          "text": [
            "\n",
            "      Epoch    GPU_mem   box_loss   cls_loss   dfl_loss  Instances       Size\n"
          ]
        },
        {
          "output_type": "stream",
          "name": "stderr",
          "text": [
            "     57/150      10.1G     0.7942     0.5431     0.9537        614        640: 100%|██████████| 14/14 [00:16<00:00,  1.18s/it]\n",
            "                 Class     Images  Instances      Box(P          R      mAP50  mAP50-95): 100%|██████████| 1/1 [00:00<00:00,  1.05it/s]"
          ]
        },
        {
          "output_type": "stream",
          "name": "stdout",
          "text": [
            "                   all         85        233      0.782      0.461      0.538      0.351\n"
          ]
        },
        {
          "output_type": "stream",
          "name": "stderr",
          "text": [
            "\n"
          ]
        },
        {
          "output_type": "stream",
          "name": "stdout",
          "text": [
            "\n",
            "      Epoch    GPU_mem   box_loss   cls_loss   dfl_loss  Instances       Size\n"
          ]
        },
        {
          "output_type": "stream",
          "name": "stderr",
          "text": [
            "     58/150      9.49G     0.7849     0.5577     0.9581        663        640: 100%|██████████| 14/14 [00:18<00:00,  1.33s/it]\n",
            "                 Class     Images  Instances      Box(P          R      mAP50  mAP50-95): 100%|██████████| 1/1 [00:01<00:00,  1.35s/it]"
          ]
        },
        {
          "output_type": "stream",
          "name": "stdout",
          "text": [
            "                   all         85        233      0.768      0.532       0.61      0.394\n"
          ]
        },
        {
          "output_type": "stream",
          "name": "stderr",
          "text": [
            "\n"
          ]
        },
        {
          "output_type": "stream",
          "name": "stdout",
          "text": [
            "\n",
            "      Epoch    GPU_mem   box_loss   cls_loss   dfl_loss  Instances       Size\n"
          ]
        },
        {
          "output_type": "stream",
          "name": "stderr",
          "text": [
            "     59/150      10.4G     0.7646     0.5355     0.9456        675        640: 100%|██████████| 14/14 [00:17<00:00,  1.23s/it]\n",
            "                 Class     Images  Instances      Box(P          R      mAP50  mAP50-95): 100%|██████████| 1/1 [00:01<00:00,  1.03s/it]"
          ]
        },
        {
          "output_type": "stream",
          "name": "stdout",
          "text": [
            "                   all         85        233      0.725      0.419      0.507      0.333\n"
          ]
        },
        {
          "output_type": "stream",
          "name": "stderr",
          "text": [
            "\n"
          ]
        },
        {
          "output_type": "stream",
          "name": "stdout",
          "text": [
            "\n",
            "      Epoch    GPU_mem   box_loss   cls_loss   dfl_loss  Instances       Size\n"
          ]
        },
        {
          "output_type": "stream",
          "name": "stderr",
          "text": [
            "     60/150      10.1G     0.7792     0.5386     0.9586        605        640: 100%|██████████| 14/14 [00:15<00:00,  1.12s/it]\n",
            "                 Class     Images  Instances      Box(P          R      mAP50  mAP50-95): 100%|██████████| 1/1 [00:00<00:00,  1.06it/s]"
          ]
        },
        {
          "output_type": "stream",
          "name": "stdout",
          "text": [
            "                   all         85        233      0.715      0.532      0.606      0.405\n"
          ]
        },
        {
          "output_type": "stream",
          "name": "stderr",
          "text": [
            "\n"
          ]
        },
        {
          "output_type": "stream",
          "name": "stdout",
          "text": [
            "\n",
            "      Epoch    GPU_mem   box_loss   cls_loss   dfl_loss  Instances       Size\n"
          ]
        },
        {
          "output_type": "stream",
          "name": "stderr",
          "text": [
            "     61/150      10.2G     0.7624     0.5263     0.9417        557        640: 100%|██████████| 14/14 [00:16<00:00,  1.17s/it]\n",
            "                 Class     Images  Instances      Box(P          R      mAP50  mAP50-95): 100%|██████████| 1/1 [00:00<00:00,  1.03it/s]"
          ]
        },
        {
          "output_type": "stream",
          "name": "stdout",
          "text": [
            "                   all         85        233      0.719      0.549      0.585      0.376\n"
          ]
        },
        {
          "output_type": "stream",
          "name": "stderr",
          "text": [
            "\n"
          ]
        },
        {
          "output_type": "stream",
          "name": "stdout",
          "text": [
            "\n",
            "      Epoch    GPU_mem   box_loss   cls_loss   dfl_loss  Instances       Size\n"
          ]
        },
        {
          "output_type": "stream",
          "name": "stderr",
          "text": [
            "     62/150      10.2G     0.7593     0.5283      0.945        528        640: 100%|██████████| 14/14 [00:16<00:00,  1.15s/it]\n",
            "                 Class     Images  Instances      Box(P          R      mAP50  mAP50-95): 100%|██████████| 1/1 [00:01<00:00,  1.00s/it]"
          ]
        },
        {
          "output_type": "stream",
          "name": "stdout",
          "text": [
            "                   all         85        233      0.769      0.468      0.548      0.354\n"
          ]
        },
        {
          "output_type": "stream",
          "name": "stderr",
          "text": [
            "\n"
          ]
        },
        {
          "output_type": "stream",
          "name": "stdout",
          "text": [
            "\n",
            "      Epoch    GPU_mem   box_loss   cls_loss   dfl_loss  Instances       Size\n"
          ]
        },
        {
          "output_type": "stream",
          "name": "stderr",
          "text": [
            "     63/150      9.63G     0.7475     0.5147     0.9386        696        640: 100%|██████████| 14/14 [00:18<00:00,  1.36s/it]\n",
            "                 Class     Images  Instances      Box(P          R      mAP50  mAP50-95): 100%|██████████| 1/1 [00:01<00:00,  1.71s/it]"
          ]
        },
        {
          "output_type": "stream",
          "name": "stdout",
          "text": [
            "                   all         85        233      0.686      0.485      0.547      0.358\n"
          ]
        },
        {
          "output_type": "stream",
          "name": "stderr",
          "text": [
            "\n"
          ]
        },
        {
          "output_type": "stream",
          "name": "stdout",
          "text": [
            "\n",
            "      Epoch    GPU_mem   box_loss   cls_loss   dfl_loss  Instances       Size\n"
          ]
        },
        {
          "output_type": "stream",
          "name": "stderr",
          "text": [
            "     64/150        11G     0.7641     0.5325     0.9512        604        640: 100%|██████████| 14/14 [00:15<00:00,  1.10s/it]\n",
            "                 Class     Images  Instances      Box(P          R      mAP50  mAP50-95): 100%|██████████| 1/1 [00:01<00:00,  1.34s/it]"
          ]
        },
        {
          "output_type": "stream",
          "name": "stdout",
          "text": [
            "                   all         85        233       0.78      0.472      0.552      0.375\n"
          ]
        },
        {
          "output_type": "stream",
          "name": "stderr",
          "text": [
            "\n"
          ]
        },
        {
          "output_type": "stream",
          "name": "stdout",
          "text": [
            "\n",
            "      Epoch    GPU_mem   box_loss   cls_loss   dfl_loss  Instances       Size\n"
          ]
        },
        {
          "output_type": "stream",
          "name": "stderr",
          "text": [
            "     65/150      9.08G     0.7382     0.5215     0.9392        577        640: 100%|██████████| 14/14 [00:14<00:00,  1.01s/it]\n",
            "                 Class     Images  Instances      Box(P          R      mAP50  mAP50-95): 100%|██████████| 1/1 [00:01<00:00,  1.52s/it]"
          ]
        },
        {
          "output_type": "stream",
          "name": "stdout",
          "text": [
            "                   all         85        233      0.492      0.403      0.417      0.271\n"
          ]
        },
        {
          "output_type": "stream",
          "name": "stderr",
          "text": [
            "\n"
          ]
        },
        {
          "output_type": "stream",
          "name": "stdout",
          "text": [
            "\n",
            "      Epoch    GPU_mem   box_loss   cls_loss   dfl_loss  Instances       Size\n"
          ]
        },
        {
          "output_type": "stream",
          "name": "stderr",
          "text": [
            "     66/150      10.1G     0.7343      0.516      0.939        524        640: 100%|██████████| 14/14 [00:15<00:00,  1.11s/it]\n",
            "                 Class     Images  Instances      Box(P          R      mAP50  mAP50-95): 100%|██████████| 1/1 [00:01<00:00,  1.59s/it]"
          ]
        },
        {
          "output_type": "stream",
          "name": "stdout",
          "text": [
            "                   all         85        233      0.714      0.541      0.596      0.394\n"
          ]
        },
        {
          "output_type": "stream",
          "name": "stderr",
          "text": [
            "\n"
          ]
        },
        {
          "output_type": "stream",
          "name": "stdout",
          "text": [
            "\n",
            "      Epoch    GPU_mem   box_loss   cls_loss   dfl_loss  Instances       Size\n"
          ]
        },
        {
          "output_type": "stream",
          "name": "stderr",
          "text": [
            "     67/150      9.99G     0.7552     0.5237     0.9533        567        640: 100%|██████████| 14/14 [00:15<00:00,  1.09s/it]\n",
            "                 Class     Images  Instances      Box(P          R      mAP50  mAP50-95): 100%|██████████| 1/1 [00:01<00:00,  1.59s/it]"
          ]
        },
        {
          "output_type": "stream",
          "name": "stdout",
          "text": [
            "                   all         85        233      0.773      0.519      0.587      0.383\n"
          ]
        },
        {
          "output_type": "stream",
          "name": "stderr",
          "text": [
            "\n"
          ]
        },
        {
          "output_type": "stream",
          "name": "stdout",
          "text": [
            "\n",
            "      Epoch    GPU_mem   box_loss   cls_loss   dfl_loss  Instances       Size\n"
          ]
        },
        {
          "output_type": "stream",
          "name": "stderr",
          "text": [
            "     68/150      9.92G     0.7332     0.5163     0.9334        548        640: 100%|██████████| 14/14 [00:14<00:00,  1.05s/it]\n",
            "                 Class     Images  Instances      Box(P          R      mAP50  mAP50-95): 100%|██████████| 1/1 [00:01<00:00,  1.68s/it]"
          ]
        },
        {
          "output_type": "stream",
          "name": "stdout",
          "text": [
            "                   all         85        233      0.739      0.541      0.602      0.392\n"
          ]
        },
        {
          "output_type": "stream",
          "name": "stderr",
          "text": [
            "\n"
          ]
        },
        {
          "output_type": "stream",
          "name": "stdout",
          "text": [
            "\n",
            "      Epoch    GPU_mem   box_loss   cls_loss   dfl_loss  Instances       Size\n"
          ]
        },
        {
          "output_type": "stream",
          "name": "stderr",
          "text": [
            "     69/150      10.7G     0.7517     0.5224     0.9453        610        640: 100%|██████████| 14/14 [00:15<00:00,  1.14s/it]\n",
            "                 Class     Images  Instances      Box(P          R      mAP50  mAP50-95): 100%|██████████| 1/1 [00:01<00:00,  1.33s/it]"
          ]
        },
        {
          "output_type": "stream",
          "name": "stdout",
          "text": [
            "                   all         85        233      0.769      0.614      0.658      0.429\n"
          ]
        },
        {
          "output_type": "stream",
          "name": "stderr",
          "text": [
            "\n"
          ]
        },
        {
          "output_type": "stream",
          "name": "stdout",
          "text": [
            "\n",
            "      Epoch    GPU_mem   box_loss   cls_loss   dfl_loss  Instances       Size\n"
          ]
        },
        {
          "output_type": "stream",
          "name": "stderr",
          "text": [
            "     70/150      10.7G       0.72     0.4984     0.9285        646        640: 100%|██████████| 14/14 [00:14<00:00,  1.05s/it]\n",
            "                 Class     Images  Instances      Box(P          R      mAP50  mAP50-95): 100%|██████████| 1/1 [00:01<00:00,  1.51s/it]"
          ]
        },
        {
          "output_type": "stream",
          "name": "stdout",
          "text": [
            "                   all         85        233      0.714      0.534      0.604      0.418\n"
          ]
        },
        {
          "output_type": "stream",
          "name": "stderr",
          "text": [
            "\n"
          ]
        },
        {
          "output_type": "stream",
          "name": "stdout",
          "text": [
            "\n",
            "      Epoch    GPU_mem   box_loss   cls_loss   dfl_loss  Instances       Size\n"
          ]
        },
        {
          "output_type": "stream",
          "name": "stderr",
          "text": [
            "     71/150      10.2G     0.7292     0.4999     0.9393        458        640: 100%|██████████| 14/14 [00:14<00:00,  1.07s/it]\n",
            "                 Class     Images  Instances      Box(P          R      mAP50  mAP50-95): 100%|██████████| 1/1 [00:01<00:00,  1.40s/it]"
          ]
        },
        {
          "output_type": "stream",
          "name": "stdout",
          "text": [
            "                   all         85        233      0.757      0.528      0.606      0.402\n"
          ]
        },
        {
          "output_type": "stream",
          "name": "stderr",
          "text": [
            "\n"
          ]
        },
        {
          "output_type": "stream",
          "name": "stdout",
          "text": [
            "\n",
            "      Epoch    GPU_mem   box_loss   cls_loss   dfl_loss  Instances       Size\n"
          ]
        },
        {
          "output_type": "stream",
          "name": "stderr",
          "text": [
            "     72/150      10.1G     0.7123     0.4969     0.9319        493        640: 100%|██████████| 14/14 [00:14<00:00,  1.05s/it]\n",
            "                 Class     Images  Instances      Box(P          R      mAP50  mAP50-95): 100%|██████████| 1/1 [00:01<00:00,  1.46s/it]"
          ]
        },
        {
          "output_type": "stream",
          "name": "stdout",
          "text": [
            "                   all         85        233      0.864      0.506      0.608      0.414\n"
          ]
        },
        {
          "output_type": "stream",
          "name": "stderr",
          "text": [
            "\n"
          ]
        },
        {
          "output_type": "stream",
          "name": "stdout",
          "text": [
            "\n",
            "      Epoch    GPU_mem   box_loss   cls_loss   dfl_loss  Instances       Size\n"
          ]
        },
        {
          "output_type": "stream",
          "name": "stderr",
          "text": [
            "     73/150      12.3G      0.717     0.4937     0.9316        558        640: 100%|██████████| 14/14 [00:14<00:00,  1.06s/it]\n",
            "                 Class     Images  Instances      Box(P          R      mAP50  mAP50-95): 100%|██████████| 1/1 [00:01<00:00,  1.64s/it]"
          ]
        },
        {
          "output_type": "stream",
          "name": "stdout",
          "text": [
            "                   all         85        233       0.77      0.446      0.559      0.386\n"
          ]
        },
        {
          "output_type": "stream",
          "name": "stderr",
          "text": [
            "\n"
          ]
        },
        {
          "output_type": "stream",
          "name": "stdout",
          "text": [
            "\n",
            "      Epoch    GPU_mem   box_loss   cls_loss   dfl_loss  Instances       Size\n"
          ]
        },
        {
          "output_type": "stream",
          "name": "stderr",
          "text": [
            "     74/150      9.63G     0.7141     0.4996     0.9322        560        640: 100%|██████████| 14/14 [00:16<00:00,  1.19s/it]\n",
            "                 Class     Images  Instances      Box(P          R      mAP50  mAP50-95): 100%|██████████| 1/1 [00:01<00:00,  1.02s/it]"
          ]
        },
        {
          "output_type": "stream",
          "name": "stdout",
          "text": [
            "                   all         85        233      0.638      0.421      0.452      0.304\n"
          ]
        },
        {
          "output_type": "stream",
          "name": "stderr",
          "text": [
            "\n"
          ]
        },
        {
          "output_type": "stream",
          "name": "stdout",
          "text": [
            "\n",
            "      Epoch    GPU_mem   box_loss   cls_loss   dfl_loss  Instances       Size\n"
          ]
        },
        {
          "output_type": "stream",
          "name": "stderr",
          "text": [
            "     75/150      8.98G     0.7036     0.4874     0.9203        597        640: 100%|██████████| 14/14 [00:15<00:00,  1.10s/it]\n",
            "                 Class     Images  Instances      Box(P          R      mAP50  mAP50-95): 100%|██████████| 1/1 [00:01<00:00,  1.46s/it]"
          ]
        },
        {
          "output_type": "stream",
          "name": "stdout",
          "text": [
            "                   all         85        233      0.824      0.522      0.615      0.412\n"
          ]
        },
        {
          "output_type": "stream",
          "name": "stderr",
          "text": [
            "\n"
          ]
        },
        {
          "output_type": "stream",
          "name": "stdout",
          "text": [
            "\n",
            "      Epoch    GPU_mem   box_loss   cls_loss   dfl_loss  Instances       Size\n"
          ]
        },
        {
          "output_type": "stream",
          "name": "stderr",
          "text": [
            "     76/150        10G     0.7043     0.4982     0.9254        426        640: 100%|██████████| 14/14 [00:14<00:00,  1.00s/it]\n",
            "                 Class     Images  Instances      Box(P          R      mAP50  mAP50-95): 100%|██████████| 1/1 [00:01<00:00,  1.44s/it]"
          ]
        },
        {
          "output_type": "stream",
          "name": "stdout",
          "text": [
            "                   all         85        233      0.686      0.579      0.605      0.409\n"
          ]
        },
        {
          "output_type": "stream",
          "name": "stderr",
          "text": [
            "\n"
          ]
        },
        {
          "output_type": "stream",
          "name": "stdout",
          "text": [
            "\n",
            "      Epoch    GPU_mem   box_loss   cls_loss   dfl_loss  Instances       Size\n"
          ]
        },
        {
          "output_type": "stream",
          "name": "stderr",
          "text": [
            "     77/150      9.82G     0.6982     0.4835     0.9247        550        640: 100%|██████████| 14/14 [00:14<00:00,  1.04s/it]\n",
            "                 Class     Images  Instances      Box(P          R      mAP50  mAP50-95): 100%|██████████| 1/1 [00:01<00:00,  1.30s/it]"
          ]
        },
        {
          "output_type": "stream",
          "name": "stdout",
          "text": [
            "                   all         85        233      0.814      0.545       0.65      0.441\n"
          ]
        },
        {
          "output_type": "stream",
          "name": "stderr",
          "text": [
            "\n"
          ]
        },
        {
          "output_type": "stream",
          "name": "stdout",
          "text": [
            "\n",
            "      Epoch    GPU_mem   box_loss   cls_loss   dfl_loss  Instances       Size\n"
          ]
        },
        {
          "output_type": "stream",
          "name": "stderr",
          "text": [
            "     78/150       9.9G     0.7103     0.4862     0.9297        614        640: 100%|██████████| 14/14 [00:14<00:00,  1.06s/it]\n",
            "                 Class     Images  Instances      Box(P          R      mAP50  mAP50-95): 100%|██████████| 1/1 [00:01<00:00,  1.34s/it]"
          ]
        },
        {
          "output_type": "stream",
          "name": "stdout",
          "text": [
            "                   all         85        233      0.823      0.481      0.573      0.382\n"
          ]
        },
        {
          "output_type": "stream",
          "name": "stderr",
          "text": [
            "\n"
          ]
        },
        {
          "output_type": "stream",
          "name": "stdout",
          "text": [
            "\n",
            "      Epoch    GPU_mem   box_loss   cls_loss   dfl_loss  Instances       Size\n"
          ]
        },
        {
          "output_type": "stream",
          "name": "stderr",
          "text": [
            "     79/150      9.64G     0.6799     0.4705     0.9153        641        640: 100%|██████████| 14/14 [00:19<00:00,  1.42s/it]\n",
            "                 Class     Images  Instances      Box(P          R      mAP50  mAP50-95): 100%|██████████| 1/1 [00:01<00:00,  1.66s/it]"
          ]
        },
        {
          "output_type": "stream",
          "name": "stdout",
          "text": [
            "                   all         85        233      0.813      0.505      0.598      0.397\n"
          ]
        },
        {
          "output_type": "stream",
          "name": "stderr",
          "text": [
            "\n"
          ]
        },
        {
          "output_type": "stream",
          "name": "stdout",
          "text": [
            "\n",
            "      Epoch    GPU_mem   box_loss   cls_loss   dfl_loss  Instances       Size\n"
          ]
        },
        {
          "output_type": "stream",
          "name": "stderr",
          "text": [
            "     80/150      9.76G     0.6816     0.4647     0.9229        665        640: 100%|██████████| 14/14 [00:14<00:00,  1.02s/it]\n",
            "                 Class     Images  Instances      Box(P          R      mAP50  mAP50-95): 100%|██████████| 1/1 [00:01<00:00,  1.64s/it]"
          ]
        },
        {
          "output_type": "stream",
          "name": "stdout",
          "text": [
            "                   all         85        233      0.789      0.515      0.631      0.425\n"
          ]
        },
        {
          "output_type": "stream",
          "name": "stderr",
          "text": [
            "\n"
          ]
        },
        {
          "output_type": "stream",
          "name": "stdout",
          "text": [
            "\n",
            "      Epoch    GPU_mem   box_loss   cls_loss   dfl_loss  Instances       Size\n"
          ]
        },
        {
          "output_type": "stream",
          "name": "stderr",
          "text": [
            "     81/150      11.4G     0.6837     0.4735     0.9191        621        640: 100%|██████████| 14/14 [00:15<00:00,  1.07s/it]\n",
            "                 Class     Images  Instances      Box(P          R      mAP50  mAP50-95): 100%|██████████| 1/1 [00:01<00:00,  1.58s/it]"
          ]
        },
        {
          "output_type": "stream",
          "name": "stdout",
          "text": [
            "                   all         85        233      0.912      0.445      0.578      0.392\n"
          ]
        },
        {
          "output_type": "stream",
          "name": "stderr",
          "text": [
            "\n"
          ]
        },
        {
          "output_type": "stream",
          "name": "stdout",
          "text": [
            "\n",
            "      Epoch    GPU_mem   box_loss   cls_loss   dfl_loss  Instances       Size\n"
          ]
        },
        {
          "output_type": "stream",
          "name": "stderr",
          "text": [
            "     82/150      10.2G     0.6731     0.4644     0.9124        611        640: 100%|██████████| 14/14 [00:14<00:00,  1.06s/it]\n",
            "                 Class     Images  Instances      Box(P          R      mAP50  mAP50-95): 100%|██████████| 1/1 [00:01<00:00,  1.75s/it]"
          ]
        },
        {
          "output_type": "stream",
          "name": "stdout",
          "text": [
            "                   all         85        233      0.752      0.485      0.586        0.4\n"
          ]
        },
        {
          "output_type": "stream",
          "name": "stderr",
          "text": [
            "\n"
          ]
        },
        {
          "output_type": "stream",
          "name": "stdout",
          "text": [
            "\n",
            "      Epoch    GPU_mem   box_loss   cls_loss   dfl_loss  Instances       Size\n"
          ]
        },
        {
          "output_type": "stream",
          "name": "stderr",
          "text": [
            "     83/150      9.15G     0.6682     0.4595     0.9141        618        640: 100%|██████████| 14/14 [00:14<00:00,  1.05s/it]\n",
            "                 Class     Images  Instances      Box(P          R      mAP50  mAP50-95): 100%|██████████| 1/1 [00:01<00:00,  1.70s/it]"
          ]
        },
        {
          "output_type": "stream",
          "name": "stdout",
          "text": [
            "                   all         85        233      0.799      0.513      0.601      0.406\n"
          ]
        },
        {
          "output_type": "stream",
          "name": "stderr",
          "text": [
            "\n"
          ]
        },
        {
          "output_type": "stream",
          "name": "stdout",
          "text": [
            "\n",
            "      Epoch    GPU_mem   box_loss   cls_loss   dfl_loss  Instances       Size\n"
          ]
        },
        {
          "output_type": "stream",
          "name": "stderr",
          "text": [
            "     84/150      10.8G     0.6851     0.4691     0.9214        517        640: 100%|██████████| 14/14 [00:20<00:00,  1.47s/it]\n",
            "                 Class     Images  Instances      Box(P          R      mAP50  mAP50-95): 100%|██████████| 1/1 [00:00<00:00,  1.01it/s]"
          ]
        },
        {
          "output_type": "stream",
          "name": "stdout",
          "text": [
            "                   all         85        233      0.836      0.541      0.631      0.425\n"
          ]
        },
        {
          "output_type": "stream",
          "name": "stderr",
          "text": [
            "\n"
          ]
        },
        {
          "output_type": "stream",
          "name": "stdout",
          "text": [
            "\n",
            "      Epoch    GPU_mem   box_loss   cls_loss   dfl_loss  Instances       Size\n"
          ]
        },
        {
          "output_type": "stream",
          "name": "stderr",
          "text": [
            "     85/150      10.1G     0.6677     0.4613     0.9249        641        640: 100%|██████████| 14/14 [00:16<00:00,  1.18s/it]\n",
            "                 Class     Images  Instances      Box(P          R      mAP50  mAP50-95): 100%|██████████| 1/1 [00:00<00:00,  1.06it/s]"
          ]
        },
        {
          "output_type": "stream",
          "name": "stdout",
          "text": [
            "                   all         85        233      0.771      0.491      0.597      0.408\n"
          ]
        },
        {
          "output_type": "stream",
          "name": "stderr",
          "text": [
            "\n"
          ]
        },
        {
          "output_type": "stream",
          "name": "stdout",
          "text": [
            "\n",
            "      Epoch    GPU_mem   box_loss   cls_loss   dfl_loss  Instances       Size\n"
          ]
        },
        {
          "output_type": "stream",
          "name": "stderr",
          "text": [
            "     86/150      9.24G     0.6585     0.4603     0.9089        576        640: 100%|██████████| 14/14 [00:15<00:00,  1.11s/it]\n",
            "                 Class     Images  Instances      Box(P          R      mAP50  mAP50-95): 100%|██████████| 1/1 [00:00<00:00,  1.12it/s]"
          ]
        },
        {
          "output_type": "stream",
          "name": "stdout",
          "text": [
            "                   all         85        233      0.884       0.46      0.597      0.412\n"
          ]
        },
        {
          "output_type": "stream",
          "name": "stderr",
          "text": [
            "\n"
          ]
        },
        {
          "output_type": "stream",
          "name": "stdout",
          "text": [
            "\n",
            "      Epoch    GPU_mem   box_loss   cls_loss   dfl_loss  Instances       Size\n"
          ]
        },
        {
          "output_type": "stream",
          "name": "stderr",
          "text": [
            "     87/150       9.6G     0.6563     0.4528     0.9098        587        640: 100%|██████████| 14/14 [00:16<00:00,  1.18s/it]\n",
            "                 Class     Images  Instances      Box(P          R      mAP50  mAP50-95): 100%|██████████| 1/1 [00:01<00:00,  1.09s/it]"
          ]
        },
        {
          "output_type": "stream",
          "name": "stdout",
          "text": [
            "                   all         85        233      0.788      0.543      0.629      0.422\n"
          ]
        },
        {
          "output_type": "stream",
          "name": "stderr",
          "text": [
            "\n"
          ]
        },
        {
          "output_type": "stream",
          "name": "stdout",
          "text": [
            "\n",
            "      Epoch    GPU_mem   box_loss   cls_loss   dfl_loss  Instances       Size\n"
          ]
        },
        {
          "output_type": "stream",
          "name": "stderr",
          "text": [
            "     88/150      10.2G     0.6708     0.4687     0.9186        466        640: 100%|██████████| 14/14 [00:15<00:00,  1.14s/it]\n",
            "                 Class     Images  Instances      Box(P          R      mAP50  mAP50-95): 100%|██████████| 1/1 [00:00<00:00,  1.07it/s]"
          ]
        },
        {
          "output_type": "stream",
          "name": "stdout",
          "text": [
            "                   all         85        233      0.747      0.545      0.614      0.402\n"
          ]
        },
        {
          "output_type": "stream",
          "name": "stderr",
          "text": [
            "\n"
          ]
        },
        {
          "output_type": "stream",
          "name": "stdout",
          "text": [
            "\n",
            "      Epoch    GPU_mem   box_loss   cls_loss   dfl_loss  Instances       Size\n"
          ]
        },
        {
          "output_type": "stream",
          "name": "stderr",
          "text": [
            "     89/150      10.3G     0.6588     0.4588     0.9088        586        640: 100%|██████████| 14/14 [00:18<00:00,  1.31s/it]\n",
            "                 Class     Images  Instances      Box(P          R      mAP50  mAP50-95): 100%|██████████| 1/1 [00:01<00:00,  1.66s/it]"
          ]
        },
        {
          "output_type": "stream",
          "name": "stdout",
          "text": [
            "                   all         85        233       0.75      0.516      0.597      0.397\n"
          ]
        },
        {
          "output_type": "stream",
          "name": "stderr",
          "text": [
            "\n"
          ]
        },
        {
          "output_type": "stream",
          "name": "stdout",
          "text": [
            "\n",
            "      Epoch    GPU_mem   box_loss   cls_loss   dfl_loss  Instances       Size\n"
          ]
        },
        {
          "output_type": "stream",
          "name": "stderr",
          "text": [
            "     90/150      9.75G     0.6481     0.4493     0.9055        641        640: 100%|██████████| 14/14 [00:17<00:00,  1.24s/it]\n",
            "                 Class     Images  Instances      Box(P          R      mAP50  mAP50-95): 100%|██████████| 1/1 [00:00<00:00,  1.01it/s]"
          ]
        },
        {
          "output_type": "stream",
          "name": "stdout",
          "text": [
            "                   all         85        233      0.872      0.519      0.625      0.435\n"
          ]
        },
        {
          "output_type": "stream",
          "name": "stderr",
          "text": [
            "\n"
          ]
        },
        {
          "output_type": "stream",
          "name": "stdout",
          "text": [
            "\n",
            "      Epoch    GPU_mem   box_loss   cls_loss   dfl_loss  Instances       Size\n"
          ]
        },
        {
          "output_type": "stream",
          "name": "stderr",
          "text": [
            "     91/150      10.7G     0.6526      0.452     0.9151        534        640: 100%|██████████| 14/14 [00:16<00:00,  1.15s/it]\n",
            "                 Class     Images  Instances      Box(P          R      mAP50  mAP50-95): 100%|██████████| 1/1 [00:00<00:00,  1.01it/s]"
          ]
        },
        {
          "output_type": "stream",
          "name": "stdout",
          "text": [
            "                   all         85        233      0.768      0.539      0.627      0.431\n"
          ]
        },
        {
          "output_type": "stream",
          "name": "stderr",
          "text": [
            "\n"
          ]
        },
        {
          "output_type": "stream",
          "name": "stdout",
          "text": [
            "\n",
            "      Epoch    GPU_mem   box_loss   cls_loss   dfl_loss  Instances       Size\n"
          ]
        },
        {
          "output_type": "stream",
          "name": "stderr",
          "text": [
            "     92/150      9.83G     0.6401     0.4461     0.9066        553        640: 100%|██████████| 14/14 [00:15<00:00,  1.13s/it]\n",
            "                 Class     Images  Instances      Box(P          R      mAP50  mAP50-95): 100%|██████████| 1/1 [00:01<00:00,  1.03s/it]"
          ]
        },
        {
          "output_type": "stream",
          "name": "stdout",
          "text": [
            "                   all         85        233      0.852      0.517      0.633      0.419\n"
          ]
        },
        {
          "output_type": "stream",
          "name": "stderr",
          "text": [
            "\n"
          ]
        },
        {
          "output_type": "stream",
          "name": "stdout",
          "text": [
            "\n",
            "      Epoch    GPU_mem   box_loss   cls_loss   dfl_loss  Instances       Size\n"
          ]
        },
        {
          "output_type": "stream",
          "name": "stderr",
          "text": [
            "     93/150      9.98G     0.6528     0.4474     0.9149        519        640: 100%|██████████| 14/14 [00:16<00:00,  1.21s/it]\n",
            "                 Class     Images  Instances      Box(P          R      mAP50  mAP50-95): 100%|██████████| 1/1 [00:00<00:00,  1.00it/s]"
          ]
        },
        {
          "output_type": "stream",
          "name": "stdout",
          "text": [
            "                   all         85        233       0.89      0.488      0.624      0.414\n"
          ]
        },
        {
          "output_type": "stream",
          "name": "stderr",
          "text": [
            "\n"
          ]
        },
        {
          "output_type": "stream",
          "name": "stdout",
          "text": [
            "\n",
            "      Epoch    GPU_mem   box_loss   cls_loss   dfl_loss  Instances       Size\n"
          ]
        },
        {
          "output_type": "stream",
          "name": "stderr",
          "text": [
            "     94/150      9.86G     0.6432      0.449     0.9115        510        640: 100%|██████████| 14/14 [00:17<00:00,  1.27s/it]\n",
            "                 Class     Images  Instances      Box(P          R      mAP50  mAP50-95): 100%|██████████| 1/1 [00:01<00:00,  1.82s/it]"
          ]
        },
        {
          "output_type": "stream",
          "name": "stdout",
          "text": [
            "                   all         85        233      0.854      0.498      0.606      0.395\n"
          ]
        },
        {
          "output_type": "stream",
          "name": "stderr",
          "text": [
            "\n"
          ]
        },
        {
          "output_type": "stream",
          "name": "stdout",
          "text": [
            "\n",
            "      Epoch    GPU_mem   box_loss   cls_loss   dfl_loss  Instances       Size\n"
          ]
        },
        {
          "output_type": "stream",
          "name": "stderr",
          "text": [
            "     95/150      10.1G     0.6408     0.4478     0.9099        687        640: 100%|██████████| 14/14 [00:16<00:00,  1.19s/it]\n",
            "                 Class     Images  Instances      Box(P          R      mAP50  mAP50-95): 100%|██████████| 1/1 [00:00<00:00,  1.01it/s]"
          ]
        },
        {
          "output_type": "stream",
          "name": "stdout",
          "text": [
            "                   all         85        233      0.811      0.528      0.602       0.41\n"
          ]
        },
        {
          "output_type": "stream",
          "name": "stderr",
          "text": [
            "\n"
          ]
        },
        {
          "output_type": "stream",
          "name": "stdout",
          "text": [
            "\n",
            "      Epoch    GPU_mem   box_loss   cls_loss   dfl_loss  Instances       Size\n"
          ]
        },
        {
          "output_type": "stream",
          "name": "stderr",
          "text": [
            "     96/150      9.18G     0.6384     0.4401     0.9125        598        640: 100%|██████████| 14/14 [00:15<00:00,  1.12s/it]\n",
            "                 Class     Images  Instances      Box(P          R      mAP50  mAP50-95): 100%|██████████| 1/1 [00:00<00:00,  1.04it/s]"
          ]
        },
        {
          "output_type": "stream",
          "name": "stdout",
          "text": [
            "                   all         85        233      0.833      0.502       0.62      0.425\n"
          ]
        },
        {
          "output_type": "stream",
          "name": "stderr",
          "text": [
            "\n"
          ]
        },
        {
          "output_type": "stream",
          "name": "stdout",
          "text": [
            "\n",
            "      Epoch    GPU_mem   box_loss   cls_loss   dfl_loss  Instances       Size\n"
          ]
        },
        {
          "output_type": "stream",
          "name": "stderr",
          "text": [
            "     97/150      9.35G     0.6347     0.4389     0.9094        425        640: 100%|██████████| 14/14 [00:15<00:00,  1.09s/it]\n",
            "                 Class     Images  Instances      Box(P          R      mAP50  mAP50-95): 100%|██████████| 1/1 [00:01<00:00,  1.01s/it]"
          ]
        },
        {
          "output_type": "stream",
          "name": "stdout",
          "text": [
            "                   all         85        233      0.861      0.515      0.614       0.42\n"
          ]
        },
        {
          "output_type": "stream",
          "name": "stderr",
          "text": [
            "\n"
          ]
        },
        {
          "output_type": "stream",
          "name": "stdout",
          "text": [
            "\n",
            "      Epoch    GPU_mem   box_loss   cls_loss   dfl_loss  Instances       Size\n"
          ]
        },
        {
          "output_type": "stream",
          "name": "stderr",
          "text": [
            "     98/150      9.74G     0.6278      0.436      0.908        529        640: 100%|██████████| 14/14 [00:15<00:00,  1.14s/it]\n",
            "                 Class     Images  Instances      Box(P          R      mAP50  mAP50-95): 100%|██████████| 1/1 [00:01<00:00,  1.02s/it]"
          ]
        },
        {
          "output_type": "stream",
          "name": "stdout",
          "text": [
            "                   all         85        233      0.841      0.521      0.636       0.43\n"
          ]
        },
        {
          "output_type": "stream",
          "name": "stderr",
          "text": [
            "\n"
          ]
        },
        {
          "output_type": "stream",
          "name": "stdout",
          "text": [
            "\n",
            "      Epoch    GPU_mem   box_loss   cls_loss   dfl_loss  Instances       Size\n"
          ]
        },
        {
          "output_type": "stream",
          "name": "stderr",
          "text": [
            "     99/150       9.8G     0.6217     0.4299        0.9        534        640: 100%|██████████| 14/14 [00:15<00:00,  1.08s/it]\n",
            "                 Class     Images  Instances      Box(P          R      mAP50  mAP50-95): 100%|██████████| 1/1 [00:01<00:00,  1.56s/it]"
          ]
        },
        {
          "output_type": "stream",
          "name": "stdout",
          "text": [
            "                   all         85        233      0.835      0.515      0.613      0.426\n"
          ]
        },
        {
          "output_type": "stream",
          "name": "stderr",
          "text": [
            "\n"
          ]
        },
        {
          "output_type": "stream",
          "name": "stdout",
          "text": [
            "\n",
            "      Epoch    GPU_mem   box_loss   cls_loss   dfl_loss  Instances       Size\n"
          ]
        },
        {
          "output_type": "stream",
          "name": "stderr",
          "text": [
            "    100/150      9.19G     0.6209     0.4249     0.8976        626        640: 100%|██████████| 14/14 [00:16<00:00,  1.17s/it]\n",
            "                 Class     Images  Instances      Box(P          R      mAP50  mAP50-95): 100%|██████████| 1/1 [00:00<00:00,  1.06it/s]"
          ]
        },
        {
          "output_type": "stream",
          "name": "stdout",
          "text": [
            "                   all         85        233      0.842      0.481      0.589      0.407\n"
          ]
        },
        {
          "output_type": "stream",
          "name": "stderr",
          "text": [
            "\n"
          ]
        },
        {
          "output_type": "stream",
          "name": "stdout",
          "text": [
            "\n",
            "      Epoch    GPU_mem   box_loss   cls_loss   dfl_loss  Instances       Size\n"
          ]
        },
        {
          "output_type": "stream",
          "name": "stderr",
          "text": [
            "    101/150      12.2G     0.6169      0.429     0.8975        525        640: 100%|██████████| 14/14 [00:16<00:00,  1.21s/it]\n",
            "                 Class     Images  Instances      Box(P          R      mAP50  mAP50-95): 100%|██████████| 1/1 [00:00<00:00,  1.06it/s]"
          ]
        },
        {
          "output_type": "stream",
          "name": "stdout",
          "text": [
            "                   all         85        233      0.748      0.502      0.613      0.426\n"
          ]
        },
        {
          "output_type": "stream",
          "name": "stderr",
          "text": [
            "\n"
          ]
        },
        {
          "output_type": "stream",
          "name": "stdout",
          "text": [
            "\n",
            "      Epoch    GPU_mem   box_loss   cls_loss   dfl_loss  Instances       Size\n"
          ]
        },
        {
          "output_type": "stream",
          "name": "stderr",
          "text": [
            "    102/150        10G     0.6012      0.418     0.8942        579        640: 100%|██████████| 14/14 [00:15<00:00,  1.11s/it]\n",
            "                 Class     Images  Instances      Box(P          R      mAP50  mAP50-95): 100%|██████████| 1/1 [00:00<00:00,  1.01it/s]"
          ]
        },
        {
          "output_type": "stream",
          "name": "stdout",
          "text": [
            "                   all         85        233       0.82      0.489       0.62      0.431\n"
          ]
        },
        {
          "output_type": "stream",
          "name": "stderr",
          "text": [
            "\n"
          ]
        },
        {
          "output_type": "stream",
          "name": "stdout",
          "text": [
            "\n",
            "      Epoch    GPU_mem   box_loss   cls_loss   dfl_loss  Instances       Size\n"
          ]
        },
        {
          "output_type": "stream",
          "name": "stderr",
          "text": [
            "    103/150      10.9G     0.6085     0.4192     0.8943        511        640: 100%|██████████| 14/14 [00:15<00:00,  1.12s/it]\n",
            "                 Class     Images  Instances      Box(P          R      mAP50  mAP50-95): 100%|██████████| 1/1 [00:00<00:00,  1.12it/s]"
          ]
        },
        {
          "output_type": "stream",
          "name": "stdout",
          "text": [
            "                   all         85        233      0.877      0.458      0.588      0.414\n"
          ]
        },
        {
          "output_type": "stream",
          "name": "stderr",
          "text": [
            "\n"
          ]
        },
        {
          "output_type": "stream",
          "name": "stdout",
          "text": [
            "\n",
            "      Epoch    GPU_mem   box_loss   cls_loss   dfl_loss  Instances       Size\n"
          ]
        },
        {
          "output_type": "stream",
          "name": "stderr",
          "text": [
            "    104/150      11.1G     0.6069     0.4199     0.8943        639        640: 100%|██████████| 14/14 [00:15<00:00,  1.09s/it]\n",
            "                 Class     Images  Instances      Box(P          R      mAP50  mAP50-95): 100%|██████████| 1/1 [00:00<00:00,  1.04it/s]"
          ]
        },
        {
          "output_type": "stream",
          "name": "stdout",
          "text": [
            "                   all         85        233      0.859      0.494      0.603      0.424\n"
          ]
        },
        {
          "output_type": "stream",
          "name": "stderr",
          "text": [
            "\n"
          ]
        },
        {
          "output_type": "stream",
          "name": "stdout",
          "text": [
            "\n",
            "      Epoch    GPU_mem   box_loss   cls_loss   dfl_loss  Instances       Size\n"
          ]
        },
        {
          "output_type": "stream",
          "name": "stderr",
          "text": [
            "    105/150      9.67G     0.5982     0.4159     0.8968        485        640: 100%|██████████| 14/14 [00:19<00:00,  1.39s/it]\n",
            "                 Class     Images  Instances      Box(P          R      mAP50  mAP50-95): 100%|██████████| 1/1 [00:01<00:00,  1.68s/it]"
          ]
        },
        {
          "output_type": "stream",
          "name": "stdout",
          "text": [
            "                   all         85        233      0.841      0.532      0.618      0.428\n"
          ]
        },
        {
          "output_type": "stream",
          "name": "stderr",
          "text": [
            "\n"
          ]
        },
        {
          "output_type": "stream",
          "name": "stdout",
          "text": [
            "\n",
            "      Epoch    GPU_mem   box_loss   cls_loss   dfl_loss  Instances       Size\n"
          ]
        },
        {
          "output_type": "stream",
          "name": "stderr",
          "text": [
            "    106/150      10.4G     0.5995     0.4121     0.8901        712        640: 100%|██████████| 14/14 [00:14<00:00,  1.03s/it]\n",
            "                 Class     Images  Instances      Box(P          R      mAP50  mAP50-95): 100%|██████████| 1/1 [00:01<00:00,  1.51s/it]"
          ]
        },
        {
          "output_type": "stream",
          "name": "stdout",
          "text": [
            "                   all         85        233      0.764      0.556      0.617      0.429\n"
          ]
        },
        {
          "output_type": "stream",
          "name": "stderr",
          "text": [
            "\n"
          ]
        },
        {
          "output_type": "stream",
          "name": "stdout",
          "text": [
            "\n",
            "      Epoch    GPU_mem   box_loss   cls_loss   dfl_loss  Instances       Size\n"
          ]
        },
        {
          "output_type": "stream",
          "name": "stderr",
          "text": [
            "    107/150      10.9G     0.5965     0.4139     0.8912        515        640: 100%|██████████| 14/14 [00:13<00:00,  1.01it/s]\n",
            "                 Class     Images  Instances      Box(P          R      mAP50  mAP50-95): 100%|██████████| 1/1 [00:01<00:00,  1.58s/it]"
          ]
        },
        {
          "output_type": "stream",
          "name": "stdout",
          "text": [
            "                   all         85        233      0.815      0.554      0.629      0.431\n"
          ]
        },
        {
          "output_type": "stream",
          "name": "stderr",
          "text": [
            "\n"
          ]
        },
        {
          "output_type": "stream",
          "name": "stdout",
          "text": [
            "\n",
            "      Epoch    GPU_mem   box_loss   cls_loss   dfl_loss  Instances       Size\n"
          ]
        },
        {
          "output_type": "stream",
          "name": "stderr",
          "text": [
            "    108/150      9.19G     0.5949     0.4089     0.8883        512        640: 100%|██████████| 14/14 [00:14<00:00,  1.01s/it]\n",
            "                 Class     Images  Instances      Box(P          R      mAP50  mAP50-95): 100%|██████████| 1/1 [00:01<00:00,  1.72s/it]"
          ]
        },
        {
          "output_type": "stream",
          "name": "stdout",
          "text": [
            "                   all         85        233      0.918      0.464      0.585      0.411\n"
          ]
        },
        {
          "output_type": "stream",
          "name": "stderr",
          "text": [
            "\n"
          ]
        },
        {
          "output_type": "stream",
          "name": "stdout",
          "text": [
            "\n",
            "      Epoch    GPU_mem   box_loss   cls_loss   dfl_loss  Instances       Size\n"
          ]
        },
        {
          "output_type": "stream",
          "name": "stderr",
          "text": [
            "    109/150      9.74G     0.5898     0.4058     0.8937        628        640: 100%|██████████| 14/14 [00:14<00:00,  1.05s/it]\n",
            "                 Class     Images  Instances      Box(P          R      mAP50  mAP50-95): 100%|██████████| 1/1 [00:01<00:00,  1.58s/it]"
          ]
        },
        {
          "output_type": "stream",
          "name": "stdout",
          "text": [
            "                   all         85        233      0.774      0.545      0.615      0.432\n"
          ]
        },
        {
          "output_type": "stream",
          "name": "stderr",
          "text": [
            "\n"
          ]
        },
        {
          "output_type": "stream",
          "name": "stdout",
          "text": [
            "\n",
            "      Epoch    GPU_mem   box_loss   cls_loss   dfl_loss  Instances       Size\n"
          ]
        },
        {
          "output_type": "stream",
          "name": "stderr",
          "text": [
            "    110/150        11G     0.5949     0.4105     0.8888        581        640: 100%|██████████| 14/14 [00:14<00:00,  1.06s/it]\n",
            "                 Class     Images  Instances      Box(P          R      mAP50  mAP50-95): 100%|██████████| 1/1 [00:01<00:00,  1.57s/it]"
          ]
        },
        {
          "output_type": "stream",
          "name": "stdout",
          "text": [
            "                   all         85        233      0.742      0.567      0.629      0.436\n"
          ]
        },
        {
          "output_type": "stream",
          "name": "stderr",
          "text": [
            "\n"
          ]
        },
        {
          "output_type": "stream",
          "name": "stdout",
          "text": [
            "\n",
            "      Epoch    GPU_mem   box_loss   cls_loss   dfl_loss  Instances       Size\n"
          ]
        },
        {
          "output_type": "stream",
          "name": "stderr",
          "text": [
            "    111/150      10.3G     0.5865     0.4067     0.8891        538        640: 100%|██████████| 14/14 [00:15<00:00,  1.08s/it]\n",
            "                 Class     Images  Instances      Box(P          R      mAP50  mAP50-95): 100%|██████████| 1/1 [00:01<00:00,  1.54s/it]"
          ]
        },
        {
          "output_type": "stream",
          "name": "stdout",
          "text": [
            "                   all         85        233      0.878      0.494      0.605       0.42\n"
          ]
        },
        {
          "output_type": "stream",
          "name": "stderr",
          "text": [
            "\n"
          ]
        },
        {
          "output_type": "stream",
          "name": "stdout",
          "text": [
            "\n",
            "      Epoch    GPU_mem   box_loss   cls_loss   dfl_loss  Instances       Size\n"
          ]
        },
        {
          "output_type": "stream",
          "name": "stderr",
          "text": [
            "    112/150      10.8G     0.5902     0.4056     0.8908        475        640: 100%|██████████| 14/14 [00:14<00:00,  1.04s/it]\n",
            "                 Class     Images  Instances      Box(P          R      mAP50  mAP50-95): 100%|██████████| 1/1 [00:01<00:00,  1.54s/it]"
          ]
        },
        {
          "output_type": "stream",
          "name": "stdout",
          "text": [
            "                   all         85        233       0.88      0.485      0.602      0.422\n"
          ]
        },
        {
          "output_type": "stream",
          "name": "stderr",
          "text": [
            "\n"
          ]
        },
        {
          "output_type": "stream",
          "name": "stdout",
          "text": [
            "\n",
            "      Epoch    GPU_mem   box_loss   cls_loss   dfl_loss  Instances       Size\n"
          ]
        },
        {
          "output_type": "stream",
          "name": "stderr",
          "text": [
            "    113/150       9.6G      0.583     0.4002     0.8845        521        640: 100%|██████████| 14/14 [00:15<00:00,  1.11s/it]\n",
            "                 Class     Images  Instances      Box(P          R      mAP50  mAP50-95): 100%|██████████| 1/1 [00:01<00:00,  1.57s/it]"
          ]
        },
        {
          "output_type": "stream",
          "name": "stdout",
          "text": [
            "                   all         85        233      0.756      0.536      0.618      0.428\n"
          ]
        },
        {
          "output_type": "stream",
          "name": "stderr",
          "text": [
            "\n"
          ]
        },
        {
          "output_type": "stream",
          "name": "stdout",
          "text": [
            "\n",
            "      Epoch    GPU_mem   box_loss   cls_loss   dfl_loss  Instances       Size\n"
          ]
        },
        {
          "output_type": "stream",
          "name": "stderr",
          "text": [
            "    114/150      9.63G     0.5799     0.4012     0.8884        498        640: 100%|██████████| 14/14 [00:15<00:00,  1.11s/it]\n",
            "                 Class     Images  Instances      Box(P          R      mAP50  mAP50-95): 100%|██████████| 1/1 [00:01<00:00,  1.05s/it]"
          ]
        },
        {
          "output_type": "stream",
          "name": "stdout",
          "text": [
            "                   all         85        233      0.898      0.494      0.609      0.436\n"
          ]
        },
        {
          "output_type": "stream",
          "name": "stderr",
          "text": [
            "\n"
          ]
        },
        {
          "output_type": "stream",
          "name": "stdout",
          "text": [
            "\n",
            "      Epoch    GPU_mem   box_loss   cls_loss   dfl_loss  Instances       Size\n"
          ]
        },
        {
          "output_type": "stream",
          "name": "stderr",
          "text": [
            "    115/150      10.1G     0.5715     0.3941     0.8866        483        640: 100%|██████████| 14/14 [00:16<00:00,  1.16s/it]\n",
            "                 Class     Images  Instances      Box(P          R      mAP50  mAP50-95): 100%|██████████| 1/1 [00:00<00:00,  1.08it/s]"
          ]
        },
        {
          "output_type": "stream",
          "name": "stdout",
          "text": [
            "                   all         85        233      0.739      0.562      0.625       0.44\n"
          ]
        },
        {
          "output_type": "stream",
          "name": "stderr",
          "text": [
            "\n"
          ]
        },
        {
          "output_type": "stream",
          "name": "stdout",
          "text": [
            "\n",
            "      Epoch    GPU_mem   box_loss   cls_loss   dfl_loss  Instances       Size\n"
          ]
        },
        {
          "output_type": "stream",
          "name": "stderr",
          "text": [
            "    116/150      9.09G     0.5735     0.3932     0.8827        591        640: 100%|██████████| 14/14 [00:18<00:00,  1.35s/it]\n",
            "                 Class     Images  Instances      Box(P          R      mAP50  mAP50-95): 100%|██████████| 1/1 [00:00<00:00,  1.09it/s]"
          ]
        },
        {
          "output_type": "stream",
          "name": "stdout",
          "text": [
            "                   all         85        233      0.763      0.525      0.615      0.436\n"
          ]
        },
        {
          "output_type": "stream",
          "name": "stderr",
          "text": [
            "\n"
          ]
        },
        {
          "output_type": "stream",
          "name": "stdout",
          "text": [
            "\n",
            "      Epoch    GPU_mem   box_loss   cls_loss   dfl_loss  Instances       Size\n"
          ]
        },
        {
          "output_type": "stream",
          "name": "stderr",
          "text": [
            "    117/150      8.98G     0.5856     0.4043     0.8854        545        640: 100%|██████████| 14/14 [00:16<00:00,  1.16s/it]\n",
            "                 Class     Images  Instances      Box(P          R      mAP50  mAP50-95): 100%|██████████| 1/1 [00:01<00:00,  1.38s/it]"
          ]
        },
        {
          "output_type": "stream",
          "name": "stdout",
          "text": [
            "                   all         85        233      0.768      0.519      0.605      0.422\n"
          ]
        },
        {
          "output_type": "stream",
          "name": "stderr",
          "text": [
            "\n"
          ]
        },
        {
          "output_type": "stream",
          "name": "stdout",
          "text": [
            "\n",
            "      Epoch    GPU_mem   box_loss   cls_loss   dfl_loss  Instances       Size\n"
          ]
        },
        {
          "output_type": "stream",
          "name": "stderr",
          "text": [
            "    118/150      11.1G     0.5688     0.3925     0.8827        562        640: 100%|██████████| 14/14 [00:15<00:00,  1.13s/it]\n",
            "                 Class     Images  Instances      Box(P          R      mAP50  mAP50-95): 100%|██████████| 1/1 [00:01<00:00,  1.05s/it]"
          ]
        },
        {
          "output_type": "stream",
          "name": "stdout",
          "text": [
            "                   all         85        233      0.793      0.508      0.617      0.431\n"
          ]
        },
        {
          "output_type": "stream",
          "name": "stderr",
          "text": [
            "\n"
          ]
        },
        {
          "output_type": "stream",
          "name": "stdout",
          "text": [
            "\n",
            "      Epoch    GPU_mem   box_loss   cls_loss   dfl_loss  Instances       Size\n"
          ]
        },
        {
          "output_type": "stream",
          "name": "stderr",
          "text": [
            "    119/150      9.72G     0.5731      0.392     0.8822        588        640: 100%|██████████| 14/14 [00:16<00:00,  1.16s/it]\n",
            "                 Class     Images  Instances      Box(P          R      mAP50  mAP50-95): 100%|██████████| 1/1 [00:00<00:00,  1.24it/s]"
          ]
        },
        {
          "output_type": "stream",
          "name": "stdout",
          "text": [
            "                   all         85        233      0.855      0.502      0.618      0.439\n"
          ]
        },
        {
          "output_type": "stream",
          "name": "stderr",
          "text": [
            "\n"
          ]
        },
        {
          "output_type": "stream",
          "name": "stdout",
          "text": [
            "\n",
            "      Epoch    GPU_mem   box_loss   cls_loss   dfl_loss  Instances       Size\n"
          ]
        },
        {
          "output_type": "stream",
          "name": "stderr",
          "text": [
            "    120/150      9.85G     0.5776     0.3945     0.8822        774        640: 100%|██████████| 14/14 [00:16<00:00,  1.20s/it]\n",
            "                 Class     Images  Instances      Box(P          R      mAP50  mAP50-95): 100%|██████████| 1/1 [00:00<00:00,  1.08it/s]"
          ]
        },
        {
          "output_type": "stream",
          "name": "stdout",
          "text": [
            "                   all         85        233      0.681      0.558      0.617      0.431\n"
          ]
        },
        {
          "output_type": "stream",
          "name": "stderr",
          "text": [
            "\n"
          ]
        },
        {
          "output_type": "stream",
          "name": "stdout",
          "text": [
            "\n",
            "      Epoch    GPU_mem   box_loss   cls_loss   dfl_loss  Instances       Size\n"
          ]
        },
        {
          "output_type": "stream",
          "name": "stderr",
          "text": [
            "    121/150      9.84G      0.563     0.3865     0.8802        623        640: 100%|██████████| 14/14 [00:18<00:00,  1.32s/it]\n",
            "                 Class     Images  Instances      Box(P          R      mAP50  mAP50-95): 100%|██████████| 1/1 [00:00<00:00,  1.05it/s]"
          ]
        },
        {
          "output_type": "stream",
          "name": "stdout",
          "text": [
            "                   all         85        233      0.798      0.545      0.629      0.439\n"
          ]
        },
        {
          "output_type": "stream",
          "name": "stderr",
          "text": [
            "\n"
          ]
        },
        {
          "output_type": "stream",
          "name": "stdout",
          "text": [
            "\n",
            "      Epoch    GPU_mem   box_loss   cls_loss   dfl_loss  Instances       Size\n"
          ]
        },
        {
          "output_type": "stream",
          "name": "stderr",
          "text": [
            "    122/150      9.42G     0.5593     0.3847     0.8818        745        640: 100%|██████████| 14/14 [00:16<00:00,  1.17s/it]\n",
            "                 Class     Images  Instances      Box(P          R      mAP50  mAP50-95): 100%|██████████| 1/1 [00:01<00:00,  1.20s/it]"
          ]
        },
        {
          "output_type": "stream",
          "name": "stdout",
          "text": [
            "                   all         85        233      0.692      0.558      0.629      0.447\n"
          ]
        },
        {
          "output_type": "stream",
          "name": "stderr",
          "text": [
            "\n"
          ]
        },
        {
          "output_type": "stream",
          "name": "stdout",
          "text": [
            "\n",
            "      Epoch    GPU_mem   box_loss   cls_loss   dfl_loss  Instances       Size\n"
          ]
        },
        {
          "output_type": "stream",
          "name": "stderr",
          "text": [
            "    123/150      9.65G     0.5656     0.3871     0.8815        406        640: 100%|██████████| 14/14 [00:16<00:00,  1.17s/it]\n",
            "                 Class     Images  Instances      Box(P          R      mAP50  mAP50-95): 100%|██████████| 1/1 [00:00<00:00,  1.17it/s]"
          ]
        },
        {
          "output_type": "stream",
          "name": "stdout",
          "text": [
            "                   all         85        233       0.81      0.502      0.616      0.429\n"
          ]
        },
        {
          "output_type": "stream",
          "name": "stderr",
          "text": [
            "\n"
          ]
        },
        {
          "output_type": "stream",
          "name": "stdout",
          "text": [
            "\n",
            "      Epoch    GPU_mem   box_loss   cls_loss   dfl_loss  Instances       Size\n"
          ]
        },
        {
          "output_type": "stream",
          "name": "stderr",
          "text": [
            "    124/150      9.33G     0.5703     0.3908     0.8842        699        640: 100%|██████████| 14/14 [00:15<00:00,  1.12s/it]\n",
            "                 Class     Images  Instances      Box(P          R      mAP50  mAP50-95): 100%|██████████| 1/1 [00:00<00:00,  1.18it/s]"
          ]
        },
        {
          "output_type": "stream",
          "name": "stdout",
          "text": [
            "                   all         85        233      0.765      0.532      0.604      0.423\n"
          ]
        },
        {
          "output_type": "stream",
          "name": "stderr",
          "text": [
            "\n"
          ]
        },
        {
          "output_type": "stream",
          "name": "stdout",
          "text": [
            "\n",
            "      Epoch    GPU_mem   box_loss   cls_loss   dfl_loss  Instances       Size\n"
          ]
        },
        {
          "output_type": "stream",
          "name": "stderr",
          "text": [
            "    125/150      9.88G      0.549      0.378      0.876        572        640: 100%|██████████| 14/14 [00:16<00:00,  1.17s/it]\n",
            "                 Class     Images  Instances      Box(P          R      mAP50  mAP50-95): 100%|██████████| 1/1 [00:00<00:00,  1.06it/s]"
          ]
        },
        {
          "output_type": "stream",
          "name": "stdout",
          "text": [
            "                   all         85        233      0.797      0.515      0.612       0.43\n"
          ]
        },
        {
          "output_type": "stream",
          "name": "stderr",
          "text": [
            "\n"
          ]
        },
        {
          "output_type": "stream",
          "name": "stdout",
          "text": [
            "\n",
            "      Epoch    GPU_mem   box_loss   cls_loss   dfl_loss  Instances       Size\n"
          ]
        },
        {
          "output_type": "stream",
          "name": "stderr",
          "text": [
            "    126/150      9.99G     0.5537     0.3768     0.8776        647        640: 100%|██████████| 14/14 [00:16<00:00,  1.18s/it]\n",
            "                 Class     Images  Instances      Box(P          R      mAP50  mAP50-95): 100%|██████████| 1/1 [00:01<00:00,  1.72s/it]"
          ]
        },
        {
          "output_type": "stream",
          "name": "stdout",
          "text": [
            "                   all         85        233      0.828      0.506      0.619      0.435\n"
          ]
        },
        {
          "output_type": "stream",
          "name": "stderr",
          "text": [
            "\n"
          ]
        },
        {
          "output_type": "stream",
          "name": "stdout",
          "text": [
            "\n",
            "      Epoch    GPU_mem   box_loss   cls_loss   dfl_loss  Instances       Size\n"
          ]
        },
        {
          "output_type": "stream",
          "name": "stderr",
          "text": [
            "    127/150      9.75G     0.5628     0.3847     0.8802        646        640: 100%|██████████| 14/14 [00:17<00:00,  1.28s/it]\n",
            "                 Class     Images  Instances      Box(P          R      mAP50  mAP50-95): 100%|██████████| 1/1 [00:00<00:00,  1.23it/s]"
          ]
        },
        {
          "output_type": "stream",
          "name": "stdout",
          "text": [
            "                   all         85        233      0.772      0.541      0.623      0.436\n"
          ]
        },
        {
          "output_type": "stream",
          "name": "stderr",
          "text": [
            "\n"
          ]
        },
        {
          "output_type": "stream",
          "name": "stdout",
          "text": [
            "\n",
            "      Epoch    GPU_mem   box_loss   cls_loss   dfl_loss  Instances       Size\n"
          ]
        },
        {
          "output_type": "stream",
          "name": "stderr",
          "text": [
            "    128/150      9.62G     0.5515     0.3805     0.8797        448        640: 100%|██████████| 14/14 [00:16<00:00,  1.14s/it]\n",
            "                 Class     Images  Instances      Box(P          R      mAP50  mAP50-95): 100%|██████████| 1/1 [00:00<00:00,  1.04it/s]"
          ]
        },
        {
          "output_type": "stream",
          "name": "stdout",
          "text": [
            "                   all         85        233      0.781      0.552      0.631      0.433\n"
          ]
        },
        {
          "output_type": "stream",
          "name": "stderr",
          "text": [
            "\n"
          ]
        },
        {
          "output_type": "stream",
          "name": "stdout",
          "text": [
            "\n",
            "      Epoch    GPU_mem   box_loss   cls_loss   dfl_loss  Instances       Size\n"
          ]
        },
        {
          "output_type": "stream",
          "name": "stderr",
          "text": [
            "    129/150      9.89G     0.5577     0.3803       0.88        614        640: 100%|██████████| 14/14 [00:15<00:00,  1.11s/it]\n",
            "                 Class     Images  Instances      Box(P          R      mAP50  mAP50-95): 100%|██████████| 1/1 [00:00<00:00,  1.11it/s]"
          ]
        },
        {
          "output_type": "stream",
          "name": "stdout",
          "text": [
            "                   all         85        233      0.848      0.506      0.621       0.43\n"
          ]
        },
        {
          "output_type": "stream",
          "name": "stderr",
          "text": [
            "\n"
          ]
        },
        {
          "output_type": "stream",
          "name": "stdout",
          "text": [
            "\n",
            "      Epoch    GPU_mem   box_loss   cls_loss   dfl_loss  Instances       Size\n"
          ]
        },
        {
          "output_type": "stream",
          "name": "stderr",
          "text": [
            "    130/150        10G      0.552     0.3798     0.8761        568        640: 100%|██████████| 14/14 [00:16<00:00,  1.18s/it]\n",
            "                 Class     Images  Instances      Box(P          R      mAP50  mAP50-95): 100%|██████████| 1/1 [00:00<00:00,  1.15it/s]"
          ]
        },
        {
          "output_type": "stream",
          "name": "stdout",
          "text": [
            "                   all         85        233      0.762      0.545      0.628      0.438\n"
          ]
        },
        {
          "output_type": "stream",
          "name": "stderr",
          "text": [
            "\n"
          ]
        },
        {
          "output_type": "stream",
          "name": "stdout",
          "text": [
            "Closing dataloader mosaic\n",
            "\u001b[34m\u001b[1malbumentations: \u001b[0mBlur(p=0.01, blur_limit=(3, 7)), MedianBlur(p=0.01, blur_limit=(3, 7)), ToGray(p=0.01), CLAHE(p=0.01, clip_limit=(1, 4.0), tile_grid_size=(8, 8))\n"
          ]
        },
        {
          "output_type": "stream",
          "name": "stderr",
          "text": [
            "os.fork() was called. os.fork() is incompatible with multithreaded code, and JAX is multithreaded, so this will likely lead to a deadlock.\n"
          ]
        },
        {
          "output_type": "stream",
          "name": "stdout",
          "text": [
            "\n",
            "      Epoch    GPU_mem   box_loss   cls_loss   dfl_loss  Instances       Size\n"
          ]
        },
        {
          "output_type": "stream",
          "name": "stderr",
          "text": [
            "    131/150      8.84G     0.5187       0.36     0.8755        456        640: 100%|██████████| 14/14 [00:26<00:00,  1.89s/it]\n",
            "                 Class     Images  Instances      Box(P          R      mAP50  mAP50-95): 100%|██████████| 1/1 [00:01<00:00,  1.61s/it]"
          ]
        },
        {
          "output_type": "stream",
          "name": "stdout",
          "text": [
            "                   all         85        233      0.763      0.596      0.629      0.439\n"
          ]
        },
        {
          "output_type": "stream",
          "name": "stderr",
          "text": [
            "\n"
          ]
        },
        {
          "output_type": "stream",
          "name": "stdout",
          "text": [
            "\n",
            "      Epoch    GPU_mem   box_loss   cls_loss   dfl_loss  Instances       Size\n"
          ]
        },
        {
          "output_type": "stream",
          "name": "stderr",
          "text": [
            "    132/150       8.1G      0.499     0.3429     0.8722        430        640: 100%|██████████| 14/14 [00:14<00:00,  1.04s/it]\n",
            "                 Class     Images  Instances      Box(P          R      mAP50  mAP50-95): 100%|██████████| 1/1 [00:01<00:00,  1.58s/it]"
          ]
        },
        {
          "output_type": "stream",
          "name": "stdout",
          "text": [
            "                   all         85        233      0.751      0.571      0.618      0.431\n"
          ]
        },
        {
          "output_type": "stream",
          "name": "stderr",
          "text": [
            "\n"
          ]
        },
        {
          "output_type": "stream",
          "name": "stdout",
          "text": [
            "\n",
            "      Epoch    GPU_mem   box_loss   cls_loss   dfl_loss  Instances       Size\n"
          ]
        },
        {
          "output_type": "stream",
          "name": "stderr",
          "text": [
            "    133/150      8.08G     0.4957     0.3416     0.8718        404        640: 100%|██████████| 14/14 [00:13<00:00,  1.06it/s]\n",
            "                 Class     Images  Instances      Box(P          R      mAP50  mAP50-95): 100%|██████████| 1/1 [00:01<00:00,  1.61s/it]"
          ]
        },
        {
          "output_type": "stream",
          "name": "stdout",
          "text": [
            "                   all         85        233      0.768       0.54      0.614      0.426\n"
          ]
        },
        {
          "output_type": "stream",
          "name": "stderr",
          "text": [
            "\n"
          ]
        },
        {
          "output_type": "stream",
          "name": "stdout",
          "text": [
            "\n",
            "      Epoch    GPU_mem   box_loss   cls_loss   dfl_loss  Instances       Size\n"
          ]
        },
        {
          "output_type": "stream",
          "name": "stderr",
          "text": [
            "    134/150      8.08G       0.49     0.3372      0.869        372        640: 100%|██████████| 14/14 [00:13<00:00,  1.07it/s]\n",
            "                 Class     Images  Instances      Box(P          R      mAP50  mAP50-95): 100%|██████████| 1/1 [00:01<00:00,  1.56s/it]"
          ]
        },
        {
          "output_type": "stream",
          "name": "stdout",
          "text": [
            "                   all         85        233      0.862      0.515       0.62      0.433\n"
          ]
        },
        {
          "output_type": "stream",
          "name": "stderr",
          "text": [
            "\n"
          ]
        },
        {
          "output_type": "stream",
          "name": "stdout",
          "text": [
            "\n",
            "      Epoch    GPU_mem   box_loss   cls_loss   dfl_loss  Instances       Size\n"
          ]
        },
        {
          "output_type": "stream",
          "name": "stderr",
          "text": [
            "    135/150      8.08G     0.4905     0.3358     0.8701        404        640: 100%|██████████| 14/14 [00:12<00:00,  1.08it/s]\n",
            "                 Class     Images  Instances      Box(P          R      mAP50  mAP50-95): 100%|██████████| 1/1 [00:01<00:00,  1.62s/it]"
          ]
        },
        {
          "output_type": "stream",
          "name": "stdout",
          "text": [
            "                   all         85        233      0.841      0.515      0.622      0.437\n"
          ]
        },
        {
          "output_type": "stream",
          "name": "stderr",
          "text": [
            "\n"
          ]
        },
        {
          "output_type": "stream",
          "name": "stdout",
          "text": [
            "\n",
            "      Epoch    GPU_mem   box_loss   cls_loss   dfl_loss  Instances       Size\n"
          ]
        },
        {
          "output_type": "stream",
          "name": "stderr",
          "text": [
            "    136/150      8.12G     0.4842     0.3336     0.8666        385        640: 100%|██████████| 14/14 [00:12<00:00,  1.10it/s]\n",
            "                 Class     Images  Instances      Box(P          R      mAP50  mAP50-95): 100%|██████████| 1/1 [00:01<00:00,  1.60s/it]"
          ]
        },
        {
          "output_type": "stream",
          "name": "stdout",
          "text": [
            "                   all         85        233      0.823      0.506      0.614      0.433\n"
          ]
        },
        {
          "output_type": "stream",
          "name": "stderr",
          "text": [
            "\n"
          ]
        },
        {
          "output_type": "stream",
          "name": "stdout",
          "text": [
            "\n",
            "      Epoch    GPU_mem   box_loss   cls_loss   dfl_loss  Instances       Size\n"
          ]
        },
        {
          "output_type": "stream",
          "name": "stderr",
          "text": [
            "    137/150       8.1G     0.4791     0.3304     0.8673        404        640: 100%|██████████| 14/14 [00:18<00:00,  1.30s/it]\n",
            "                 Class     Images  Instances      Box(P          R      mAP50  mAP50-95): 100%|██████████| 1/1 [00:01<00:00,  1.66s/it]"
          ]
        },
        {
          "output_type": "stream",
          "name": "stdout",
          "text": [
            "                   all         85        233      0.778      0.532      0.615      0.432\n"
          ]
        },
        {
          "output_type": "stream",
          "name": "stderr",
          "text": [
            "\n"
          ]
        },
        {
          "output_type": "stream",
          "name": "stdout",
          "text": [
            "\n",
            "      Epoch    GPU_mem   box_loss   cls_loss   dfl_loss  Instances       Size\n"
          ]
        },
        {
          "output_type": "stream",
          "name": "stderr",
          "text": [
            "    138/150      8.12G     0.4879     0.3339     0.8669        366        640: 100%|██████████| 14/14 [00:12<00:00,  1.11it/s]\n",
            "                 Class     Images  Instances      Box(P          R      mAP50  mAP50-95): 100%|██████████| 1/1 [00:01<00:00,  1.67s/it]"
          ]
        },
        {
          "output_type": "stream",
          "name": "stdout",
          "text": [
            "                   all         85        233      0.779      0.532      0.618      0.432\n"
          ]
        },
        {
          "output_type": "stream",
          "name": "stderr",
          "text": [
            "\n"
          ]
        },
        {
          "output_type": "stream",
          "name": "stdout",
          "text": [
            "\n",
            "      Epoch    GPU_mem   box_loss   cls_loss   dfl_loss  Instances       Size\n"
          ]
        },
        {
          "output_type": "stream",
          "name": "stderr",
          "text": [
            "    139/150       8.1G     0.4833     0.3304     0.8635        502        640: 100%|██████████| 14/14 [00:13<00:00,  1.04it/s]\n",
            "                 Class     Images  Instances      Box(P          R      mAP50  mAP50-95): 100%|██████████| 1/1 [00:01<00:00,  1.58s/it]"
          ]
        },
        {
          "output_type": "stream",
          "name": "stdout",
          "text": [
            "                   all         85        233      0.756      0.532      0.612      0.428\n"
          ]
        },
        {
          "output_type": "stream",
          "name": "stderr",
          "text": [
            "\n"
          ]
        },
        {
          "output_type": "stream",
          "name": "stdout",
          "text": [
            "\n",
            "      Epoch    GPU_mem   box_loss   cls_loss   dfl_loss  Instances       Size\n"
          ]
        },
        {
          "output_type": "stream",
          "name": "stderr",
          "text": [
            "    140/150      8.08G     0.4791     0.3294     0.8673        327        640: 100%|██████████| 14/14 [00:12<00:00,  1.12it/s]\n",
            "                 Class     Images  Instances      Box(P          R      mAP50  mAP50-95): 100%|██████████| 1/1 [00:01<00:00,  1.69s/it]"
          ]
        },
        {
          "output_type": "stream",
          "name": "stdout",
          "text": [
            "                   all         85        233      0.766      0.528      0.612      0.427\n"
          ]
        },
        {
          "output_type": "stream",
          "name": "stderr",
          "text": [
            "\n"
          ]
        },
        {
          "output_type": "stream",
          "name": "stdout",
          "text": [
            "\n",
            "      Epoch    GPU_mem   box_loss   cls_loss   dfl_loss  Instances       Size\n"
          ]
        },
        {
          "output_type": "stream",
          "name": "stderr",
          "text": [
            "    141/150       8.1G     0.4788     0.3282     0.8678        440        640: 100%|██████████| 14/14 [00:12<00:00,  1.09it/s]\n",
            "                 Class     Images  Instances      Box(P          R      mAP50  mAP50-95): 100%|██████████| 1/1 [00:01<00:00,  1.62s/it]"
          ]
        },
        {
          "output_type": "stream",
          "name": "stdout",
          "text": [
            "                   all         85        233      0.777      0.528      0.609      0.426\n"
          ]
        },
        {
          "output_type": "stream",
          "name": "stderr",
          "text": [
            "\n"
          ]
        },
        {
          "output_type": "stream",
          "name": "stdout",
          "text": [
            "\n",
            "      Epoch    GPU_mem   box_loss   cls_loss   dfl_loss  Instances       Size\n"
          ]
        },
        {
          "output_type": "stream",
          "name": "stderr",
          "text": [
            "    142/150      8.08G     0.4816     0.3336     0.8643        357        640: 100%|██████████| 14/14 [00:12<00:00,  1.08it/s]\n",
            "                 Class     Images  Instances      Box(P          R      mAP50  mAP50-95): 100%|██████████| 1/1 [00:01<00:00,  1.37s/it]"
          ]
        },
        {
          "output_type": "stream",
          "name": "stdout",
          "text": [
            "                   all         85        233      0.772      0.528      0.609      0.424\n"
          ]
        },
        {
          "output_type": "stream",
          "name": "stderr",
          "text": [
            "\n"
          ]
        },
        {
          "output_type": "stream",
          "name": "stdout",
          "text": [
            "\n",
            "      Epoch    GPU_mem   box_loss   cls_loss   dfl_loss  Instances       Size\n"
          ]
        },
        {
          "output_type": "stream",
          "name": "stderr",
          "text": [
            "    143/150       8.1G     0.4748     0.3252     0.8647        564        640: 100%|██████████| 14/14 [00:17<00:00,  1.27s/it]\n",
            "                 Class     Images  Instances      Box(P          R      mAP50  mAP50-95): 100%|██████████| 1/1 [00:01<00:00,  1.66s/it]"
          ]
        },
        {
          "output_type": "stream",
          "name": "stdout",
          "text": [
            "                   all         85        233      0.767      0.523      0.606      0.422\n"
          ]
        },
        {
          "output_type": "stream",
          "name": "stderr",
          "text": [
            "\n"
          ]
        },
        {
          "output_type": "stream",
          "name": "stdout",
          "text": [
            "\n",
            "      Epoch    GPU_mem   box_loss   cls_loss   dfl_loss  Instances       Size\n"
          ]
        },
        {
          "output_type": "stream",
          "name": "stderr",
          "text": [
            "    144/150      8.08G     0.4761     0.3279     0.8631        414        640: 100%|██████████| 14/14 [00:12<00:00,  1.10it/s]\n",
            "                 Class     Images  Instances      Box(P          R      mAP50  mAP50-95): 100%|██████████| 1/1 [00:01<00:00,  1.60s/it]"
          ]
        },
        {
          "output_type": "stream",
          "name": "stdout",
          "text": [
            "                   all         85        233      0.751      0.524      0.605      0.422\n"
          ]
        },
        {
          "output_type": "stream",
          "name": "stderr",
          "text": [
            "\n"
          ]
        },
        {
          "output_type": "stream",
          "name": "stdout",
          "text": [
            "\n",
            "      Epoch    GPU_mem   box_loss   cls_loss   dfl_loss  Instances       Size\n"
          ]
        },
        {
          "output_type": "stream",
          "name": "stderr",
          "text": [
            "    145/150      8.08G     0.4825     0.3315     0.8646        363        640: 100%|██████████| 14/14 [00:12<00:00,  1.12it/s]\n",
            "                 Class     Images  Instances      Box(P          R      mAP50  mAP50-95): 100%|██████████| 1/1 [00:01<00:00,  1.37s/it]"
          ]
        },
        {
          "output_type": "stream",
          "name": "stdout",
          "text": [
            "                   all         85        233      0.753      0.524      0.605      0.423\n"
          ]
        },
        {
          "output_type": "stream",
          "name": "stderr",
          "text": [
            "\n"
          ]
        },
        {
          "output_type": "stream",
          "name": "stdout",
          "text": [
            "\n",
            "      Epoch    GPU_mem   box_loss   cls_loss   dfl_loss  Instances       Size\n"
          ]
        },
        {
          "output_type": "stream",
          "name": "stderr",
          "text": [
            "    146/150       8.1G     0.4792     0.3285     0.8648        367        640: 100%|██████████| 14/14 [00:13<00:00,  1.04it/s]\n",
            "                 Class     Images  Instances      Box(P          R      mAP50  mAP50-95): 100%|██████████| 1/1 [00:01<00:00,  1.31s/it]"
          ]
        },
        {
          "output_type": "stream",
          "name": "stdout",
          "text": [
            "                   all         85        233      0.767      0.519      0.607      0.425\n"
          ]
        },
        {
          "output_type": "stream",
          "name": "stderr",
          "text": [
            "\n"
          ]
        },
        {
          "output_type": "stream",
          "name": "stdout",
          "text": [
            "\n",
            "      Epoch    GPU_mem   box_loss   cls_loss   dfl_loss  Instances       Size\n"
          ]
        },
        {
          "output_type": "stream",
          "name": "stderr",
          "text": [
            "    147/150      8.08G     0.4731      0.326     0.8686        381        640: 100%|██████████| 14/14 [00:13<00:00,  1.00it/s]\n",
            "                 Class     Images  Instances      Box(P          R      mAP50  mAP50-95): 100%|██████████| 1/1 [00:01<00:00,  1.41s/it]"
          ]
        },
        {
          "output_type": "stream",
          "name": "stdout",
          "text": [
            "                   all         85        233      0.772      0.519      0.608      0.423\n"
          ]
        },
        {
          "output_type": "stream",
          "name": "stderr",
          "text": [
            "\n"
          ]
        },
        {
          "output_type": "stream",
          "name": "stdout",
          "text": [
            "\n",
            "      Epoch    GPU_mem   box_loss   cls_loss   dfl_loss  Instances       Size\n"
          ]
        },
        {
          "output_type": "stream",
          "name": "stderr",
          "text": [
            "    148/150       8.1G     0.4847     0.3324     0.8656        364        640: 100%|██████████| 14/14 [00:13<00:00,  1.01it/s]\n",
            "                 Class     Images  Instances      Box(P          R      mAP50  mAP50-95): 100%|██████████| 1/1 [00:01<00:00,  1.54s/it]"
          ]
        },
        {
          "output_type": "stream",
          "name": "stdout",
          "text": [
            "                   all         85        233       0.78      0.519      0.608      0.425\n"
          ]
        },
        {
          "output_type": "stream",
          "name": "stderr",
          "text": [
            "\n"
          ]
        },
        {
          "output_type": "stream",
          "name": "stdout",
          "text": [
            "\n",
            "      Epoch    GPU_mem   box_loss   cls_loss   dfl_loss  Instances       Size\n"
          ]
        },
        {
          "output_type": "stream",
          "name": "stderr",
          "text": [
            "    149/150       8.1G     0.4757      0.328     0.8642        493        640: 100%|██████████| 14/14 [00:15<00:00,  1.12s/it]\n",
            "                 Class     Images  Instances      Box(P          R      mAP50  mAP50-95): 100%|██████████| 1/1 [00:00<00:00,  1.11it/s]"
          ]
        },
        {
          "output_type": "stream",
          "name": "stdout",
          "text": [
            "                   all         85        233      0.778      0.519      0.608      0.425\n"
          ]
        },
        {
          "output_type": "stream",
          "name": "stderr",
          "text": [
            "\n"
          ]
        },
        {
          "output_type": "stream",
          "name": "stdout",
          "text": [
            "\n",
            "      Epoch    GPU_mem   box_loss   cls_loss   dfl_loss  Instances       Size\n"
          ]
        },
        {
          "output_type": "stream",
          "name": "stderr",
          "text": [
            "    150/150       8.1G     0.4781     0.3287     0.8674        338        640: 100%|██████████| 14/14 [00:15<00:00,  1.09s/it]\n",
            "                 Class     Images  Instances      Box(P          R      mAP50  mAP50-95): 100%|██████████| 1/1 [00:00<00:00,  1.12it/s]"
          ]
        },
        {
          "output_type": "stream",
          "name": "stdout",
          "text": [
            "                   all         85        233      0.775      0.515      0.607      0.425\n"
          ]
        },
        {
          "output_type": "stream",
          "name": "stderr",
          "text": [
            "\n"
          ]
        },
        {
          "output_type": "stream",
          "name": "stdout",
          "text": [
            "\n",
            "150 epochs completed in 0.832 hours.\n",
            "Optimizer stripped from runs/detect/train/weights/last.pt, 6.3MB\n",
            "Optimizer stripped from runs/detect/train/weights/best.pt, 6.3MB\n",
            "\n",
            "Validating runs/detect/train/weights/best.pt...\n",
            "Ultralytics YOLOv8.2.48 🚀 Python-3.10.12 torch-2.3.0+cu121 CUDA:0 (Tesla T4, 15102MiB)\n",
            "Model summary (fused): 168 layers, 3005843 parameters, 0 gradients, 8.1 GFLOPs\n"
          ]
        },
        {
          "output_type": "stream",
          "name": "stderr",
          "text": [
            "                 Class     Images  Instances      Box(P          R      mAP50  mAP50-95): 100%|██████████| 1/1 [00:01<00:00,  1.04s/it]\n"
          ]
        },
        {
          "output_type": "stream",
          "name": "stdout",
          "text": [
            "                   all         85        233      0.687      0.567      0.628      0.447\n",
            "Speed: 0.2ms preprocess, 2.4ms inference, 0.0ms loss, 2.0ms postprocess per image\n",
            "Results saved to \u001b[1mruns/detect/train\u001b[0m\n"
          ]
        }
      ]
    },
    {
      "cell_type": "code",
      "source": [
        "model = YOLO('/content/best.pt')\n",
        "# Evaluate the model on the test set\n",
        "metrics = model.val(data='/content/uas_viskom_dataset/data.yaml')\n",
        "print(metrics)"
      ],
      "metadata": {
        "colab": {
          "base_uri": "https://localhost:8080/"
        },
        "id": "EWoNTLaspPqC",
        "outputId": "27d64d32-56a4-4cae-a560-7cebe59029bf"
      },
      "execution_count": null,
      "outputs": [
        {
          "output_type": "stream",
          "name": "stdout",
          "text": [
            "Ultralytics YOLOv8.2.48 🚀 Python-3.10.12 torch-2.3.0+cu121 CUDA:0 (Tesla T4, 15102MiB)\n",
            "Model summary (fused): 168 layers, 3005843 parameters, 0 gradients, 8.1 GFLOPs\n"
          ]
        },
        {
          "output_type": "stream",
          "name": "stderr",
          "text": [
            "\u001b[34m\u001b[1mval: \u001b[0mScanning /content/uas_viskom_dataset/valid/labels.cache... 85 images, 0 backgrounds, 0 corrupt: 100%|██████████| 85/85 [00:00<?, ?it/s]\n",
            "                 Class     Images  Instances      Box(P          R      mAP50  mAP50-95): 100%|██████████| 6/6 [00:03<00:00,  1.51it/s]\n"
          ]
        },
        {
          "output_type": "stream",
          "name": "stdout",
          "text": [
            "                   all         85        233      0.697      0.562      0.632      0.449\n",
            "Speed: 4.0ms preprocess, 9.0ms inference, 0.0ms loss, 6.5ms postprocess per image\n",
            "Results saved to \u001b[1mruns/detect/val3\u001b[0m\n",
            "ultralytics.utils.metrics.DetMetrics object with attributes:\n",
            "\n",
            "ap_class_index: array([0])\n",
            "box: ultralytics.utils.metrics.Metric object\n",
            "confusion_matrix: <ultralytics.utils.metrics.ConfusionMatrix object at 0x7e4ea01a71c0>\n",
            "curves: ['Precision-Recall(B)', 'F1-Confidence(B)', 'Precision-Confidence(B)', 'Recall-Confidence(B)']\n",
            "curves_results: [[array([          0,    0.001001,    0.002002,    0.003003,    0.004004,    0.005005,    0.006006,    0.007007,    0.008008,    0.009009,     0.01001,    0.011011,    0.012012,    0.013013,    0.014014,    0.015015,    0.016016,    0.017017,    0.018018,    0.019019,     0.02002,    0.021021,    0.022022,    0.023023,\n",
            "          0.024024,    0.025025,    0.026026,    0.027027,    0.028028,    0.029029,     0.03003,    0.031031,    0.032032,    0.033033,    0.034034,    0.035035,    0.036036,    0.037037,    0.038038,    0.039039,     0.04004,    0.041041,    0.042042,    0.043043,    0.044044,    0.045045,    0.046046,    0.047047,\n",
            "          0.048048,    0.049049,     0.05005,    0.051051,    0.052052,    0.053053,    0.054054,    0.055055,    0.056056,    0.057057,    0.058058,    0.059059,     0.06006,    0.061061,    0.062062,    0.063063,    0.064064,    0.065065,    0.066066,    0.067067,    0.068068,    0.069069,     0.07007,    0.071071,\n",
            "          0.072072,    0.073073,    0.074074,    0.075075,    0.076076,    0.077077,    0.078078,    0.079079,     0.08008,    0.081081,    0.082082,    0.083083,    0.084084,    0.085085,    0.086086,    0.087087,    0.088088,    0.089089,     0.09009,    0.091091,    0.092092,    0.093093,    0.094094,    0.095095,\n",
            "          0.096096,    0.097097,    0.098098,    0.099099,      0.1001,      0.1011,      0.1021,      0.1031,      0.1041,     0.10511,     0.10611,     0.10711,     0.10811,     0.10911,     0.11011,     0.11111,     0.11211,     0.11311,     0.11411,     0.11512,     0.11612,     0.11712,     0.11812,     0.11912,\n",
            "           0.12012,     0.12112,     0.12212,     0.12312,     0.12412,     0.12513,     0.12613,     0.12713,     0.12813,     0.12913,     0.13013,     0.13113,     0.13213,     0.13313,     0.13413,     0.13514,     0.13614,     0.13714,     0.13814,     0.13914,     0.14014,     0.14114,     0.14214,     0.14314,\n",
            "           0.14414,     0.14515,     0.14615,     0.14715,     0.14815,     0.14915,     0.15015,     0.15115,     0.15215,     0.15315,     0.15415,     0.15516,     0.15616,     0.15716,     0.15816,     0.15916,     0.16016,     0.16116,     0.16216,     0.16316,     0.16416,     0.16517,     0.16617,     0.16717,\n",
            "           0.16817,     0.16917,     0.17017,     0.17117,     0.17217,     0.17317,     0.17417,     0.17518,     0.17618,     0.17718,     0.17818,     0.17918,     0.18018,     0.18118,     0.18218,     0.18318,     0.18418,     0.18519,     0.18619,     0.18719,     0.18819,     0.18919,     0.19019,     0.19119,\n",
            "           0.19219,     0.19319,     0.19419,      0.1952,      0.1962,      0.1972,      0.1982,      0.1992,      0.2002,      0.2012,      0.2022,      0.2032,      0.2042,     0.20521,     0.20621,     0.20721,     0.20821,     0.20921,     0.21021,     0.21121,     0.21221,     0.21321,     0.21421,     0.21522,\n",
            "           0.21622,     0.21722,     0.21822,     0.21922,     0.22022,     0.22122,     0.22222,     0.22322,     0.22422,     0.22523,     0.22623,     0.22723,     0.22823,     0.22923,     0.23023,     0.23123,     0.23223,     0.23323,     0.23423,     0.23524,     0.23624,     0.23724,     0.23824,     0.23924,\n",
            "           0.24024,     0.24124,     0.24224,     0.24324,     0.24424,     0.24525,     0.24625,     0.24725,     0.24825,     0.24925,     0.25025,     0.25125,     0.25225,     0.25325,     0.25425,     0.25526,     0.25626,     0.25726,     0.25826,     0.25926,     0.26026,     0.26126,     0.26226,     0.26326,\n",
            "           0.26426,     0.26527,     0.26627,     0.26727,     0.26827,     0.26927,     0.27027,     0.27127,     0.27227,     0.27327,     0.27427,     0.27528,     0.27628,     0.27728,     0.27828,     0.27928,     0.28028,     0.28128,     0.28228,     0.28328,     0.28428,     0.28529,     0.28629,     0.28729,\n",
            "           0.28829,     0.28929,     0.29029,     0.29129,     0.29229,     0.29329,     0.29429,      0.2953,      0.2963,      0.2973,      0.2983,      0.2993,      0.3003,      0.3013,      0.3023,      0.3033,      0.3043,     0.30531,     0.30631,     0.30731,     0.30831,     0.30931,     0.31031,     0.31131,\n",
            "           0.31231,     0.31331,     0.31431,     0.31532,     0.31632,     0.31732,     0.31832,     0.31932,     0.32032,     0.32132,     0.32232,     0.32332,     0.32432,     0.32533,     0.32633,     0.32733,     0.32833,     0.32933,     0.33033,     0.33133,     0.33233,     0.33333,     0.33433,     0.33534,\n",
            "           0.33634,     0.33734,     0.33834,     0.33934,     0.34034,     0.34134,     0.34234,     0.34334,     0.34434,     0.34535,     0.34635,     0.34735,     0.34835,     0.34935,     0.35035,     0.35135,     0.35235,     0.35335,     0.35435,     0.35536,     0.35636,     0.35736,     0.35836,     0.35936,\n",
            "           0.36036,     0.36136,     0.36236,     0.36336,     0.36436,     0.36537,     0.36637,     0.36737,     0.36837,     0.36937,     0.37037,     0.37137,     0.37237,     0.37337,     0.37437,     0.37538,     0.37638,     0.37738,     0.37838,     0.37938,     0.38038,     0.38138,     0.38238,     0.38338,\n",
            "           0.38438,     0.38539,     0.38639,     0.38739,     0.38839,     0.38939,     0.39039,     0.39139,     0.39239,     0.39339,     0.39439,      0.3954,      0.3964,      0.3974,      0.3984,      0.3994,      0.4004,      0.4014,      0.4024,      0.4034,      0.4044,     0.40541,     0.40641,     0.40741,\n",
            "           0.40841,     0.40941,     0.41041,     0.41141,     0.41241,     0.41341,     0.41441,     0.41542,     0.41642,     0.41742,     0.41842,     0.41942,     0.42042,     0.42142,     0.42242,     0.42342,     0.42442,     0.42543,     0.42643,     0.42743,     0.42843,     0.42943,     0.43043,     0.43143,\n",
            "           0.43243,     0.43343,     0.43443,     0.43544,     0.43644,     0.43744,     0.43844,     0.43944,     0.44044,     0.44144,     0.44244,     0.44344,     0.44444,     0.44545,     0.44645,     0.44745,     0.44845,     0.44945,     0.45045,     0.45145,     0.45245,     0.45345,     0.45445,     0.45546,\n",
            "           0.45646,     0.45746,     0.45846,     0.45946,     0.46046,     0.46146,     0.46246,     0.46346,     0.46446,     0.46547,     0.46647,     0.46747,     0.46847,     0.46947,     0.47047,     0.47147,     0.47247,     0.47347,     0.47447,     0.47548,     0.47648,     0.47748,     0.47848,     0.47948,\n",
            "           0.48048,     0.48148,     0.48248,     0.48348,     0.48448,     0.48549,     0.48649,     0.48749,     0.48849,     0.48949,     0.49049,     0.49149,     0.49249,     0.49349,     0.49449,      0.4955,      0.4965,      0.4975,      0.4985,      0.4995,      0.5005,      0.5015,      0.5025,      0.5035,\n",
            "            0.5045,     0.50551,     0.50651,     0.50751,     0.50851,     0.50951,     0.51051,     0.51151,     0.51251,     0.51351,     0.51451,     0.51552,     0.51652,     0.51752,     0.51852,     0.51952,     0.52052,     0.52152,     0.52252,     0.52352,     0.52452,     0.52553,     0.52653,     0.52753,\n",
            "           0.52853,     0.52953,     0.53053,     0.53153,     0.53253,     0.53353,     0.53453,     0.53554,     0.53654,     0.53754,     0.53854,     0.53954,     0.54054,     0.54154,     0.54254,     0.54354,     0.54454,     0.54555,     0.54655,     0.54755,     0.54855,     0.54955,     0.55055,     0.55155,\n",
            "           0.55255,     0.55355,     0.55455,     0.55556,     0.55656,     0.55756,     0.55856,     0.55956,     0.56056,     0.56156,     0.56256,     0.56356,     0.56456,     0.56557,     0.56657,     0.56757,     0.56857,     0.56957,     0.57057,     0.57157,     0.57257,     0.57357,     0.57457,     0.57558,\n",
            "           0.57658,     0.57758,     0.57858,     0.57958,     0.58058,     0.58158,     0.58258,     0.58358,     0.58458,     0.58559,     0.58659,     0.58759,     0.58859,     0.58959,     0.59059,     0.59159,     0.59259,     0.59359,     0.59459,      0.5956,      0.5966,      0.5976,      0.5986,      0.5996,\n",
            "            0.6006,      0.6016,      0.6026,      0.6036,      0.6046,     0.60561,     0.60661,     0.60761,     0.60861,     0.60961,     0.61061,     0.61161,     0.61261,     0.61361,     0.61461,     0.61562,     0.61662,     0.61762,     0.61862,     0.61962,     0.62062,     0.62162,     0.62262,     0.62362,\n",
            "           0.62462,     0.62563,     0.62663,     0.62763,     0.62863,     0.62963,     0.63063,     0.63163,     0.63263,     0.63363,     0.63463,     0.63564,     0.63664,     0.63764,     0.63864,     0.63964,     0.64064,     0.64164,     0.64264,     0.64364,     0.64464,     0.64565,     0.64665,     0.64765,\n",
            "           0.64865,     0.64965,     0.65065,     0.65165,     0.65265,     0.65365,     0.65465,     0.65566,     0.65666,     0.65766,     0.65866,     0.65966,     0.66066,     0.66166,     0.66266,     0.66366,     0.66466,     0.66567,     0.66667,     0.66767,     0.66867,     0.66967,     0.67067,     0.67167,\n",
            "           0.67267,     0.67367,     0.67467,     0.67568,     0.67668,     0.67768,     0.67868,     0.67968,     0.68068,     0.68168,     0.68268,     0.68368,     0.68468,     0.68569,     0.68669,     0.68769,     0.68869,     0.68969,     0.69069,     0.69169,     0.69269,     0.69369,     0.69469,      0.6957,\n",
            "            0.6967,      0.6977,      0.6987,      0.6997,      0.7007,      0.7017,      0.7027,      0.7037,      0.7047,     0.70571,     0.70671,     0.70771,     0.70871,     0.70971,     0.71071,     0.71171,     0.71271,     0.71371,     0.71471,     0.71572,     0.71672,     0.71772,     0.71872,     0.71972,\n",
            "           0.72072,     0.72172,     0.72272,     0.72372,     0.72472,     0.72573,     0.72673,     0.72773,     0.72873,     0.72973,     0.73073,     0.73173,     0.73273,     0.73373,     0.73473,     0.73574,     0.73674,     0.73774,     0.73874,     0.73974,     0.74074,     0.74174,     0.74274,     0.74374,\n",
            "           0.74474,     0.74575,     0.74675,     0.74775,     0.74875,     0.74975,     0.75075,     0.75175,     0.75275,     0.75375,     0.75475,     0.75576,     0.75676,     0.75776,     0.75876,     0.75976,     0.76076,     0.76176,     0.76276,     0.76376,     0.76476,     0.76577,     0.76677,     0.76777,\n",
            "           0.76877,     0.76977,     0.77077,     0.77177,     0.77277,     0.77377,     0.77477,     0.77578,     0.77678,     0.77778,     0.77878,     0.77978,     0.78078,     0.78178,     0.78278,     0.78378,     0.78478,     0.78579,     0.78679,     0.78779,     0.78879,     0.78979,     0.79079,     0.79179,\n",
            "           0.79279,     0.79379,     0.79479,      0.7958,      0.7968,      0.7978,      0.7988,      0.7998,      0.8008,      0.8018,      0.8028,      0.8038,      0.8048,     0.80581,     0.80681,     0.80781,     0.80881,     0.80981,     0.81081,     0.81181,     0.81281,     0.81381,     0.81481,     0.81582,\n",
            "           0.81682,     0.81782,     0.81882,     0.81982,     0.82082,     0.82182,     0.82282,     0.82382,     0.82482,     0.82583,     0.82683,     0.82783,     0.82883,     0.82983,     0.83083,     0.83183,     0.83283,     0.83383,     0.83483,     0.83584,     0.83684,     0.83784,     0.83884,     0.83984,\n",
            "           0.84084,     0.84184,     0.84284,     0.84384,     0.84484,     0.84585,     0.84685,     0.84785,     0.84885,     0.84985,     0.85085,     0.85185,     0.85285,     0.85385,     0.85485,     0.85586,     0.85686,     0.85786,     0.85886,     0.85986,     0.86086,     0.86186,     0.86286,     0.86386,\n",
            "           0.86486,     0.86587,     0.86687,     0.86787,     0.86887,     0.86987,     0.87087,     0.87187,     0.87287,     0.87387,     0.87487,     0.87588,     0.87688,     0.87788,     0.87888,     0.87988,     0.88088,     0.88188,     0.88288,     0.88388,     0.88488,     0.88589,     0.88689,     0.88789,\n",
            "           0.88889,     0.88989,     0.89089,     0.89189,     0.89289,     0.89389,     0.89489,      0.8959,      0.8969,      0.8979,      0.8989,      0.8999,      0.9009,      0.9019,      0.9029,      0.9039,      0.9049,     0.90591,     0.90691,     0.90791,     0.90891,     0.90991,     0.91091,     0.91191,\n",
            "           0.91291,     0.91391,     0.91491,     0.91592,     0.91692,     0.91792,     0.91892,     0.91992,     0.92092,     0.92192,     0.92292,     0.92392,     0.92492,     0.92593,     0.92693,     0.92793,     0.92893,     0.92993,     0.93093,     0.93193,     0.93293,     0.93393,     0.93493,     0.93594,\n",
            "           0.93694,     0.93794,     0.93894,     0.93994,     0.94094,     0.94194,     0.94294,     0.94394,     0.94494,     0.94595,     0.94695,     0.94795,     0.94895,     0.94995,     0.95095,     0.95195,     0.95295,     0.95395,     0.95495,     0.95596,     0.95696,     0.95796,     0.95896,     0.95996,\n",
            "           0.96096,     0.96196,     0.96296,     0.96396,     0.96496,     0.96597,     0.96697,     0.96797,     0.96897,     0.96997,     0.97097,     0.97197,     0.97297,     0.97397,     0.97497,     0.97598,     0.97698,     0.97798,     0.97898,     0.97998,     0.98098,     0.98198,     0.98298,     0.98398,\n",
            "           0.98498,     0.98599,     0.98699,     0.98799,     0.98899,     0.98999,     0.99099,     0.99199,     0.99299,     0.99399,     0.99499,       0.996,       0.997,       0.998,       0.999,           1]), array([[          1,           1,           1,           1,           1,           1,           1,           1,           1,           1,           1,           1,           1,           1,           1,           1,           1,           1,           1,           1,           1,           1,           1,\n",
            "                  1,           1,           1,           1,           1,           1,           1,           1,           1,           1,           1,           1,           1,           1,           1,           1,           1,           1,           1,           1,           1,           1,           1,\n",
            "                  1,           1,           1,           1,           1,           1,           1,           1,           1,           1,           1,           1,           1,           1,           1,           1,           1,           1,           1,           1,           1,           1,           1,\n",
            "                  1,           1,           1,           1,           1,           1,           1,           1,           1,           1,           1,           1,           1,           1,           1,           1,           1,           1,           1,           1,           1,           1,           1,\n",
            "                  1,           1,           1,           1,           1,           1,           1,           1,           1,           1,           1,           1,           1,           1,           1,           1,           1,           1,           1,           1,           1,           1,           1,\n",
            "                  1,           1,           1,           1,           1,           1,           1,           1,           1,           1,           1,           1,           1,           1,           1,           1,           1,           1,           1,           1,           1,           1,           1,\n",
            "                  1,           1,           1,           1,           1,           1,           1,           1,           1,           1,           1,           1,           1,           1,           1,           1,           1,           1,           1,           1,           1,           1,           1,\n",
            "                  1,           1,           1,           1,           1,           1,           1,           1,           1,           1,           1,           1,           1,           1,           1,           1,           1,           1,           1,           1,           1,           1,           1,\n",
            "                  1,           1,           1,           1,           1,           1,           1,           1,           1,           1,           1,           1,           1,           1,           1,           1,           1,           1,           1,           1,           1,           1,           1,\n",
            "                  1,           1,           1,           1,           1,           1,           1,           1,     0.98305,     0.98305,     0.98305,     0.98305,     0.98305,     0.98305,     0.98305,     0.98305,     0.98305,     0.98305,     0.98305,     0.98305,     0.98305,     0.98305,     0.98305,\n",
            "            0.98305,     0.98305,     0.98305,     0.98305,     0.98305,     0.98305,     0.98305,     0.98305,     0.98305,     0.98305,     0.98305,     0.98305,     0.98305,     0.98305,     0.98305,     0.98305,     0.98305,     0.98305,     0.98305,     0.97778,     0.97778,     0.97778,     0.97778,\n",
            "            0.97778,     0.97778,     0.97778,     0.97778,     0.97778,     0.97778,     0.97778,     0.97778,     0.97778,     0.97778,     0.97778,     0.97778,     0.97778,     0.97778,     0.97778,     0.97778,     0.97778,     0.97778,     0.97778,     0.97778,     0.97778,     0.97778,     0.97778,\n",
            "            0.97778,     0.97778,     0.97778,     0.97778,     0.97778,     0.97778,     0.97778,     0.97778,     0.97778,     0.97778,     0.97778,     0.97778,     0.97778,     0.97778,     0.97778,     0.97778,     0.97778,     0.97778,     0.97778,     0.97778,     0.97778,     0.97778,     0.97778,\n",
            "            0.97778,     0.97778,     0.97778,     0.97778,     0.97778,     0.97778,     0.97778,     0.97778,     0.97778,     0.97778,     0.97778,     0.97778,     0.97778,     0.97778,     0.97778,     0.97778,     0.97778,     0.97778,     0.97778,     0.97778,     0.97778,     0.97778,     0.97778,\n",
            "            0.97778,     0.97778,     0.97778,     0.97778,     0.97778,     0.97778,     0.97778,     0.97778,     0.97778,     0.97778,     0.97778,     0.97778,     0.97778,     0.97778,     0.97778,     0.97778,     0.97778,     0.97778,     0.97778,     0.97778,     0.97778,     0.97778,     0.97778,\n",
            "            0.97778,     0.97778,     0.97778,     0.97778,     0.97778,     0.97778,     0.97778,     0.97778,     0.97778,     0.97778,     0.97778,     0.97778,     0.97778,     0.97778,     0.97778,     0.97778,     0.97778,     0.97778,     0.97778,     0.97778,     0.97778,     0.97778,     0.97778,\n",
            "            0.97778,     0.97778,     0.97778,     0.97778,     0.97778,     0.97778,     0.97778,     0.97778,     0.97778,     0.97778,     0.95745,     0.95745,     0.95745,     0.95745,     0.95745,     0.95745,     0.95745,     0.95745,     0.95098,     0.95098,     0.95098,     0.95098,     0.95098,\n",
            "            0.95098,     0.95098,     0.95098,     0.95098,     0.95098,     0.95098,     0.95098,     0.95098,     0.95098,     0.95098,     0.95098,     0.95098,     0.95098,     0.95098,     0.95098,     0.95098,     0.95098,     0.95098,     0.95098,     0.95098,     0.95098,     0.95098,     0.95098,\n",
            "            0.95098,     0.95098,     0.94495,     0.94495,     0.94495,     0.94495,     0.94495,     0.94495,     0.94495,     0.94495,     0.94495,     0.94495,     0.94495,     0.94495,     0.94495,     0.94495,     0.94495,     0.94495,     0.94495,     0.94495,     0.94495,     0.94495,     0.94495,\n",
            "            0.94495,     0.94495,     0.94495,     0.94495,     0.94495,     0.92857,     0.92857,     0.92857,     0.92857,     0.90517,     0.90517,     0.90517,     0.90517,     0.90517,     0.89831,     0.89831,     0.89831,     0.89831,     0.89167,     0.89167,     0.89167,     0.89167,       0.872,\n",
            "              0.872,       0.872,       0.872,       0.872,       0.872,       0.872,       0.872,       0.872,     0.86154,     0.86154,     0.86154,     0.86154,     0.86154,     0.86154,     0.86154,     0.86154,     0.86154,     0.86154,     0.86154,     0.86154,     0.86154,     0.85606,     0.85606,\n",
            "            0.85606,     0.85606,     0.83824,     0.83824,     0.83824,     0.83824,      0.8169,      0.8169,      0.8169,      0.8169,      0.8169,      0.8169,      0.8169,      0.8169,      0.8169,     0.79333,     0.79333,     0.79333,     0.79333,     0.79333,     0.79333,     0.79333,     0.79333,\n",
            "            0.79333,     0.79333,     0.79333,     0.79333,     0.79333,     0.77922,     0.77922,     0.77922,     0.77922,     0.76582,     0.76582,     0.76582,     0.76582,      0.7561,      0.7561,      0.7561,      0.7561,      0.7561,      0.7561,      0.7561,      0.7561,      0.7561,      0.7561,\n",
            "             0.7561,      0.7561,      0.7561,     0.74405,     0.74405,     0.74405,     0.74405,     0.73837,     0.73837,     0.73837,     0.73837,     0.73837,     0.73837,     0.73837,     0.73837,     0.73837,     0.73143,     0.73143,     0.73143,     0.73143,     0.72472,     0.72472,     0.72472,\n",
            "            0.72472,     0.72472,     0.71429,     0.71429,     0.71429,     0.71429,      0.7043,      0.7043,      0.7043,      0.7043,     0.68912,     0.68912,     0.68912,     0.68912,     0.68912,     0.68912,     0.68912,     0.68912,     0.68912,     0.68367,     0.68367,     0.68367,     0.68367,\n",
            "            0.66827,     0.66827,     0.66827,     0.66827,     0.66827,     0.66827,     0.66827,     0.66827,     0.66827,     0.66827,     0.66827,     0.66827,     0.66827,     0.66827,     0.66827,     0.66827,     0.66827,     0.66827,     0.66827,     0.66827,     0.66827,     0.66667,     0.66667,\n",
            "            0.66667,     0.66667,     0.66667,     0.66509,     0.66509,     0.66509,     0.66509,     0.65438,     0.65438,     0.65438,     0.65438,     0.61638,     0.61638,     0.61638,     0.61638,     0.61638,     0.61277,     0.61277,     0.61277,     0.61277,     0.57312,     0.57312,     0.57312,\n",
            "            0.57312,     0.53285,     0.53285,     0.53285,     0.53285,     0.52688,     0.52688,     0.52688,     0.52688,     0.52688,     0.51748,     0.51748,     0.51748,     0.51748,     0.51379,     0.51379,     0.51379,     0.51379,     0.48701,     0.48701,     0.48701,     0.48701,     0.48701,\n",
            "            0.48089,     0.48089,     0.48089,     0.48089,     0.46201,     0.46201,     0.46201,     0.46201,     0.46084,     0.46084,     0.46084,     0.46084,     0.43626,     0.43626,     0.43626,     0.43626,     0.43626,     0.39642,     0.39642,     0.39642,     0.39642,     0.36534,     0.36534,\n",
            "            0.36534,     0.36534,     0.34273,     0.34273,     0.34273,     0.34273,     0.34273,     0.34273,     0.34273,     0.34273,     0.34273,     0.33264,     0.33264,     0.33264,     0.33264,     0.32193,     0.32193,     0.32193,     0.32193,     0.32193,     0.31081,     0.31081,     0.31081,\n",
            "            0.31081,     0.25432,     0.25432,     0.25432,     0.25432,     0.23496,     0.23496,     0.23496,     0.23496,     0.23496,     0.23496,     0.23496,     0.23496,     0.23496,     0.23207,     0.23207,     0.23207,     0.23207,     0.22709,     0.22709,     0.22709,     0.22709,      0.1974,\n",
            "             0.1974,      0.1974,      0.1974,      0.1974,     0.18381,     0.18381,     0.18381,     0.18381,      0.1753,     0.17467,     0.17404,      0.1734,     0.17277,     0.17214,     0.17151,     0.17088,     0.17025,     0.16962,     0.16899,     0.16836,     0.16773,      0.1671,     0.16647,\n",
            "            0.16584,     0.16521,     0.16458,     0.16395,     0.16332,     0.16269,     0.16205,     0.16142,     0.16079,     0.16016,     0.15953,      0.1589,     0.15827,     0.15764,     0.15701,     0.15638,     0.15575,     0.15512,     0.15449,     0.15386,     0.15323,      0.1526,     0.15197,\n",
            "            0.15134,      0.1507,     0.15007,     0.14944,     0.14881,     0.14818,     0.14755,     0.14692,     0.14629,     0.14566,     0.14503,      0.1444,     0.14377,     0.14314,     0.14251,     0.14188,     0.14125,     0.14062,     0.13998,     0.13935,     0.13872,     0.13809,     0.13746,\n",
            "            0.13683,      0.1362,     0.13557,     0.13494,     0.13431,     0.13368,     0.13305,     0.13242,     0.13179,     0.13116,     0.13053,      0.1299,     0.12927,     0.12863,       0.128,     0.12737,     0.12674,     0.12611,     0.12548,     0.12485,     0.12422,     0.12359,     0.12296,\n",
            "            0.12233,      0.1217,     0.12107,     0.12044,     0.11981,     0.11918,     0.11855,     0.11792,     0.11728,     0.11665,     0.11602,     0.11539,     0.11476,     0.11413,      0.1135,     0.11287,     0.11224,     0.11161,     0.11098,     0.11035,     0.10972,     0.10909,     0.10846,\n",
            "            0.10783,      0.1072,     0.10657,     0.10593,      0.1053,     0.10467,     0.10404,     0.10341,     0.10278,     0.10215,     0.10152,     0.10089,     0.10026,    0.099629,    0.098998,    0.098368,    0.097737,    0.097107,    0.096476,    0.095846,    0.095215,    0.094584,    0.093954,\n",
            "           0.093323,    0.092693,    0.092062,    0.091432,    0.090801,    0.090171,     0.08954,    0.088909,    0.088279,    0.087648,    0.087018,    0.086387,    0.085757,    0.085126,    0.084495,    0.083865,    0.083234,    0.082604,    0.081973,    0.081343,    0.080712,    0.080081,    0.079451,\n",
            "            0.07882,     0.07819,    0.077559,    0.076929,    0.076298,    0.075668,    0.075037,    0.074406,    0.073776,    0.073145,    0.072515,    0.071884,    0.071254,    0.070623,    0.069992,    0.069362,    0.068731,    0.068101,     0.06747,     0.06684,    0.066209,    0.065579,    0.064948,\n",
            "           0.064317,    0.063687,    0.063056,    0.062426,    0.061795,    0.061165,    0.060534,    0.059903,    0.059273,    0.058642,    0.058012,    0.057381,    0.056751,     0.05612,     0.05549,    0.054859,    0.054228,    0.053598,    0.052967,    0.052337,    0.051706,    0.051076,    0.050445,\n",
            "           0.049814,    0.049184,    0.048553,    0.047923,    0.047292,    0.046662,    0.046031,    0.045401,     0.04477,    0.044139,    0.043509,    0.042878,    0.042248,    0.041617,    0.040987,    0.040356,    0.039725,    0.039095,    0.038464,    0.037834,    0.037203,    0.036573,    0.035942,\n",
            "           0.035312,    0.034681,     0.03405,     0.03342,    0.032789,    0.032159,    0.031528,    0.030898,    0.030267,    0.029636,    0.029006,    0.028375,    0.027745,    0.027114,    0.026484,    0.025853,    0.025223,    0.024592,    0.023961,    0.023331,      0.0227,     0.02207,    0.021439,\n",
            "           0.020809,    0.020178,    0.019547,    0.018917,    0.018286,    0.017656,    0.017025,    0.016395,    0.015764,    0.015134,    0.014503,    0.013872,    0.013242,    0.012611,    0.011981,     0.01135,     0.01072,    0.010089,   0.0094584,   0.0088279,   0.0081973,   0.0075668,   0.0069362,\n",
            "          0.0063056,   0.0056751,   0.0050445,   0.0044139,   0.0037834,   0.0031528,   0.0025223,   0.0018917,   0.0012611,  0.00063056,           0]]), 'Recall', 'Precision'], [array([          0,    0.001001,    0.002002,    0.003003,    0.004004,    0.005005,    0.006006,    0.007007,    0.008008,    0.009009,     0.01001,    0.011011,    0.012012,    0.013013,    0.014014,    0.015015,    0.016016,    0.017017,    0.018018,    0.019019,     0.02002,    0.021021,    0.022022,    0.023023,\n",
            "          0.024024,    0.025025,    0.026026,    0.027027,    0.028028,    0.029029,     0.03003,    0.031031,    0.032032,    0.033033,    0.034034,    0.035035,    0.036036,    0.037037,    0.038038,    0.039039,     0.04004,    0.041041,    0.042042,    0.043043,    0.044044,    0.045045,    0.046046,    0.047047,\n",
            "          0.048048,    0.049049,     0.05005,    0.051051,    0.052052,    0.053053,    0.054054,    0.055055,    0.056056,    0.057057,    0.058058,    0.059059,     0.06006,    0.061061,    0.062062,    0.063063,    0.064064,    0.065065,    0.066066,    0.067067,    0.068068,    0.069069,     0.07007,    0.071071,\n",
            "          0.072072,    0.073073,    0.074074,    0.075075,    0.076076,    0.077077,    0.078078,    0.079079,     0.08008,    0.081081,    0.082082,    0.083083,    0.084084,    0.085085,    0.086086,    0.087087,    0.088088,    0.089089,     0.09009,    0.091091,    0.092092,    0.093093,    0.094094,    0.095095,\n",
            "          0.096096,    0.097097,    0.098098,    0.099099,      0.1001,      0.1011,      0.1021,      0.1031,      0.1041,     0.10511,     0.10611,     0.10711,     0.10811,     0.10911,     0.11011,     0.11111,     0.11211,     0.11311,     0.11411,     0.11512,     0.11612,     0.11712,     0.11812,     0.11912,\n",
            "           0.12012,     0.12112,     0.12212,     0.12312,     0.12412,     0.12513,     0.12613,     0.12713,     0.12813,     0.12913,     0.13013,     0.13113,     0.13213,     0.13313,     0.13413,     0.13514,     0.13614,     0.13714,     0.13814,     0.13914,     0.14014,     0.14114,     0.14214,     0.14314,\n",
            "           0.14414,     0.14515,     0.14615,     0.14715,     0.14815,     0.14915,     0.15015,     0.15115,     0.15215,     0.15315,     0.15415,     0.15516,     0.15616,     0.15716,     0.15816,     0.15916,     0.16016,     0.16116,     0.16216,     0.16316,     0.16416,     0.16517,     0.16617,     0.16717,\n",
            "           0.16817,     0.16917,     0.17017,     0.17117,     0.17217,     0.17317,     0.17417,     0.17518,     0.17618,     0.17718,     0.17818,     0.17918,     0.18018,     0.18118,     0.18218,     0.18318,     0.18418,     0.18519,     0.18619,     0.18719,     0.18819,     0.18919,     0.19019,     0.19119,\n",
            "           0.19219,     0.19319,     0.19419,      0.1952,      0.1962,      0.1972,      0.1982,      0.1992,      0.2002,      0.2012,      0.2022,      0.2032,      0.2042,     0.20521,     0.20621,     0.20721,     0.20821,     0.20921,     0.21021,     0.21121,     0.21221,     0.21321,     0.21421,     0.21522,\n",
            "           0.21622,     0.21722,     0.21822,     0.21922,     0.22022,     0.22122,     0.22222,     0.22322,     0.22422,     0.22523,     0.22623,     0.22723,     0.22823,     0.22923,     0.23023,     0.23123,     0.23223,     0.23323,     0.23423,     0.23524,     0.23624,     0.23724,     0.23824,     0.23924,\n",
            "           0.24024,     0.24124,     0.24224,     0.24324,     0.24424,     0.24525,     0.24625,     0.24725,     0.24825,     0.24925,     0.25025,     0.25125,     0.25225,     0.25325,     0.25425,     0.25526,     0.25626,     0.25726,     0.25826,     0.25926,     0.26026,     0.26126,     0.26226,     0.26326,\n",
            "           0.26426,     0.26527,     0.26627,     0.26727,     0.26827,     0.26927,     0.27027,     0.27127,     0.27227,     0.27327,     0.27427,     0.27528,     0.27628,     0.27728,     0.27828,     0.27928,     0.28028,     0.28128,     0.28228,     0.28328,     0.28428,     0.28529,     0.28629,     0.28729,\n",
            "           0.28829,     0.28929,     0.29029,     0.29129,     0.29229,     0.29329,     0.29429,      0.2953,      0.2963,      0.2973,      0.2983,      0.2993,      0.3003,      0.3013,      0.3023,      0.3033,      0.3043,     0.30531,     0.30631,     0.30731,     0.30831,     0.30931,     0.31031,     0.31131,\n",
            "           0.31231,     0.31331,     0.31431,     0.31532,     0.31632,     0.31732,     0.31832,     0.31932,     0.32032,     0.32132,     0.32232,     0.32332,     0.32432,     0.32533,     0.32633,     0.32733,     0.32833,     0.32933,     0.33033,     0.33133,     0.33233,     0.33333,     0.33433,     0.33534,\n",
            "           0.33634,     0.33734,     0.33834,     0.33934,     0.34034,     0.34134,     0.34234,     0.34334,     0.34434,     0.34535,     0.34635,     0.34735,     0.34835,     0.34935,     0.35035,     0.35135,     0.35235,     0.35335,     0.35435,     0.35536,     0.35636,     0.35736,     0.35836,     0.35936,\n",
            "           0.36036,     0.36136,     0.36236,     0.36336,     0.36436,     0.36537,     0.36637,     0.36737,     0.36837,     0.36937,     0.37037,     0.37137,     0.37237,     0.37337,     0.37437,     0.37538,     0.37638,     0.37738,     0.37838,     0.37938,     0.38038,     0.38138,     0.38238,     0.38338,\n",
            "           0.38438,     0.38539,     0.38639,     0.38739,     0.38839,     0.38939,     0.39039,     0.39139,     0.39239,     0.39339,     0.39439,      0.3954,      0.3964,      0.3974,      0.3984,      0.3994,      0.4004,      0.4014,      0.4024,      0.4034,      0.4044,     0.40541,     0.40641,     0.40741,\n",
            "           0.40841,     0.40941,     0.41041,     0.41141,     0.41241,     0.41341,     0.41441,     0.41542,     0.41642,     0.41742,     0.41842,     0.41942,     0.42042,     0.42142,     0.42242,     0.42342,     0.42442,     0.42543,     0.42643,     0.42743,     0.42843,     0.42943,     0.43043,     0.43143,\n",
            "           0.43243,     0.43343,     0.43443,     0.43544,     0.43644,     0.43744,     0.43844,     0.43944,     0.44044,     0.44144,     0.44244,     0.44344,     0.44444,     0.44545,     0.44645,     0.44745,     0.44845,     0.44945,     0.45045,     0.45145,     0.45245,     0.45345,     0.45445,     0.45546,\n",
            "           0.45646,     0.45746,     0.45846,     0.45946,     0.46046,     0.46146,     0.46246,     0.46346,     0.46446,     0.46547,     0.46647,     0.46747,     0.46847,     0.46947,     0.47047,     0.47147,     0.47247,     0.47347,     0.47447,     0.47548,     0.47648,     0.47748,     0.47848,     0.47948,\n",
            "           0.48048,     0.48148,     0.48248,     0.48348,     0.48448,     0.48549,     0.48649,     0.48749,     0.48849,     0.48949,     0.49049,     0.49149,     0.49249,     0.49349,     0.49449,      0.4955,      0.4965,      0.4975,      0.4985,      0.4995,      0.5005,      0.5015,      0.5025,      0.5035,\n",
            "            0.5045,     0.50551,     0.50651,     0.50751,     0.50851,     0.50951,     0.51051,     0.51151,     0.51251,     0.51351,     0.51451,     0.51552,     0.51652,     0.51752,     0.51852,     0.51952,     0.52052,     0.52152,     0.52252,     0.52352,     0.52452,     0.52553,     0.52653,     0.52753,\n",
            "           0.52853,     0.52953,     0.53053,     0.53153,     0.53253,     0.53353,     0.53453,     0.53554,     0.53654,     0.53754,     0.53854,     0.53954,     0.54054,     0.54154,     0.54254,     0.54354,     0.54454,     0.54555,     0.54655,     0.54755,     0.54855,     0.54955,     0.55055,     0.55155,\n",
            "           0.55255,     0.55355,     0.55455,     0.55556,     0.55656,     0.55756,     0.55856,     0.55956,     0.56056,     0.56156,     0.56256,     0.56356,     0.56456,     0.56557,     0.56657,     0.56757,     0.56857,     0.56957,     0.57057,     0.57157,     0.57257,     0.57357,     0.57457,     0.57558,\n",
            "           0.57658,     0.57758,     0.57858,     0.57958,     0.58058,     0.58158,     0.58258,     0.58358,     0.58458,     0.58559,     0.58659,     0.58759,     0.58859,     0.58959,     0.59059,     0.59159,     0.59259,     0.59359,     0.59459,      0.5956,      0.5966,      0.5976,      0.5986,      0.5996,\n",
            "            0.6006,      0.6016,      0.6026,      0.6036,      0.6046,     0.60561,     0.60661,     0.60761,     0.60861,     0.60961,     0.61061,     0.61161,     0.61261,     0.61361,     0.61461,     0.61562,     0.61662,     0.61762,     0.61862,     0.61962,     0.62062,     0.62162,     0.62262,     0.62362,\n",
            "           0.62462,     0.62563,     0.62663,     0.62763,     0.62863,     0.62963,     0.63063,     0.63163,     0.63263,     0.63363,     0.63463,     0.63564,     0.63664,     0.63764,     0.63864,     0.63964,     0.64064,     0.64164,     0.64264,     0.64364,     0.64464,     0.64565,     0.64665,     0.64765,\n",
            "           0.64865,     0.64965,     0.65065,     0.65165,     0.65265,     0.65365,     0.65465,     0.65566,     0.65666,     0.65766,     0.65866,     0.65966,     0.66066,     0.66166,     0.66266,     0.66366,     0.66466,     0.66567,     0.66667,     0.66767,     0.66867,     0.66967,     0.67067,     0.67167,\n",
            "           0.67267,     0.67367,     0.67467,     0.67568,     0.67668,     0.67768,     0.67868,     0.67968,     0.68068,     0.68168,     0.68268,     0.68368,     0.68468,     0.68569,     0.68669,     0.68769,     0.68869,     0.68969,     0.69069,     0.69169,     0.69269,     0.69369,     0.69469,      0.6957,\n",
            "            0.6967,      0.6977,      0.6987,      0.6997,      0.7007,      0.7017,      0.7027,      0.7037,      0.7047,     0.70571,     0.70671,     0.70771,     0.70871,     0.70971,     0.71071,     0.71171,     0.71271,     0.71371,     0.71471,     0.71572,     0.71672,     0.71772,     0.71872,     0.71972,\n",
            "           0.72072,     0.72172,     0.72272,     0.72372,     0.72472,     0.72573,     0.72673,     0.72773,     0.72873,     0.72973,     0.73073,     0.73173,     0.73273,     0.73373,     0.73473,     0.73574,     0.73674,     0.73774,     0.73874,     0.73974,     0.74074,     0.74174,     0.74274,     0.74374,\n",
            "           0.74474,     0.74575,     0.74675,     0.74775,     0.74875,     0.74975,     0.75075,     0.75175,     0.75275,     0.75375,     0.75475,     0.75576,     0.75676,     0.75776,     0.75876,     0.75976,     0.76076,     0.76176,     0.76276,     0.76376,     0.76476,     0.76577,     0.76677,     0.76777,\n",
            "           0.76877,     0.76977,     0.77077,     0.77177,     0.77277,     0.77377,     0.77477,     0.77578,     0.77678,     0.77778,     0.77878,     0.77978,     0.78078,     0.78178,     0.78278,     0.78378,     0.78478,     0.78579,     0.78679,     0.78779,     0.78879,     0.78979,     0.79079,     0.79179,\n",
            "           0.79279,     0.79379,     0.79479,      0.7958,      0.7968,      0.7978,      0.7988,      0.7998,      0.8008,      0.8018,      0.8028,      0.8038,      0.8048,     0.80581,     0.80681,     0.80781,     0.80881,     0.80981,     0.81081,     0.81181,     0.81281,     0.81381,     0.81481,     0.81582,\n",
            "           0.81682,     0.81782,     0.81882,     0.81982,     0.82082,     0.82182,     0.82282,     0.82382,     0.82482,     0.82583,     0.82683,     0.82783,     0.82883,     0.82983,     0.83083,     0.83183,     0.83283,     0.83383,     0.83483,     0.83584,     0.83684,     0.83784,     0.83884,     0.83984,\n",
            "           0.84084,     0.84184,     0.84284,     0.84384,     0.84484,     0.84585,     0.84685,     0.84785,     0.84885,     0.84985,     0.85085,     0.85185,     0.85285,     0.85385,     0.85485,     0.85586,     0.85686,     0.85786,     0.85886,     0.85986,     0.86086,     0.86186,     0.86286,     0.86386,\n",
            "           0.86486,     0.86587,     0.86687,     0.86787,     0.86887,     0.86987,     0.87087,     0.87187,     0.87287,     0.87387,     0.87487,     0.87588,     0.87688,     0.87788,     0.87888,     0.87988,     0.88088,     0.88188,     0.88288,     0.88388,     0.88488,     0.88589,     0.88689,     0.88789,\n",
            "           0.88889,     0.88989,     0.89089,     0.89189,     0.89289,     0.89389,     0.89489,      0.8959,      0.8969,      0.8979,      0.8989,      0.8999,      0.9009,      0.9019,      0.9029,      0.9039,      0.9049,     0.90591,     0.90691,     0.90791,     0.90891,     0.90991,     0.91091,     0.91191,\n",
            "           0.91291,     0.91391,     0.91491,     0.91592,     0.91692,     0.91792,     0.91892,     0.91992,     0.92092,     0.92192,     0.92292,     0.92392,     0.92492,     0.92593,     0.92693,     0.92793,     0.92893,     0.92993,     0.93093,     0.93193,     0.93293,     0.93393,     0.93493,     0.93594,\n",
            "           0.93694,     0.93794,     0.93894,     0.93994,     0.94094,     0.94194,     0.94294,     0.94394,     0.94494,     0.94595,     0.94695,     0.94795,     0.94895,     0.94995,     0.95095,     0.95195,     0.95295,     0.95395,     0.95495,     0.95596,     0.95696,     0.95796,     0.95896,     0.95996,\n",
            "           0.96096,     0.96196,     0.96296,     0.96396,     0.96496,     0.96597,     0.96697,     0.96797,     0.96897,     0.96997,     0.97097,     0.97197,     0.97297,     0.97397,     0.97497,     0.97598,     0.97698,     0.97798,     0.97898,     0.97998,     0.98098,     0.98198,     0.98298,     0.98398,\n",
            "           0.98498,     0.98599,     0.98699,     0.98799,     0.98899,     0.98999,     0.99099,     0.99199,     0.99299,     0.99399,     0.99499,       0.996,       0.997,       0.998,       0.999,           1]), array([[    0.28259,     0.28259,      0.3457,     0.37911,     0.40453,     0.42489,     0.43506,     0.44445,     0.44985,     0.45752,     0.46529,     0.47206,     0.47591,     0.48228,     0.49199,     0.50022,      0.5071,     0.51223,     0.51683,     0.52111,     0.52547,     0.52563,     0.53151,\n",
            "            0.53805,     0.53969,     0.54045,     0.53895,     0.53982,     0.54339,     0.54738,     0.55073,     0.55048,     0.55417,     0.55489,     0.55578,     0.55994,     0.56212,     0.56457,     0.56524,     0.56625,     0.56835,     0.56743,       0.569,     0.56865,     0.57145,     0.57225,\n",
            "            0.57257,     0.57289,      0.5742,     0.57543,      0.5741,     0.57579,     0.57688,     0.57814,     0.57921,     0.58117,     0.58249,     0.58595,     0.58708,     0.58751,     0.58794,      0.5889,     0.58991,     0.59054,     0.59429,     0.59492,     0.59596,     0.59433,      0.5951,\n",
            "            0.59537,     0.59565,     0.59592,      0.5962,     0.59748,     0.59913,     0.60008,     0.60262,     0.60319,     0.60377,     0.60674,     0.60768,     0.60888,     0.60966,     0.61422,     0.61371,     0.61215,     0.61475,     0.61596,      0.6182,     0.62035,     0.62127,     0.62171,\n",
            "            0.62205,     0.62238,     0.62271,     0.62306,     0.62342,     0.62378,     0.62413,     0.62485,     0.62567,     0.62861,     0.63053,      0.6287,     0.62912,     0.62993,     0.63053,     0.63176,     0.63216,     0.63111,     0.63186,     0.63014,     0.63005,     0.62969,     0.62933,\n",
            "            0.62896,      0.6286,     0.62823,     0.62786,      0.6275,     0.62653,     0.62458,     0.62295,     0.62141,     0.61923,      0.6172,     0.61569,     0.61561,     0.61631,     0.61657,     0.61683,     0.61709,     0.61735,     0.61774,     0.61832,     0.61889,     0.62069,     0.62112,\n",
            "            0.62155,     0.62359,     0.62459,     0.62357,     0.62228,     0.62166,     0.62208,      0.6225,     0.62291,     0.62353,     0.62417,     0.62163,     0.62207,     0.62251,      0.6227,     0.62288,     0.62307,     0.62326,     0.62345,     0.62363,     0.62382,     0.62399,     0.62416,\n",
            "            0.62433,     0.62449,     0.62466,     0.62483,       0.625,     0.62517,       0.625,     0.62359,     0.62217,     0.62215,     0.62231,     0.62247,     0.62263,     0.62279,     0.62295,     0.62311,     0.62327,     0.62343,     0.62437,     0.62636,     0.62595,     0.62554,     0.62512,\n",
            "            0.62471,     0.62429,     0.62388,     0.62346,     0.62358,     0.62472,      0.6252,     0.62568,     0.62616,     0.62679,     0.62543,     0.62449,      0.6249,     0.62531,     0.62572,     0.62615,     0.62658,     0.62702,     0.62745,     0.62656,     0.62567,     0.62478,     0.62416,\n",
            "            0.62455,     0.62494,     0.62534,     0.62567,     0.62587,     0.62606,     0.62626,     0.62645,     0.62665,     0.62684,     0.62704,     0.62693,     0.62627,     0.62562,     0.62497,     0.62431,     0.62338,     0.62102,     0.62069,     0.62118,     0.62166,     0.62322,     0.62308,\n",
            "            0.62269,      0.6223,     0.62191,     0.62152,     0.62112,     0.62073,     0.62034,     0.62006,     0.62045,     0.62084,     0.62124,     0.62178,     0.62295,      0.6235,     0.62394,     0.62438,     0.62448,     0.62386,     0.62323,      0.6226,     0.62197,     0.62134,     0.61738,\n",
            "            0.61688,     0.61637,     0.61587,     0.61536,     0.61486,     0.61435,     0.61431,     0.61445,     0.61459,     0.61473,     0.61487,     0.61501,     0.61515,     0.61529,     0.61543,     0.61557,     0.61571,     0.61604,     0.61654,     0.61705,      0.6188,     0.61842,     0.61804,\n",
            "            0.61767,     0.61729,     0.61691,     0.61653,     0.61616,     0.61578,      0.6154,     0.61582,     0.61627,     0.61672,      0.6187,     0.61917,     0.61964,     0.62011,     0.61967,     0.61913,     0.61859,     0.61805,      0.6175,     0.61696,     0.61692,     0.61805,     0.61846,\n",
            "            0.61878,      0.6191,     0.61942,     0.61974,      0.6201,     0.62046,     0.62083,      0.6212,     0.62102,     0.62009,     0.61916,     0.61823,     0.61723,     0.61618,     0.61512,     0.61397,     0.61208,     0.61109,      0.6123,     0.61254,     0.61279,     0.61303,     0.61327,\n",
            "            0.61352,     0.61376,     0.61416,     0.61456,     0.61496,     0.61535,     0.61552,     0.61568,     0.61583,     0.61598,     0.61613,     0.61629,     0.61644,     0.61659,     0.61674,     0.61689,     0.61707,     0.61737,     0.61767,     0.61798,     0.61828,     0.61858,     0.61829,\n",
            "            0.61776,     0.61723,      0.6167,     0.61617,     0.61564,      0.6151,     0.61473,      0.6144,     0.61407,     0.61374,     0.61342,     0.61309,     0.61276,     0.61243,      0.6121,     0.61177,     0.61145,     0.61138,     0.61167,     0.61196,     0.61225,     0.61253,     0.61282,\n",
            "            0.61373,      0.6146,     0.61474,     0.61488,     0.61502,     0.61516,      0.6153,     0.61544,     0.61558,     0.61572,     0.61586,       0.616,     0.61614,     0.61786,     0.61714,     0.61642,      0.6157,     0.61498,     0.61426,     0.61477,     0.61554,     0.61742,      0.6176,\n",
            "            0.61771,     0.61783,     0.61794,     0.61806,     0.61817,     0.61829,      0.6184,     0.61852,     0.61863,     0.61875,     0.61886,     0.61898,     0.61909,     0.61909,     0.61872,     0.61835,     0.61797,      0.6176,     0.61723,     0.61686,     0.61648,     0.61611,     0.61574,\n",
            "            0.61539,     0.61543,     0.61547,     0.61552,     0.61556,     0.61561,     0.61565,     0.61569,     0.61574,     0.61578,     0.61583,     0.61587,     0.61591,     0.61596,       0.616,     0.61605,     0.61609,     0.61613,     0.61618,     0.61622,     0.61626,     0.61631,     0.61635,\n",
            "             0.6164,     0.61644,     0.61648,     0.61653,     0.61657,     0.61661,     0.61666,      0.6167,     0.61675,     0.61679,     0.61683,     0.61688,     0.61692,     0.61696,     0.61701,     0.61705,     0.61585,     0.61315,     0.61278,      0.6124,     0.61203,     0.61166,     0.61128,\n",
            "            0.61091,     0.61053,     0.61016,     0.60978,     0.60938,     0.60847,     0.60755,     0.60663,     0.60571,     0.60612,      0.6068,     0.60727,     0.60734,     0.60742,     0.60749,     0.60757,     0.60764,     0.60772,     0.60779,     0.60786,     0.60794,     0.60801,     0.60809,\n",
            "            0.60816,     0.60824,     0.60831,     0.60839,     0.60846,     0.60853,     0.60861,     0.60868,     0.60876,     0.60883,      0.6089,     0.60505,     0.60482,     0.60459,     0.60437,     0.60415,     0.60392,      0.6037,     0.60347,     0.60325,     0.60302,      0.6028,     0.60258,\n",
            "            0.60235,     0.60213,      0.6019,     0.60168,     0.60145,     0.60123,     0.60118,     0.60129,      0.6014,     0.60151,     0.60161,     0.60172,     0.60183,     0.60194,     0.60204,     0.60215,     0.60226,     0.60237,     0.60247,     0.60258,     0.60269,     0.60279,     0.60311,\n",
            "            0.60348,     0.60386,     0.60423,     0.60457,     0.60477,     0.60497,     0.60517,     0.60537,     0.60557,     0.60578,     0.60598,     0.60618,     0.60588,     0.60538,     0.60489,      0.6044,     0.60391,     0.60341,     0.60292,     0.60242,     0.60245,     0.60271,     0.60296,\n",
            "            0.60322,     0.60348,     0.60373,     0.60399,     0.60362,     0.60326,     0.60289,     0.60252,     0.60215,     0.60178,     0.60141,     0.60104,     0.60067,      0.6003,     0.60002,     0.60013,     0.60023,     0.60034,     0.60044,     0.60055,     0.60066,     0.60076,     0.60087,\n",
            "            0.60097,     0.60108,     0.60118,     0.60129,     0.60139,      0.6015,      0.6016,     0.60171,     0.60072,     0.59961,     0.59849,     0.59778,     0.59805,     0.59832,     0.59859,     0.59886,     0.59913,      0.5994,     0.59968,     0.59996,     0.60025,     0.60053,     0.60081,\n",
            "            0.60109,     0.60145,     0.60182,     0.60219,     0.60256,     0.60285,     0.60234,     0.60183,     0.60131,      0.6008,     0.60028,     0.59977,     0.59925,     0.59887,     0.59907,     0.59927,     0.59946,     0.59966,     0.59985,     0.60004,     0.60024,     0.60043,      0.6006,\n",
            "            0.60069,     0.60078,     0.60088,     0.60097,     0.60106,     0.60115,     0.60124,     0.60133,     0.60142,     0.60151,      0.6016,     0.60169,     0.60178,     0.60187,     0.60196,     0.60205,     0.60214,     0.60223,     0.60232,     0.60199,     0.60152,     0.60106,      0.6006,\n",
            "            0.60013,     0.59967,      0.5992,     0.59874,     0.59827,      0.5981,     0.59795,      0.5978,     0.59765,      0.5975,     0.59735,      0.5972,     0.59705,      0.5969,     0.59675,      0.5966,     0.59645,      0.5963,     0.59615,       0.596,     0.59585,      0.5957,     0.59555,\n",
            "             0.5954,     0.59525,      0.5951,     0.59495,      0.5948,     0.59465,      0.5945,     0.59435,      0.5942,     0.59302,      0.5907,      0.5881,      0.5857,     0.58511,      0.5845,      0.5839,      0.5833,      0.5827,      0.5821,     0.58149,     0.58087,     0.58024,     0.57962,\n",
            "            0.57899,     0.57836,     0.57773,     0.57747,     0.57768,     0.57789,      0.5781,     0.57831,     0.57852,     0.57873,     0.57894,     0.57903,     0.57866,     0.57829,     0.57793,     0.57756,     0.57719,     0.57682,     0.57645,     0.57608,     0.57571,     0.57534,     0.57497,\n",
            "            0.57463,     0.57431,     0.57399,     0.57367,     0.57334,     0.57302,      0.5727,     0.57238,     0.57206,     0.57174,     0.57141,     0.57109,     0.57077,     0.57023,     0.56934,     0.56845,     0.56756,     0.56667,     0.56546,     0.56396,     0.56247,     0.56138,     0.56052,\n",
            "            0.55967,     0.55881,     0.55795,     0.55663,     0.55497,      0.5533,     0.54879,     0.54984,     0.54912,     0.54362,     0.54188,     0.54223,     0.54259,     0.54294,     0.54324,     0.54339,     0.54354,     0.54368,     0.54383,     0.54398,     0.54412,     0.54427,     0.54441,\n",
            "            0.54456,      0.5447,     0.54485,     0.54438,     0.54363,     0.54288,     0.54213,     0.54138,     0.54063,     0.53872,     0.53619,     0.53495,     0.53392,     0.53289,     0.53186,     0.53029,     0.52794,     0.52636,     0.52573,     0.52511,     0.52448,     0.52385,     0.52322,\n",
            "            0.52259,     0.52197,     0.52147,     0.52097,     0.52047,     0.51996,     0.51946,     0.51896,     0.51846,     0.51795,     0.51745,     0.51239,      0.5096,     0.50545,     0.50299,     0.50268,     0.50237,     0.50206,     0.50175,     0.50144,     0.50113,     0.50083,     0.50052,\n",
            "            0.50021,      0.4999,     0.49959,     0.49928,     0.49897,     0.49866,     0.49821,     0.49716,     0.49612,     0.49507,     0.49402,      0.4929,     0.49174,     0.49057,      0.4894,     0.48724,     0.48382,      0.4786,      0.4761,     0.47356,     0.47081,     0.46793,     0.46485,\n",
            "            0.45867,     0.45711,     0.45554,     0.45397,     0.45138,     0.44877,     0.44635,     0.44392,     0.43852,      0.4369,     0.43528,     0.43366,     0.42756,      0.4234,     0.42005,     0.41709,     0.41517,     0.41323,     0.41092,     0.40812,     0.40439,     0.39594,     0.39647,\n",
            "            0.39699,     0.39248,     0.38035,      0.3786,     0.37685,      0.3751,     0.36815,     0.36673,     0.36531,     0.36388,      0.3578,     0.35246,     0.35297,     0.35022,     0.34045,     0.33553,     0.32382,     0.31405,     0.30826,     0.30454,      0.3028,     0.30107,     0.29933,\n",
            "             0.2977,     0.29608,     0.29445,      0.2915,     0.28428,     0.27671,     0.26999,     0.25997,     0.25342,     0.24423,     0.24036,     0.23845,     0.23653,     0.23426,     0.22952,     0.21593,     0.21058,     0.20435,     0.19043,     0.17072,     0.16588,     0.16091,     0.15542,\n",
            "            0.14147,     0.12755,     0.11725,     0.10649,     0.10191,    0.097356,    0.082781,    0.079401,    0.076382,     0.07282,    0.068198,    0.063718,    0.059322,    0.054789,    0.050193,    0.041903,    0.040628,    0.039352,    0.038074,    0.036794,    0.035513,     0.03423,    0.032881,\n",
            "           0.031491,      0.0301,    0.028707,    0.027312,    0.025914,    0.023032,    0.019337,    0.016537,    0.015244,    0.013949,    0.012652,    0.011354,    0.010054,   0.0087522,           0,           0,           0,           0,           0,           0,           0,           0,           0,\n",
            "                  0,           0,           0,           0,           0,           0,           0,           0,           0,           0,           0,           0,           0,           0,           0,           0,           0,           0,           0,           0,           0,           0,           0,\n",
            "                  0,           0,           0,           0,           0,           0,           0,           0,           0,           0,           0,           0,           0,           0,           0,           0,           0,           0,           0,           0,           0,           0,           0,\n",
            "                  0,           0,           0,           0,           0,           0,           0,           0,           0,           0,           0]]), 'Confidence', 'F1'], [array([          0,    0.001001,    0.002002,    0.003003,    0.004004,    0.005005,    0.006006,    0.007007,    0.008008,    0.009009,     0.01001,    0.011011,    0.012012,    0.013013,    0.014014,    0.015015,    0.016016,    0.017017,    0.018018,    0.019019,     0.02002,    0.021021,    0.022022,    0.023023,\n",
            "          0.024024,    0.025025,    0.026026,    0.027027,    0.028028,    0.029029,     0.03003,    0.031031,    0.032032,    0.033033,    0.034034,    0.035035,    0.036036,    0.037037,    0.038038,    0.039039,     0.04004,    0.041041,    0.042042,    0.043043,    0.044044,    0.045045,    0.046046,    0.047047,\n",
            "          0.048048,    0.049049,     0.05005,    0.051051,    0.052052,    0.053053,    0.054054,    0.055055,    0.056056,    0.057057,    0.058058,    0.059059,     0.06006,    0.061061,    0.062062,    0.063063,    0.064064,    0.065065,    0.066066,    0.067067,    0.068068,    0.069069,     0.07007,    0.071071,\n",
            "          0.072072,    0.073073,    0.074074,    0.075075,    0.076076,    0.077077,    0.078078,    0.079079,     0.08008,    0.081081,    0.082082,    0.083083,    0.084084,    0.085085,    0.086086,    0.087087,    0.088088,    0.089089,     0.09009,    0.091091,    0.092092,    0.093093,    0.094094,    0.095095,\n",
            "          0.096096,    0.097097,    0.098098,    0.099099,      0.1001,      0.1011,      0.1021,      0.1031,      0.1041,     0.10511,     0.10611,     0.10711,     0.10811,     0.10911,     0.11011,     0.11111,     0.11211,     0.11311,     0.11411,     0.11512,     0.11612,     0.11712,     0.11812,     0.11912,\n",
            "           0.12012,     0.12112,     0.12212,     0.12312,     0.12412,     0.12513,     0.12613,     0.12713,     0.12813,     0.12913,     0.13013,     0.13113,     0.13213,     0.13313,     0.13413,     0.13514,     0.13614,     0.13714,     0.13814,     0.13914,     0.14014,     0.14114,     0.14214,     0.14314,\n",
            "           0.14414,     0.14515,     0.14615,     0.14715,     0.14815,     0.14915,     0.15015,     0.15115,     0.15215,     0.15315,     0.15415,     0.15516,     0.15616,     0.15716,     0.15816,     0.15916,     0.16016,     0.16116,     0.16216,     0.16316,     0.16416,     0.16517,     0.16617,     0.16717,\n",
            "           0.16817,     0.16917,     0.17017,     0.17117,     0.17217,     0.17317,     0.17417,     0.17518,     0.17618,     0.17718,     0.17818,     0.17918,     0.18018,     0.18118,     0.18218,     0.18318,     0.18418,     0.18519,     0.18619,     0.18719,     0.18819,     0.18919,     0.19019,     0.19119,\n",
            "           0.19219,     0.19319,     0.19419,      0.1952,      0.1962,      0.1972,      0.1982,      0.1992,      0.2002,      0.2012,      0.2022,      0.2032,      0.2042,     0.20521,     0.20621,     0.20721,     0.20821,     0.20921,     0.21021,     0.21121,     0.21221,     0.21321,     0.21421,     0.21522,\n",
            "           0.21622,     0.21722,     0.21822,     0.21922,     0.22022,     0.22122,     0.22222,     0.22322,     0.22422,     0.22523,     0.22623,     0.22723,     0.22823,     0.22923,     0.23023,     0.23123,     0.23223,     0.23323,     0.23423,     0.23524,     0.23624,     0.23724,     0.23824,     0.23924,\n",
            "           0.24024,     0.24124,     0.24224,     0.24324,     0.24424,     0.24525,     0.24625,     0.24725,     0.24825,     0.24925,     0.25025,     0.25125,     0.25225,     0.25325,     0.25425,     0.25526,     0.25626,     0.25726,     0.25826,     0.25926,     0.26026,     0.26126,     0.26226,     0.26326,\n",
            "           0.26426,     0.26527,     0.26627,     0.26727,     0.26827,     0.26927,     0.27027,     0.27127,     0.27227,     0.27327,     0.27427,     0.27528,     0.27628,     0.27728,     0.27828,     0.27928,     0.28028,     0.28128,     0.28228,     0.28328,     0.28428,     0.28529,     0.28629,     0.28729,\n",
            "           0.28829,     0.28929,     0.29029,     0.29129,     0.29229,     0.29329,     0.29429,      0.2953,      0.2963,      0.2973,      0.2983,      0.2993,      0.3003,      0.3013,      0.3023,      0.3033,      0.3043,     0.30531,     0.30631,     0.30731,     0.30831,     0.30931,     0.31031,     0.31131,\n",
            "           0.31231,     0.31331,     0.31431,     0.31532,     0.31632,     0.31732,     0.31832,     0.31932,     0.32032,     0.32132,     0.32232,     0.32332,     0.32432,     0.32533,     0.32633,     0.32733,     0.32833,     0.32933,     0.33033,     0.33133,     0.33233,     0.33333,     0.33433,     0.33534,\n",
            "           0.33634,     0.33734,     0.33834,     0.33934,     0.34034,     0.34134,     0.34234,     0.34334,     0.34434,     0.34535,     0.34635,     0.34735,     0.34835,     0.34935,     0.35035,     0.35135,     0.35235,     0.35335,     0.35435,     0.35536,     0.35636,     0.35736,     0.35836,     0.35936,\n",
            "           0.36036,     0.36136,     0.36236,     0.36336,     0.36436,     0.36537,     0.36637,     0.36737,     0.36837,     0.36937,     0.37037,     0.37137,     0.37237,     0.37337,     0.37437,     0.37538,     0.37638,     0.37738,     0.37838,     0.37938,     0.38038,     0.38138,     0.38238,     0.38338,\n",
            "           0.38438,     0.38539,     0.38639,     0.38739,     0.38839,     0.38939,     0.39039,     0.39139,     0.39239,     0.39339,     0.39439,      0.3954,      0.3964,      0.3974,      0.3984,      0.3994,      0.4004,      0.4014,      0.4024,      0.4034,      0.4044,     0.40541,     0.40641,     0.40741,\n",
            "           0.40841,     0.40941,     0.41041,     0.41141,     0.41241,     0.41341,     0.41441,     0.41542,     0.41642,     0.41742,     0.41842,     0.41942,     0.42042,     0.42142,     0.42242,     0.42342,     0.42442,     0.42543,     0.42643,     0.42743,     0.42843,     0.42943,     0.43043,     0.43143,\n",
            "           0.43243,     0.43343,     0.43443,     0.43544,     0.43644,     0.43744,     0.43844,     0.43944,     0.44044,     0.44144,     0.44244,     0.44344,     0.44444,     0.44545,     0.44645,     0.44745,     0.44845,     0.44945,     0.45045,     0.45145,     0.45245,     0.45345,     0.45445,     0.45546,\n",
            "           0.45646,     0.45746,     0.45846,     0.45946,     0.46046,     0.46146,     0.46246,     0.46346,     0.46446,     0.46547,     0.46647,     0.46747,     0.46847,     0.46947,     0.47047,     0.47147,     0.47247,     0.47347,     0.47447,     0.47548,     0.47648,     0.47748,     0.47848,     0.47948,\n",
            "           0.48048,     0.48148,     0.48248,     0.48348,     0.48448,     0.48549,     0.48649,     0.48749,     0.48849,     0.48949,     0.49049,     0.49149,     0.49249,     0.49349,     0.49449,      0.4955,      0.4965,      0.4975,      0.4985,      0.4995,      0.5005,      0.5015,      0.5025,      0.5035,\n",
            "            0.5045,     0.50551,     0.50651,     0.50751,     0.50851,     0.50951,     0.51051,     0.51151,     0.51251,     0.51351,     0.51451,     0.51552,     0.51652,     0.51752,     0.51852,     0.51952,     0.52052,     0.52152,     0.52252,     0.52352,     0.52452,     0.52553,     0.52653,     0.52753,\n",
            "           0.52853,     0.52953,     0.53053,     0.53153,     0.53253,     0.53353,     0.53453,     0.53554,     0.53654,     0.53754,     0.53854,     0.53954,     0.54054,     0.54154,     0.54254,     0.54354,     0.54454,     0.54555,     0.54655,     0.54755,     0.54855,     0.54955,     0.55055,     0.55155,\n",
            "           0.55255,     0.55355,     0.55455,     0.55556,     0.55656,     0.55756,     0.55856,     0.55956,     0.56056,     0.56156,     0.56256,     0.56356,     0.56456,     0.56557,     0.56657,     0.56757,     0.56857,     0.56957,     0.57057,     0.57157,     0.57257,     0.57357,     0.57457,     0.57558,\n",
            "           0.57658,     0.57758,     0.57858,     0.57958,     0.58058,     0.58158,     0.58258,     0.58358,     0.58458,     0.58559,     0.58659,     0.58759,     0.58859,     0.58959,     0.59059,     0.59159,     0.59259,     0.59359,     0.59459,      0.5956,      0.5966,      0.5976,      0.5986,      0.5996,\n",
            "            0.6006,      0.6016,      0.6026,      0.6036,      0.6046,     0.60561,     0.60661,     0.60761,     0.60861,     0.60961,     0.61061,     0.61161,     0.61261,     0.61361,     0.61461,     0.61562,     0.61662,     0.61762,     0.61862,     0.61962,     0.62062,     0.62162,     0.62262,     0.62362,\n",
            "           0.62462,     0.62563,     0.62663,     0.62763,     0.62863,     0.62963,     0.63063,     0.63163,     0.63263,     0.63363,     0.63463,     0.63564,     0.63664,     0.63764,     0.63864,     0.63964,     0.64064,     0.64164,     0.64264,     0.64364,     0.64464,     0.64565,     0.64665,     0.64765,\n",
            "           0.64865,     0.64965,     0.65065,     0.65165,     0.65265,     0.65365,     0.65465,     0.65566,     0.65666,     0.65766,     0.65866,     0.65966,     0.66066,     0.66166,     0.66266,     0.66366,     0.66466,     0.66567,     0.66667,     0.66767,     0.66867,     0.66967,     0.67067,     0.67167,\n",
            "           0.67267,     0.67367,     0.67467,     0.67568,     0.67668,     0.67768,     0.67868,     0.67968,     0.68068,     0.68168,     0.68268,     0.68368,     0.68468,     0.68569,     0.68669,     0.68769,     0.68869,     0.68969,     0.69069,     0.69169,     0.69269,     0.69369,     0.69469,      0.6957,\n",
            "            0.6967,      0.6977,      0.6987,      0.6997,      0.7007,      0.7017,      0.7027,      0.7037,      0.7047,     0.70571,     0.70671,     0.70771,     0.70871,     0.70971,     0.71071,     0.71171,     0.71271,     0.71371,     0.71471,     0.71572,     0.71672,     0.71772,     0.71872,     0.71972,\n",
            "           0.72072,     0.72172,     0.72272,     0.72372,     0.72472,     0.72573,     0.72673,     0.72773,     0.72873,     0.72973,     0.73073,     0.73173,     0.73273,     0.73373,     0.73473,     0.73574,     0.73674,     0.73774,     0.73874,     0.73974,     0.74074,     0.74174,     0.74274,     0.74374,\n",
            "           0.74474,     0.74575,     0.74675,     0.74775,     0.74875,     0.74975,     0.75075,     0.75175,     0.75275,     0.75375,     0.75475,     0.75576,     0.75676,     0.75776,     0.75876,     0.75976,     0.76076,     0.76176,     0.76276,     0.76376,     0.76476,     0.76577,     0.76677,     0.76777,\n",
            "           0.76877,     0.76977,     0.77077,     0.77177,     0.77277,     0.77377,     0.77477,     0.77578,     0.77678,     0.77778,     0.77878,     0.77978,     0.78078,     0.78178,     0.78278,     0.78378,     0.78478,     0.78579,     0.78679,     0.78779,     0.78879,     0.78979,     0.79079,     0.79179,\n",
            "           0.79279,     0.79379,     0.79479,      0.7958,      0.7968,      0.7978,      0.7988,      0.7998,      0.8008,      0.8018,      0.8028,      0.8038,      0.8048,     0.80581,     0.80681,     0.80781,     0.80881,     0.80981,     0.81081,     0.81181,     0.81281,     0.81381,     0.81481,     0.81582,\n",
            "           0.81682,     0.81782,     0.81882,     0.81982,     0.82082,     0.82182,     0.82282,     0.82382,     0.82482,     0.82583,     0.82683,     0.82783,     0.82883,     0.82983,     0.83083,     0.83183,     0.83283,     0.83383,     0.83483,     0.83584,     0.83684,     0.83784,     0.83884,     0.83984,\n",
            "           0.84084,     0.84184,     0.84284,     0.84384,     0.84484,     0.84585,     0.84685,     0.84785,     0.84885,     0.84985,     0.85085,     0.85185,     0.85285,     0.85385,     0.85485,     0.85586,     0.85686,     0.85786,     0.85886,     0.85986,     0.86086,     0.86186,     0.86286,     0.86386,\n",
            "           0.86486,     0.86587,     0.86687,     0.86787,     0.86887,     0.86987,     0.87087,     0.87187,     0.87287,     0.87387,     0.87487,     0.87588,     0.87688,     0.87788,     0.87888,     0.87988,     0.88088,     0.88188,     0.88288,     0.88388,     0.88488,     0.88589,     0.88689,     0.88789,\n",
            "           0.88889,     0.88989,     0.89089,     0.89189,     0.89289,     0.89389,     0.89489,      0.8959,      0.8969,      0.8979,      0.8989,      0.8999,      0.9009,      0.9019,      0.9029,      0.9039,      0.9049,     0.90591,     0.90691,     0.90791,     0.90891,     0.90991,     0.91091,     0.91191,\n",
            "           0.91291,     0.91391,     0.91491,     0.91592,     0.91692,     0.91792,     0.91892,     0.91992,     0.92092,     0.92192,     0.92292,     0.92392,     0.92492,     0.92593,     0.92693,     0.92793,     0.92893,     0.92993,     0.93093,     0.93193,     0.93293,     0.93393,     0.93493,     0.93594,\n",
            "           0.93694,     0.93794,     0.93894,     0.93994,     0.94094,     0.94194,     0.94294,     0.94394,     0.94494,     0.94595,     0.94695,     0.94795,     0.94895,     0.94995,     0.95095,     0.95195,     0.95295,     0.95395,     0.95495,     0.95596,     0.95696,     0.95796,     0.95896,     0.95996,\n",
            "           0.96096,     0.96196,     0.96296,     0.96396,     0.96496,     0.96597,     0.96697,     0.96797,     0.96897,     0.96997,     0.97097,     0.97197,     0.97297,     0.97397,     0.97497,     0.97598,     0.97698,     0.97798,     0.97898,     0.97998,     0.98098,     0.98198,     0.98298,     0.98398,\n",
            "           0.98498,     0.98599,     0.98699,     0.98799,     0.98899,     0.98999,     0.99099,     0.99199,     0.99299,     0.99399,     0.99499,       0.996,       0.997,       0.998,       0.999,           1]), array([[    0.17573,     0.17573,     0.22866,     0.26122,     0.28597,     0.30676,     0.31839,     0.32954,     0.33656,     0.34748,     0.35653,     0.36454,     0.37047,     0.37825,     0.39033,     0.40237,     0.41135,     0.41815,     0.42431,     0.43011,     0.43618,      0.4382,     0.44643,\n",
            "            0.45574,      0.4581,     0.46012,     0.46076,     0.46256,     0.46783,     0.47378,     0.47881,      0.4808,     0.48646,     0.49006,     0.49145,     0.49799,     0.50145,     0.50537,     0.50644,     0.50807,     0.51146,     0.51273,     0.51667,     0.51758,     0.52223,     0.52358,\n",
            "            0.52412,     0.52465,     0.52685,     0.53198,     0.53282,     0.53573,     0.53763,     0.53982,     0.54168,     0.54512,     0.54745,     0.55361,     0.55561,     0.55638,     0.55715,     0.55889,     0.56071,     0.56185,     0.56867,     0.56984,     0.57175,     0.57238,     0.57381,\n",
            "            0.57432,     0.57484,     0.57535,     0.57586,     0.57825,     0.58136,     0.58315,     0.58796,     0.58906,     0.59015,     0.59586,     0.59767,     0.60001,     0.60151,     0.61046,     0.61368,     0.61489,     0.62016,     0.62262,     0.62721,     0.63165,     0.63357,     0.63449,\n",
            "            0.63518,     0.63587,     0.63656,      0.6373,     0.63805,      0.6388,     0.63955,     0.64105,     0.64278,     0.64903,     0.65407,     0.65311,     0.65507,     0.65683,     0.65812,     0.66082,      0.6643,     0.66457,     0.66623,     0.66772,      0.6681,     0.66791,     0.66772,\n",
            "            0.66753,     0.66735,     0.66716,     0.66697,     0.66678,     0.66628,     0.66527,     0.66443,     0.66363,     0.66249,     0.66142,     0.66063,     0.66225,     0.66387,     0.66448,     0.66508,     0.66569,     0.66629,     0.66719,     0.66854,      0.6699,     0.67413,     0.67514,\n",
            "            0.67616,     0.68099,     0.68338,      0.6831,     0.68245,     0.68245,     0.68346,     0.68446,     0.68547,     0.68698,     0.68854,     0.68773,     0.69617,     0.69726,     0.69773,     0.69821,     0.69868,     0.69915,     0.69962,     0.70009,     0.70056,     0.70099,     0.70141,\n",
            "            0.70184,     0.70226,     0.70269,     0.70311,     0.70354,     0.70396,     0.70416,     0.70347,     0.70278,     0.70307,     0.70348,     0.70389,      0.7043,     0.70471,     0.70512,     0.70553,     0.70594,     0.70635,     0.70875,     0.71422,     0.71402,     0.71382,     0.71363,\n",
            "            0.71343,     0.71323,     0.71304,     0.71284,     0.71374,     0.71672,     0.71799,     0.71926,     0.72053,     0.72428,     0.72365,     0.72343,     0.72453,     0.72564,     0.72675,     0.72789,     0.72907,     0.73025,     0.73142,     0.73102,     0.73061,     0.73021,     0.73011,\n",
            "            0.73119,     0.73226,     0.73333,     0.73425,     0.73479,     0.73533,     0.73587,     0.73641,     0.73695,     0.73749,     0.73803,     0.73827,     0.73797,     0.73768,     0.73738,     0.73709,     0.73667,      0.7356,     0.73627,     0.73763,     0.73899,     0.74341,     0.74389,\n",
            "            0.74371,     0.74354,     0.74336,     0.74319,     0.74301,     0.74284,     0.74267,     0.74267,     0.74381,     0.74494,     0.74608,     0.74766,     0.75104,     0.75263,     0.75392,     0.75522,     0.75601,     0.75574,     0.75547,      0.7552,     0.75493,     0.75466,     0.75294,\n",
            "            0.75272,      0.7525,     0.75228,     0.75206,     0.75183,     0.75161,     0.75186,     0.75228,     0.75269,     0.75311,     0.75353,     0.75395,     0.75437,     0.75479,     0.75521,     0.75563,     0.75604,     0.75703,     0.75857,     0.76011,     0.76577,     0.76561,     0.76545,\n",
            "            0.76529,     0.76513,     0.76497,     0.76481,     0.76466,      0.7645,     0.76434,     0.76567,     0.76706,     0.76845,     0.77465,     0.77613,      0.7776,     0.77907,     0.77902,     0.77881,     0.77859,     0.77837,     0.77815,     0.77793,     0.77885,     0.78247,      0.7838,\n",
            "            0.78482,     0.78585,     0.78688,      0.7879,     0.78907,     0.79026,     0.79145,     0.79265,     0.79318,     0.79283,     0.79247,     0.79211,     0.79173,     0.79132,     0.79091,     0.79046,     0.78972,     0.79099,     0.79506,     0.79589,     0.79671,     0.79754,     0.79836,\n",
            "            0.79919,     0.80002,     0.80138,     0.80273,     0.80409,     0.80544,     0.80603,     0.80656,     0.80708,     0.80761,     0.80813,     0.80865,     0.80918,      0.8097,     0.81023,     0.81075,     0.81136,      0.8124,     0.81345,      0.8145,     0.81554,     0.81659,     0.81677,\n",
            "            0.81658,      0.8164,     0.81621,     0.81602,     0.81584,     0.81565,     0.81551,      0.8154,     0.81528,     0.81517,     0.81505,     0.81493,     0.81482,      0.8147,     0.81458,     0.81447,     0.81435,     0.81473,     0.81575,     0.81677,      0.8178,     0.81882,     0.81984,\n",
            "             0.8231,     0.82623,     0.82674,     0.82725,     0.82776,     0.82827,     0.82878,     0.82929,      0.8298,     0.83031,     0.83082,     0.83134,     0.83185,     0.83823,       0.838,     0.83777,     0.83754,     0.83731,     0.83708,     0.83942,      0.8423,     0.84938,     0.85005,\n",
            "            0.85049,     0.85092,     0.85136,      0.8518,     0.85223,     0.85267,     0.85311,     0.85354,     0.85398,     0.85442,     0.85485,     0.85529,     0.85573,     0.85603,     0.85593,     0.85582,     0.85571,      0.8556,      0.8555,     0.85539,     0.85528,     0.85517,     0.85506,\n",
            "            0.85497,     0.85514,     0.85531,     0.85548,     0.85565,     0.85582,     0.85599,     0.85616,     0.85633,      0.8565,     0.85667,     0.85684,     0.85701,     0.85718,     0.85735,     0.85752,     0.85769,     0.85786,     0.85803,      0.8582,     0.85837,     0.85854,     0.85871,\n",
            "            0.85888,     0.85905,     0.85922,     0.85939,     0.85956,     0.85973,      0.8599,     0.86007,     0.86024,     0.86041,     0.86058,     0.86075,     0.86092,     0.86109,     0.86126,     0.86143,     0.86119,     0.86043,     0.86033,     0.86022,     0.86012,     0.86001,      0.8599,\n",
            "             0.8598,     0.85969,     0.85958,     0.85948,     0.85937,      0.8591,     0.85884,     0.85858,     0.85831,     0.86055,      0.8633,     0.86519,     0.86549,     0.86579,      0.8661,      0.8664,      0.8667,     0.86701,     0.86731,     0.86761,     0.86791,     0.86822,     0.86852,\n",
            "            0.86882,     0.86913,     0.86943,     0.86973,     0.87004,     0.87034,     0.87064,     0.87095,     0.87125,     0.87155,     0.87186,     0.87097,     0.87091,     0.87085,     0.87079,     0.87073,     0.87067,     0.87061,     0.87055,     0.87049,     0.87043,     0.87037,     0.87031,\n",
            "            0.87025,     0.87019,     0.87013,     0.87007,     0.87001,     0.86995,     0.87016,     0.87062,     0.87107,     0.87152,     0.87197,     0.87243,     0.87288,     0.87333,     0.87378,     0.87423,     0.87469,     0.87514,     0.87559,     0.87604,      0.8765,     0.87695,     0.87829,\n",
            "            0.87988,     0.88147,     0.88307,     0.88449,     0.88536,     0.88623,     0.88709,     0.88796,     0.88883,     0.88969,     0.89056,     0.89143,     0.89158,     0.89147,     0.89136,     0.89124,     0.89113,     0.89102,      0.8909,     0.89079,     0.89154,     0.89266,     0.89379,\n",
            "            0.89491,     0.89604,     0.89717,     0.89829,     0.89823,     0.89814,     0.89806,     0.89798,      0.8979,     0.89782,     0.89774,     0.89766,     0.89758,      0.8975,     0.89753,     0.89801,     0.89848,     0.89896,     0.89943,      0.8999,     0.90038,     0.90085,     0.90133,\n",
            "             0.9018,     0.90228,     0.90275,     0.90323,      0.9037,     0.90418,     0.90465,     0.90513,     0.90497,     0.90474,     0.90451,     0.90471,     0.90595,     0.90719,     0.90843,     0.90967,     0.91092,     0.91216,     0.91347,     0.91479,      0.9161,     0.91742,     0.91874,\n",
            "            0.92006,     0.92171,     0.92347,     0.92522,     0.92697,     0.92856,     0.92848,      0.9284,     0.92832,     0.92824,     0.92816,     0.92808,     0.92799,     0.92811,     0.92905,     0.92999,     0.93093,     0.93187,     0.93281,     0.93375,     0.93469,     0.93563,     0.93646,\n",
            "             0.9369,     0.93734,     0.93778,     0.93823,     0.93867,     0.93911,     0.93955,     0.93999,     0.94043,     0.94088,     0.94132,     0.94176,      0.9422,     0.94264,     0.94308,     0.94352,     0.94397,     0.94441,     0.94485,     0.94491,     0.94485,     0.94479,     0.94474,\n",
            "            0.94468,     0.94462,     0.94456,     0.94451,     0.94445,     0.94443,     0.94441,     0.94439,     0.94437,     0.94435,     0.94433,     0.94431,     0.94429,     0.94428,     0.94426,     0.94424,     0.94422,      0.9442,     0.94418,     0.94416,     0.94414,     0.94412,     0.94411,\n",
            "            0.94409,     0.94407,     0.94405,     0.94403,     0.94401,     0.94399,     0.94397,     0.94395,     0.94394,     0.94379,     0.94349,     0.94315,     0.94284,     0.94277,     0.94269,     0.94261,     0.94253,     0.94245,     0.94237,     0.94229,     0.94221,     0.94213,     0.94204,\n",
            "            0.94196,     0.94188,     0.94179,     0.94224,     0.94336,     0.94448,      0.9456,     0.94672,     0.94784,     0.94896,     0.95008,     0.95097,     0.95093,     0.95089,     0.95085,      0.9508,     0.95076,     0.95072,     0.95068,     0.95063,     0.95059,     0.95055,     0.95051,\n",
            "            0.95047,     0.95043,     0.95039,     0.95036,     0.95032,     0.95028,     0.95025,     0.95021,     0.95017,     0.95013,      0.9501,     0.95006,     0.95002,     0.94996,     0.94986,     0.94975,     0.94965,     0.94954,      0.9494,     0.94922,     0.94904,     0.94891,     0.94881,\n",
            "            0.94871,      0.9486,      0.9485,     0.94834,     0.94813,     0.94793,     0.94741,     0.95369,     0.95731,     0.95674,     0.95863,     0.96086,     0.96309,     0.96533,     0.96725,     0.96818,     0.96911,     0.97004,     0.97097,      0.9719,     0.97283,     0.97376,     0.97469,\n",
            "            0.97562,     0.97655,     0.97748,     0.97775,     0.97771,     0.97767,     0.97763,     0.97758,     0.97754,     0.97743,     0.97729,     0.97722,     0.97716,      0.9771,     0.97705,     0.97696,     0.97682,     0.97673,     0.97669,     0.97665,     0.97662,     0.97658,     0.97654,\n",
            "             0.9765,     0.97647,     0.97644,     0.97641,     0.97638,     0.97635,     0.97632,     0.97629,     0.97626,     0.97623,      0.9762,     0.97589,     0.97571,     0.97545,      0.9753,     0.97528,     0.97526,     0.97524,     0.97522,      0.9752,     0.97518,     0.97516,     0.97514,\n",
            "            0.97512,      0.9751,     0.97508,     0.97506,     0.97504,     0.97502,     0.97499,     0.97492,     0.97485,     0.97478,     0.97471,     0.97464,     0.97456,     0.97448,      0.9744,     0.97426,     0.97402,     0.97366,     0.97348,      0.9733,      0.9731,     0.97289,     0.97266,\n",
            "             0.9722,     0.97207,     0.97195,     0.97183,     0.97163,     0.97142,     0.97123,     0.97103,     0.97059,     0.97045,     0.97031,     0.97018,     0.96965,     0.96928,     0.96898,     0.96871,     0.96853,     0.96835,     0.96814,     0.96787,     0.96751,      0.9671,     0.97343,\n",
            "            0.97977,      0.9828,     0.98213,     0.98203,     0.98192,     0.98182,     0.98141,     0.98132,     0.98123,     0.98115,     0.98076,     0.98581,     0.99376,           1,           1,           1,           1,           1,           1,           1,           1,           1,           1,\n",
            "                  1,           1,           1,           1,           1,           1,           1,           1,           1,           1,           1,           1,           1,           1,           1,           1,           1,           1,           1,           1,           1,           1,           1,\n",
            "                  1,           1,           1,           1,           1,           1,           1,           1,           1,           1,           1,           1,           1,           1,           1,           1,           1,           1,           1,           1,           1,           1,           1,\n",
            "                  1,           1,           1,           1,           1,           1,           1,           1,           1,           1,           1,           1,           1,           1,           1,           1,           1,           1,           1,           1,           1,           1,           1,\n",
            "                  1,           1,           1,           1,           1,           1,           1,           1,           1,           1,           1,           1,           1,           1,           1,           1,           1,           1,           1,           1,           1,           1,           1,\n",
            "                  1,           1,           1,           1,           1,           1,           1,           1,           1,           1,           1,           1,           1,           1,           1,           1,           1,           1,           1,           1,           1,           1,           1,\n",
            "                  1,           1,           1,           1,           1,           1,           1,           1,           1,           1,           1]]), 'Confidence', 'Precision'], [array([          0,    0.001001,    0.002002,    0.003003,    0.004004,    0.005005,    0.006006,    0.007007,    0.008008,    0.009009,     0.01001,    0.011011,    0.012012,    0.013013,    0.014014,    0.015015,    0.016016,    0.017017,    0.018018,    0.019019,     0.02002,    0.021021,    0.022022,    0.023023,\n",
            "          0.024024,    0.025025,    0.026026,    0.027027,    0.028028,    0.029029,     0.03003,    0.031031,    0.032032,    0.033033,    0.034034,    0.035035,    0.036036,    0.037037,    0.038038,    0.039039,     0.04004,    0.041041,    0.042042,    0.043043,    0.044044,    0.045045,    0.046046,    0.047047,\n",
            "          0.048048,    0.049049,     0.05005,    0.051051,    0.052052,    0.053053,    0.054054,    0.055055,    0.056056,    0.057057,    0.058058,    0.059059,     0.06006,    0.061061,    0.062062,    0.063063,    0.064064,    0.065065,    0.066066,    0.067067,    0.068068,    0.069069,     0.07007,    0.071071,\n",
            "          0.072072,    0.073073,    0.074074,    0.075075,    0.076076,    0.077077,    0.078078,    0.079079,     0.08008,    0.081081,    0.082082,    0.083083,    0.084084,    0.085085,    0.086086,    0.087087,    0.088088,    0.089089,     0.09009,    0.091091,    0.092092,    0.093093,    0.094094,    0.095095,\n",
            "          0.096096,    0.097097,    0.098098,    0.099099,      0.1001,      0.1011,      0.1021,      0.1031,      0.1041,     0.10511,     0.10611,     0.10711,     0.10811,     0.10911,     0.11011,     0.11111,     0.11211,     0.11311,     0.11411,     0.11512,     0.11612,     0.11712,     0.11812,     0.11912,\n",
            "           0.12012,     0.12112,     0.12212,     0.12312,     0.12412,     0.12513,     0.12613,     0.12713,     0.12813,     0.12913,     0.13013,     0.13113,     0.13213,     0.13313,     0.13413,     0.13514,     0.13614,     0.13714,     0.13814,     0.13914,     0.14014,     0.14114,     0.14214,     0.14314,\n",
            "           0.14414,     0.14515,     0.14615,     0.14715,     0.14815,     0.14915,     0.15015,     0.15115,     0.15215,     0.15315,     0.15415,     0.15516,     0.15616,     0.15716,     0.15816,     0.15916,     0.16016,     0.16116,     0.16216,     0.16316,     0.16416,     0.16517,     0.16617,     0.16717,\n",
            "           0.16817,     0.16917,     0.17017,     0.17117,     0.17217,     0.17317,     0.17417,     0.17518,     0.17618,     0.17718,     0.17818,     0.17918,     0.18018,     0.18118,     0.18218,     0.18318,     0.18418,     0.18519,     0.18619,     0.18719,     0.18819,     0.18919,     0.19019,     0.19119,\n",
            "           0.19219,     0.19319,     0.19419,      0.1952,      0.1962,      0.1972,      0.1982,      0.1992,      0.2002,      0.2012,      0.2022,      0.2032,      0.2042,     0.20521,     0.20621,     0.20721,     0.20821,     0.20921,     0.21021,     0.21121,     0.21221,     0.21321,     0.21421,     0.21522,\n",
            "           0.21622,     0.21722,     0.21822,     0.21922,     0.22022,     0.22122,     0.22222,     0.22322,     0.22422,     0.22523,     0.22623,     0.22723,     0.22823,     0.22923,     0.23023,     0.23123,     0.23223,     0.23323,     0.23423,     0.23524,     0.23624,     0.23724,     0.23824,     0.23924,\n",
            "           0.24024,     0.24124,     0.24224,     0.24324,     0.24424,     0.24525,     0.24625,     0.24725,     0.24825,     0.24925,     0.25025,     0.25125,     0.25225,     0.25325,     0.25425,     0.25526,     0.25626,     0.25726,     0.25826,     0.25926,     0.26026,     0.26126,     0.26226,     0.26326,\n",
            "           0.26426,     0.26527,     0.26627,     0.26727,     0.26827,     0.26927,     0.27027,     0.27127,     0.27227,     0.27327,     0.27427,     0.27528,     0.27628,     0.27728,     0.27828,     0.27928,     0.28028,     0.28128,     0.28228,     0.28328,     0.28428,     0.28529,     0.28629,     0.28729,\n",
            "           0.28829,     0.28929,     0.29029,     0.29129,     0.29229,     0.29329,     0.29429,      0.2953,      0.2963,      0.2973,      0.2983,      0.2993,      0.3003,      0.3013,      0.3023,      0.3033,      0.3043,     0.30531,     0.30631,     0.30731,     0.30831,     0.30931,     0.31031,     0.31131,\n",
            "           0.31231,     0.31331,     0.31431,     0.31532,     0.31632,     0.31732,     0.31832,     0.31932,     0.32032,     0.32132,     0.32232,     0.32332,     0.32432,     0.32533,     0.32633,     0.32733,     0.32833,     0.32933,     0.33033,     0.33133,     0.33233,     0.33333,     0.33433,     0.33534,\n",
            "           0.33634,     0.33734,     0.33834,     0.33934,     0.34034,     0.34134,     0.34234,     0.34334,     0.34434,     0.34535,     0.34635,     0.34735,     0.34835,     0.34935,     0.35035,     0.35135,     0.35235,     0.35335,     0.35435,     0.35536,     0.35636,     0.35736,     0.35836,     0.35936,\n",
            "           0.36036,     0.36136,     0.36236,     0.36336,     0.36436,     0.36537,     0.36637,     0.36737,     0.36837,     0.36937,     0.37037,     0.37137,     0.37237,     0.37337,     0.37437,     0.37538,     0.37638,     0.37738,     0.37838,     0.37938,     0.38038,     0.38138,     0.38238,     0.38338,\n",
            "           0.38438,     0.38539,     0.38639,     0.38739,     0.38839,     0.38939,     0.39039,     0.39139,     0.39239,     0.39339,     0.39439,      0.3954,      0.3964,      0.3974,      0.3984,      0.3994,      0.4004,      0.4014,      0.4024,      0.4034,      0.4044,     0.40541,     0.40641,     0.40741,\n",
            "           0.40841,     0.40941,     0.41041,     0.41141,     0.41241,     0.41341,     0.41441,     0.41542,     0.41642,     0.41742,     0.41842,     0.41942,     0.42042,     0.42142,     0.42242,     0.42342,     0.42442,     0.42543,     0.42643,     0.42743,     0.42843,     0.42943,     0.43043,     0.43143,\n",
            "           0.43243,     0.43343,     0.43443,     0.43544,     0.43644,     0.43744,     0.43844,     0.43944,     0.44044,     0.44144,     0.44244,     0.44344,     0.44444,     0.44545,     0.44645,     0.44745,     0.44845,     0.44945,     0.45045,     0.45145,     0.45245,     0.45345,     0.45445,     0.45546,\n",
            "           0.45646,     0.45746,     0.45846,     0.45946,     0.46046,     0.46146,     0.46246,     0.46346,     0.46446,     0.46547,     0.46647,     0.46747,     0.46847,     0.46947,     0.47047,     0.47147,     0.47247,     0.47347,     0.47447,     0.47548,     0.47648,     0.47748,     0.47848,     0.47948,\n",
            "           0.48048,     0.48148,     0.48248,     0.48348,     0.48448,     0.48549,     0.48649,     0.48749,     0.48849,     0.48949,     0.49049,     0.49149,     0.49249,     0.49349,     0.49449,      0.4955,      0.4965,      0.4975,      0.4985,      0.4995,      0.5005,      0.5015,      0.5025,      0.5035,\n",
            "            0.5045,     0.50551,     0.50651,     0.50751,     0.50851,     0.50951,     0.51051,     0.51151,     0.51251,     0.51351,     0.51451,     0.51552,     0.51652,     0.51752,     0.51852,     0.51952,     0.52052,     0.52152,     0.52252,     0.52352,     0.52452,     0.52553,     0.52653,     0.52753,\n",
            "           0.52853,     0.52953,     0.53053,     0.53153,     0.53253,     0.53353,     0.53453,     0.53554,     0.53654,     0.53754,     0.53854,     0.53954,     0.54054,     0.54154,     0.54254,     0.54354,     0.54454,     0.54555,     0.54655,     0.54755,     0.54855,     0.54955,     0.55055,     0.55155,\n",
            "           0.55255,     0.55355,     0.55455,     0.55556,     0.55656,     0.55756,     0.55856,     0.55956,     0.56056,     0.56156,     0.56256,     0.56356,     0.56456,     0.56557,     0.56657,     0.56757,     0.56857,     0.56957,     0.57057,     0.57157,     0.57257,     0.57357,     0.57457,     0.57558,\n",
            "           0.57658,     0.57758,     0.57858,     0.57958,     0.58058,     0.58158,     0.58258,     0.58358,     0.58458,     0.58559,     0.58659,     0.58759,     0.58859,     0.58959,     0.59059,     0.59159,     0.59259,     0.59359,     0.59459,      0.5956,      0.5966,      0.5976,      0.5986,      0.5996,\n",
            "            0.6006,      0.6016,      0.6026,      0.6036,      0.6046,     0.60561,     0.60661,     0.60761,     0.60861,     0.60961,     0.61061,     0.61161,     0.61261,     0.61361,     0.61461,     0.61562,     0.61662,     0.61762,     0.61862,     0.61962,     0.62062,     0.62162,     0.62262,     0.62362,\n",
            "           0.62462,     0.62563,     0.62663,     0.62763,     0.62863,     0.62963,     0.63063,     0.63163,     0.63263,     0.63363,     0.63463,     0.63564,     0.63664,     0.63764,     0.63864,     0.63964,     0.64064,     0.64164,     0.64264,     0.64364,     0.64464,     0.64565,     0.64665,     0.64765,\n",
            "           0.64865,     0.64965,     0.65065,     0.65165,     0.65265,     0.65365,     0.65465,     0.65566,     0.65666,     0.65766,     0.65866,     0.65966,     0.66066,     0.66166,     0.66266,     0.66366,     0.66466,     0.66567,     0.66667,     0.66767,     0.66867,     0.66967,     0.67067,     0.67167,\n",
            "           0.67267,     0.67367,     0.67467,     0.67568,     0.67668,     0.67768,     0.67868,     0.67968,     0.68068,     0.68168,     0.68268,     0.68368,     0.68468,     0.68569,     0.68669,     0.68769,     0.68869,     0.68969,     0.69069,     0.69169,     0.69269,     0.69369,     0.69469,      0.6957,\n",
            "            0.6967,      0.6977,      0.6987,      0.6997,      0.7007,      0.7017,      0.7027,      0.7037,      0.7047,     0.70571,     0.70671,     0.70771,     0.70871,     0.70971,     0.71071,     0.71171,     0.71271,     0.71371,     0.71471,     0.71572,     0.71672,     0.71772,     0.71872,     0.71972,\n",
            "           0.72072,     0.72172,     0.72272,     0.72372,     0.72472,     0.72573,     0.72673,     0.72773,     0.72873,     0.72973,     0.73073,     0.73173,     0.73273,     0.73373,     0.73473,     0.73574,     0.73674,     0.73774,     0.73874,     0.73974,     0.74074,     0.74174,     0.74274,     0.74374,\n",
            "           0.74474,     0.74575,     0.74675,     0.74775,     0.74875,     0.74975,     0.75075,     0.75175,     0.75275,     0.75375,     0.75475,     0.75576,     0.75676,     0.75776,     0.75876,     0.75976,     0.76076,     0.76176,     0.76276,     0.76376,     0.76476,     0.76577,     0.76677,     0.76777,\n",
            "           0.76877,     0.76977,     0.77077,     0.77177,     0.77277,     0.77377,     0.77477,     0.77578,     0.77678,     0.77778,     0.77878,     0.77978,     0.78078,     0.78178,     0.78278,     0.78378,     0.78478,     0.78579,     0.78679,     0.78779,     0.78879,     0.78979,     0.79079,     0.79179,\n",
            "           0.79279,     0.79379,     0.79479,      0.7958,      0.7968,      0.7978,      0.7988,      0.7998,      0.8008,      0.8018,      0.8028,      0.8038,      0.8048,     0.80581,     0.80681,     0.80781,     0.80881,     0.80981,     0.81081,     0.81181,     0.81281,     0.81381,     0.81481,     0.81582,\n",
            "           0.81682,     0.81782,     0.81882,     0.81982,     0.82082,     0.82182,     0.82282,     0.82382,     0.82482,     0.82583,     0.82683,     0.82783,     0.82883,     0.82983,     0.83083,     0.83183,     0.83283,     0.83383,     0.83483,     0.83584,     0.83684,     0.83784,     0.83884,     0.83984,\n",
            "           0.84084,     0.84184,     0.84284,     0.84384,     0.84484,     0.84585,     0.84685,     0.84785,     0.84885,     0.84985,     0.85085,     0.85185,     0.85285,     0.85385,     0.85485,     0.85586,     0.85686,     0.85786,     0.85886,     0.85986,     0.86086,     0.86186,     0.86286,     0.86386,\n",
            "           0.86486,     0.86587,     0.86687,     0.86787,     0.86887,     0.86987,     0.87087,     0.87187,     0.87287,     0.87387,     0.87487,     0.87588,     0.87688,     0.87788,     0.87888,     0.87988,     0.88088,     0.88188,     0.88288,     0.88388,     0.88488,     0.88589,     0.88689,     0.88789,\n",
            "           0.88889,     0.88989,     0.89089,     0.89189,     0.89289,     0.89389,     0.89489,      0.8959,      0.8969,      0.8979,      0.8989,      0.8999,      0.9009,      0.9019,      0.9029,      0.9039,      0.9049,     0.90591,     0.90691,     0.90791,     0.90891,     0.90991,     0.91091,     0.91191,\n",
            "           0.91291,     0.91391,     0.91491,     0.91592,     0.91692,     0.91792,     0.91892,     0.91992,     0.92092,     0.92192,     0.92292,     0.92392,     0.92492,     0.92593,     0.92693,     0.92793,     0.92893,     0.92993,     0.93093,     0.93193,     0.93293,     0.93393,     0.93493,     0.93594,\n",
            "           0.93694,     0.93794,     0.93894,     0.93994,     0.94094,     0.94194,     0.94294,     0.94394,     0.94494,     0.94595,     0.94695,     0.94795,     0.94895,     0.94995,     0.95095,     0.95195,     0.95295,     0.95395,     0.95495,     0.95596,     0.95696,     0.95796,     0.95896,     0.95996,\n",
            "           0.96096,     0.96196,     0.96296,     0.96396,     0.96496,     0.96597,     0.96697,     0.96797,     0.96897,     0.96997,     0.97097,     0.97197,     0.97297,     0.97397,     0.97497,     0.97598,     0.97698,     0.97798,     0.97898,     0.97998,     0.98098,     0.98198,     0.98298,     0.98398,\n",
            "           0.98498,     0.98599,     0.98699,     0.98799,     0.98899,     0.98999,     0.99099,     0.99199,     0.99299,     0.99399,     0.99499,       0.996,       0.997,       0.998,       0.999,           1]), array([[    0.72103,     0.72103,     0.70815,     0.69099,     0.69099,     0.69099,      0.6867,      0.6824,     0.67811,     0.66953,     0.66953,     0.66953,     0.66524,     0.66524,     0.66524,     0.66094,     0.66094,     0.66094,     0.66094,     0.66094,     0.66072,     0.65665,     0.65665,\n",
            "            0.65665,     0.65665,     0.65475,      0.6491,     0.64807,     0.64807,     0.64807,     0.64807,     0.64378,     0.64378,     0.63948,     0.63948,     0.63948,     0.63948,     0.63948,     0.63948,     0.63948,     0.63948,     0.63519,     0.63313,      0.6309,      0.6309,      0.6309,\n",
            "             0.6309,      0.6309,      0.6309,     0.62661,     0.62232,     0.62232,     0.62232,     0.62232,     0.62232,     0.62232,     0.62232,     0.62232,     0.62232,     0.62232,     0.62232,     0.62232,     0.62232,     0.62232,     0.62232,     0.62232,     0.62232,     0.61803,     0.61803,\n",
            "            0.61803,     0.61803,     0.61803,     0.61803,     0.61803,     0.61803,     0.61803,     0.61803,     0.61803,     0.61803,     0.61803,     0.61803,     0.61803,     0.61803,     0.61803,     0.61373,     0.60944,     0.60944,     0.60944,     0.60944,     0.60944,     0.60944,     0.60944,\n",
            "            0.60944,     0.60944,     0.60944,     0.60944,     0.60944,     0.60944,     0.60944,     0.60944,     0.60944,     0.60944,     0.60862,     0.60605,     0.60515,     0.60515,     0.60515,     0.60515,       0.603,     0.60086,     0.60086,     0.59657,     0.59611,     0.59561,      0.5951,\n",
            "             0.5946,      0.5941,     0.59359,     0.59309,     0.59259,     0.59126,     0.58858,     0.58635,     0.58425,     0.58127,     0.57852,     0.57648,     0.57511,     0.57511,     0.57511,     0.57511,     0.57511,     0.57511,     0.57511,     0.57511,     0.57511,     0.57511,     0.57511,\n",
            "            0.57511,     0.57511,     0.57511,     0.57359,     0.57186,     0.57082,     0.57082,     0.57082,     0.57082,     0.57082,     0.57082,     0.56712,     0.56223,     0.56223,     0.56223,     0.56223,     0.56223,     0.56223,     0.56223,     0.56223,     0.56223,     0.56223,     0.56223,\n",
            "            0.56223,     0.56223,     0.56223,     0.56223,     0.56223,     0.56223,     0.56184,        0.56,     0.55815,     0.55794,     0.55794,     0.55794,     0.55794,     0.55794,     0.55794,     0.55794,     0.55794,     0.55794,     0.55794,     0.55775,     0.55722,     0.55668,     0.55615,\n",
            "            0.55561,     0.55508,     0.55454,       0.554,     0.55365,     0.55365,     0.55365,     0.55365,     0.55365,     0.55243,     0.55069,     0.54936,     0.54936,     0.54936,     0.54936,     0.54936,     0.54936,     0.54936,     0.54936,     0.54823,     0.54709,     0.54596,     0.54506,\n",
            "            0.54506,     0.54506,     0.54506,     0.54506,     0.54506,     0.54506,     0.54506,     0.54506,     0.54506,     0.54506,     0.54506,     0.54477,     0.54394,     0.54312,     0.54229,     0.54146,     0.54029,     0.53732,     0.53648,     0.53648,     0.53648,     0.53648,     0.53603,\n",
            "            0.53555,     0.53506,     0.53457,     0.53408,     0.53359,      0.5331,     0.53261,     0.53219,     0.53219,     0.53219,     0.53219,     0.53219,     0.53219,     0.53219,     0.53219,     0.53219,     0.53194,     0.53116,     0.53039,     0.52961,     0.52884,     0.52806,     0.52319,\n",
            "            0.52257,     0.52196,     0.52134,     0.52072,      0.5201,     0.51948,     0.51931,     0.51931,     0.51931,     0.51931,     0.51931,     0.51931,     0.51931,     0.51931,     0.51931,     0.51931,     0.51931,     0.51931,     0.51931,     0.51931,     0.51916,      0.5187,     0.51824,\n",
            "            0.51779,     0.51733,     0.51687,     0.51641,     0.51596,      0.5155,     0.51504,     0.51502,     0.51502,     0.51502,     0.51502,     0.51502,     0.51502,     0.51502,     0.51444,     0.51379,     0.51314,     0.51249,     0.51184,     0.51119,     0.51073,     0.51073,     0.51073,\n",
            "            0.51073,     0.51073,     0.51073,     0.51073,     0.51073,     0.51073,     0.51073,     0.51073,     0.51026,     0.50916,     0.50805,     0.50695,     0.50576,     0.50451,     0.50326,     0.50191,     0.49968,     0.49785,     0.49785,     0.49785,     0.49785,     0.49785,     0.49785,\n",
            "            0.49785,     0.49785,     0.49785,     0.49785,     0.49785,     0.49785,     0.49785,     0.49785,     0.49785,     0.49785,     0.49785,     0.49785,     0.49785,     0.49785,     0.49785,     0.49785,     0.49785,     0.49785,     0.49785,     0.49785,     0.49785,     0.49785,     0.49742,\n",
            "             0.4968,     0.49618,     0.49557,     0.49495,     0.49433,     0.49371,     0.49328,      0.4929,     0.49252,     0.49214,     0.49176,     0.49138,       0.491,     0.49062,     0.49024,     0.48986,     0.48949,     0.48927,     0.48927,     0.48927,     0.48927,     0.48927,     0.48927,\n",
            "            0.48927,     0.48927,     0.48927,     0.48927,     0.48927,     0.48927,     0.48927,     0.48927,     0.48927,     0.48927,     0.48927,     0.48927,     0.48927,     0.48925,     0.48842,      0.4876,     0.48677,     0.48595,     0.48512,     0.48498,     0.48498,     0.48498,     0.48498,\n",
            "            0.48498,     0.48498,     0.48498,     0.48498,     0.48498,     0.48498,     0.48498,     0.48498,     0.48498,     0.48498,     0.48498,     0.48498,     0.48498,     0.48488,     0.48446,     0.48404,     0.48361,     0.48319,     0.48277,     0.48235,     0.48193,     0.48151,     0.48109,\n",
            "            0.48069,     0.48069,     0.48069,     0.48069,     0.48069,     0.48069,     0.48069,     0.48069,     0.48069,     0.48069,     0.48069,     0.48069,     0.48069,     0.48069,     0.48069,     0.48069,     0.48069,     0.48069,     0.48069,     0.48069,     0.48069,     0.48069,     0.48069,\n",
            "            0.48069,     0.48069,     0.48069,     0.48069,     0.48069,     0.48069,     0.48069,     0.48069,     0.48069,     0.48069,     0.48069,     0.48069,     0.48069,     0.48069,     0.48069,     0.48069,      0.4793,     0.47628,     0.47586,     0.47544,     0.47502,      0.4746,     0.47418,\n",
            "            0.47376,     0.47334,     0.47292,     0.47251,     0.47206,     0.47104,     0.47002,       0.469,     0.46798,     0.46781,     0.46781,     0.46781,     0.46781,     0.46781,     0.46781,     0.46781,     0.46781,     0.46781,     0.46781,     0.46781,     0.46781,     0.46781,     0.46781,\n",
            "            0.46781,     0.46781,     0.46781,     0.46781,     0.46781,     0.46781,     0.46781,     0.46781,     0.46781,     0.46781,     0.46781,     0.46353,     0.46327,     0.46303,     0.46278,     0.46254,     0.46229,     0.46204,      0.4618,     0.46155,     0.46131,     0.46106,     0.46081,\n",
            "            0.46057,     0.46032,     0.46008,     0.45983,     0.45959,     0.45934,     0.45923,     0.45923,     0.45923,     0.45923,     0.45923,     0.45923,     0.45923,     0.45923,     0.45923,     0.45923,     0.45923,     0.45923,     0.45923,     0.45923,     0.45923,     0.45923,     0.45923,\n",
            "            0.45923,     0.45923,     0.45923,     0.45923,     0.45923,     0.45923,     0.45923,     0.45923,     0.45923,     0.45923,     0.45923,     0.45923,     0.45884,     0.45831,     0.45777,     0.45724,      0.4567,     0.45617,     0.45563,      0.4551,     0.45494,     0.45494,     0.45494,\n",
            "            0.45494,     0.45494,     0.45494,     0.45494,     0.45454,     0.45414,     0.45375,     0.45335,     0.45295,     0.45255,     0.45216,     0.45176,     0.45136,     0.45096,     0.45064,     0.45064,     0.45064,     0.45064,     0.45064,     0.45064,     0.45064,     0.45064,     0.45064,\n",
            "            0.45064,     0.45064,     0.45064,     0.45064,     0.45064,     0.45064,     0.45064,     0.45064,     0.44957,     0.44839,      0.4472,     0.44635,     0.44635,     0.44635,     0.44635,     0.44635,     0.44635,     0.44635,     0.44635,     0.44635,     0.44635,     0.44635,     0.44635,\n",
            "            0.44635,     0.44635,     0.44635,     0.44635,     0.44635,     0.44631,     0.44576,     0.44522,     0.44467,     0.44413,     0.44359,     0.44304,      0.4425,     0.44206,     0.44206,     0.44206,     0.44206,     0.44206,     0.44206,     0.44206,     0.44206,     0.44206,     0.44206,\n",
            "            0.44206,     0.44206,     0.44206,     0.44206,     0.44206,     0.44206,     0.44206,     0.44206,     0.44206,     0.44206,     0.44206,     0.44206,     0.44206,     0.44206,     0.44206,     0.44206,     0.44206,     0.44206,     0.44206,     0.44169,      0.4412,     0.44072,     0.44023,\n",
            "            0.43975,     0.43926,     0.43877,     0.43829,      0.4378,     0.43762,     0.43747,     0.43731,     0.43715,       0.437,     0.43684,     0.43668,     0.43653,     0.43637,     0.43622,     0.43606,      0.4359,     0.43575,     0.43559,     0.43543,     0.43528,     0.43512,     0.43497,\n",
            "            0.43481,     0.43465,      0.4345,     0.43434,     0.43418,     0.43403,     0.43387,     0.43372,     0.43356,     0.43234,     0.42994,     0.42726,      0.4248,     0.42418,     0.42357,     0.42295,     0.42234,     0.42172,     0.42111,     0.42049,     0.41985,     0.41922,     0.41858,\n",
            "            0.41794,      0.4173,     0.41667,     0.41631,     0.41631,     0.41631,     0.41631,     0.41631,     0.41631,     0.41631,     0.41631,     0.41624,     0.41586,     0.41549,     0.41512,     0.41474,     0.41437,       0.414,     0.41362,     0.41325,     0.41288,     0.41251,     0.41213,\n",
            "            0.41179,     0.41147,     0.41115,     0.41083,      0.4105,     0.41018,     0.40986,     0.40954,     0.40921,     0.40889,     0.40857,     0.40825,     0.40792,     0.40738,      0.4065,     0.40561,     0.40473,     0.40384,     0.40263,     0.40115,     0.39967,      0.3986,     0.39775,\n",
            "             0.3969,     0.39606,     0.39521,     0.39392,     0.39229,     0.39066,     0.38627,     0.38627,     0.38497,     0.37968,     0.37768,     0.37768,     0.37768,     0.37768,     0.37768,     0.37768,     0.37768,     0.37768,     0.37768,     0.37768,     0.37768,     0.37768,     0.37768,\n",
            "            0.37768,     0.37768,     0.37768,     0.37719,     0.37648,     0.37577,     0.37506,     0.37435,     0.37363,     0.37182,     0.36944,     0.36827,     0.36731,     0.36634,     0.36538,     0.36391,     0.36171,     0.36025,     0.35967,     0.35909,      0.3585,     0.35792,     0.35734,\n",
            "            0.35676,     0.35618,     0.35572,     0.35526,      0.3548,     0.35433,     0.35387,     0.35341,     0.35295,     0.35248,     0.35202,      0.3474,     0.34486,     0.34109,     0.33888,      0.3386,     0.33832,     0.33805,     0.33777,     0.33749,     0.33721,     0.33693,     0.33666,\n",
            "            0.33638,      0.3361,     0.33582,     0.33555,     0.33527,     0.33499,     0.33459,     0.33366,     0.33272,     0.33179,     0.33086,     0.32986,     0.32883,     0.32779,     0.32676,     0.32485,     0.32184,     0.31728,     0.31511,      0.3129,     0.31052,     0.30805,      0.3054,\n",
            "            0.30014,     0.29881,     0.29748,     0.29616,     0.29397,     0.29178,     0.28976,     0.28773,     0.28325,     0.28191,     0.28057,     0.27924,     0.27424,     0.27086,     0.26814,     0.26576,     0.26421,     0.26266,     0.26081,     0.25858,     0.25562,     0.24893,     0.24893,\n",
            "            0.24893,      0.2452,     0.23584,     0.23451,     0.23317,     0.23183,     0.22657,      0.2255,     0.22443,     0.22336,     0.21882,     0.21459,     0.21459,     0.21228,     0.20515,     0.20158,     0.19319,     0.18627,     0.18221,     0.17962,     0.17841,     0.17721,       0.176,\n",
            "            0.17488,     0.17376,     0.17264,     0.17062,     0.16569,     0.16057,     0.15606,      0.1494,      0.1451,      0.1391,      0.1366,     0.13536,     0.13413,     0.13267,     0.12963,     0.12103,     0.11768,     0.11381,     0.10524,    0.093325,    0.090444,    0.087493,    0.084255,\n",
            "           0.076117,    0.068121,    0.062274,    0.056238,    0.053691,    0.051169,    0.043177,    0.041342,    0.039707,    0.037786,    0.035303,    0.032907,    0.030568,    0.028166,    0.025743,      0.0214,    0.020735,    0.020071,    0.019406,    0.018742,    0.018078,    0.017413,    0.016715,\n",
            "           0.015998,     0.01528,    0.014562,    0.013845,    0.013127,     0.01165,   0.0097631,   0.0083373,   0.0076803,   0.0070233,   0.0063663,   0.0057093,   0.0050523,   0.0043953,           0,           0,           0,           0,           0,           0,           0,           0,           0,\n",
            "                  0,           0,           0,           0,           0,           0,           0,           0,           0,           0,           0,           0,           0,           0,           0,           0,           0,           0,           0,           0,           0,           0,           0,\n",
            "                  0,           0,           0,           0,           0,           0,           0,           0,           0,           0,           0,           0,           0,           0,           0,           0,           0,           0,           0,           0,           0,           0,           0,\n",
            "                  0,           0,           0,           0,           0,           0,           0,           0,           0,           0,           0]]), 'Confidence', 'Recall']]\n",
            "fitness: 0.4668576283661723\n",
            "keys: ['metrics/precision(B)', 'metrics/recall(B)', 'metrics/mAP50(B)', 'metrics/mAP50-95(B)']\n",
            "maps: array([    0.44851])\n",
            "names: {0: 'person'}\n",
            "plot: True\n",
            "results_dict: {'metrics/precision(B)': 0.6972626250134614, 'metrics/recall(B)': 0.5622317596566524, 'metrics/mAP50(B)': 0.6319608151439794, 'metrics/mAP50-95(B)': 0.4485128298353048, 'fitness': 0.4668576283661723}\n",
            "save_dir: PosixPath('runs/detect/val3')\n",
            "speed: {'preprocess': 3.9588507483987248, 'inference': 9.014368057250977, 'loss': 0.0012341667624080884, 'postprocess': 6.478158165426815}\n",
            "task: 'detect'\n"
          ]
        }
      ]
    },
    {
      "cell_type": "code",
      "source": [
        "!git clone https://github.com/violaClara/CNN-YOLO-DatasetCrowd.git"
      ],
      "metadata": {
        "colab": {
          "base_uri": "https://localhost:8080/"
        },
        "id": "Anysd7j1AsgU",
        "outputId": "e4b73264-6472-4ea6-cf77-8e973478ab17"
      },
      "execution_count": null,
      "outputs": [
        {
          "output_type": "stream",
          "name": "stdout",
          "text": [
            "Cloning into 'CNN-YOLO-DatasetCrowd'...\n",
            "remote: Enumerating objects: 9067, done.\u001b[K\n",
            "remote: Counting objects: 100% (1402/1402), done.\u001b[K\n",
            "remote: Compressing objects: 100% (1318/1318), done.\u001b[K\n",
            "remote: Total 9067 (delta 4), reused 1394 (delta 0), pack-reused 7665\u001b[K\n",
            "Receiving objects: 100% (9067/9067), 610.10 MiB | 30.63 MiB/s, done.\n",
            "Resolving deltas: 100% (40/40), done.\n",
            "Updating files: 100% (9941/9941), done.\n"
          ]
        }
      ]
    },
    {
      "cell_type": "code",
      "source": [
        "# Initialize the YOLO model by loading the pre-trained weights from 'yolov8n.pt'\n",
        "model2 = YOLO('yolov8n.pt')"
      ],
      "metadata": {
        "colab": {
          "base_uri": "https://localhost:8080/"
        },
        "id": "GM-1rC1oA1Ol",
        "outputId": "051cb444-6e9f-46e9-d8dd-c5bbfe5a93da"
      },
      "execution_count": null,
      "outputs": [
        {
          "output_type": "stream",
          "name": "stdout",
          "text": [
            "Downloading https://github.com/ultralytics/assets/releases/download/v8.2.0/yolov8n.pt to 'yolov8n.pt'...\n"
          ]
        },
        {
          "output_type": "stream",
          "name": "stderr",
          "text": [
            "100%|██████████| 6.25M/6.25M [00:00<00:00, 67.1MB/s]\n"
          ]
        }
      ]
    },
    {
      "cell_type": "code",
      "source": [
        "# Train the model with the specified parameters\n",
        "results = model2.train(\n",
        "    data='/content/CNN-YOLO-DatasetCrowd/data.yaml',  # Path to the training data YAML file\n",
        "    epochs=20,  # Number of training epochs\n",
        "    batch=6,  # Batch size for training\n",
        "    imgsz=512,  # Input image size\n",
        "    seed=32,  # Random seed for reproducibility\n",
        "    optimizer='NAdam',  # Optimizer algorithm\n",
        "    weight_decay=1e-4,  # Weight decay for regularization\n",
        "    momentum=0.937,  # Initial momentum for the optimizer\n",
        "    cos_lr=True,  # Use cosine learning rate scheduling\n",
        "    lr0=0.01,  # Initial learning rate\n",
        "    lrf=1e-5,  # Final learning rate\n",
        "    warmup_epochs=10,  # Number of warmup epochs\n",
        "    warmup_momentum=0.5,  # Momentum during warm-up epochs\n",
        "    close_mosaic=20,  # Parameter for close mosaic augmentation\n",
        "    label_smoothing=0.2,  # Label smoothing parameter for regularization\n",
        "    dropout=0.5,  # Dropout rate to prevent overfitting\n",
        "    verbose=True  # Print verbose training information\n",
        ")"
      ],
      "metadata": {
        "colab": {
          "base_uri": "https://localhost:8080/",
          "height": 1000
        },
        "id": "jUUFroA8-wEI",
        "outputId": "c2faae35-2b98-4d7c-df9e-1699790a2cfd"
      },
      "execution_count": null,
      "outputs": [
        {
          "output_type": "stream",
          "name": "stdout",
          "text": [
            "Ultralytics YOLOv8.2.48 🚀 Python-3.10.12 torch-2.3.0+cu121 CPU (Intel Xeon 2.20GHz)\n",
            "\u001b[34m\u001b[1mengine/trainer: \u001b[0mtask=detect, mode=train, model=yolov8n.pt, data=/content/CNN-YOLO-DatasetCrowd/data.yaml, epochs=20, time=None, patience=100, batch=6, imgsz=512, save=True, save_period=-1, cache=False, device=None, workers=8, project=None, name=train2, exist_ok=False, pretrained=True, optimizer=NAdam, verbose=True, seed=32, deterministic=True, single_cls=False, rect=False, cos_lr=True, close_mosaic=20, resume=False, amp=True, fraction=1.0, profile=False, freeze=None, multi_scale=False, overlap_mask=True, mask_ratio=4, dropout=0.5, val=True, split=val, save_json=False, save_hybrid=False, conf=None, iou=0.7, max_det=300, half=False, dnn=False, plots=True, source=None, vid_stride=1, stream_buffer=False, visualize=False, augment=False, agnostic_nms=False, classes=None, retina_masks=False, embed=None, show=False, save_frames=False, save_txt=False, save_conf=False, save_crop=False, show_labels=True, show_conf=True, show_boxes=True, line_width=None, format=torchscript, keras=False, optimize=False, int8=False, dynamic=False, simplify=False, opset=None, workspace=4, nms=False, lr0=0.01, lrf=1e-05, momentum=0.937, weight_decay=0.0001, warmup_epochs=10, warmup_momentum=0.5, warmup_bias_lr=0.1, box=7.5, cls=0.5, dfl=1.5, pose=12.0, kobj=1.0, label_smoothing=0.2, nbs=64, hsv_h=0.015, hsv_s=0.7, hsv_v=0.4, degrees=0.0, translate=0.1, scale=0.5, shear=0.0, perspective=0.0, flipud=0.0, fliplr=0.5, bgr=0.0, mosaic=1.0, mixup=0.0, copy_paste=0.0, auto_augment=randaugment, erasing=0.4, crop_fraction=1.0, cfg=None, tracker=botsort.yaml, save_dir=runs/detect/train2\n",
            "Overriding model.yaml nc=80 with nc=1\n",
            "\n",
            "                   from  n    params  module                                       arguments                     \n",
            "  0                  -1  1       464  ultralytics.nn.modules.conv.Conv             [3, 16, 3, 2]                 \n",
            "  1                  -1  1      4672  ultralytics.nn.modules.conv.Conv             [16, 32, 3, 2]                \n",
            "  2                  -1  1      7360  ultralytics.nn.modules.block.C2f             [32, 32, 1, True]             \n",
            "  3                  -1  1     18560  ultralytics.nn.modules.conv.Conv             [32, 64, 3, 2]                \n",
            "  4                  -1  2     49664  ultralytics.nn.modules.block.C2f             [64, 64, 2, True]             \n",
            "  5                  -1  1     73984  ultralytics.nn.modules.conv.Conv             [64, 128, 3, 2]               \n",
            "  6                  -1  2    197632  ultralytics.nn.modules.block.C2f             [128, 128, 2, True]           \n",
            "  7                  -1  1    295424  ultralytics.nn.modules.conv.Conv             [128, 256, 3, 2]              \n",
            "  8                  -1  1    460288  ultralytics.nn.modules.block.C2f             [256, 256, 1, True]           \n",
            "  9                  -1  1    164608  ultralytics.nn.modules.block.SPPF            [256, 256, 5]                 \n",
            " 10                  -1  1         0  torch.nn.modules.upsampling.Upsample         [None, 2, 'nearest']          \n",
            " 11             [-1, 6]  1         0  ultralytics.nn.modules.conv.Concat           [1]                           \n",
            " 12                  -1  1    148224  ultralytics.nn.modules.block.C2f             [384, 128, 1]                 \n",
            " 13                  -1  1         0  torch.nn.modules.upsampling.Upsample         [None, 2, 'nearest']          \n",
            " 14             [-1, 4]  1         0  ultralytics.nn.modules.conv.Concat           [1]                           \n",
            " 15                  -1  1     37248  ultralytics.nn.modules.block.C2f             [192, 64, 1]                  \n",
            " 16                  -1  1     36992  ultralytics.nn.modules.conv.Conv             [64, 64, 3, 2]                \n",
            " 17            [-1, 12]  1         0  ultralytics.nn.modules.conv.Concat           [1]                           \n",
            " 18                  -1  1    123648  ultralytics.nn.modules.block.C2f             [192, 128, 1]                 \n",
            " 19                  -1  1    147712  ultralytics.nn.modules.conv.Conv             [128, 128, 3, 2]              \n",
            " 20             [-1, 9]  1         0  ultralytics.nn.modules.conv.Concat           [1]                           \n",
            " 21                  -1  1    493056  ultralytics.nn.modules.block.C2f             [384, 256, 1]                 \n",
            " 22        [15, 18, 21]  1    751507  ultralytics.nn.modules.head.Detect           [1, [64, 128, 256]]           \n",
            "Model summary: 225 layers, 3011043 parameters, 3011027 gradients, 8.2 GFLOPs\n",
            "\n",
            "Transferred 319/355 items from pretrained weights\n",
            "\u001b[34m\u001b[1mTensorBoard: \u001b[0mStart with 'tensorboard --logdir runs/detect/train2', view at http://localhost:6006/\n",
            "Freezing layer 'model.22.dfl.conv.weight'\n"
          ]
        },
        {
          "output_type": "stream",
          "name": "stderr",
          "text": [
            "\u001b[34m\u001b[1mtrain: \u001b[0mScanning /content/CNN-YOLO-DatasetCrowd/train/labels... 3649 images, 9 backgrounds, 0 corrupt: 100%|██████████| 3649/3649 [00:03<00:00, 972.57it/s]"
          ]
        },
        {
          "output_type": "stream",
          "name": "stdout",
          "text": [
            "\u001b[34m\u001b[1mtrain: \u001b[0mWARNING ⚠️ /content/CNN-YOLO-DatasetCrowd/train/images/img_1248_jpg.rf.f612c06e499635dc1a57f6a1a2c31175.jpg: 1 duplicate labels removed\n",
            "\u001b[34m\u001b[1mtrain: \u001b[0mWARNING ⚠️ /content/CNN-YOLO-DatasetCrowd/train/images/img_407_jpg.rf.0091f81400c8238b5aa4b82cb898aeb4.jpg: 1 duplicate labels removed\n",
            "\u001b[34m\u001b[1mtrain: \u001b[0mWARNING ⚠️ /content/CNN-YOLO-DatasetCrowd/train/images/img_407_jpg.rf.53c9e6221e062c99963ce2ab2c95bf15.jpg: 1 duplicate labels removed\n",
            "\u001b[34m\u001b[1mtrain: \u001b[0mWARNING ⚠️ /content/CNN-YOLO-DatasetCrowd/train/images/img_407_jpg.rf.a7927d1d1bff866acb4e06d753374b47.jpg: 1 duplicate labels removed\n",
            "\u001b[34m\u001b[1mtrain: \u001b[0mWARNING ⚠️ /content/CNN-YOLO-DatasetCrowd/train/images/img_434_jpg.rf.17cc57870bbd1f5197114e812ea48481.jpg: 1 duplicate labels removed\n",
            "\u001b[34m\u001b[1mtrain: \u001b[0mWARNING ⚠️ /content/CNN-YOLO-DatasetCrowd/train/images/img_434_jpg.rf.24ffa93730c2468dfb8f94f502b24d26.jpg: 1 duplicate labels removed\n",
            "\u001b[34m\u001b[1mtrain: \u001b[0mWARNING ⚠️ /content/CNN-YOLO-DatasetCrowd/train/images/img_434_jpg.rf.cf0a9f2d142e5c9b9543230e2243205a.jpg: 1 duplicate labels removed\n",
            "\u001b[34m\u001b[1mtrain: \u001b[0mWARNING ⚠️ /content/CNN-YOLO-DatasetCrowd/train/images/img_434_jpg.rf.f53e0d281630f23a6a801007837e6daf.jpg: 1 duplicate labels removed\n",
            "\u001b[34m\u001b[1mtrain: \u001b[0mWARNING ⚠️ /content/CNN-YOLO-DatasetCrowd/train/images/img_436_jpg.rf.61a8ffbca25a2c77387d67045b0439ca.jpg: 1 duplicate labels removed\n",
            "\u001b[34m\u001b[1mtrain: \u001b[0mWARNING ⚠️ /content/CNN-YOLO-DatasetCrowd/train/images/img_436_jpg.rf.66bbe4fa9adba0a8572fa6c5dc27874e.jpg: 1 duplicate labels removed\n",
            "\u001b[34m\u001b[1mtrain: \u001b[0mWARNING ⚠️ /content/CNN-YOLO-DatasetCrowd/train/images/img_469_jpg.rf.094f76d2fea36050c537dbd16e6776fe.jpg: 1 duplicate labels removed\n",
            "\u001b[34m\u001b[1mtrain: \u001b[0mWARNING ⚠️ /content/CNN-YOLO-DatasetCrowd/train/images/img_469_jpg.rf.7463fd513fea610fcb5b139a0cc2c036.jpg: 1 duplicate labels removed\n",
            "\u001b[34m\u001b[1mtrain: \u001b[0mWARNING ⚠️ /content/CNN-YOLO-DatasetCrowd/train/images/img_469_jpg.rf.83e4b6c75f98aab5542a16d5606cdf45.jpg: 1 duplicate labels removed\n",
            "\u001b[34m\u001b[1mtrain: \u001b[0mWARNING ⚠️ /content/CNN-YOLO-DatasetCrowd/train/images/img_469_jpg.rf.e50b34cce53e86447031da2be95870e4.jpg: 1 duplicate labels removed\n",
            "\u001b[34m\u001b[1mtrain: \u001b[0mWARNING ⚠️ /content/CNN-YOLO-DatasetCrowd/train/images/img_472_jpg.rf.451b42df4ec0cbe960ce8545a32c8582.jpg: 3 duplicate labels removed\n",
            "\u001b[34m\u001b[1mtrain: \u001b[0mWARNING ⚠️ /content/CNN-YOLO-DatasetCrowd/train/images/img_472_jpg.rf.71eda13b67e55b5e94f0ba9052d01455.jpg: 3 duplicate labels removed\n",
            "\u001b[34m\u001b[1mtrain: \u001b[0mWARNING ⚠️ /content/CNN-YOLO-DatasetCrowd/train/images/img_472_jpg.rf.b642347c69a3401cac85c0226d6f94b3.jpg: 3 duplicate labels removed\n",
            "\u001b[34m\u001b[1mtrain: \u001b[0mWARNING ⚠️ /content/CNN-YOLO-DatasetCrowd/train/images/img_472_jpg.rf.c5970efdddb494de03e0a764fc05c8a1.jpg: 3 duplicate labels removed\n",
            "\u001b[34m\u001b[1mtrain: \u001b[0mWARNING ⚠️ /content/CNN-YOLO-DatasetCrowd/train/images/img_472_jpg.rf.f6babbe5f07f302708c758b99e20667c.jpg: 3 duplicate labels removed\n",
            "\u001b[34m\u001b[1mtrain: \u001b[0mWARNING ⚠️ /content/CNN-YOLO-DatasetCrowd/train/images/img_476_jpg.rf.0df10de1146d5d4014b47101bfae1c8a.jpg: 1 duplicate labels removed\n",
            "\u001b[34m\u001b[1mtrain: \u001b[0mWARNING ⚠️ /content/CNN-YOLO-DatasetCrowd/train/images/img_476_jpg.rf.42b103d5933d5ae30a3b5aa9d76950aa.jpg: 1 duplicate labels removed\n",
            "\u001b[34m\u001b[1mtrain: \u001b[0mWARNING ⚠️ /content/CNN-YOLO-DatasetCrowd/train/images/img_476_jpg.rf.69cbecd60906699721f9ad11f5ee0983.jpg: 1 duplicate labels removed\n",
            "\u001b[34m\u001b[1mtrain: \u001b[0mWARNING ⚠️ /content/CNN-YOLO-DatasetCrowd/train/images/img_476_jpg.rf.9050c3adeddbfd434258fbe9fb918d16.jpg: 1 duplicate labels removed\n",
            "\u001b[34m\u001b[1mtrain: \u001b[0mWARNING ⚠️ /content/CNN-YOLO-DatasetCrowd/train/images/img_529_jpg.rf.1d5e34bc68ccfe151b1486bcbd35fc32.jpg: 1 duplicate labels removed\n",
            "\u001b[34m\u001b[1mtrain: \u001b[0mWARNING ⚠️ /content/CNN-YOLO-DatasetCrowd/train/images/img_529_jpg.rf.598bc36c18709958ea9787796832bfb3.jpg: 1 duplicate labels removed\n",
            "\u001b[34m\u001b[1mtrain: \u001b[0mWARNING ⚠️ /content/CNN-YOLO-DatasetCrowd/train/images/img_529_jpg.rf.9f548008e6d57ec61732722f205b004e.jpg: 1 duplicate labels removed\n",
            "\u001b[34m\u001b[1mtrain: \u001b[0mWARNING ⚠️ /content/CNN-YOLO-DatasetCrowd/train/images/img_529_jpg.rf.a410c7ff75ae77c3d75f6c8a86aa4e57.jpg: 1 duplicate labels removed\n"
          ]
        },
        {
          "output_type": "stream",
          "name": "stderr",
          "text": [
            "\n"
          ]
        },
        {
          "output_type": "stream",
          "name": "stdout",
          "text": [
            "\u001b[34m\u001b[1mtrain: \u001b[0mNew cache created: /content/CNN-YOLO-DatasetCrowd/train/labels.cache\n",
            "\u001b[34m\u001b[1malbumentations: \u001b[0mBlur(p=0.01, blur_limit=(3, 7)), MedianBlur(p=0.01, blur_limit=(3, 7)), ToGray(p=0.01), CLAHE(p=0.01, clip_limit=(1, 4.0), tile_grid_size=(8, 8))\n"
          ]
        },
        {
          "output_type": "stream",
          "name": "stderr",
          "text": [
            "\u001b[34m\u001b[1mval: \u001b[0mScanning /content/CNN-YOLO-DatasetCrowd/valid/labels... 884 images, 0 backgrounds, 0 corrupt: 100%|██████████| 884/884 [00:01<00:00, 636.43it/s]"
          ]
        },
        {
          "output_type": "stream",
          "name": "stdout",
          "text": [
            "\u001b[34m\u001b[1mval: \u001b[0mWARNING ⚠️ /content/CNN-YOLO-DatasetCrowd/valid/images/img_1248_jpg.rf.f5071a1c20118ca17541998c4e8ffc2f.jpg: 1 duplicate labels removed\n",
            "\u001b[34m\u001b[1mval: \u001b[0mWARNING ⚠️ /content/CNN-YOLO-DatasetCrowd/valid/images/img_434_jpg.rf.5a4ae5c185c88c91f91dee12ed942a4f.jpg: 1 duplicate labels removed\n",
            "\u001b[34m\u001b[1mval: \u001b[0mWARNING ⚠️ /content/CNN-YOLO-DatasetCrowd/valid/images/img_436_jpg.rf.47ec601eb5a775e399d300e2eacfb63d.jpg: 1 duplicate labels removed\n",
            "\u001b[34m\u001b[1mval: \u001b[0mWARNING ⚠️ /content/CNN-YOLO-DatasetCrowd/valid/images/img_469_jpg.rf.70de792333442982760711f27570411c.jpg: 1 duplicate labels removed\n",
            "\u001b[34m\u001b[1mval: \u001b[0mWARNING ⚠️ /content/CNN-YOLO-DatasetCrowd/valid/images/img_469_jpg.rf.ceab157db2108fc2fe16f13caca826b0.jpg: 1 duplicate labels removed\n",
            "\u001b[34m\u001b[1mval: \u001b[0mWARNING ⚠️ /content/CNN-YOLO-DatasetCrowd/valid/images/img_472_jpg.rf.58633ebbeabddd2bec4303073a8a02e5.jpg: 3 duplicate labels removed\n",
            "\u001b[34m\u001b[1mval: \u001b[0mWARNING ⚠️ /content/CNN-YOLO-DatasetCrowd/valid/images/img_476_jpg.rf.97ac5f7dcca719bc7a6e9de2f0d83a86.jpg: 1 duplicate labels removed\n",
            "\u001b[34m\u001b[1mval: \u001b[0mWARNING ⚠️ /content/CNN-YOLO-DatasetCrowd/valid/images/img_476_jpg.rf.c60f9d75453a0860dbe11dea827def2d.jpg: 1 duplicate labels removed\n",
            "\u001b[34m\u001b[1mval: \u001b[0mWARNING ⚠️ /content/CNN-YOLO-DatasetCrowd/valid/images/img_529_jpg.rf.0d2b4a945349dbbb4e252ffe3a17f2f5.jpg: 1 duplicate labels removed\n",
            "\u001b[34m\u001b[1mval: \u001b[0mNew cache created: /content/CNN-YOLO-DatasetCrowd/valid/labels.cache\n"
          ]
        },
        {
          "output_type": "stream",
          "name": "stderr",
          "text": [
            "\n"
          ]
        },
        {
          "output_type": "stream",
          "name": "stdout",
          "text": [
            "Plotting labels to runs/detect/train2/labels.jpg... \n",
            "\u001b[34m\u001b[1moptimizer:\u001b[0m NAdam(lr=0.01, momentum=0.937) with parameter groups 57 weight(decay=0.0), 64 weight(decay=0.00010312500000000001), 63 bias(decay=0.0)\n",
            "\u001b[34m\u001b[1mTensorBoard: \u001b[0mmodel graph visualization added ✅\n",
            "Image sizes 512 train, 512 val\n",
            "Using 0 dataloader workers\n",
            "Logging results to \u001b[1mruns/detect/train2\u001b[0m\n",
            "Starting training for 20 epochs...\n",
            "Closing dataloader mosaic\n",
            "\u001b[34m\u001b[1malbumentations: \u001b[0mBlur(p=0.01, blur_limit=(3, 7)), MedianBlur(p=0.01, blur_limit=(3, 7)), ToGray(p=0.01), CLAHE(p=0.01, clip_limit=(1, 4.0), tile_grid_size=(8, 8))\n",
            "\n",
            "      Epoch    GPU_mem   box_loss   cls_loss   dfl_loss  Instances       Size\n"
          ]
        },
        {
          "output_type": "stream",
          "name": "stderr",
          "text": [
            "       1/20         0G      2.971      2.121      1.508        354        512:  16%|█▋        | 99/609 [09:07<47:01,  5.53s/it]\n"
          ]
        },
        {
          "output_type": "error",
          "ename": "KeyboardInterrupt",
          "evalue": "",
          "traceback": [
            "\u001b[0;31m---------------------------------------------------------------------------\u001b[0m",
            "\u001b[0;31mKeyboardInterrupt\u001b[0m                         Traceback (most recent call last)",
            "\u001b[0;32m<ipython-input-7-ff263edecb23>\u001b[0m in \u001b[0;36m<cell line: 2>\u001b[0;34m()\u001b[0m\n\u001b[1;32m      1\u001b[0m \u001b[0;31m# Train the model with the specified parameters\u001b[0m\u001b[0;34m\u001b[0m\u001b[0;34m\u001b[0m\u001b[0m\n\u001b[0;32m----> 2\u001b[0;31m results = model2.train(\n\u001b[0m\u001b[1;32m      3\u001b[0m     \u001b[0mdata\u001b[0m\u001b[0;34m=\u001b[0m\u001b[0;34m'/content/CNN-YOLO-DatasetCrowd/data.yaml'\u001b[0m\u001b[0;34m,\u001b[0m  \u001b[0;31m# Path to the training data YAML file\u001b[0m\u001b[0;34m\u001b[0m\u001b[0;34m\u001b[0m\u001b[0m\n\u001b[1;32m      4\u001b[0m     \u001b[0mepochs\u001b[0m\u001b[0;34m=\u001b[0m\u001b[0;36m20\u001b[0m\u001b[0;34m,\u001b[0m  \u001b[0;31m# Number of training epochs\u001b[0m\u001b[0;34m\u001b[0m\u001b[0;34m\u001b[0m\u001b[0m\n\u001b[1;32m      5\u001b[0m     \u001b[0mbatch\u001b[0m\u001b[0;34m=\u001b[0m\u001b[0;36m6\u001b[0m\u001b[0;34m,\u001b[0m  \u001b[0;31m# Batch size for training\u001b[0m\u001b[0;34m\u001b[0m\u001b[0;34m\u001b[0m\u001b[0m\n",
            "\u001b[0;32m/usr/local/lib/python3.10/dist-packages/ultralytics/engine/model.py\u001b[0m in \u001b[0;36mtrain\u001b[0;34m(self, trainer, **kwargs)\u001b[0m\n\u001b[1;32m    648\u001b[0m \u001b[0;34m\u001b[0m\u001b[0m\n\u001b[1;32m    649\u001b[0m         \u001b[0mself\u001b[0m\u001b[0;34m.\u001b[0m\u001b[0mtrainer\u001b[0m\u001b[0;34m.\u001b[0m\u001b[0mhub_session\u001b[0m \u001b[0;34m=\u001b[0m \u001b[0mself\u001b[0m\u001b[0;34m.\u001b[0m\u001b[0msession\u001b[0m  \u001b[0;31m# attach optional HUB session\u001b[0m\u001b[0;34m\u001b[0m\u001b[0;34m\u001b[0m\u001b[0m\n\u001b[0;32m--> 650\u001b[0;31m         \u001b[0mself\u001b[0m\u001b[0;34m.\u001b[0m\u001b[0mtrainer\u001b[0m\u001b[0;34m.\u001b[0m\u001b[0mtrain\u001b[0m\u001b[0;34m(\u001b[0m\u001b[0;34m)\u001b[0m\u001b[0;34m\u001b[0m\u001b[0;34m\u001b[0m\u001b[0m\n\u001b[0m\u001b[1;32m    651\u001b[0m         \u001b[0;31m# Update model and cfg after training\u001b[0m\u001b[0;34m\u001b[0m\u001b[0;34m\u001b[0m\u001b[0m\n\u001b[1;32m    652\u001b[0m         \u001b[0;32mif\u001b[0m \u001b[0mRANK\u001b[0m \u001b[0;32min\u001b[0m \u001b[0;34m{\u001b[0m\u001b[0;34m-\u001b[0m\u001b[0;36m1\u001b[0m\u001b[0;34m,\u001b[0m \u001b[0;36m0\u001b[0m\u001b[0;34m}\u001b[0m\u001b[0;34m:\u001b[0m\u001b[0;34m\u001b[0m\u001b[0;34m\u001b[0m\u001b[0m\n",
            "\u001b[0;32m/usr/local/lib/python3.10/dist-packages/ultralytics/engine/trainer.py\u001b[0m in \u001b[0;36mtrain\u001b[0;34m(self)\u001b[0m\n\u001b[1;32m    202\u001b[0m \u001b[0;34m\u001b[0m\u001b[0m\n\u001b[1;32m    203\u001b[0m         \u001b[0;32melse\u001b[0m\u001b[0;34m:\u001b[0m\u001b[0;34m\u001b[0m\u001b[0;34m\u001b[0m\u001b[0m\n\u001b[0;32m--> 204\u001b[0;31m             \u001b[0mself\u001b[0m\u001b[0;34m.\u001b[0m\u001b[0m_do_train\u001b[0m\u001b[0;34m(\u001b[0m\u001b[0mworld_size\u001b[0m\u001b[0;34m)\u001b[0m\u001b[0;34m\u001b[0m\u001b[0;34m\u001b[0m\u001b[0m\n\u001b[0m\u001b[1;32m    205\u001b[0m \u001b[0;34m\u001b[0m\u001b[0m\n\u001b[1;32m    206\u001b[0m     \u001b[0;32mdef\u001b[0m \u001b[0m_setup_scheduler\u001b[0m\u001b[0;34m(\u001b[0m\u001b[0mself\u001b[0m\u001b[0;34m)\u001b[0m\u001b[0;34m:\u001b[0m\u001b[0;34m\u001b[0m\u001b[0;34m\u001b[0m\u001b[0m\n",
            "\u001b[0;32m/usr/local/lib/python3.10/dist-packages/ultralytics/engine/trainer.py\u001b[0m in \u001b[0;36m_do_train\u001b[0;34m(self, world_size)\u001b[0m\n\u001b[1;32m    379\u001b[0m                 \u001b[0;32mwith\u001b[0m \u001b[0mtorch\u001b[0m\u001b[0;34m.\u001b[0m\u001b[0mcuda\u001b[0m\u001b[0;34m.\u001b[0m\u001b[0mamp\u001b[0m\u001b[0;34m.\u001b[0m\u001b[0mautocast\u001b[0m\u001b[0;34m(\u001b[0m\u001b[0mself\u001b[0m\u001b[0;34m.\u001b[0m\u001b[0mamp\u001b[0m\u001b[0;34m)\u001b[0m\u001b[0;34m:\u001b[0m\u001b[0;34m\u001b[0m\u001b[0;34m\u001b[0m\u001b[0m\n\u001b[1;32m    380\u001b[0m                     \u001b[0mbatch\u001b[0m \u001b[0;34m=\u001b[0m \u001b[0mself\u001b[0m\u001b[0;34m.\u001b[0m\u001b[0mpreprocess_batch\u001b[0m\u001b[0;34m(\u001b[0m\u001b[0mbatch\u001b[0m\u001b[0;34m)\u001b[0m\u001b[0;34m\u001b[0m\u001b[0;34m\u001b[0m\u001b[0m\n\u001b[0;32m--> 381\u001b[0;31m                     \u001b[0mself\u001b[0m\u001b[0;34m.\u001b[0m\u001b[0mloss\u001b[0m\u001b[0;34m,\u001b[0m \u001b[0mself\u001b[0m\u001b[0;34m.\u001b[0m\u001b[0mloss_items\u001b[0m \u001b[0;34m=\u001b[0m \u001b[0mself\u001b[0m\u001b[0;34m.\u001b[0m\u001b[0mmodel\u001b[0m\u001b[0;34m(\u001b[0m\u001b[0mbatch\u001b[0m\u001b[0;34m)\u001b[0m\u001b[0;34m\u001b[0m\u001b[0;34m\u001b[0m\u001b[0m\n\u001b[0m\u001b[1;32m    382\u001b[0m                     \u001b[0;32mif\u001b[0m \u001b[0mRANK\u001b[0m \u001b[0;34m!=\u001b[0m \u001b[0;34m-\u001b[0m\u001b[0;36m1\u001b[0m\u001b[0;34m:\u001b[0m\u001b[0;34m\u001b[0m\u001b[0;34m\u001b[0m\u001b[0m\n\u001b[1;32m    383\u001b[0m                         \u001b[0mself\u001b[0m\u001b[0;34m.\u001b[0m\u001b[0mloss\u001b[0m \u001b[0;34m*=\u001b[0m \u001b[0mworld_size\u001b[0m\u001b[0;34m\u001b[0m\u001b[0;34m\u001b[0m\u001b[0m\n",
            "\u001b[0;32m/usr/local/lib/python3.10/dist-packages/torch/nn/modules/module.py\u001b[0m in \u001b[0;36m_wrapped_call_impl\u001b[0;34m(self, *args, **kwargs)\u001b[0m\n\u001b[1;32m   1530\u001b[0m             \u001b[0;32mreturn\u001b[0m \u001b[0mself\u001b[0m\u001b[0;34m.\u001b[0m\u001b[0m_compiled_call_impl\u001b[0m\u001b[0;34m(\u001b[0m\u001b[0;34m*\u001b[0m\u001b[0margs\u001b[0m\u001b[0;34m,\u001b[0m \u001b[0;34m**\u001b[0m\u001b[0mkwargs\u001b[0m\u001b[0;34m)\u001b[0m  \u001b[0;31m# type: ignore[misc]\u001b[0m\u001b[0;34m\u001b[0m\u001b[0;34m\u001b[0m\u001b[0m\n\u001b[1;32m   1531\u001b[0m         \u001b[0;32melse\u001b[0m\u001b[0;34m:\u001b[0m\u001b[0;34m\u001b[0m\u001b[0;34m\u001b[0m\u001b[0m\n\u001b[0;32m-> 1532\u001b[0;31m             \u001b[0;32mreturn\u001b[0m \u001b[0mself\u001b[0m\u001b[0;34m.\u001b[0m\u001b[0m_call_impl\u001b[0m\u001b[0;34m(\u001b[0m\u001b[0;34m*\u001b[0m\u001b[0margs\u001b[0m\u001b[0;34m,\u001b[0m \u001b[0;34m**\u001b[0m\u001b[0mkwargs\u001b[0m\u001b[0;34m)\u001b[0m\u001b[0;34m\u001b[0m\u001b[0;34m\u001b[0m\u001b[0m\n\u001b[0m\u001b[1;32m   1533\u001b[0m \u001b[0;34m\u001b[0m\u001b[0m\n\u001b[1;32m   1534\u001b[0m     \u001b[0;32mdef\u001b[0m \u001b[0m_call_impl\u001b[0m\u001b[0;34m(\u001b[0m\u001b[0mself\u001b[0m\u001b[0;34m,\u001b[0m \u001b[0;34m*\u001b[0m\u001b[0margs\u001b[0m\u001b[0;34m,\u001b[0m \u001b[0;34m**\u001b[0m\u001b[0mkwargs\u001b[0m\u001b[0;34m)\u001b[0m\u001b[0;34m:\u001b[0m\u001b[0;34m\u001b[0m\u001b[0;34m\u001b[0m\u001b[0m\n",
            "\u001b[0;32m/usr/local/lib/python3.10/dist-packages/torch/nn/modules/module.py\u001b[0m in \u001b[0;36m_call_impl\u001b[0;34m(self, *args, **kwargs)\u001b[0m\n\u001b[1;32m   1539\u001b[0m                 \u001b[0;32mor\u001b[0m \u001b[0m_global_backward_pre_hooks\u001b[0m \u001b[0;32mor\u001b[0m \u001b[0m_global_backward_hooks\u001b[0m\u001b[0;34m\u001b[0m\u001b[0;34m\u001b[0m\u001b[0m\n\u001b[1;32m   1540\u001b[0m                 or _global_forward_hooks or _global_forward_pre_hooks):\n\u001b[0;32m-> 1541\u001b[0;31m             \u001b[0;32mreturn\u001b[0m \u001b[0mforward_call\u001b[0m\u001b[0;34m(\u001b[0m\u001b[0;34m*\u001b[0m\u001b[0margs\u001b[0m\u001b[0;34m,\u001b[0m \u001b[0;34m**\u001b[0m\u001b[0mkwargs\u001b[0m\u001b[0;34m)\u001b[0m\u001b[0;34m\u001b[0m\u001b[0;34m\u001b[0m\u001b[0m\n\u001b[0m\u001b[1;32m   1542\u001b[0m \u001b[0;34m\u001b[0m\u001b[0m\n\u001b[1;32m   1543\u001b[0m         \u001b[0;32mtry\u001b[0m\u001b[0;34m:\u001b[0m\u001b[0;34m\u001b[0m\u001b[0;34m\u001b[0m\u001b[0m\n",
            "\u001b[0;32m/usr/local/lib/python3.10/dist-packages/ultralytics/nn/tasks.py\u001b[0m in \u001b[0;36mforward\u001b[0;34m(self, x, *args, **kwargs)\u001b[0m\n\u001b[1;32m     99\u001b[0m         \"\"\"\n\u001b[1;32m    100\u001b[0m         \u001b[0;32mif\u001b[0m \u001b[0misinstance\u001b[0m\u001b[0;34m(\u001b[0m\u001b[0mx\u001b[0m\u001b[0;34m,\u001b[0m \u001b[0mdict\u001b[0m\u001b[0;34m)\u001b[0m\u001b[0;34m:\u001b[0m  \u001b[0;31m# for cases of training and validating while training.\u001b[0m\u001b[0;34m\u001b[0m\u001b[0;34m\u001b[0m\u001b[0m\n\u001b[0;32m--> 101\u001b[0;31m             \u001b[0;32mreturn\u001b[0m \u001b[0mself\u001b[0m\u001b[0;34m.\u001b[0m\u001b[0mloss\u001b[0m\u001b[0;34m(\u001b[0m\u001b[0mx\u001b[0m\u001b[0;34m,\u001b[0m \u001b[0;34m*\u001b[0m\u001b[0margs\u001b[0m\u001b[0;34m,\u001b[0m \u001b[0;34m**\u001b[0m\u001b[0mkwargs\u001b[0m\u001b[0;34m)\u001b[0m\u001b[0;34m\u001b[0m\u001b[0;34m\u001b[0m\u001b[0m\n\u001b[0m\u001b[1;32m    102\u001b[0m         \u001b[0;32mreturn\u001b[0m \u001b[0mself\u001b[0m\u001b[0;34m.\u001b[0m\u001b[0mpredict\u001b[0m\u001b[0;34m(\u001b[0m\u001b[0mx\u001b[0m\u001b[0;34m,\u001b[0m \u001b[0;34m*\u001b[0m\u001b[0margs\u001b[0m\u001b[0;34m,\u001b[0m \u001b[0;34m**\u001b[0m\u001b[0mkwargs\u001b[0m\u001b[0;34m)\u001b[0m\u001b[0;34m\u001b[0m\u001b[0;34m\u001b[0m\u001b[0m\n\u001b[1;32m    103\u001b[0m \u001b[0;34m\u001b[0m\u001b[0m\n",
            "\u001b[0;32m/usr/local/lib/python3.10/dist-packages/ultralytics/nn/tasks.py\u001b[0m in \u001b[0;36mloss\u001b[0;34m(self, batch, preds)\u001b[0m\n\u001b[1;32m    281\u001b[0m \u001b[0;34m\u001b[0m\u001b[0m\n\u001b[1;32m    282\u001b[0m         \u001b[0mpreds\u001b[0m \u001b[0;34m=\u001b[0m \u001b[0mself\u001b[0m\u001b[0;34m.\u001b[0m\u001b[0mforward\u001b[0m\u001b[0;34m(\u001b[0m\u001b[0mbatch\u001b[0m\u001b[0;34m[\u001b[0m\u001b[0;34m\"img\"\u001b[0m\u001b[0;34m]\u001b[0m\u001b[0;34m)\u001b[0m \u001b[0;32mif\u001b[0m \u001b[0mpreds\u001b[0m \u001b[0;32mis\u001b[0m \u001b[0;32mNone\u001b[0m \u001b[0;32melse\u001b[0m \u001b[0mpreds\u001b[0m\u001b[0;34m\u001b[0m\u001b[0;34m\u001b[0m\u001b[0m\n\u001b[0;32m--> 283\u001b[0;31m         \u001b[0;32mreturn\u001b[0m \u001b[0mself\u001b[0m\u001b[0;34m.\u001b[0m\u001b[0mcriterion\u001b[0m\u001b[0;34m(\u001b[0m\u001b[0mpreds\u001b[0m\u001b[0;34m,\u001b[0m \u001b[0mbatch\u001b[0m\u001b[0;34m)\u001b[0m\u001b[0;34m\u001b[0m\u001b[0;34m\u001b[0m\u001b[0m\n\u001b[0m\u001b[1;32m    284\u001b[0m \u001b[0;34m\u001b[0m\u001b[0m\n\u001b[1;32m    285\u001b[0m     \u001b[0;32mdef\u001b[0m \u001b[0minit_criterion\u001b[0m\u001b[0;34m(\u001b[0m\u001b[0mself\u001b[0m\u001b[0;34m)\u001b[0m\u001b[0;34m:\u001b[0m\u001b[0;34m\u001b[0m\u001b[0;34m\u001b[0m\u001b[0m\n",
            "\u001b[0;32m/usr/local/lib/python3.10/dist-packages/ultralytics/utils/loss.py\u001b[0m in \u001b[0;36m__call__\u001b[0;34m(self, preds, batch)\u001b[0m\n\u001b[1;32m    229\u001b[0m         \u001b[0mpred_bboxes\u001b[0m \u001b[0;34m=\u001b[0m \u001b[0mself\u001b[0m\u001b[0;34m.\u001b[0m\u001b[0mbbox_decode\u001b[0m\u001b[0;34m(\u001b[0m\u001b[0manchor_points\u001b[0m\u001b[0;34m,\u001b[0m \u001b[0mpred_distri\u001b[0m\u001b[0;34m)\u001b[0m  \u001b[0;31m# xyxy, (b, h*w, 4)\u001b[0m\u001b[0;34m\u001b[0m\u001b[0;34m\u001b[0m\u001b[0m\n\u001b[1;32m    230\u001b[0m \u001b[0;34m\u001b[0m\u001b[0m\n\u001b[0;32m--> 231\u001b[0;31m         _, target_bboxes, target_scores, fg_mask, _ = self.assigner(\n\u001b[0m\u001b[1;32m    232\u001b[0m             \u001b[0mpred_scores\u001b[0m\u001b[0;34m.\u001b[0m\u001b[0mdetach\u001b[0m\u001b[0;34m(\u001b[0m\u001b[0;34m)\u001b[0m\u001b[0;34m.\u001b[0m\u001b[0msigmoid\u001b[0m\u001b[0;34m(\u001b[0m\u001b[0;34m)\u001b[0m\u001b[0;34m,\u001b[0m\u001b[0;34m\u001b[0m\u001b[0;34m\u001b[0m\u001b[0m\n\u001b[1;32m    233\u001b[0m             \u001b[0;34m(\u001b[0m\u001b[0mpred_bboxes\u001b[0m\u001b[0;34m.\u001b[0m\u001b[0mdetach\u001b[0m\u001b[0;34m(\u001b[0m\u001b[0;34m)\u001b[0m \u001b[0;34m*\u001b[0m \u001b[0mstride_tensor\u001b[0m\u001b[0;34m)\u001b[0m\u001b[0;34m.\u001b[0m\u001b[0mtype\u001b[0m\u001b[0;34m(\u001b[0m\u001b[0mgt_bboxes\u001b[0m\u001b[0;34m.\u001b[0m\u001b[0mdtype\u001b[0m\u001b[0;34m)\u001b[0m\u001b[0;34m,\u001b[0m\u001b[0;34m\u001b[0m\u001b[0;34m\u001b[0m\u001b[0m\n",
            "\u001b[0;32m/usr/local/lib/python3.10/dist-packages/torch/nn/modules/module.py\u001b[0m in \u001b[0;36m_wrapped_call_impl\u001b[0;34m(self, *args, **kwargs)\u001b[0m\n\u001b[1;32m   1530\u001b[0m             \u001b[0;32mreturn\u001b[0m \u001b[0mself\u001b[0m\u001b[0;34m.\u001b[0m\u001b[0m_compiled_call_impl\u001b[0m\u001b[0;34m(\u001b[0m\u001b[0;34m*\u001b[0m\u001b[0margs\u001b[0m\u001b[0;34m,\u001b[0m \u001b[0;34m**\u001b[0m\u001b[0mkwargs\u001b[0m\u001b[0;34m)\u001b[0m  \u001b[0;31m# type: ignore[misc]\u001b[0m\u001b[0;34m\u001b[0m\u001b[0;34m\u001b[0m\u001b[0m\n\u001b[1;32m   1531\u001b[0m         \u001b[0;32melse\u001b[0m\u001b[0;34m:\u001b[0m\u001b[0;34m\u001b[0m\u001b[0;34m\u001b[0m\u001b[0m\n\u001b[0;32m-> 1532\u001b[0;31m             \u001b[0;32mreturn\u001b[0m \u001b[0mself\u001b[0m\u001b[0;34m.\u001b[0m\u001b[0m_call_impl\u001b[0m\u001b[0;34m(\u001b[0m\u001b[0;34m*\u001b[0m\u001b[0margs\u001b[0m\u001b[0;34m,\u001b[0m \u001b[0;34m**\u001b[0m\u001b[0mkwargs\u001b[0m\u001b[0;34m)\u001b[0m\u001b[0;34m\u001b[0m\u001b[0;34m\u001b[0m\u001b[0m\n\u001b[0m\u001b[1;32m   1533\u001b[0m \u001b[0;34m\u001b[0m\u001b[0m\n\u001b[1;32m   1534\u001b[0m     \u001b[0;32mdef\u001b[0m \u001b[0m_call_impl\u001b[0m\u001b[0;34m(\u001b[0m\u001b[0mself\u001b[0m\u001b[0;34m,\u001b[0m \u001b[0;34m*\u001b[0m\u001b[0margs\u001b[0m\u001b[0;34m,\u001b[0m \u001b[0;34m**\u001b[0m\u001b[0mkwargs\u001b[0m\u001b[0;34m)\u001b[0m\u001b[0;34m:\u001b[0m\u001b[0;34m\u001b[0m\u001b[0;34m\u001b[0m\u001b[0m\n",
            "\u001b[0;32m/usr/local/lib/python3.10/dist-packages/torch/nn/modules/module.py\u001b[0m in \u001b[0;36m_call_impl\u001b[0;34m(self, *args, **kwargs)\u001b[0m\n\u001b[1;32m   1539\u001b[0m                 \u001b[0;32mor\u001b[0m \u001b[0m_global_backward_pre_hooks\u001b[0m \u001b[0;32mor\u001b[0m \u001b[0m_global_backward_hooks\u001b[0m\u001b[0;34m\u001b[0m\u001b[0;34m\u001b[0m\u001b[0m\n\u001b[1;32m   1540\u001b[0m                 or _global_forward_hooks or _global_forward_pre_hooks):\n\u001b[0;32m-> 1541\u001b[0;31m             \u001b[0;32mreturn\u001b[0m \u001b[0mforward_call\u001b[0m\u001b[0;34m(\u001b[0m\u001b[0;34m*\u001b[0m\u001b[0margs\u001b[0m\u001b[0;34m,\u001b[0m \u001b[0;34m**\u001b[0m\u001b[0mkwargs\u001b[0m\u001b[0;34m)\u001b[0m\u001b[0;34m\u001b[0m\u001b[0;34m\u001b[0m\u001b[0m\n\u001b[0m\u001b[1;32m   1542\u001b[0m \u001b[0;34m\u001b[0m\u001b[0m\n\u001b[1;32m   1543\u001b[0m         \u001b[0;32mtry\u001b[0m\u001b[0;34m:\u001b[0m\u001b[0;34m\u001b[0m\u001b[0;34m\u001b[0m\u001b[0m\n",
            "\u001b[0;32m/usr/local/lib/python3.10/dist-packages/torch/utils/_contextlib.py\u001b[0m in \u001b[0;36mdecorate_context\u001b[0;34m(*args, **kwargs)\u001b[0m\n\u001b[1;32m    113\u001b[0m     \u001b[0;32mdef\u001b[0m \u001b[0mdecorate_context\u001b[0m\u001b[0;34m(\u001b[0m\u001b[0;34m*\u001b[0m\u001b[0margs\u001b[0m\u001b[0;34m,\u001b[0m \u001b[0;34m**\u001b[0m\u001b[0mkwargs\u001b[0m\u001b[0;34m)\u001b[0m\u001b[0;34m:\u001b[0m\u001b[0;34m\u001b[0m\u001b[0;34m\u001b[0m\u001b[0m\n\u001b[1;32m    114\u001b[0m         \u001b[0;32mwith\u001b[0m \u001b[0mctx_factory\u001b[0m\u001b[0;34m(\u001b[0m\u001b[0;34m)\u001b[0m\u001b[0;34m:\u001b[0m\u001b[0;34m\u001b[0m\u001b[0;34m\u001b[0m\u001b[0m\n\u001b[0;32m--> 115\u001b[0;31m             \u001b[0;32mreturn\u001b[0m \u001b[0mfunc\u001b[0m\u001b[0;34m(\u001b[0m\u001b[0;34m*\u001b[0m\u001b[0margs\u001b[0m\u001b[0;34m,\u001b[0m \u001b[0;34m**\u001b[0m\u001b[0mkwargs\u001b[0m\u001b[0;34m)\u001b[0m\u001b[0;34m\u001b[0m\u001b[0;34m\u001b[0m\u001b[0m\n\u001b[0m\u001b[1;32m    116\u001b[0m \u001b[0;34m\u001b[0m\u001b[0m\n\u001b[1;32m    117\u001b[0m     \u001b[0;32mreturn\u001b[0m \u001b[0mdecorate_context\u001b[0m\u001b[0;34m\u001b[0m\u001b[0;34m\u001b[0m\u001b[0m\n",
            "\u001b[0;32m/usr/local/lib/python3.10/dist-packages/ultralytics/utils/tal.py\u001b[0m in \u001b[0;36mforward\u001b[0;34m(self, pd_scores, pd_bboxes, anc_points, gt_labels, gt_bboxes, mask_gt)\u001b[0m\n\u001b[1;32m     70\u001b[0m             )\n\u001b[1;32m     71\u001b[0m \u001b[0;34m\u001b[0m\u001b[0m\n\u001b[0;32m---> 72\u001b[0;31m         mask_pos, align_metric, overlaps = self.get_pos_mask(\n\u001b[0m\u001b[1;32m     73\u001b[0m             \u001b[0mpd_scores\u001b[0m\u001b[0;34m,\u001b[0m \u001b[0mpd_bboxes\u001b[0m\u001b[0;34m,\u001b[0m \u001b[0mgt_labels\u001b[0m\u001b[0;34m,\u001b[0m \u001b[0mgt_bboxes\u001b[0m\u001b[0;34m,\u001b[0m \u001b[0manc_points\u001b[0m\u001b[0;34m,\u001b[0m \u001b[0mmask_gt\u001b[0m\u001b[0;34m\u001b[0m\u001b[0;34m\u001b[0m\u001b[0m\n\u001b[1;32m     74\u001b[0m         )\n",
            "\u001b[0;32m/usr/local/lib/python3.10/dist-packages/ultralytics/utils/tal.py\u001b[0m in \u001b[0;36mget_pos_mask\u001b[0;34m(self, pd_scores, pd_bboxes, gt_labels, gt_bboxes, anc_points, mask_gt)\u001b[0m\n\u001b[1;32m     90\u001b[0m     \u001b[0;32mdef\u001b[0m \u001b[0mget_pos_mask\u001b[0m\u001b[0;34m(\u001b[0m\u001b[0mself\u001b[0m\u001b[0;34m,\u001b[0m \u001b[0mpd_scores\u001b[0m\u001b[0;34m,\u001b[0m \u001b[0mpd_bboxes\u001b[0m\u001b[0;34m,\u001b[0m \u001b[0mgt_labels\u001b[0m\u001b[0;34m,\u001b[0m \u001b[0mgt_bboxes\u001b[0m\u001b[0;34m,\u001b[0m \u001b[0manc_points\u001b[0m\u001b[0;34m,\u001b[0m \u001b[0mmask_gt\u001b[0m\u001b[0;34m)\u001b[0m\u001b[0;34m:\u001b[0m\u001b[0;34m\u001b[0m\u001b[0;34m\u001b[0m\u001b[0m\n\u001b[1;32m     91\u001b[0m         \u001b[0;34m\"\"\"Get in_gts mask, (b, max_num_obj, h*w).\"\"\"\u001b[0m\u001b[0;34m\u001b[0m\u001b[0;34m\u001b[0m\u001b[0m\n\u001b[0;32m---> 92\u001b[0;31m         \u001b[0mmask_in_gts\u001b[0m \u001b[0;34m=\u001b[0m \u001b[0mself\u001b[0m\u001b[0;34m.\u001b[0m\u001b[0mselect_candidates_in_gts\u001b[0m\u001b[0;34m(\u001b[0m\u001b[0manc_points\u001b[0m\u001b[0;34m,\u001b[0m \u001b[0mgt_bboxes\u001b[0m\u001b[0;34m)\u001b[0m\u001b[0;34m\u001b[0m\u001b[0;34m\u001b[0m\u001b[0m\n\u001b[0m\u001b[1;32m     93\u001b[0m         \u001b[0;31m# Get anchor_align metric, (b, max_num_obj, h*w)\u001b[0m\u001b[0;34m\u001b[0m\u001b[0;34m\u001b[0m\u001b[0m\n\u001b[1;32m     94\u001b[0m         \u001b[0malign_metric\u001b[0m\u001b[0;34m,\u001b[0m \u001b[0moverlaps\u001b[0m \u001b[0;34m=\u001b[0m \u001b[0mself\u001b[0m\u001b[0;34m.\u001b[0m\u001b[0mget_box_metrics\u001b[0m\u001b[0;34m(\u001b[0m\u001b[0mpd_scores\u001b[0m\u001b[0;34m,\u001b[0m \u001b[0mpd_bboxes\u001b[0m\u001b[0;34m,\u001b[0m \u001b[0mgt_labels\u001b[0m\u001b[0;34m,\u001b[0m \u001b[0mgt_bboxes\u001b[0m\u001b[0;34m,\u001b[0m \u001b[0mmask_in_gts\u001b[0m \u001b[0;34m*\u001b[0m \u001b[0mmask_gt\u001b[0m\u001b[0;34m)\u001b[0m\u001b[0;34m\u001b[0m\u001b[0;34m\u001b[0m\u001b[0m\n",
            "\u001b[0;32m/usr/local/lib/python3.10/dist-packages/ultralytics/utils/tal.py\u001b[0m in \u001b[0;36mselect_candidates_in_gts\u001b[0;34m(xy_centers, gt_bboxes, eps)\u001b[0m\n\u001b[1;32m    225\u001b[0m         \u001b[0mbs\u001b[0m\u001b[0;34m,\u001b[0m \u001b[0mn_boxes\u001b[0m\u001b[0;34m,\u001b[0m \u001b[0m_\u001b[0m \u001b[0;34m=\u001b[0m \u001b[0mgt_bboxes\u001b[0m\u001b[0;34m.\u001b[0m\u001b[0mshape\u001b[0m\u001b[0;34m\u001b[0m\u001b[0;34m\u001b[0m\u001b[0m\n\u001b[1;32m    226\u001b[0m         \u001b[0mlt\u001b[0m\u001b[0;34m,\u001b[0m \u001b[0mrb\u001b[0m \u001b[0;34m=\u001b[0m \u001b[0mgt_bboxes\u001b[0m\u001b[0;34m.\u001b[0m\u001b[0mview\u001b[0m\u001b[0;34m(\u001b[0m\u001b[0;34m-\u001b[0m\u001b[0;36m1\u001b[0m\u001b[0;34m,\u001b[0m \u001b[0;36m1\u001b[0m\u001b[0;34m,\u001b[0m \u001b[0;36m4\u001b[0m\u001b[0;34m)\u001b[0m\u001b[0;34m.\u001b[0m\u001b[0mchunk\u001b[0m\u001b[0;34m(\u001b[0m\u001b[0;36m2\u001b[0m\u001b[0;34m,\u001b[0m \u001b[0;36m2\u001b[0m\u001b[0;34m)\u001b[0m  \u001b[0;31m# left-top, right-bottom\u001b[0m\u001b[0;34m\u001b[0m\u001b[0;34m\u001b[0m\u001b[0m\n\u001b[0;32m--> 227\u001b[0;31m         \u001b[0mbbox_deltas\u001b[0m \u001b[0;34m=\u001b[0m \u001b[0mtorch\u001b[0m\u001b[0;34m.\u001b[0m\u001b[0mcat\u001b[0m\u001b[0;34m(\u001b[0m\u001b[0;34m(\u001b[0m\u001b[0mxy_centers\u001b[0m\u001b[0;34m[\u001b[0m\u001b[0;32mNone\u001b[0m\u001b[0;34m]\u001b[0m \u001b[0;34m-\u001b[0m \u001b[0mlt\u001b[0m\u001b[0;34m,\u001b[0m \u001b[0mrb\u001b[0m \u001b[0;34m-\u001b[0m \u001b[0mxy_centers\u001b[0m\u001b[0;34m[\u001b[0m\u001b[0;32mNone\u001b[0m\u001b[0;34m]\u001b[0m\u001b[0;34m)\u001b[0m\u001b[0;34m,\u001b[0m \u001b[0mdim\u001b[0m\u001b[0;34m=\u001b[0m\u001b[0;36m2\u001b[0m\u001b[0;34m)\u001b[0m\u001b[0;34m.\u001b[0m\u001b[0mview\u001b[0m\u001b[0;34m(\u001b[0m\u001b[0mbs\u001b[0m\u001b[0;34m,\u001b[0m \u001b[0mn_boxes\u001b[0m\u001b[0;34m,\u001b[0m \u001b[0mn_anchors\u001b[0m\u001b[0;34m,\u001b[0m \u001b[0;34m-\u001b[0m\u001b[0;36m1\u001b[0m\u001b[0;34m)\u001b[0m\u001b[0;34m\u001b[0m\u001b[0;34m\u001b[0m\u001b[0m\n\u001b[0m\u001b[1;32m    228\u001b[0m         \u001b[0;31m# return (bbox_deltas.min(3)[0] > eps).to(gt_bboxes.dtype)\u001b[0m\u001b[0;34m\u001b[0m\u001b[0;34m\u001b[0m\u001b[0m\n\u001b[1;32m    229\u001b[0m         \u001b[0;32mreturn\u001b[0m \u001b[0mbbox_deltas\u001b[0m\u001b[0;34m.\u001b[0m\u001b[0mamin\u001b[0m\u001b[0;34m(\u001b[0m\u001b[0;36m3\u001b[0m\u001b[0;34m)\u001b[0m\u001b[0;34m.\u001b[0m\u001b[0mgt_\u001b[0m\u001b[0;34m(\u001b[0m\u001b[0meps\u001b[0m\u001b[0;34m)\u001b[0m\u001b[0;34m\u001b[0m\u001b[0;34m\u001b[0m\u001b[0m\n",
            "\u001b[0;31mKeyboardInterrupt\u001b[0m: "
          ]
        }
      ]
    },
    {
      "cell_type": "code",
      "source": [
        "# Define path to video file\n",
        "source = '/content/blackpink.mp4'\n",
        "# Run inference on the source\n",
        "results = model(source, stream=True)  # generator of Results objects\n",
        "# Iterate over each 'result' in the 'results' collection\n",
        "for result in results:\n",
        "    # Extract bounding box information from the current 'result'\n",
        "    boxes = result.boxes\n",
        "    # Extract mask information from the current 'result'\n",
        "    masks = result.masks\n",
        "    # Extract keypoints information from the current 'result'\n",
        "    keypoints = result.keypoints\n",
        "    # Extract probability scores from the current 'result'\n",
        "    probs = result.probs\n",
        "\n",
        "# Now you can use 'boxes', 'masks', 'keypoints', and 'probs' as needed for further processing or analysis.\n",
        "# These variables hold the relevant information related to the object detection results for the current iteration."
      ],
      "metadata": {
        "colab": {
          "base_uri": "https://localhost:8080/"
        },
        "id": "WT5jreYi4_0-",
        "outputId": "2778962a-fee1-49a4-94b5-0059f1d05512"
      },
      "execution_count": null,
      "outputs": [
        {
          "output_type": "stream",
          "name": "stdout",
          "text": [
            "\n",
            "video 1/1 (frame 1/239) /content/blackpink.mp4: 640x416 1 person, 106.9ms\n",
            "video 1/1 (frame 2/239) /content/blackpink.mp4: 640x416 1 person, 8.4ms\n",
            "video 1/1 (frame 3/239) /content/blackpink.mp4: 640x416 1 person, 6.3ms\n",
            "video 1/1 (frame 4/239) /content/blackpink.mp4: 640x416 1 person, 6.2ms\n",
            "video 1/1 (frame 5/239) /content/blackpink.mp4: 640x416 1 person, 6.8ms\n",
            "video 1/1 (frame 6/239) /content/blackpink.mp4: 640x416 1 person, 6.0ms\n",
            "video 1/1 (frame 7/239) /content/blackpink.mp4: 640x416 1 person, 6.0ms\n",
            "video 1/1 (frame 8/239) /content/blackpink.mp4: 640x416 1 person, 6.1ms\n",
            "video 1/1 (frame 9/239) /content/blackpink.mp4: 640x416 1 person, 7.1ms\n"
          ]
        },
        {
          "output_type": "stream",
          "name": "stderr",
          "text": [
            "Plan failed with a cudnnException: CUDNN_BACKEND_EXECUTION_PLAN_DESCRIPTOR: cudnnFinalize Descriptor Failed cudnn_status: CUDNN_STATUS_NOT_SUPPORTED (Triggered internally at ../aten/src/ATen/native/cudnn/Conv_v8.cpp:919.)\n"
          ]
        },
        {
          "output_type": "stream",
          "name": "stdout",
          "text": [
            "video 1/1 (frame 10/239) /content/blackpink.mp4: 640x416 1 person, 8.7ms\n",
            "video 1/1 (frame 11/239) /content/blackpink.mp4: 640x416 1 person, 7.0ms\n",
            "video 1/1 (frame 12/239) /content/blackpink.mp4: 640x416 1 person, 6.3ms\n",
            "video 1/1 (frame 13/239) /content/blackpink.mp4: 640x416 1 person, 6.5ms\n",
            "video 1/1 (frame 14/239) /content/blackpink.mp4: 640x416 1 person, 6.9ms\n",
            "video 1/1 (frame 15/239) /content/blackpink.mp4: 640x416 1 person, 7.4ms\n",
            "video 1/1 (frame 16/239) /content/blackpink.mp4: 640x416 1 person, 5.9ms\n",
            "video 1/1 (frame 17/239) /content/blackpink.mp4: 640x416 1 person, 6.9ms\n",
            "video 1/1 (frame 18/239) /content/blackpink.mp4: 640x416 1 person, 6.0ms\n",
            "video 1/1 (frame 19/239) /content/blackpink.mp4: 640x416 1 person, 6.3ms\n",
            "video 1/1 (frame 20/239) /content/blackpink.mp4: 640x416 (no detections), 7.6ms\n",
            "video 1/1 (frame 21/239) /content/blackpink.mp4: 640x416 (no detections), 6.9ms\n",
            "video 1/1 (frame 22/239) /content/blackpink.mp4: 640x416 (no detections), 12.2ms\n",
            "video 1/1 (frame 23/239) /content/blackpink.mp4: 640x416 (no detections), 9.4ms\n",
            "video 1/1 (frame 24/239) /content/blackpink.mp4: 640x416 (no detections), 6.0ms\n",
            "video 1/1 (frame 25/239) /content/blackpink.mp4: 640x416 (no detections), 7.2ms\n",
            "video 1/1 (frame 26/239) /content/blackpink.mp4: 640x416 (no detections), 6.1ms\n",
            "video 1/1 (frame 27/239) /content/blackpink.mp4: 640x416 (no detections), 6.7ms\n",
            "video 1/1 (frame 28/239) /content/blackpink.mp4: 640x416 (no detections), 6.6ms\n",
            "video 1/1 (frame 29/239) /content/blackpink.mp4: 640x416 (no detections), 6.3ms\n",
            "video 1/1 (frame 30/239) /content/blackpink.mp4: 640x416 (no detections), 7.8ms\n",
            "video 1/1 (frame 31/239) /content/blackpink.mp4: 640x416 (no detections), 5.9ms\n",
            "video 1/1 (frame 32/239) /content/blackpink.mp4: 640x416 (no detections), 5.9ms\n",
            "video 1/1 (frame 33/239) /content/blackpink.mp4: 640x416 (no detections), 5.9ms\n",
            "video 1/1 (frame 34/239) /content/blackpink.mp4: 640x416 (no detections), 5.8ms\n",
            "video 1/1 (frame 35/239) /content/blackpink.mp4: 640x416 (no detections), 6.0ms\n",
            "video 1/1 (frame 36/239) /content/blackpink.mp4: 640x416 1 person, 6.4ms\n",
            "video 1/1 (frame 37/239) /content/blackpink.mp4: 640x416 (no detections), 6.1ms\n",
            "video 1/1 (frame 38/239) /content/blackpink.mp4: 640x416 (no detections), 7.1ms\n",
            "video 1/1 (frame 39/239) /content/blackpink.mp4: 640x416 (no detections), 6.4ms\n",
            "video 1/1 (frame 40/239) /content/blackpink.mp4: 640x416 1 person, 6.4ms\n",
            "video 1/1 (frame 41/239) /content/blackpink.mp4: 640x416 1 person, 5.9ms\n",
            "video 1/1 (frame 42/239) /content/blackpink.mp4: 640x416 (no detections), 5.9ms\n",
            "video 1/1 (frame 43/239) /content/blackpink.mp4: 640x416 1 person, 5.9ms\n",
            "video 1/1 (frame 44/239) /content/blackpink.mp4: 640x416 (no detections), 6.7ms\n",
            "video 1/1 (frame 45/239) /content/blackpink.mp4: 640x416 (no detections), 6.1ms\n",
            "video 1/1 (frame 46/239) /content/blackpink.mp4: 640x416 (no detections), 6.2ms\n",
            "video 1/1 (frame 47/239) /content/blackpink.mp4: 640x416 1 person, 6.1ms\n",
            "video 1/1 (frame 48/239) /content/blackpink.mp4: 640x416 1 person, 5.9ms\n",
            "video 1/1 (frame 49/239) /content/blackpink.mp4: 640x416 1 person, 6.5ms\n",
            "video 1/1 (frame 50/239) /content/blackpink.mp4: 640x416 1 person, 6.1ms\n",
            "video 1/1 (frame 51/239) /content/blackpink.mp4: 640x416 1 person, 5.8ms\n",
            "video 1/1 (frame 52/239) /content/blackpink.mp4: 640x416 1 person, 6.1ms\n",
            "video 1/1 (frame 53/239) /content/blackpink.mp4: 640x416 1 person, 5.8ms\n",
            "video 1/1 (frame 54/239) /content/blackpink.mp4: 640x416 1 person, 7.7ms\n",
            "video 1/1 (frame 55/239) /content/blackpink.mp4: 640x416 1 person, 6.0ms\n",
            "video 1/1 (frame 56/239) /content/blackpink.mp4: 640x416 1 person, 6.5ms\n",
            "video 1/1 (frame 57/239) /content/blackpink.mp4: 640x416 1 person, 6.4ms\n",
            "video 1/1 (frame 58/239) /content/blackpink.mp4: 640x416 1 person, 6.8ms\n",
            "video 1/1 (frame 59/239) /content/blackpink.mp4: 640x416 1 person, 7.9ms\n",
            "video 1/1 (frame 60/239) /content/blackpink.mp4: 640x416 1 person, 7.1ms\n",
            "video 1/1 (frame 61/239) /content/blackpink.mp4: 640x416 1 person, 6.1ms\n",
            "video 1/1 (frame 62/239) /content/blackpink.mp4: 640x416 1 person, 6.2ms\n",
            "video 1/1 (frame 63/239) /content/blackpink.mp4: 640x416 1 person, 5.7ms\n",
            "video 1/1 (frame 64/239) /content/blackpink.mp4: 640x416 1 person, 7.0ms\n",
            "video 1/1 (frame 65/239) /content/blackpink.mp4: 640x416 1 person, 6.1ms\n",
            "video 1/1 (frame 66/239) /content/blackpink.mp4: 640x416 1 person, 12.6ms\n",
            "video 1/1 (frame 67/239) /content/blackpink.mp4: 640x416 1 person, 6.2ms\n",
            "video 1/1 (frame 68/239) /content/blackpink.mp4: 640x416 1 person, 6.2ms\n",
            "video 1/1 (frame 69/239) /content/blackpink.mp4: 640x416 1 person, 7.9ms\n",
            "video 1/1 (frame 70/239) /content/blackpink.mp4: 640x416 1 person, 7.5ms\n",
            "video 1/1 (frame 71/239) /content/blackpink.mp4: 640x416 1 person, 6.2ms\n",
            "video 1/1 (frame 72/239) /content/blackpink.mp4: 640x416 1 person, 6.2ms\n",
            "video 1/1 (frame 73/239) /content/blackpink.mp4: 640x416 1 person, 6.2ms\n",
            "video 1/1 (frame 74/239) /content/blackpink.mp4: 640x416 1 person, 7.6ms\n",
            "video 1/1 (frame 75/239) /content/blackpink.mp4: 640x416 1 person, 6.4ms\n",
            "video 1/1 (frame 76/239) /content/blackpink.mp4: 640x416 1 person, 7.9ms\n",
            "video 1/1 (frame 77/239) /content/blackpink.mp4: 640x416 1 person, 6.3ms\n",
            "video 1/1 (frame 78/239) /content/blackpink.mp4: 640x416 1 person, 6.8ms\n",
            "video 1/1 (frame 79/239) /content/blackpink.mp4: 640x416 1 person, 7.6ms\n",
            "video 1/1 (frame 80/239) /content/blackpink.mp4: 640x416 1 person, 7.4ms\n",
            "video 1/1 (frame 81/239) /content/blackpink.mp4: 640x416 1 person, 6.2ms\n",
            "video 1/1 (frame 82/239) /content/blackpink.mp4: 640x416 1 person, 6.6ms\n",
            "video 1/1 (frame 83/239) /content/blackpink.mp4: 640x416 1 person, 5.9ms\n",
            "video 1/1 (frame 84/239) /content/blackpink.mp4: 640x416 1 person, 7.3ms\n",
            "video 1/1 (frame 85/239) /content/blackpink.mp4: 640x416 1 person, 10.1ms\n",
            "video 1/1 (frame 86/239) /content/blackpink.mp4: 640x416 1 person, 10.5ms\n",
            "video 1/1 (frame 87/239) /content/blackpink.mp4: 640x416 1 person, 8.4ms\n",
            "video 1/1 (frame 88/239) /content/blackpink.mp4: 640x416 1 person, 10.1ms\n",
            "video 1/1 (frame 89/239) /content/blackpink.mp4: 640x416 1 person, 8.7ms\n",
            "video 1/1 (frame 90/239) /content/blackpink.mp4: 640x416 (no detections), 10.1ms\n",
            "video 1/1 (frame 91/239) /content/blackpink.mp4: 640x416 (no detections), 9.2ms\n",
            "video 1/1 (frame 92/239) /content/blackpink.mp4: 640x416 1 person, 9.1ms\n",
            "video 1/1 (frame 93/239) /content/blackpink.mp4: 640x416 1 person, 9.1ms\n",
            "video 1/1 (frame 94/239) /content/blackpink.mp4: 640x416 1 person, 9.0ms\n",
            "video 1/1 (frame 95/239) /content/blackpink.mp4: 640x416 (no detections), 9.6ms\n",
            "video 1/1 (frame 96/239) /content/blackpink.mp4: 640x416 (no detections), 10.2ms\n",
            "video 1/1 (frame 97/239) /content/blackpink.mp4: 640x416 (no detections), 8.9ms\n",
            "video 1/1 (frame 98/239) /content/blackpink.mp4: 640x416 (no detections), 9.3ms\n",
            "video 1/1 (frame 99/239) /content/blackpink.mp4: 640x416 (no detections), 8.5ms\n",
            "video 1/1 (frame 100/239) /content/blackpink.mp4: 640x416 (no detections), 12.3ms\n",
            "video 1/1 (frame 101/239) /content/blackpink.mp4: 640x416 (no detections), 10.5ms\n",
            "video 1/1 (frame 102/239) /content/blackpink.mp4: 640x416 (no detections), 9.3ms\n",
            "video 1/1 (frame 103/239) /content/blackpink.mp4: 640x416 1 person, 11.6ms\n",
            "video 1/1 (frame 104/239) /content/blackpink.mp4: 640x416 (no detections), 10.5ms\n",
            "video 1/1 (frame 105/239) /content/blackpink.mp4: 640x416 (no detections), 10.2ms\n",
            "video 1/1 (frame 106/239) /content/blackpink.mp4: 640x416 (no detections), 10.5ms\n",
            "video 1/1 (frame 107/239) /content/blackpink.mp4: 640x416 (no detections), 8.3ms\n",
            "video 1/1 (frame 108/239) /content/blackpink.mp4: 640x416 (no detections), 9.4ms\n",
            "video 1/1 (frame 109/239) /content/blackpink.mp4: 640x416 (no detections), 9.0ms\n",
            "video 1/1 (frame 110/239) /content/blackpink.mp4: 640x416 (no detections), 9.9ms\n",
            "video 1/1 (frame 111/239) /content/blackpink.mp4: 640x416 1 person, 9.4ms\n",
            "video 1/1 (frame 112/239) /content/blackpink.mp4: 640x416 1 person, 8.8ms\n",
            "video 1/1 (frame 113/239) /content/blackpink.mp4: 640x416 2 persons, 8.5ms\n",
            "video 1/1 (frame 114/239) /content/blackpink.mp4: 640x416 2 persons, 8.1ms\n",
            "video 1/1 (frame 115/239) /content/blackpink.mp4: 640x416 1 person, 8.7ms\n",
            "video 1/1 (frame 116/239) /content/blackpink.mp4: 640x416 1 person, 8.6ms\n",
            "video 1/1 (frame 117/239) /content/blackpink.mp4: 640x416 1 person, 8.6ms\n",
            "video 1/1 (frame 118/239) /content/blackpink.mp4: 640x416 1 person, 7.5ms\n",
            "video 1/1 (frame 119/239) /content/blackpink.mp4: 640x416 (no detections), 6.8ms\n",
            "video 1/1 (frame 120/239) /content/blackpink.mp4: 640x416 (no detections), 5.9ms\n",
            "video 1/1 (frame 121/239) /content/blackpink.mp4: 640x416 2 persons, 5.8ms\n",
            "video 1/1 (frame 122/239) /content/blackpink.mp4: 640x416 2 persons, 6.9ms\n",
            "video 1/1 (frame 123/239) /content/blackpink.mp4: 640x416 3 persons, 6.9ms\n",
            "video 1/1 (frame 124/239) /content/blackpink.mp4: 640x416 1 person, 7.2ms\n",
            "video 1/1 (frame 125/239) /content/blackpink.mp4: 640x416 (no detections), 11.7ms\n",
            "video 1/1 (frame 126/239) /content/blackpink.mp4: 640x416 (no detections), 7.5ms\n",
            "video 1/1 (frame 127/239) /content/blackpink.mp4: 640x416 1 person, 9.9ms\n",
            "video 1/1 (frame 128/239) /content/blackpink.mp4: 640x416 (no detections), 6.2ms\n",
            "video 1/1 (frame 129/239) /content/blackpink.mp4: 640x416 (no detections), 7.1ms\n",
            "video 1/1 (frame 130/239) /content/blackpink.mp4: 640x416 (no detections), 6.3ms\n",
            "video 1/1 (frame 131/239) /content/blackpink.mp4: 640x416 (no detections), 7.3ms\n",
            "video 1/1 (frame 132/239) /content/blackpink.mp4: 640x416 (no detections), 6.1ms\n",
            "video 1/1 (frame 133/239) /content/blackpink.mp4: 640x416 2 persons, 6.9ms\n",
            "video 1/1 (frame 134/239) /content/blackpink.mp4: 640x416 2 persons, 6.0ms\n",
            "video 1/1 (frame 135/239) /content/blackpink.mp4: 640x416 1 person, 6.7ms\n",
            "video 1/1 (frame 136/239) /content/blackpink.mp4: 640x416 (no detections), 6.2ms\n",
            "video 1/1 (frame 137/239) /content/blackpink.mp4: 640x416 (no detections), 6.3ms\n",
            "video 1/1 (frame 138/239) /content/blackpink.mp4: 640x416 (no detections), 7.2ms\n",
            "video 1/1 (frame 139/239) /content/blackpink.mp4: 640x416 (no detections), 6.1ms\n",
            "video 1/1 (frame 140/239) /content/blackpink.mp4: 640x416 (no detections), 6.1ms\n",
            "video 1/1 (frame 141/239) /content/blackpink.mp4: 640x416 (no detections), 5.8ms\n",
            "video 1/1 (frame 142/239) /content/blackpink.mp4: 640x416 (no detections), 7.5ms\n",
            "video 1/1 (frame 143/239) /content/blackpink.mp4: 640x416 (no detections), 11.9ms\n",
            "video 1/1 (frame 144/239) /content/blackpink.mp4: 640x416 (no detections), 6.0ms\n",
            "video 1/1 (frame 145/239) /content/blackpink.mp4: 640x416 (no detections), 6.3ms\n",
            "video 1/1 (frame 146/239) /content/blackpink.mp4: 640x416 (no detections), 5.9ms\n",
            "video 1/1 (frame 147/239) /content/blackpink.mp4: 640x416 (no detections), 6.0ms\n",
            "video 1/1 (frame 148/239) /content/blackpink.mp4: 640x416 (no detections), 5.8ms\n",
            "video 1/1 (frame 149/239) /content/blackpink.mp4: 640x416 (no detections), 6.2ms\n",
            "video 1/1 (frame 150/239) /content/blackpink.mp4: 640x416 (no detections), 13.0ms\n",
            "video 1/1 (frame 151/239) /content/blackpink.mp4: 640x416 (no detections), 11.9ms\n",
            "video 1/1 (frame 152/239) /content/blackpink.mp4: 640x416 (no detections), 10.5ms\n",
            "video 1/1 (frame 153/239) /content/blackpink.mp4: 640x416 1 person, 11.5ms\n",
            "video 1/1 (frame 154/239) /content/blackpink.mp4: 640x416 1 person, 12.2ms\n",
            "video 1/1 (frame 155/239) /content/blackpink.mp4: 640x416 (no detections), 13.0ms\n",
            "video 1/1 (frame 156/239) /content/blackpink.mp4: 640x416 1 person, 13.5ms\n",
            "video 1/1 (frame 157/239) /content/blackpink.mp4: 640x416 (no detections), 13.1ms\n",
            "video 1/1 (frame 158/239) /content/blackpink.mp4: 640x416 (no detections), 14.3ms\n",
            "video 1/1 (frame 159/239) /content/blackpink.mp4: 640x416 (no detections), 14.3ms\n",
            "video 1/1 (frame 160/239) /content/blackpink.mp4: 640x416 (no detections), 10.1ms\n",
            "video 1/1 (frame 161/239) /content/blackpink.mp4: 640x416 (no detections), 16.6ms\n",
            "video 1/1 (frame 162/239) /content/blackpink.mp4: 640x416 1 person, 9.8ms\n",
            "video 1/1 (frame 163/239) /content/blackpink.mp4: 640x416 (no detections), 9.8ms\n",
            "video 1/1 (frame 164/239) /content/blackpink.mp4: 640x416 (no detections), 15.4ms\n",
            "video 1/1 (frame 165/239) /content/blackpink.mp4: 640x416 (no detections), 17.4ms\n",
            "video 1/1 (frame 166/239) /content/blackpink.mp4: 640x416 (no detections), 12.0ms\n",
            "video 1/1 (frame 167/239) /content/blackpink.mp4: 640x416 (no detections), 12.0ms\n",
            "video 1/1 (frame 168/239) /content/blackpink.mp4: 640x416 (no detections), 12.7ms\n",
            "video 1/1 (frame 169/239) /content/blackpink.mp4: 640x416 (no detections), 11.3ms\n",
            "video 1/1 (frame 170/239) /content/blackpink.mp4: 640x416 (no detections), 12.1ms\n",
            "video 1/1 (frame 171/239) /content/blackpink.mp4: 640x416 (no detections), 9.0ms\n",
            "video 1/1 (frame 172/239) /content/blackpink.mp4: 640x416 (no detections), 11.2ms\n",
            "video 1/1 (frame 173/239) /content/blackpink.mp4: 640x416 (no detections), 10.4ms\n",
            "video 1/1 (frame 174/239) /content/blackpink.mp4: 640x416 (no detections), 7.6ms\n",
            "video 1/1 (frame 175/239) /content/blackpink.mp4: 640x416 (no detections), 10.5ms\n",
            "video 1/1 (frame 176/239) /content/blackpink.mp4: 640x416 (no detections), 12.8ms\n",
            "video 1/1 (frame 177/239) /content/blackpink.mp4: 640x416 (no detections), 9.8ms\n",
            "video 1/1 (frame 178/239) /content/blackpink.mp4: 640x416 (no detections), 11.5ms\n",
            "video 1/1 (frame 179/239) /content/blackpink.mp4: 640x416 (no detections), 8.7ms\n",
            "video 1/1 (frame 180/239) /content/blackpink.mp4: 640x416 (no detections), 8.7ms\n",
            "video 1/1 (frame 181/239) /content/blackpink.mp4: 640x416 (no detections), 8.3ms\n",
            "video 1/1 (frame 182/239) /content/blackpink.mp4: 640x416 (no detections), 7.8ms\n",
            "video 1/1 (frame 183/239) /content/blackpink.mp4: 640x416 2 persons, 7.9ms\n",
            "video 1/1 (frame 184/239) /content/blackpink.mp4: 640x416 (no detections), 8.7ms\n",
            "video 1/1 (frame 185/239) /content/blackpink.mp4: 640x416 (no detections), 7.9ms\n",
            "video 1/1 (frame 186/239) /content/blackpink.mp4: 640x416 (no detections), 7.8ms\n",
            "video 1/1 (frame 187/239) /content/blackpink.mp4: 640x416 (no detections), 7.7ms\n",
            "video 1/1 (frame 188/239) /content/blackpink.mp4: 640x416 (no detections), 9.3ms\n",
            "video 1/1 (frame 189/239) /content/blackpink.mp4: 640x416 (no detections), 9.3ms\n",
            "video 1/1 (frame 190/239) /content/blackpink.mp4: 640x416 (no detections), 11.3ms\n",
            "video 1/1 (frame 191/239) /content/blackpink.mp4: 640x416 (no detections), 7.7ms\n",
            "video 1/1 (frame 192/239) /content/blackpink.mp4: 640x416 (no detections), 8.1ms\n",
            "video 1/1 (frame 193/239) /content/blackpink.mp4: 640x416 (no detections), 8.4ms\n",
            "video 1/1 (frame 194/239) /content/blackpink.mp4: 640x416 (no detections), 7.9ms\n",
            "video 1/1 (frame 195/239) /content/blackpink.mp4: 640x416 (no detections), 7.9ms\n",
            "video 1/1 (frame 196/239) /content/blackpink.mp4: 640x416 (no detections), 7.8ms\n",
            "video 1/1 (frame 197/239) /content/blackpink.mp4: 640x416 (no detections), 8.4ms\n",
            "video 1/1 (frame 198/239) /content/blackpink.mp4: 640x416 (no detections), 7.8ms\n",
            "video 1/1 (frame 199/239) /content/blackpink.mp4: 640x416 (no detections), 8.0ms\n",
            "video 1/1 (frame 200/239) /content/blackpink.mp4: 640x416 1 person, 7.8ms\n",
            "video 1/1 (frame 201/239) /content/blackpink.mp4: 640x416 2 persons, 11.4ms\n",
            "video 1/1 (frame 202/239) /content/blackpink.mp4: 640x416 1 person, 7.8ms\n",
            "video 1/1 (frame 203/239) /content/blackpink.mp4: 640x416 1 person, 8.7ms\n",
            "video 1/1 (frame 204/239) /content/blackpink.mp4: 640x416 1 person, 7.4ms\n",
            "video 1/1 (frame 205/239) /content/blackpink.mp4: 640x416 (no detections), 7.4ms\n",
            "video 1/1 (frame 206/239) /content/blackpink.mp4: 640x416 (no detections), 7.7ms\n",
            "video 1/1 (frame 207/239) /content/blackpink.mp4: 640x416 1 person, 8.3ms\n",
            "video 1/1 (frame 208/239) /content/blackpink.mp4: 640x416 1 person, 7.5ms\n",
            "video 1/1 (frame 209/239) /content/blackpink.mp4: 640x416 1 person, 10.3ms\n",
            "video 1/1 (frame 210/239) /content/blackpink.mp4: 640x416 (no detections), 7.5ms\n",
            "video 1/1 (frame 211/239) /content/blackpink.mp4: 640x416 (no detections), 7.2ms\n",
            "video 1/1 (frame 212/239) /content/blackpink.mp4: 640x416 (no detections), 13.4ms\n",
            "video 1/1 (frame 213/239) /content/blackpink.mp4: 640x416 (no detections), 8.0ms\n",
            "video 1/1 (frame 214/239) /content/blackpink.mp4: 640x416 (no detections), 7.5ms\n",
            "video 1/1 (frame 215/239) /content/blackpink.mp4: 640x416 (no detections), 7.4ms\n",
            "video 1/1 (frame 216/239) /content/blackpink.mp4: 640x416 (no detections), 7.5ms\n",
            "video 1/1 (frame 217/239) /content/blackpink.mp4: 640x416 (no detections), 9.0ms\n",
            "video 1/1 (frame 218/239) /content/blackpink.mp4: 640x416 (no detections), 11.3ms\n",
            "video 1/1 (frame 219/239) /content/blackpink.mp4: 640x416 (no detections), 13.4ms\n",
            "video 1/1 (frame 220/239) /content/blackpink.mp4: 640x416 (no detections), 10.6ms\n",
            "video 1/1 (frame 221/239) /content/blackpink.mp4: 640x416 (no detections), 10.4ms\n",
            "video 1/1 (frame 222/239) /content/blackpink.mp4: 640x416 (no detections), 12.2ms\n",
            "video 1/1 (frame 223/239) /content/blackpink.mp4: 640x416 (no detections), 10.5ms\n",
            "video 1/1 (frame 224/239) /content/blackpink.mp4: 640x416 (no detections), 11.1ms\n",
            "video 1/1 (frame 225/239) /content/blackpink.mp4: 640x416 (no detections), 10.1ms\n",
            "video 1/1 (frame 226/239) /content/blackpink.mp4: 640x416 (no detections), 10.5ms\n",
            "video 1/1 (frame 227/239) /content/blackpink.mp4: 640x416 (no detections), 11.4ms\n",
            "video 1/1 (frame 228/239) /content/blackpink.mp4: 640x416 (no detections), 10.3ms\n",
            "video 1/1 (frame 229/239) /content/blackpink.mp4: 640x416 (no detections), 10.3ms\n",
            "video 1/1 (frame 230/239) /content/blackpink.mp4: 640x416 (no detections), 13.4ms\n",
            "video 1/1 (frame 231/239) /content/blackpink.mp4: 640x416 (no detections), 9.7ms\n",
            "video 1/1 (frame 232/239) /content/blackpink.mp4: 640x416 (no detections), 10.9ms\n",
            "video 1/1 (frame 233/239) /content/blackpink.mp4: 640x416 (no detections), 13.1ms\n",
            "video 1/1 (frame 234/239) /content/blackpink.mp4: 640x416 (no detections), 10.7ms\n",
            "video 1/1 (frame 235/239) /content/blackpink.mp4: 640x416 (no detections), 12.1ms\n",
            "video 1/1 (frame 236/239) /content/blackpink.mp4: 640x416 (no detections), 13.8ms\n",
            "video 1/1 (frame 237/239) /content/blackpink.mp4: 640x416 (no detections), 13.1ms\n",
            "video 1/1 (frame 238/239) /content/blackpink.mp4: 640x416 (no detections), 12.2ms\n",
            "video 1/1 (frame 239/239) /content/blackpink.mp4: 640x416 (no detections), 10.6ms\n",
            "Speed: 2.1ms preprocess, 8.9ms inference, 1.0ms postprocess per image at shape (1, 3, 640, 416)\n"
          ]
        }
      ]
    },
    {
      "cell_type": "code",
      "source": [
        "import cv2\n",
        "from PIL import Image\n",
        "\n",
        "from ultralytics import YOLO\n",
        "\n",
        "im2 = cv2.imread(\"gambar.jpeg\")\n",
        "results = model.predict(source=im2, save=True, save_txt=True)  # save predictions as labels"
      ],
      "metadata": {
        "colab": {
          "base_uri": "https://localhost:8080/"
        },
        "id": "WuwJbGUP8qqj",
        "outputId": "dea5a639-1a5d-4b6d-dc77-3968e25f16c7"
      },
      "execution_count": null,
      "outputs": [
        {
          "output_type": "stream",
          "name": "stdout",
          "text": [
            "\n",
            "0: 480x640 3 persons, 12.0ms\n",
            "Speed: 3.6ms preprocess, 12.0ms inference, 2.1ms postprocess per image at shape (1, 3, 480, 640)\n",
            "Results saved to \u001b[1mruns/detect/predict\u001b[0m\n",
            "1 label saved to runs/detect/predict/labels\n"
          ]
        }
      ]
    }
  ]
}